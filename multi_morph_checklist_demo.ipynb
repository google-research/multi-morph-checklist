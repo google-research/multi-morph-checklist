{
  "cells": [
    {
      "cell_type": "markdown",
      "metadata": {
        "id": "ijpegbcXO1LZ"
      },
      "source": [
        "# Imports"
      ]
    },
    {
      "cell_type": "code",
      "execution_count": null,
      "metadata": {
        "id": "L_Jsnjl6VNj-"
      },
      "outputs": [],
      "source": [
        "from multi_morph_checklist.src.languages import EN, FR, IT, SV, SW, SK, DE, ZH, RU, AR, ES, FI\n",
        "\n",
        "# Template names with same order as in notebook\n",
        "TEMPS = [\n",
        "    \"negation1\", \"negation2\",\n",
        "    \"numerals1\", \"numerals2\",\n",
        "    \"spatial1\", \"spatial2\",\n",
        "    \"temporal1\", \"temporal2\",\n",
        "    \"comparative1\", \"comparative2\"\n",
        "]\n",
        "\n",
        "SAME_KEYS_CFGS_LIST = [\n",
        "    # negation 1\n",
        "    {\n",
        "      \"name\": {\"order\": True, \"repeat\": False}\n",
        "    },\n",
        "    # negation 2\n",
        "    {\n",
        "      \"job\": {\"order\": True, \"repeat\": False},\n",
        "      \"name\": {\"order\": True, \"repeat\": False}\n",
        "    },\n",
        "    # numerals1\n",
        "    {\n",
        "      \"fruit\": {\"order\": True, \"repeat\": False},\n",
        "      \"number\": {\"order\": True, \"repeat\": True},\n",
        "    },\n",
        "    # numerals2\n",
        "    {\n",
        "      \"fruit\": {\"order\": True, \"repeat\": False},\n",
        "      \"number\": {\"order\": True, \"repeat\": True},\n",
        "    },\n",
        "    # spatial1\n",
        "    {\n",
        "      \"obj\": {\"order\": True, \"repeat\": False},\n",
        "      \"prep\": {\"order\": False, \"repeat\": True},\n",
        "      \"place\": {\"order\": True, \"repeat\": False},\n",
        "    },\n",
        "    # spatial2\n",
        "    {\n",
        "      \"obj\": {\"order\": True, \"repeat\": False},\n",
        "    },\n",
        "    # temporal1\n",
        "    {\n",
        "      \"name\": {\"order\": True, \"repeat\": False},\n",
        "      \"job\": {\"order\": True, \"repeat\": False},\n",
        "    },\n",
        "    # temporal2\n",
        "    {\n",
        "      \"name\": {\"order\": True, \"repeat\": False},\n",
        "      \"job\": {\"order\": True, \"repeat\": False},\n",
        "    },\n",
        "    # comparative1\n",
        "    {\n",
        "      \"name\": {\"order\": True, \"repeat\": False},\n",
        "    },\n",
        "    # comparative2\n",
        "    {\n",
        "      \"obj\": {\"order\": True, \"repeat\": False},\n",
        "      \"comp\": {\"order\": True, \"repeat\": False},\n",
        "    },\n",
        "]\n",
        "\n",
        "SAME_KEYS_CFGS = {}\n",
        "for temp, cfg in zip(TEMPS, SAME_KEYS_CFGS_LIST):\n",
        "  SAME_KEYS_CFGS[temp] = cfg"
      ]
    },
    {
      "cell_type": "markdown",
      "metadata": {
        "id": "8JILVYNxU2WD"
      },
      "source": [
        "# Logical tests\n",
        "Tests from covering language model capabilities (see [this document](https://docs.google.com/document/d/1pfgFB-buJqQMNwI3NxRS5fZyGOBOctC6ePEzWbkGwQQ/edit?resourcekey=0-Hem9AVv1KZ5OezYeUZTY9A#heading=h.awc68n9b4he0) for an overview).\n"
      ]
    },
    {
      "cell_type": "markdown",
      "metadata": {
        "id": "oppEEs5J_u5u"
      },
      "source": [
        "### Placeholders value definitions"
      ]
    },
    {
      "cell_type": "code",
      "execution_count": null,
      "metadata": {
        "id": "SyfSdTXvShlZ"
      },
      "outputs": [],
      "source": [
        "NAMES = {\n",
        "    \"en\": [\n",
        "            {\"SG.MASC\": \"John\"}, {\"SG.FEM\": \"Mary\"},\n",
        "            {\"SG.MASC\": \"Kirk\"}, {\"SG.FEM\": \"Lola\"},\n",
        "            {\"SG.MASC\": \"Clark\"}, {\"SG.FEM\": \"Rachel\"},\n",
        "            {\"SG.MASC\": \"James\"}, {\"SG.FEM\": \"Audrey\"},\n",
        "            {\"SG.MASC\": \"Robert\"}, {\"SG.FEM\": \"Lily\"},\n",
        "            {\"PL.MASC\": \"Paul and Bob\"}, {\"PL.MASC\": \"Ross and Joey\"},\n",
        "            {\"PL.MASC\": \"Mark and Andrew\"}, {\"PL.MASC\": \"Joseph and Thomas\"},\n",
        "            {\"PL.MASC\": \"Christopher and Charles\"}, {\"PL.FEM\": \"Olivia and Emily\"},\n",
        "            {\"PL.FEM\": \"Emma and Monica\"}, {\"PL.FEM\": \"Sophia and Charlotte\"},\n",
        "            {\"PL.FEM\": \"Alice and Harper\"}, {\"PL.FEM\": \"Eleanor and Lillian\"}\n",
        "          ],\n",
        "    \"fr\": [\n",
        "            {\"SG.MASC\": \"Jean\"}, {\"SG.FEM\": \"Marie\"},\n",
        "            {\"SG.MASC\": \"Jacques\"}, {\"SG.FEM\": \"Jeanne\"},\n",
        "            {\"SG.MASC\": \"René\"}, {\"SG.FEM\": \"Joséphine\"},\n",
        "            {\"SG.MASC\": \"Arnaud\"}, {\"SG.FEM\": \"Jacqueline\"},\n",
        "            {\"SG.MASC\": \"Louis\"}, {\"SG.FEM\": \"Louise\"},\n",
        "            {\"PL.MASC\": \"Paul et Pierre\"}, {\"PL.MASC\": \"Jean-Baptiste et Christophe\"},\n",
        "            {\"PL.MASC\": \"Laurent et Philippe\"}, {\"PL.MASC\": \"Monique et Thierry\"},\n",
        "            {\"PL.MASC\": \"Antoine et Alexis\"}, {\"PL.FEM\": \"Maeva et Victoire\"},\n",
        "            {\"PL.FEM\": \"Virginie et Brigitte\"}, {\"PL.FEM\": \"Yvette et Caroline\"},\n",
        "            {\"PL.FEM\": \"Antoinette et Laurette\"}, {\"PL.FEM\": \"Anne et Claire\"},\n",
        "          ],\n",
        "    \"sk\": [\n",
        "            {\"SG.MASC\": \"Andrej\"}, {\"SG.FEM\": \"Katarína\"},\n",
        "            {\"SG.MASC\": \"Matej\"}, {\"SG.FEM\": \"Michaela\"},\n",
        "            {\"SG.MASC\": \"Ján\"}, {\"SG.FEM\": \"Ivana\"},\n",
        "            {\"SG.MASC\": \"Peter\"}, {\"SG.FEM\": \"Klaudia\"},\n",
        "            {\"SG.MASC\": \"Martin\"}, {\"SG.FEM\": \"Ema\"},\n",
        "            {\"PL.MASC\": \"Pavol a Oskar\"}, {\"PL.MASC\": \"Patrik a Zuzka\"},\n",
        "            {\"PL.MASC\": \"Matúš a Jozef\"}, {\"PL.MASC\": \"Stanislav a František\"},\n",
        "            {\"PL.MASC\": \"Bohuš a Miroslav\"}, {\"PL.FEM\": \"Miloš a Agáta\"},\n",
        "            {\"PL.FEM\": \"Nataša a Lucia\"}, {\"PL.FEM\": \"Laura a Andrea\"},\n",
        "            {\"PL.FEM\": \"Žaneta a Ľubica\"}, {\"PL.FEM\": \"Dáša a Soňa\"}\n",
        "          ],\n",
        "    \"de\": [\n",
        "            {\"SG.MASC\": \"Johann\"}, {\"SG.FEM\": \"Katja\"},\n",
        "            {\"SG.MASC\": \"Günter\"}, {\"SG.FEM\": \"Heike\"},\n",
        "            {\"SG.MASC\": \"Stefan\"}, {\"SG.FEM\": \"Ilse\"},\n",
        "            {\"SG.MASC\": \"Klaus\"}, {\"SG.FEM\": \"Leonie\"},\n",
        "            {\"SG.MASC\": \"Tobias\"}, {\"SG.FEM\": \"Judith\"},\n",
        "            {\"PL.MASC\": \"Robert und Hans\"}, {\"PL.MASC\": \"Lucas und Amelie\"},\n",
        "            {\"PL.MASC\": \"Jonas und Felix\"}, {\"PL.MASC\": \"Dieter und Florian\"},\n",
        "            {\"PL.MASC\": \"Wolfgang und Matthias\"}, {\"PL.FEM\": \"Silke und Monika\"},\n",
        "            {\"PL.FEM\": \"Anna und Ulrike\"}, {\"PL.FEM\": \"Nadine und Sabine\"},\n",
        "            {\"PL.FEM\": \"Hilda und Gretel\"}, {\"PL.FEM\": \"Birgit und Elke\"},\n",
        "          ],\n",
        "    \"ru\": [\n",
        "            {\"SG.MASC\": \"Андрей\"}, {\"SG.FEM\": \"Анна\"},\n",
        "            {\"SG.MASC\": \"Влад\"}, {\"SG.FEM\": \"Екатерина\"},\n",
        "            {\"SG.MASC\": \"Алексей\"}, {\"SG.FEM\": \"Наталья\"},\n",
        "            {\"SG.MASC\": \"Богдан\"}, {\"SG.FEM\": \"Елена\"},\n",
        "            {\"SG.MASC\": \"Артур\"}, {\"SG.FEM\": \"Злата\"},\n",
        "            {\"PL.MASC\": \"Сергей и Ростислав\"}, {\"PL.MASC\": \"Антон и Дарья\"},\n",
        "            {\"PL.MASC\": \"Вадим и Максим\"}, {\"PL.MASC\": \"Матвей и Олег\"},\n",
        "            {\"PL.MASC\": \"Иван и Леонид\"}, {\"PL.FEM\": \"Марина и Оксана\"},\n",
        "            {\"PL.FEM\": \"Ольга и Светлана\"}, {\"PL.FEM\": \"Юлия и Татьяна\"},\n",
        "            {\"PL.FEM\": \"Ярослава и Зоя\"}, {\"PL.FEM\": \"Валерия и Евгения\"}\n",
        "          ],\n",
        "    \"es\": [\n",
        "            {\"SG.MASC\": \"Pablo\"}, {\"SG.FEM\": \"María\"},\n",
        "            {\"SG.MASC\": \"Álvaro\"}, {\"SG.FEM\": \"Juana\"},\n",
        "            {\"SG.MASC\": \"Javier\"}, {\"SG.FEM\": \"Ángela\"},\n",
        "            {\"SG.MASC\": \" Miguel\"}, {\"SG.FEM\": \"Dolores\"},\n",
        "            {\"SG.MASC\": \"Adrián\"}, {\"SG.FEM\": \"María Ángeles\"},\n",
        "            {\"PL.MASC\": \"Pedro y Roberto\"}, {\"PL.MASC\": \"Mónica y Mateo\"},\n",
        "            {\"PL.MASC\": \"Alejandro y Héctor\"}, {\"PL.MASC\": \"Aarón y Rodrigo\"},\n",
        "            {\"PL.MASC\": \"José y Raúl\"}, {\"PL.FEM\": \"Tea y Rocío\"},\n",
        "            {\"PL.FEM\": \"Alba y Carmen\"}, {\"PL.FEM\": \"Lucía y Valeria\"},\n",
        "            {\"PL.FEM\": \"Alma y Julia\"}, {\"PL.FEM\": \"Anuncia y Jimena\"},\n",
        "          ],\n",
        "    \"zh\": [\n",
        "            {\"SG.MASC\": \"奕辰\"}, {\"SG.FEM\": \"佳丽\"}, {\"SG.MASC\": \"小勇\"},\n",
        "            {\"SG.MASC\": \"小明\"}, {\"SG.MASC\": \"小强\"}, {\"SG.MASC\": \"子墨\"}, {\"SG.FEM\": \"玲曼\"},\n",
        "            {\"SG.FEM\": \"小艳\"}, {\"SG.FEM\": \"小丽\"}, {\"SG.FEM\": \"小静\"},\n",
        "            {\"PL.MASC\": \"梓豪和浩然\"}, {\"PL.MASC\": \"梦瑶和浩宇\"}, {\"PL.FEM\": \"丽娜和兰芬\"},\n",
        "            {\"PL.MASC\": \"子豪和志强\"}, {\"PL.MASC\": \"浩然和文杰\"},\n",
        "            {\"PL.FEM\": \"婷婷和淑敏\"}, {\"PL.FEM\": \"秀英和晓雪\"},\n",
        "            {\"PL.FEM\": \"玉兰和红霞\"}, {\"PL.FEM\": \"欣怡和以玫\"},\n",
        "            {\"PL.FEM\": \"淑芬和小薇\"}\n",
        "          ],\n",
        "    \"sw\": [\n",
        "            {\"SG\": \"Jabari\"},\n",
        "            {\"SG\": \"Jelani\"},\n",
        "            {\"SG\": \"Barika\"},\n",
        "            {\"SG\": \"Zuri\"},\n",
        "            {\"SG\": \"Sadiki\"},\n",
        "            {\"SG\": \"Zalika\"},\n",
        "            {\"SG\": \"Rafiki\"},\n",
        "            {\"SG\": \"Jamila\"},\n",
        "            {\"SG\": \"Faraji\"},\n",
        "            {\"SG\": \"Ramla\"},\n",
        "            {\"PL\": \"Barack na Salimu\"},\n",
        "            {\"PL\": \"Tamasha na Kabili\"},\n",
        "            {\"PL\": \"Kanai na Malikiya\"},\n",
        "            {\"PL\": \"Ambar na Thimba\"},\n",
        "            {\"PL\": \"Njema na Uheri\"},\n",
        "            {\"PL\": \"Epua na Kemaria\"},\n",
        "            {\"PL\": \"Rashid na Khairi\"},\n",
        "            {\"PL\": \"Abedi na Kesi\"},\n",
        "            {\"PL\": \"Lela na Kadija\"},\n",
        "            {\"PL\": \"Omari na Safia\"}\n",
        "          ],\n",
        "    \"ar\": [\n",
        "            {\"SG.MASC\": \"عمر\"}, # Omar\n",
        "            {\"SG.FEM\": \"فاطمة\"}, # Fatima\n",
        "            {\"SG.MASC\": \"أحمد\"}, # Ahmed\n",
        "            {\"SG.MASC\": \"آدم\"}, # Adam\n",
        "            {\"SG.MASC\": \"بدر\"}, # Badr\n",
        "            {\"SG.MASC\": \"تميم\"}, # Tamim\n",
        "            {\"SG.FEM\": \"لانا\"}, # Lana\n",
        "            {\"SG.FEM\": \"وجدان\"}, # Wijdan\n",
        "            {\"SG.FEM\": \"أمينة\"}, # Amina\n",
        "            {\"SG.FEM\": \"منيفة\"}, # Munifa\n",
        "            {\"DU.MASC\": \"ابراهيم ويوسف\"}, # Ibrahim and Yusef\n",
        "            {\"DU.MASC\": \"ناصر وليلى\"}, # Nasir and Layla\n",
        "            {\"DU.MASC\": \"الاسلام وحسن\"}, # Islam and Hassan\n",
        "            {\"DU.FEM\": \"ليلى وهدى\"}, # Huda and Layla\n",
        "            {\"DU.FEM\": \"زارا وزينب\"}, # Zara and Zaineb\n",
        "            {\"DU.MASC\": \"المصطفى وسارة\"}, # Ali and Moustapha\n",
        "            {\"DU.FEM\": \"مريم وزينب\"}, # Maryam and Sarah\n",
        "            {\"DU.MASC\": \"رحمة وخالد\"}, # Rahma and Khalid\n",
        "            {\"DU.MASC\": \"عبد الله وأمين\"}, # Abdullah and Ameen\n",
        "            {\"DU.MASC\": \"محمد وعبد الرحمن\"}, # Mohammed and Abdulrahman\n",
        "          ],\n",
        "    \"fi\": [\n",
        "            {\"SG\": \"Eero\"}, {\"SG\": \"Ylvä\"},\n",
        "            {\"SG\": \"Jaakko\"}, {\"SG\": \"Hellä\"},\n",
        "            {\"SG\": \"Markku\"}, {\"SG\": \"Marjaana\"},\n",
        "            {\"SG\": \"Okko\"}, {\"SG\": \"Päivikki\"},\n",
        "            {\"SG\": \"Päiviö\"}, {\"SG\": \"Tuulikki\"},\n",
        "            {\"PL\": \"Robert ja Jarkko\"}, {\"PL\": \"Jaakob ja Riina\"},\n",
        "            {\"PL\": \"Matti ja Joona\"}, {\"PL\": \"Mikko ja Arto\"},\n",
        "            {\"PL\": \"Aatto ja Pekka\"}, {\"PL\": \"Immi ja Annukka\"},\n",
        "            {\"PL\": \"Ulla ja Rebekka\"}, {\"PL\": \"Hilppa ja Henriikka\"},\n",
        "            {\"PL\": \"Säde ja Matleena\"}, {\"PL\": \"Kaija ja Juuli\"}\n",
        "          ],\n",
        "    \"it\": [\n",
        "            {\"SG.MASC\": \"Leonardo\"}, {\"SG.FEM\": \"Luna\"},\n",
        "            {\"SG.MASC\": \"Giovanni\"}, {\"SG.FEM\": \"Francesca\"},\n",
        "            {\"SG.MASC\": \"Arturo\"}, {\"SG.FEM\": \"Aurora\"},\n",
        "            {\"SG.MASC\": \"Bartolomeo\"}, {\"SG.FEM\": \"Giulia\"},\n",
        "            {\"SG.MASC\": \"Bruno\"}, {\"SG.FEM\": \"Chiara\"},\n",
        "            {\"PL.MASC\": \"Emiliano e Francesco\"}, {\"PL.MASC\": \"Antonio e Luca\"},\n",
        "            {\"PL.MASC\": \"Domenico e Gianluca\"}, {\"PL.MASC\": \"Gianpietro e Luigi\"},\n",
        "            {\"PL.MASC\": \"Nicolò e Raffaele\"}, {\"PL.FEM\": \"Gianna e Fabrizia\"},\n",
        "            {\"PL.FEM\": \"Maria e Aria\"}, {\"PL.FEM\": \"Valentina e Marcella\"},\n",
        "            {\"PL.FEM\": \"Lorenza e Virgilia\"}, {\"PL.FEM\": \"Patrizia e Ottavia\"}\n",
        "          ],\n",
        "    \"sv\": [\n",
        "            {\"SG.MASC\": \"Sven\"}, {\"SG.FEM\": \"Linnea\"},\n",
        "            {\"SG.MASC\": \"Karl\"}, {\"SG.FEM\": \"Ylva\"},\n",
        "            {\"SG.MASC\": \"Ingvar\"}, {\"SG.FEM\": \"Lena\"},\n",
        "            {\"SG.MASC\": \"Gunnar\"}, {\"SG.FEM\": \"Lovisa\"},\n",
        "            {\"SG.MASC\": \"Pontus\"}, {\"SG.FEM\": \"Emilia\"},\n",
        "            {\"PL.MASC\": \"Oscar och Andreas\"}, {\"PL.MASC\": \"Nils och Elisabet\"},\n",
        "            {\"PL.MASC\": \"Jonas och Arne\"}, {\"PL.MASC\": \"Adrian och Matilda\"},\n",
        "            {\"PL.MASC\": \"Joakim och William\"}, {\"PL.FEM\": \"Elin och Elisabet\"},\n",
        "            {\"PL.FEM\": \"Kristina och Ingrid\"}, {\"PL.FEM\": \"Sara och Sanna\"},\n",
        "            {\"PL.FEM\": \"Lisa och Camilla\"}, {\"PL.FEM\": \"Klara och Viktoria\"},\n",
        "          ]\n",
        "}"
      ]
    },
    {
      "cell_type": "code",
      "execution_count": null,
      "metadata": {
        "id": "toP-Zx9vTZi-"
      },
      "outputs": [],
      "source": [
        "JOBS = {\n",
        "    \"en\": [\n",
        "            {\"SG\": \"writer\", \"PL\": \"writers\"},\n",
        "            {\"SG\": \"engineer\", \"PL\": \"engineers\"},\n",
        "            {\"SG\": \"doctor\", \"PL\": \"doctors\"},\n",
        "            {\"SG\": \"teacher\", \"PL\": \"teachers\"},\n",
        "            {\n",
        "                \"SG.MASC\": \"waiter\", \"PL.MASC\": \"waiters\",\n",
        "                \"SG.FEM\": \"waitress\", \"PL.FEM\": \"waitresses\"\n",
        "            },\n",
        "            {\n",
        "                \"SG.MASC\": \"actor\", \"PL.MASC\": \"actors\",\n",
        "                \"SG.FEM\": \"actress\", \"PL.FEM\": \"actresses\"\n",
        "            },\n",
        "            {\n",
        "                \"SG.MASC\": \"policeman\", \"PL.MASC\": \"policemen\",\n",
        "                \"SG.FEM\": \"policewoman\", \"PL.FEM\": \"policewomen\"\n",
        "            },\n",
        "            {\"SG\": \"scientist\", \"PL\": \"scientists\"},\n",
        "            {\"SG\": \"manager\", \"PL\": \"managers\"},\n",
        "            {\"SG\": \"cook\", \"PL\": \"cooks\"},\n",
        "            {\"SG\": \"lawyer\", \"PL\": \"lawyers\"},\n",
        "            {\"SG\": \"accountant\", \"PL\": \"accountants\"},\n",
        "            {\"SG\": \"architect\", \"PL\": \"architects\"},\n",
        "            {\"SG\": \"farmer\", \"PL\": \"farmers\"},\n",
        "          ],\n",
        "    \"fr\": [\n",
        "            {\n",
        "              \"SG.MASC\": \"écrivain\", \"SG.FEM\": \"écrivaine\",\n",
        "              \"PL.MASC\": \"écrivains\", \"PL.FEM\": \"écrivaines\",\n",
        "            },\n",
        "            {\n",
        "              \"SG.MASC\": \"ingénieur\", \"SG.FEM\": \"ingénieure\",\n",
        "              \"PL.MASC\": \"ingénieurs\", \"PL.FEM\": \"ingénieures\",\n",
        "            },\n",
        "            {\n",
        "              \"SG.MASC\": \"docteur\", \"SG.FEM\": \"docteure\",\n",
        "              \"PL.MASC\": \"docteurs\", \"PL.FEM\": \"docteures\",\n",
        "            },\n",
        "            {\n",
        "              \"SG.MASC\": \"enseignant\", \"SG.FEM\": \"enseignante\",\n",
        "              \"PL.MASC\": \"enseignants\", \"PL.FEM\": \"enseignantes\",\n",
        "            },\n",
        "            {\n",
        "              \"SG.MASC\": \"serveur\", \"SG.FEM\": \"serveuse\",\n",
        "              \"PL.MASC\": \"serveurs\", \"PL.FEM\": \"serveuses\",\n",
        "            },\n",
        "            {\n",
        "              \"SG.MASC\": \"acteur\", \"SG.FEM\": \"actrice\",\n",
        "              \"PL.MASC\": \"acteurs\", \"PL.FEM\": \"actrices\",\n",
        "            },\n",
        "            {\n",
        "                \"SG.MASC\": \"policier\", \"PL.MASC\": \"policiers\",\n",
        "                \"SG.FEM\": \"policière\", \"PL.FEM\": \"policières\"\n",
        "            },\n",
        "            {\n",
        "              \"SG\": \"scientifique\", \"PL\": \"scientifiques\"\n",
        "            },\n",
        "            {\n",
        "                \"SG.MASC\": \"manageur\", \"PL.MASC\": \"manageurs\",\n",
        "                \"SG.FEM\": \"manageuse\", \"PL.FEM\": \"manageuses\"\n",
        "            },\n",
        "            {\n",
        "                \"SG.MASC\": \"cuisinier\", \"PL.MASC\": \"cuisiniers\",\n",
        "                \"SG.FEM\": \"cuisinière\", \"PL.FEM\": \"cuisinières\"\n",
        "            },\n",
        "            {\n",
        "                \"SG.MASC\": \"avocat\", \"PL.MASC\": \"avocats\",\n",
        "                \"SG.FEM\": \"avocate\", \"PL.FEM\": \"avocates\"\n",
        "            },\n",
        "            {\"SG\": \"compatible\", \"PL\": \"comptables\"},\n",
        "            {\"SG\": \"architecte\", \"PL\": \"architectes\"},\n",
        "            {\n",
        "                \"SG.MASC\": \"agriculteur\", \"PL.MASC\": \"agriculteurs\",\n",
        "                \"SG.FEM\": \"agricultrice\", \"PL.FEM\": \"agricultrices\"\n",
        "            },\n",
        "\n",
        "          ],\n",
        "    \"sk\": [\n",
        "            {\n",
        "                \"SG.MASC.NOM\": \"spisovateľ\", \"PL.MASC.NOM\": \"spisovatelia\",\n",
        "                \"SG.FEM.NOM\": \"spisovateľka\", \"PL.FEM.NOM\": \"spisovateľky\",\n",
        "                \"SG.MASC.INS\": \"spisovateľom\", \"PL.MASC.INS\": \"spisovateľmi\",\n",
        "                \"SG.FEM.INS\": \"spisovateľkou\", \"PL.FEM.INS\": \"spisovateľkami\",\n",
        "\n",
        "            },\n",
        "            {\n",
        "                \"SG.MASC.NOM\": \"inžinier\", \"PL.MASC.NOM\": \"inžinieri\",\n",
        "                \"SG.FEM.NOM\": \"inžinierka\", \"PL.FEM.NOM\": \"inžinierky\",\n",
        "                \"SG.MASC.INS\": \"inžinierom\", \"PL.MASC.INS\": \"inžiniermi\",\n",
        "                \"SG.FEM.INS\": \"inžinierkou\", \"PL.FEM.INS\": \"inžinierkami\"\n",
        "            },\n",
        "            {\n",
        "                \"SG.MASC.NOM\": \"lekár\", \"PL.MASC.NOM\": \"lekári\",\n",
        "                \"SG.FEM.NOM\": \"lekárka\", \"PL.FEM.NOM\": \"lekárky\",\n",
        "                \"SG.MASC.INS\": \"lekárom\", \"PL.MASC.INS\": \"lekármi\",\n",
        "                \"SG.FEM.INS\": \"lekárkou\", \"PL.FEM.INS\": \"lekárkami\"\n",
        "            },\n",
        "            {\n",
        "                \"SG.MASC.NOM\": \"učiteľ\", \"PL.MASC.NOM\": \"učitelia\",\n",
        "                \"SG.FEM.NOM\": \"učiteľka\", \"PL.FEM.NOM\": \"učiteľky\",\n",
        "                \"SG.MASC.INS\": \"učiteľom\", \"PL.MASC.INS\": \"učiteľmi\",\n",
        "                \"SG.FEM.INS\": \"učiteľkou\", \"PL.FEM.INS\": \"učiteľkami\"\n",
        "\n",
        "            },\n",
        "            {\n",
        "                \"SG.MASC.NOM\": \"čašník\", \"PL.MASC.NOM\": \"čašníci\",\n",
        "                \"SG.FEM.NOM\": \"čašníčka\", \"PL.FEM.NOM\": \"čašníčky\",\n",
        "                \"SG.MASC.INS\": \"čašníkom\", \"PL.MASC.INS\": \"čašníkmi\",\n",
        "                \"SG.FEM.INS\": \"čašníčkou\", \"PL.FEM.INS\": \"čašníčkami\"\n",
        "            },\n",
        "            {\n",
        "              \"SG.MASC.NOM\": \"herec\", \"SG.FEM.NOM\": \"herečka\",\n",
        "              \"PL.MASC.NOM\": \"herci\", \"PL.FEM.NOM\": \"herečky\",\n",
        "             \"SG.MASC.INS\": \"herecom\", \"SG.FEM.INS\": \"herečkou\",\n",
        "              \"PL.MASC.INS\": \"hercami\", \"PL.FEM.INS\": \"herečkami\",\n",
        "            },\n",
        "            {\n",
        "                \"SG.MASC.NOM\": \"policajt\", \"PL.MASC.NOM\": \"policajti\",\n",
        "                \"SG.FEM.NOM\": \"policajtka\", \"PL.FEM.NOM\": \"policajtky\",\n",
        "                \"SG.MASC.INS\": \"policajtom\", \"PL.MASC.INS\": \"policajtami\",\n",
        "                \"SG.FEM.INS\": \"policajtkou\", \"PL.FEM.INS\": \"policajtkami\"\n",
        "            },\n",
        "            {\n",
        "                \"SG.MASC.NOM\": \"vedec\", \"PL.MASC.NOM\": \"vedci\",\n",
        "                \"SG.FEM.NOM\": \"vedkyňa\", \"PL.FEM.NOM\": \"vedkyne\",\n",
        "                \"SG.MASC.INS\": \"vedcom\", \"PL.MASC.INS\": \"vedcami\",\n",
        "                \"SG.FEM.INS\": \"vedkyňou\", \"PL.FEM.INS\": \"vedkyňami\"\n",
        "            },\n",
        "            {\n",
        "                \"SG.MASC.NOM\": \"manažér\", \"PL.MASC.NOM\": \"manažéri\",\n",
        "                \"SG.FEM.NOM\": \"manažérka\", \"PL.FEM.NOM\": \"manažérky\",\n",
        "                \"SG.MASC.INS\": \"manažérom\", \"PL.MASC.INS\": \"manažérmi\",\n",
        "                \"SG.FEM.INS\": \"manažérkou\", \"PL.FEM.INS\": \"manažérkami\"\n",
        "            },\n",
        "            {\n",
        "                \"SG.MASC.NOM\": \"kuchár\", \"PL.MASC.NOM\": \"kuchári\",\n",
        "                \"SG.FEM.NOM\": \"kuchárka\", \"PL.FEM.NOM\": \"kuchárky\",\n",
        "                \"SG.MASC.INS\": \"kuchárom\", \"PL.MASC.INS\": \"kuchármi\",\n",
        "                \"SG.FEM.INS\": \"kuchárkou\", \"PL.FEM.INS\": \"kuchárkami\"\n",
        "            },\n",
        "            {\n",
        "                \"SG.MASC.NOM\": \"právnik\", \"PL.MASC.NOM\": \"právnici\",\n",
        "                \"SG.FEM.NOM\": \"právnička\", \"PL.FEM.NOM\": \"právničky\",\n",
        "             \"SG.MASC.INS\": \"právnikom\", \"PL.MASC.INS\": \"právnikmi\",\n",
        "                \"SG.FEM.INS\": \"právničkou\", \"PL.FEM.INS\": \"právničkami\"\n",
        "            },\n",
        "           {\n",
        "                \"SG.MASC.NOM\": \"účtovník\", \"PL.MASC.NOM\": \"účtovníci\",\n",
        "                \"SG.FEM.NOM\": \"účtovníčka\", \"PL.FEM.NOM\": \"účtovníčky\",\n",
        "                \"SG.MASC.INS\": \"účtovníkom\", \"PL.MASC.INS\": \"účtovníkmi\",\n",
        "                \"SG.FEM.INS\": \"účtovníčkou\", \"PL.FEM.INS\": \"účtovníčkami\"\n",
        "            },\n",
        "           {\n",
        "                \"SG.MASC.NOM\": \"architekt\", \"PL.MASC.NOM\": \"architekti\",\n",
        "                \"SG.FEM.NOM\": \"architektka\", \"PL.FEM.NOM\": \"architektky\",\n",
        "                \"SG.MASC.INS\": \"architektom\", \"PL.MASC.INS\": \"architektmi\",\n",
        "                \"SG.FEM.INS\": \"architektkou\", \"PL.FEM.INS\": \"architektkami\"\n",
        "            },\n",
        "            {\n",
        "                \"SG.MASC.NOM\": \"farmár\", \"PL.MASC.NOM\": \"farmári\",\n",
        "                \"SG.FEM.NOM\": \"farmárka\", \"PL.FEM.NOM\": \"farmárky\",\n",
        "                \"SG.MASC.INS\": \"farmárom\", \"PL.MASC.INS\": \"farmármi\",\n",
        "                \"SG.FEM.INS\": \"farmárkou\", \"PL.FEM.INS\": \"farmárkami\"\n",
        "            },\n",
        "          ],\n",
        "    \"de\": [\n",
        "            {\n",
        "                \"SG.MASC\": \"Schriftsteller\", \"PL.MASC\": \"Schriftsteller\",\n",
        "                \"SG.FEM\": \"Schriftstellerin\", \"PL.FEM\": \"Schriftstellerinnen\"\n",
        "            },\n",
        "            {\n",
        "                \"SG.MASC\": \"Ingenieur\", \"PL.MASC\": \"Ingenieure\",\n",
        "                \"SG.FEM\": \"Ingenieurin\", \"PL.FEM\": \"Ingenieurinnen\"\n",
        "            },\n",
        "            {\n",
        "                \"SG.MASC\": \"Arzt\", \"PL.MASC\": \"Ärzte\",\n",
        "                \"SG.FEM\": \"Ärztin\", \"PL.FEM\": \"Ärztinnen\"\n",
        "            },\n",
        "            {\n",
        "                \"SG.MASC\": \"Lehrer\", \"PL.MASC\": \"Lehrer\",\n",
        "                \"SG.FEM\": \"Lehrerin\", \"PL.FEM\": \"Lehrerinnen\"\n",
        "            },\n",
        "            {\n",
        "                \"SG.MASC\": \"Kellner\", \"PL.MASC\": \"Kellner\",\n",
        "                \"SG.FEM\": \"Kellnerin\", \"PL.FEM\": \"Kellnerinnen\"\n",
        "            },\n",
        "            {\n",
        "                \"SG.MASC\": \"Schauspieler\", \"PL.MASC\": \"Schauspieler\",\n",
        "                \"SG.FEM\": \"Schauspielerin\", \"PL.FEM\": \"Schauspielerinnen\"\n",
        "            },\n",
        "            {\n",
        "                \"SG.MASC\": \"Polizist\", \"PL.MASC\": \"Polizisten\",\n",
        "                \"SG.FEM\": \"Polizistin\", \"PL.FEM\": \"Polizistinnen\"\n",
        "            },\n",
        "            {\n",
        "                \"SG.MASC\": \"Wissenschaftler\", \"PL.MASC\": \"Wissenschaftler\",\n",
        "                \"SG.FEM\": \"Wissenschaftlerin\", \"PL.FEM\": \"Wissenschaftlerinnen\"\n",
        "            },\n",
        "            {\n",
        "                \"SG.MASC\": \"Manager\", \"PL.MASC\": \"Manager\",\n",
        "                \"SG.FEM\": \"Managerin\", \"PL.FEM\": \"Managerinnen\"\n",
        "            },\n",
        "            {\n",
        "                \"SG.MASC\": \"Koch\", \"PL.MASC\": \"Köche\",\n",
        "                \"SG.FEM\": \"Köchin\", \"PL.FEM\": \"Köchinnen\"\n",
        "            },\n",
        "            {\n",
        "                \"SG.MASC\": \"Anwalt\", \"PL.MASC\": \"Anwälte\",\n",
        "                \"SG.FEM\": \"Anwältin\", \"PL.FEM\": \"Anwältinnen\"\n",
        "            },\n",
        "            {\n",
        "                \"SG.MASC\": \"Buchhalter\", \"PL.MASC\": \"Buchhalter\",\n",
        "                \"SG.FEM\": \"Buchhalterin\", \"PL.FEM\": \"Buchhalterinnen\"\n",
        "            },\n",
        "            {\n",
        "                \"SG.MASC\": \"Architekt\", \"PL.MASC\": \"Architekten\",\n",
        "                \"SG.FEM\": \"Architektin\", \"PL.FEM\": \"Architektinnen\"\n",
        "            },\n",
        "            {\n",
        "                \"SG.MASC\": \"Bauer\", \"PL.MASC\": \"Bauern\",\n",
        "                \"SG.FEM\": \"Bäuerin\", \"PL.FEM\": \"Bäuerinnen\"\n",
        "            },\n",
        "          ],\n",
        "    \"ru\": [\n",
        "            {\n",
        "                \"SG.MASC\": \"писатель\", \"PL.MASC\": \"писатели\",\n",
        "                \"SG.FEM\": \"писательница\", \"PL.FEM\": \"писательницы\"\n",
        "            },\n",
        "            {\n",
        "                \"SG.MASC\": \"инженер\", \"PL.MASC\": \"инженеры\",\n",
        "                \"SG.FEM\": \"инженер\", \"PL.FEM\": \"инженеры\"\n",
        "            },\n",
        "            {\n",
        "                \"SG.MASC\": \"врач\", \"PL.MASC\": \"врачи\",\n",
        "                \"SG.FEM\": \"врач\", \"PL.FEM\": \"врачи\"\n",
        "            },\n",
        "            {\n",
        "                \"SG.MASC\": \"учитель\", \"PL.MASC\": \"учителя\",\n",
        "                \"SG.FEM\": \"учительница\", \"PL.FEM\": \"учительницы\"\n",
        "            },\n",
        "            {\n",
        "                \"SG.MASC\": \"официант\", \"PL.MASC\": \"официанты\",\n",
        "                \"SG.FEM\": \"официантка\", \"PL.FEM\": \"официантки\"\n",
        "            },\n",
        "            {\n",
        "              \"SG.MASC\": \"актёр\", \"SG.FEM\": \"актриса\",\n",
        "              \"PL.MASC\": \"актёры\", \"PL.FEM\": \"актрисы\",\n",
        "            },\n",
        "            {\n",
        "                \"SG.MASC\": \"полицейский\", \"PL.MASC\": \"полицейские\",\n",
        "                \"SG.FEM\": \"полицейский\", \"PL.FEM\": \"полицейские\"\n",
        "            },\n",
        "            {\n",
        "                \"SG.MASC\": \"учёный\", \"PL.MASC\": \"учёные\",\n",
        "                \"SG.FEM\": \"учёный\", \"PL.FEM\": \"учёные\"\n",
        "            },\n",
        "            {\n",
        "                \"SG.MASC\": \"менеджер\", \"PL.MASC\": \"менеджеры\",\n",
        "                \"SG.FEM\": \"менеджер\", \"PL.FEM\": \"менеджеры\"\n",
        "            },\n",
        "            {\n",
        "                \"SG.MASC\": \"повар\", \"PL.MASC\": \"повара\",\n",
        "                \"SG.FEM\": \"повар\", \"PL.FEM\": \"повара\"\n",
        "            },\n",
        "            {\n",
        "                \"SG.MASC\": \"адвокат\", \"PL.MASC\": \"адвокаты\",\n",
        "                \"SG.FEM\": \"адвокат\", \"PL.FEM\": \"адвокаты\"\n",
        "            },\n",
        "            {\n",
        "                \"SG.MASC\": \"бухгалтер\", \"PL.MASC\": \"бухгалтеры\",\n",
        "                \"SG.FEM\": \"бухгалтер\", \"PL.FEM\": \"бухгалтеры\"\n",
        "            },\n",
        "            {\n",
        "                \"SG.MASC\": \"архитектор\", \"PL.MASC\": \"архитекторы\",\n",
        "                \"SG.FEM\": \"архитектор\", \"PL.FEM\": \"архитекторы\"\n",
        "            },\n",
        "            {\n",
        "                \"SG.MASC\": \"фермер\", \"PL.MASC\": \"фермеры\",\n",
        "                \"SG.FEM\": \"фермер\", \"PL.FEM\": \"фермеры\"\n",
        "            },\n",
        "          ],\n",
        "    \"es\": [\n",
        "            {\n",
        "              \"SG.MASC\": \"escritor\", \"SG.FEM\": \"escritora\",\n",
        "              \"PL.MASC\": \"escritores\", \"PL.FEM\": \"escritoras\",\n",
        "            },\n",
        "            {\n",
        "              \"SG.MASC\": \"ingeniero\", \"SG.FEM\": \"ingeniera\",\n",
        "              \"PL.MASC\": \"ingenieros\", \"PL.FEM\": \"ingenieras\",\n",
        "            },\n",
        "            {\n",
        "              \"SG.MASC\": \"médico\", \"SG.FEM\": \"médica\",\n",
        "              \"PL.MASC\": \"médicos\", \"PL.FEM\": \"médicas\",\n",
        "            },\n",
        "            {\n",
        "              \"SG.MASC\": \"maestro\", \"SG.FEM\": \"maestra\",\n",
        "              \"PL.MASC\": \"maestros\", \"PL.FEM\": \"maestras\",\n",
        "            },\n",
        "            {\n",
        "              \"SG.MASC\": \"camarero\", \"SG.FEM\": \"camarera\",\n",
        "              \"PL.MASC\": \"camareros\", \"PL.FEM\": \"camareras\",\n",
        "            },\n",
        "            {\n",
        "              \"SG.MASC\": \"actor\", \"SG.FEM\": \"actriz\",\n",
        "              \"PL.MASC\": \"actores\", \"PL.FEM\": \"actrices\",\n",
        "            },\n",
        "            {\n",
        "                \"SG.MASC\": \"policía\", \"PL.MASC\": \"policías\",\n",
        "                \"SG.FEM\": \"policía\", \"PL.FEM\": \"policías\"\n",
        "            },\n",
        "            {\n",
        "                \"SG.MASC\": \"científico\", \"SG.FEM\": \"científica\",\n",
        "                \"PL.MASC\": \"científicos\", \"PL.FEM\": \"científicas\",\n",
        "            },\n",
        "            {\n",
        "                \"SG.MASC\": \"gerente\", \"PL.MASC\": \"gerentes\",\n",
        "                \"SG.FEM\": \"gerente\", \"PL.FEM\": \"gerentes\"\n",
        "            },\n",
        "            {\n",
        "                \"SG.MASC\": \"cocinero\", \"PL.MASC\": \"cocineros\",\n",
        "                \"SG.FEM\": \"cocinera\", \"PL.FEM\": \"cocineras\"\n",
        "            },\n",
        "            {\n",
        "                \"SG.MASC\": \"abogado\", \"PL.MASC\": \"abogados\",\n",
        "                \"SG.FEM\": \"abogada\", \"PL.FEM\": \"abogadas\"\n",
        "            },\n",
        "           {\n",
        "                \"SG.MASC\": \"contador\", \"PL.MASC\": \"contadores\",\n",
        "                \"SG.FEM\": \"contadora\", \"PL.FEM\": \"contadoras\"\n",
        "            },\n",
        "           {\n",
        "                \"SG.MASC\": \"arquitecto\", \"PL.MASC\": \"arquitectos\",\n",
        "                \"SG.FEM\": \"arquitecta\", \"PL.FEM\": \"arquitectas\"\n",
        "            },\n",
        "            {\n",
        "                \"SG.MASC\": \"agricultor\", \"PL.MASC\": \"agricultores\",\n",
        "                \"SG.FEM\": \"agricultora\", \"PL.FEM\": \"agricultoras\"\n",
        "            }\n",
        "          ],\n",
        "    \"zh\": [\n",
        "           # writer, engineer, doctor, teacher, waiter, actor, policeman,\n",
        "           # scientist, manager, cook, lawyer, accountant, architect, farmer\n",
        "            \"作家\", \"工程师\", \"医生\", \"老师\", \"服务员\", \"演员\",\n",
        "            \"警察\", \"科学家\", \"经理\", \"厨师\", \"律师\", \"会计师\", \"建筑师\", \"农民\"\n",
        "          ],\n",
        "    \"sw\": [\n",
        "            {\"SG\": \"mwandishi\", \"PL\": \"waandishi\"},\n",
        "            {\"SG\": \"mhandisi\", \"PL\": \"wahandisi\"},\n",
        "            {\"SG\": \"daktari\", \"PL\": \"madaktari\"},\n",
        "            {\"SG\": \"mwalimu\", \"PL\": \"walimu\"},\n",
        "            {\"SG\": \"mhudumu\", \"PL\": \"wahudumu\"},\n",
        "            {\"SG\": \"mwanasayansi\", \"PL\": \"wanasayansi\"},\n",
        "            {\"SG\": \"mwigizaji\", \"PL\": \"waigizaji\",},\n",
        "            {\"SG\": \"polisi\", \"PL\": \"polisi\"},\n",
        "            {\"SG\": \"meneja\", \"PL\": \"wasimamizi\"},\n",
        "            {\"SG\": \"mpishi\", \"PL\": \"wapishi\"},\n",
        "            {\"SG\": \"mwanasheria\", \"PL\": \"wanasheria\"},\n",
        "            {\"SG\": \"mhasibu\", \"PL\": \"wahasibu\"},\n",
        "            {\"SG\": \"mbunifu\", \"PL\": \"wasanifu\"},\n",
        "            {\"SG\": \"mkulima\", \"PL\": \"wakulima\"},\n",
        "          ],\n",
        "    \"ar\": [\n",
        "            {\n",
        "              \"SG.MASC.NOM\": \"كاتب\", \"SG.FEM.NOM\": \"كاتبة\", # writer\n",
        "              \"SG.MASC.ACC\": \"كاتبا\", \"SG.FEM.ACC\": \"كاتبة\",\n",
        "              \"DU.MASC.NOM\": \"كاتبان\", \"DU.FEM.NOM\": \"كاتبتان\",\n",
        "              \"DU.MASC.ACC\": \"كاتبين\", \"DU.FEM.ACC\": \"كاتبتين\"\n",
        "            },\n",
        "            {\n",
        "              \"SG.MASC.NOM\": \"مهندس\", \"SG.FEM.NOM\": \"مهندسة\", # engineer\n",
        "              \"SG.MASC.ACC\": \"مهندسا\", \"SG.FEM.ACC\": \"مهندسة\",\n",
        "              \"DU.MASC.NOM\": \"مهندسان\", \"DU.FEM.NOM\": \"مهندستان\",\n",
        "              \"DU.MASC.ACC\": \"مهندسين\", \"DU.FEM.ACC\": \"مهندستين\"\n",
        "            },\n",
        "            {\n",
        "              \"SG.MASC.NOM\": \"طبيب\", \"SG.FEM.NOM\": \"طبيبة\", # doctor\n",
        "              \"SG.MASC.ACC\": \"طبيبا\", \"SG.FEM.ACC\": \"طبيبة\",\n",
        "              \"DU.MASC.NOM\": \"طبيبان\", \"DU.FEM.NOM\": \"طبيبتان\",\n",
        "              \"DU.MASC.ACC\": \"طبيبين\", \"DU.FEM.ACC\": \"طبيبتين\"\n",
        "            },\n",
        "            {\n",
        "              \"SG.MASC.NOM\": \"مدرس\", \"SG.FEM.NOM\": \"مدرسة\", # teacher\n",
        "              \"SG.MASC.ACC\": \"مدرسا\", \"SG.FEM.ACC\": \"مدرسة\",\n",
        "              \"DU.MASC.NOM\": \"مدرسان\", \"DU.FEM.NOM\": \"مدرستان\",\n",
        "              \"DU.MASC.ACC\": \"مدرسين\", \"DU.FEM.ACC\": \"مدرستين\"\n",
        "            },\n",
        "            {\n",
        "              \"SG.MASC.NOM\": \"نادل\", \"SG.FEM.NOM\": \"نادلة\", # waiter\n",
        "              \"SG.MASC.ACC\": \"نادلا\", \"SG.FEM.ACC\": \"نادلة\",\n",
        "              \"DU.MASC.NOM\": \"نادلان\", \"DU.FEM.NOM\": \"نادلتان\",\n",
        "              \"DU.MASC.ACC\": \"نادلين\", \"DU.FEM.ACC\": \"نادلتين\"\n",
        "            },\n",
        "            {\n",
        "              \"SG.MASC.NOM\": \"عالم\", \"SG.FEM.NOM\": \"عالمة\", # scientist\n",
        "              \"SG.MASC.ACC\": \"عالما\", \"SG.FEM.ACC\": \"عالمة\",\n",
        "              \"DU.MASC.NOM\": \"عالمان\", \"DU.FEM.NOM\": \"عالمتان\",\n",
        "              \"DU.MASC.ACC\": \"عالمين\", \"DU.FEM.ACC\": \"عالمتين\"\n",
        "            },\n",
        "            {\n",
        "              \"SG.MASC.NOM\": \"ممثل\", \"SG.FEM.NOM\": \"ممثلة\", # actor\n",
        "              \"SG.MASC.ACC\": \"ممثلا\", \"SG.FEM.ACC\": \"ممثلة\",\n",
        "              \"DU.MASC.NOM\": \"ممثلان\", \"DU.FEM.NOM\": \"ممثلتان\",\n",
        "              \"DU.MASC.ACC\": \"ممثلين\", \"DU.FEM.ACC\": \"ممثلتين\",\n",
        "            },\n",
        "            {\n",
        "                \"SG.MASC.NOM\": \"ضابط\", \"SG.FEM.NOM\": \"ضابطة\", # policeman\n",
        "                \"SG.MASC.ACC\": \"ضابطا\", \"SG.FEM.ACC\": \"ضابطة\",\n",
        "                \"DU.MASC.NOM\": \"ضابطان\", \"DU.FEM.NOM\": \"ضابطتان\",\n",
        "                \"DU.MASC.ACC\": \"ضابطين\", \"DU.FEM.ACC\": \"ضابطتين\"\n",
        "            },\n",
        "           {\n",
        "                \"SG.MASC.NOM\": \"مدير\", \"SG.FEM.NOM\": \"مديرة\", # manager\n",
        "                \"SG.MASC.ACC\": \"مديرا\", \"SG.FEM.ACC\": \"مديرة\",\n",
        "                \"DU.MASC.NOM\": \"مديران\", \"DU.FEM.NOM\": \"مديرتان\",\n",
        "                \"DU.MASC.ACC\": \"مديرين\", \"DU.FEM.ACC\": \"مديرتين\"\n",
        "            },\n",
        "            {\n",
        "                \"SG.MASC.NOM\": \"طباخ\", \"SG.FEM.NOM\": \"طباخة\", # cook\n",
        "                \"SG.MASC.ACC\": \"طباخا\", \"SG.FEM.ACC\": \"طباخة\",\n",
        "                \"DU.MASC.NOM\": \"طباخان\", \"DU.FEM.NOM\": \"طباختان\",\n",
        "                \"DU.MASC.ACC\": \"طباخين\", \"DU.FEM.ACC\": \"طباختين\"\n",
        "            },\n",
        "            {\n",
        "                \"SG.MASC.NOM\": \"محام\", \"SG.FEM.NOM\": \"محامية\", # lawyer\n",
        "                \"SG.MASC.ACC\": \"محاميا\", \"SG.FEM.ACC\": \"محامية\",\n",
        "                \"DU.MASC.NOM\": \"محاميان\", \"DU.FEM.NOM\": \"محاميتان\",\n",
        "                \"DU.MASC.ACC\": \"محاميين\", \"DU.FEM.ACC\": \"محاميتين\"\n",
        "            },\n",
        "           {\n",
        "                \"SG.MASC.NOM\": \"محاسب\", \"SG.FEM.NOM\": \"محاسبة\", # accountant\n",
        "                \"SG.MASC.ACC\": \"محاسبا\", \"SG.FEM.ACC\": \"محاسبة\",\n",
        "                \"DU.MASC.NOM\": \"محاسبان\", \"DU.FEM.NOM\": \"محاسبتان\",\n",
        "                \"DU.MASC.ACC\": \"محاسبين\", \"DU.FEM.ACC\": \"محاسبتين\",\n",
        "            },\n",
        "           {\n",
        "                \"SG.MASC.NOM\": \"سائق\", \"SG.FEM.NOM\": \"سائقة\", # driver\n",
        "                \"SG.MASC.ACC\": \"سائقا\", \"SG.FEM.ACC\": \"سائقة\",\n",
        "                \"DU.MASC.NOM\": \"سائقان\", \"DU.FEM.NOM\": \"سائقتان\",\n",
        "                \"DU.MASC.ACC\": \"سائقين\", \"DU.FEM.ACC\": \"سائقتين\"\n",
        "            },\n",
        "            {\n",
        "                \"SG.MASC.NOM\": \"ضابط\", \"SG.FEM.NOM\": \"ضابطة\", # officer\n",
        "                \"SG.MASC.ACC\": \"ضابطا\", \"SG.FEM.ACC\": \"ضابطة\",\n",
        "                \"DU.MASC.NOM\": \"ضابطان\", \"DU.FEM.NOM\": \"ضابطتان\",\n",
        "                \"DU.MASC.ACC\": \"ضابطين\", \"DU.FEM.ACC\": \"ضابطتين\"\n",
        "            },\n",
        "          ],\n",
        "    \"fi\": [\n",
        "            {\n",
        "                \"SG.NOM\": \"kirjailija\", \"PL.NOM\": \"kirjailijat\",\n",
        "                \"SG.PRT\": \"kirjailijaa\", \"PL.PRT\": \"kirjailijoita\"\n",
        "            },\n",
        "            {\n",
        "                \"SG.NOM\": \"insinööri\", \"PL.NOM\": \"insinöörit\",\n",
        "                \"SG.PRT\": \"insinööriä\", \"PL.PRT\": \"insinöörejä\"\n",
        "            },\n",
        "            {\n",
        "                \"SG.NOM\": \"lääkäri\", \"PL.NOM\": \"lääkärit\",\n",
        "                \"SG.PRT\": \"lääkäriä\", \"PL.PRT\": \"lääkäreitä\"\n",
        "            },\n",
        "            {\n",
        "                \"SG.NOM\": \"opettaja\", \"PL.NOM\": \"opettajat\",\n",
        "                \"SG.PRT\": \"opettajaa\", \"PL.PRT\": \"opettajia\"\n",
        "            },\n",
        "            {\n",
        "                \"SG.NOM\": \"tarjoilija\", \"PL.NOM\": \"tarjoilijat\",\n",
        "                \"SG.PRT\": \"tarjoilijaa\", \"PL.PRT\": \"tarjoilijoita\"\n",
        "            },\n",
        "            {\n",
        "                \"SG.NOM\": \"näyttelijä\", \"PL.NOM\": \"näyttelijät\",\n",
        "                \"SG.PRT\": \"näyttelijää\", \"PL.PRT\": \"näyttelijöitä\",\n",
        "            },\n",
        "            {\n",
        "                \"SG.NOM\": \"poliisi\", \"PL.NOM\": \"poliisit\",\n",
        "                \"SG.PRT\": \"poliisia\", \"PL.PRT\": \"poliiseja\"\n",
        "            },\n",
        "            {\n",
        "                \"SG.NOM\": \"tiedemies\", \"PL.NOM\": \"tiedemiehet\",\n",
        "                \"SG.PRT\": \"tiedemiestä\", \"PL.PRT\": \"tiedemiehiä\"\n",
        "            },\n",
        "            {\n",
        "                \"SG.NOM\": \"johtaja\", \"PL.NOM\": \"johtajat\",\n",
        "                \"SG.PRT\": \"johtajaa\", \"PL.PRT\": \"johtajia\"\n",
        "            },\n",
        "            {\n",
        "                \"SG.NOM\": \"kokki\", \"PL.NOM\": \"kokit\",\n",
        "                \"SG.PRT\": \"kokkia\", \"PL.PRT\": \"kokkeja\"\n",
        "            },\n",
        "            {\n",
        "                \"SG.NOM\": \"lakimies\", \"PL.NOM\": \"lakimiehet\",\n",
        "                \"SG.PRT\": \"lakimiestä\", \"PL.PRT\": \"lakimiehiä\"\n",
        "            },\n",
        "           {\n",
        "                \"SG.NOM\": \"kirjanpitäjä\", \"PL.NOM\": \"kirjanpitäjät\",\n",
        "                \"SG.PRT\": \"kirjanpitäjää\", \"PL.PRT\": \"kirjanpitäjiä\"\n",
        "            },\n",
        "           {\n",
        "                \"SG.NOM\": \"arkkitehti\", \"PL.NOM\": \"arkkitehdit\",\n",
        "                \"SG.PRT\": \"arkkitehtiä\", \"PL.PRT\": \"arkkitehtejä\"\n",
        "            },\n",
        "            {\n",
        "                \"SG.NOM\": \"viljelijä\", \"PL.NOM\": \"viljelijät\",\n",
        "                \"SG.PRT\": \"viljelijää\", \"PL.PRT\": \"viljelijöitä\"\n",
        "            },\n",
        "          ],\n",
        "    \"it\": [\n",
        "            {\n",
        "              \"SG.MASC\": \"scrittore\", \"SG.FEM\": \"scrittrice\",\n",
        "              \"PL.MASC\": \"scrittori\", \"PL.FEM\": \"scrittrici\",\n",
        "            },\n",
        "            {\n",
        "              \"SG\": \"ingegnere\", \"PL\": \"ingegneri\",\n",
        "\n",
        "            },\n",
        "            {\n",
        "              \"SG.MASC\": \"dottore\", \"SG.FEM\": \"dottoressa\",\n",
        "              \"PL.MASC\": \"dottori\", \"PL.FEM\": \"dottoresse\",\n",
        "            },\n",
        "            {\n",
        "              \"SG\": \"insegnante\", \"PL\": \"insegnanti\",\n",
        "            },\n",
        "            {\n",
        "              \"SG.MASC\": \"cameriere\", \"SG.FEM\": \"cameriera\",\n",
        "              \"PL.MASC\": \"camerieri\", \"PL.FEM\": \"cameriere\",\n",
        "            },\n",
        "            {\n",
        "              \"SG.MASC\": \"attore\", \"SG.FEM\": \"attrice\",\n",
        "              \"PL.MASC\": \"attori\", \"PL.FEM\": \"attrici\",\n",
        "            },\n",
        "            {\n",
        "                \"SG.MASC\": \"poliziotto\", \"PL.MASC\": \"poliziotti\",\n",
        "                \"SG.FEM\": \"poliziotta\", \"PL.FEM\": \"poliziotte\"\n",
        "            },\n",
        "            {\n",
        "              \"SG.MASC\": \"scienziato\", \"PL.MASC\": \"scienziati\",\n",
        "              \"SG.FEM\": \"scienziata\", \"PL.FEM\": \"scienziate\"\n",
        "            },\n",
        "            {\n",
        "                \"SG\": \"manager\", \"PL\": \"manager\",\n",
        "            },\n",
        "            {\n",
        "                \"SG.MASC\": \"cuoco\", \"PL.MASC\": \"cuochi\",\n",
        "                \"SG.FEM\": \"cuoca\", \"PL.FEM\": \"cuoche\"\n",
        "            },\n",
        "            {\n",
        "                \"SG.MASC\": \"avvocato\", \"PL.MASC\": \"avvocati\",\n",
        "                \"SG.FEM\": \"avvocatessa\", \"PL.FEM\": \"avvocatesse\"\n",
        "            },\n",
        "            {\n",
        "                \"SG.MASC\": \"ragioniere\", \"PL.MASC\": \"ragionieri\",\n",
        "                \"SG.FEM\": \"ragioniera\", \"PL.FEM\": \"ragioniere\"\n",
        "            },\n",
        "            {\n",
        "                \"SG\": \"architetto\", \"PL\": \"architetti\",\n",
        "            },\n",
        "            {\n",
        "                \"SG.MASC\": \"contadino\", \"PL.MASC\": \"contadini\",\n",
        "                \"SG.FEM\": \"contadina\", \"PL.FEM\": \"contadine\"\n",
        "            }\n",
        "          ],\n",
        "    \"sv\": [\n",
        "            {\n",
        "                \"SG.MASC\": \"författare\",   \"PL.MASC\": \"författare\",\n",
        "                \"SG.FEM\": \"författare\",   \"PL.FEM\": \"författare\"\n",
        "            },\n",
        "            {\n",
        "                \"SG.MASC\": \"ingenjör\", \"PL.MASC\": \"ingenjörer\",\n",
        "                \"SG.FEM\": \"ingenjör\", \"PL.FEM\": \"ingenjörer\"\n",
        "            },\n",
        "            {\n",
        "                \"SG.MASC\": \"doktor\",   \"PL.MASC\": \"doktorer\",\n",
        "                \"SG.FEM\": \"doktor\",   \"PL.FEM\": \"doktorer\"\n",
        "            },\n",
        "            {\n",
        "                \"SG.MASC\": \"lärare\",  \"PL.MASC\": \"lärare\",\n",
        "                \"SG.FEM\": \"lärarinna\",  \"PL.FEM\": \"lärarinnor\"\n",
        "            },\n",
        "            {\n",
        "                \"SG.MASC\": \"servitör\",   \"PL.MASC\": \"servitörer\",\n",
        "                \"SG.FEM\": \"servitris\",   \"PL.FEM\": \"servitriser\"\n",
        "            },\n",
        "            {\n",
        "              \"SG.MASC\": \"skådespelare\", \"SG.FEM\": \"skådespelerska\",\n",
        "              \"PL.MASC\": \"skådespelare\", \"PL.FEM\": \"skådespelerskor\",\n",
        "            },\n",
        "            {\n",
        "                \"SG.MASC\": \"polis\", \"PL.MASC\": \"poliser\",\n",
        "                \"SG.FEM\": \"polis\", \"PL.FEM\": \"poliser\"\n",
        "            },\n",
        "            {\n",
        "                \"SG.MASC\": \"vetenskapsman\",\"PL.MASC\": \"vetenskapsmän\",\n",
        "                \"SG.FEM\": \"vetenskapsman\",\"PL.FEM\": \"vetenskapsmän\"\n",
        "            },\n",
        "            {\n",
        "                \"SG.MASC\": \"chef\", \"PL.MASC\": \"chefer\",\n",
        "                \"SG.FEM\": \"chef\", \"PL.FEM\": \"chefer\"\n",
        "            },\n",
        "            {\n",
        "                \"SG.MASC\": \"kock\", \"PL.MASC\": \"kockar\",\n",
        "                \"SG.FEM\": \"kock\", \"PL.FEM\": \"kockar\"\n",
        "            },\n",
        "            {\n",
        "                \"SG.MASC\": \"advokat\", \"PL.MASC\": \"advokater\",\n",
        "                \"SG.FEM\": \"advokat\", \"PL.FEM\": \"advokater\"\n",
        "            },\n",
        "            {\n",
        "                \"SG.MASC\": \"revisor\", \"PL.MASC\": \"revisorer\",\n",
        "                \"SG.FEM\": \"revisor\", \"PL.FEM\": \"revisorer\"\n",
        "            },\n",
        "            {\n",
        "                \"SG.MASC\": \"arkitekt\", \"PL.MASC\": \"arkitekter\",\n",
        "                \"SG.FEM\": \"arkitekt\", \"PL.FEM\": \"arkitekter\"\n",
        "            },\n",
        "            {\n",
        "                \"SG.MASC\": \"bonde\", \"PL.MASC\": \"bönder\",\n",
        "                \"SG.FEM\": \"bonde\", \"PL.FEM\": \"bönder\"\n",
        "            },\n",
        "          ]\n",
        "}"
      ]
    },
    {
      "cell_type": "code",
      "execution_count": null,
      "metadata": {
        "id": "P0J4ovhhK3Z1"
      },
      "outputs": [],
      "source": [
        "FRUITS = {\n",
        "    \"en\": [\n",
        "              {\"SG\": s, \"PL\": s + \"s\"}\n",
        "              for s in [\"apple\", \"banana\", \"pear\", \"watermelon\", \"orange\", \"pineapple\"]\n",
        "          ] + [\n",
        "              {\"SG\": \"mango\", \"PL\": \"mangoes\"},\n",
        "              {\"SG\": \"cherry\", \"PL\": \"cherries\"},\n",
        "              {\"SG\": \"strawberry\", \"PL\": \"strawberries\"}\n",
        "          ],\n",
        "    \"de\": [\n",
        "              {\"SG.FEM\": s, \"PL.FEM\": s + \"n\"} for s in [\"Banane\", \"Birne\", \"Wassermelone\", \"Orange\", \"Kirsche\", \"Erdbeere\"]\n",
        "          ] + [\n",
        "              {\"SG.FEM\": \"Mango\", \"PL.FEM\": \"Mangos\"},\n",
        "              {\"SG.FEM\": \"Ananas\", \"PL.FEM\": \"Ananasse\"},\n",
        "              {\"SG.MASC\": \"Apfel\", \"PL.MASC\": \"Äpfel\"}\n",
        "          ],\n",
        "    \"zh\": [\n",
        "              # Píngguǒ, bōluó, xiāngjiāo, li2, xīguā, chéngzi, yīngtáo, cǎoméi, mángguǒ\n",
        "              \"苹果\", \"菠萝\", \"香蕉\", \"梨\", \"西瓜\", \"橙子\", \"樱桃\", \"草莓\", \"芒果\"\n",
        "          ],\n",
        "    \"sv\": [\n",
        "              {\"SG.NEUT\": \"äpple\", \"PL.NEUT\": \"äpplen\"}, # ett äpple\n",
        "              {\"SG.COMMON\": \"banan\", \"PL.COMMON\": \"bananer\"}, # en banan\n",
        "              {\"NEUT\": \"päron\"}, # ett päron\n",
        "              {\"SG.COMMON\": \"vattenmelon\", \"PL.COMMON\": \"vattenmeloner\"},\n",
        "              {\"SG.COMMON\": \"apelsin\", \"PL.COMMON\": \"apelsiner\"},\n",
        "              {\"COMMON\": \"ananas\"}, # en ananas\n",
        "              {\"SG.COMMON\": \"mango\", \"PL.COMMON\": \"mangor\"}, # en mango\n",
        "              {\"SG.COMMON\": \"jordgubbe\", \"PL.COMMON\": \"jordgubbar\"},\n",
        "              {\"NEUT\": \"körsbär\"} # ett körsbär\n",
        "          ],\n",
        "    \"sk\": [\n",
        "              {\"SG.NEUT\": \"jablko\", \"PL.NEUT\": \"jablká\", \"GTPL.NEUT\": \"jabĺk\"},\n",
        "              {\"SG.MASC\": \"ananás\", \"PL.MASC\": \"ananásy\", \"GTPL.MASC\": \"ananásov\"},\n",
        "              {\"SG.FEM.NOM\": \"jahoda\", \"SG.FEM.ACC\": \"jahodu\", \"PL.FEM\": \"jahody\", \"GTPL.FEM\": \"jahôd\"},\n",
        "              {\"SG.MASC\": \"banán\", \"PL.MASC\": \"banány\", \"GTPL.MASC\": \"banánov\"},\n",
        "              {\"SG.FEM.NOM\": \"hruška\", \"SG.FEM.ACC\": \"hrušku\", \"PL.FEM\": \"hrušky\", \"GTPL.FEM\": \"hrušiek\"},\n",
        "              {\"SG.MASC\": \"melón\", \"PL.MASC\": \"melóny\", \"GTPL.MASC\": \"melónov\"},\n",
        "              {\"SG.MASC\": \"pomaranč\", \"PL.MASC\": \"pomaranče\", \"GTPL.MASC\": \"pomarančov\"},\n",
        "              {\"SG.NEUT\": \"mango\", \"PL.NEUT\": \"mangá\", \"GTPL.NEUT\": \"máng\"},\n",
        "              {\"SG.FEM.NOM\": \"čerešňa\", \"SG.FEM.ACC\": \"čerešňu\", \"PL.FEM\": \"čerešne\", \"GTPL.FEM\": \"čerešien\"}\n",
        "          ],\n",
        "    \"ru\": [\n",
        "              {\"SG.NEUT\": \"яблоко\", \"PL.NEUT\": \"яблока\", \"GTPL.NEUT\": \"яблок\"},\n",
        "              {\"SG.MASC\": \"ананас\", \"PL.MASC\": \"ананаса\", \"GTPL.MASC\": \"ананасов\"},\n",
        "              {\"SG.FEM.NOM\": \"ягода клубники\", \"SG.FEM.ACC\": \"ягоду клубники\", \"PL.FEM\": \"ягоды клубники\", \"GTPL.FEM\": \"ягод клубники\"},\n",
        "              {\"SG.MASC\": \"банан\", \"PL.MASC\": \"банана\", \"GTPL.MASC\": \"бананов\"},\n",
        "              {\"SG.FEM.NOM\": \"груша\", \"SG.FEM.ACC\": \"грушу\", \"PL.FEM\": \"груши\", \"GTPL.FEM\": \"груш\"},\n",
        "              {\"SG.MASC\": \"арбуз\", \"PL.MASC\": \"арбуза\", \"GTPL.MASC\": \"арбузов\"},\n",
        "              {\"SG.MASC\": \"апельсин\", \"PL.MASC\": \"апельсина\", \"GTPL.MASC\": \"апельсинов\"},\n",
        "              {\"SG.NEUT\": \"манго\", \"PL.NEUT\": \"манго\", \"GTPL.NEUT\": \"манго\"},\n",
        "              {\"SG.FEM.NOM\": \"вишня\", \"SG.FEM.ACC\": \"вишню\", \"PL.FEM\": \"вишни\", \"GTPL.FEM\": \"вишен\"}\n",
        "          ],\n",
        "    \"ar\": [\n",
        "              { # apple\n",
        "                  \"SG.FEM.NOM\": \"تفاحة\", \"SG.FEM.ACC\": \"تفاحة\",\n",
        "                  \"DU.FEM.NOM\": \"تفاحتان\", \"DU.FEM.ACC\": \"تفاحتين\",\n",
        "                  \"PAUC.FEM.NOM\": \"تفاحات\", \"PAUC.FEM.ACC\": \"تفاحات\",\n",
        "                  \"PL.FEM.NOM\": \"تفاحات\", \"PL.FEM.ACC\": \"تفاحات\"\n",
        "              }, { # banana\n",
        "                  \"SG.FEM.NOM\": \"موزة\", \"SG.FEM.ACC\": \"موزة\",\n",
        "                  \"DU.FEM.NOM\": \"موزتان\", \"DU.FEM.ACC\": \"موزتين\",\n",
        "                  \"PAUC.FEM.NOM\": \"موزات\", \"PAUC.FEM.ACC\": \"موزات\",\n",
        "                  \"PL.FEM.NOM\": \"موزات\", \"PL.FEM.ACC\": \"موزات\",\n",
        "              }, { # orange\n",
        "                  \"SG.FEM.NOM\": \"برتقالة\", \"SG.FEM.ACC\": \"برتقالة\",\n",
        "                  \"DU.FEM.NOM\": \"برتقالتان\", \"DU.FEM.ACC\": \"برتقالتين\",\n",
        "                  \"PAUC.FEM.NOM\": \"برتقالات\", \"PAUC.FEM.ACC\": \"برتقالات\",\n",
        "                  \"PL.FEM.NOM\": \"برتقالات\", \"PL.FEM.ACC\": \"برتقالات\"\n",
        "              }, { # pear\n",
        "                  \"SG.FEM.NOM\": \"كمثراة\", \"SG.FEM.ACC\": \"كمثراة\",\n",
        "                  \"DU.FEM.NOM\": \"كمثرتان\", \"DU.FEM.ACC\": \"كمثرتين\",\n",
        "                  \"PAUC.FEM.NOM\": \"كمثرات\", \"PAUC.FEM.ACC\": \"كمثرات\",\n",
        "                  \"PL.FEM.NOM\": \"كمثرات\", \"PL.FEM.ACC\": \"كمثرات\"\n",
        "              }, { # watermelon\n",
        "                  \"SG.FEM.NOM\": \"بطيخة\", \"SG.FEM.ACC\": \"بطيخة\",\n",
        "                  \"DU.FEM.NOM\": \"بطيختان\", \"DU.FEM.ACC\": \"بطيختين\",\n",
        "                  \"PAUC.FEM.NOM\": \"بطيخات\", \"PAUC.FEM.ACC\": \"بطيخات\",\n",
        "                  \"PL.FEM.NOM\": \"بطيخات\", \"PL.FEM.ACC\": \"بطيخات\"\n",
        "              }, { # dates\n",
        "                  \"SG.FEM.NOM\": \"تمرة\", \"SG.FEM.ACC\": \"تمرة\",\n",
        "                  \"DU.FEM.NOM\": \"تمرتان\", \"DU.FEM.ACC\": \"تمرتين\",\n",
        "                  \"PAUC.FEM.NOM\": \"تمرات\", \"PAUC.FEM.ACC\": \"تمرات\",\n",
        "                  \"PL.FEM.NOM\": \"تمرات\", \"PL.FEM.ACC\": \"تمرات\"\n",
        "              }, { # grape\n",
        "                  \"SG.FEM.NOM\": \"عنبة\", \"SG.FEM.ACC\": \"عنبة\",\n",
        "                  \"DU.FEM.NOM\": \"عنبتان\", \"DU.FEM.ACC\": \"\tعنبتين\",\n",
        "                  \"PAUC.FEM.NOM\": \"عنبات\", \"PAUC.FEM.ACC\": \"عنبات\",\n",
        "                  \"PL.FEM.NOM\": \"عنبات\", \"PL.FEM.ACC\": \"عنبات\"\n",
        "              }, { # cherry\n",
        "                  \"SG.FEM.NOM\": \"كرزة\", \"SG.FEM.ACC\": \"كرزة\",\n",
        "                  \"DU.FEM.NOM\": \"كرزتان\", \"DU.FEM.ACC\": \"كرزتين\",\n",
        "                  \"PAUC.FEM.NOM\": \"كرزات\", \"PAUC.FEM.ACC\": \"كرزات\",\n",
        "                  \"PL.FEM.NOM\": \"كرزات\", \"PL.FEM.ACC\": \"كرزات\"\n",
        "              }, { # strawberry\n",
        "                  \"SG.FEM.NOM\": \"فراولة\", \"SG.FEM.ACC\": \"فراولة\",\n",
        "                  \"DU.FEM.NOM\": \"فراولتان\", \"DU.FEM.ACC\": \"فراولتين\",\n",
        "                  \"PAUC.FEM.NOM\": \"فراولات\", \"PAUC.FEM.ACC\": \"فراولات\",\n",
        "                  \"PL.FEM.NOM\": \"فراولات\", \"PL.FEM.ACC\": \"فراولات\"\n",
        "              }\n",
        "          ],\n",
        "    \"fr\": [\n",
        "              {\"SG.MASC\": \"ananas\", \"PL.MASC\": \"ananas\"},\n",
        "          ] + [\n",
        "              {\"SG.FEM\": s, \"PL.FEM\": s + \"s\"}\n",
        "              for s in [\"pomme\", \"banane\", \"poire\", \"pastèque\", \"orange\", \"cerise\", \"fraise\", \"mangue\"]\n",
        "          ],\n",
        "    \"es\": [\n",
        "              {\"SG.FEM\": s, \"PL.FEM\": s + \"s\"}\n",
        "              for s in [\"manzana\", \"piña\", \"pera\", \"sandía\", \"naranja\", \"cereza\", \"fresa\"]\n",
        "          ] + [\n",
        "              {\"SG.MASC\": \"plátano\", \"PL.MASC\": \"plátanos\"},\n",
        "              {\"SG.MASC\": \"mango\", \"PL.MASC\": \"mangos\"}\n",
        "          ],\n",
        "    \"sw\": [\n",
        "              {\"SG.MWA\": \"tufaa\", \"PL.MWA\": \"matufaa\"},\n",
        "              {\"SG.NN\": \"ndizi\", \"PL.NN\": \"ndizi\"},\n",
        "              {\"SG.MWA\": \"embe\", \"PL.MWA\": \"maembe\"},\n",
        "              {\"SG.NN\": \"cheri\", \"PL.NN\": \"cheri\"},\n",
        "              {\"SG.MWA\": \"chungwa\", \"PL.MWA\": \"machungwa\"},\n",
        "              {\"SG.MWA\": \"nanasi\", \"PL.MWA\": \"mananasi\"},\n",
        "              {\"SG.NN\": \"stroberi\", \"PL.NN\": \"stroberi\"},\n",
        "              {\"SG.MWA\": \"tikitimaji\", \"PL.MWA\": \"matikitimaji\"},\n",
        "          ],\n",
        "    \"fi\": [\n",
        "              {\n",
        "                  \"SG.NOM\": \"appelsiini\", \"PL.NOM\": \"appelsiinit\",\n",
        "                  \"SG.PRT\": \"appelsiinia\", \"PL.PRT\": \"appelsiineja\",\n",
        "                  \"GEN\": \"appelsiinin\"\n",
        "              },{\n",
        "                  \"SG.NOM\": \"ananas\", \"PL.NOM\": \"ananakset\",\n",
        "                  \"SG.PRT\": \"ananasta\", \"PL.PRT\": \"ananaksia\",\n",
        "                  \"GEN\": \"ananaksen\"\n",
        "              },{\n",
        "                  \"SG.NOM\": \"omena\", \"PL.NOM\": \"omenat\",\n",
        "                  \"SG.PRT\": \"omenaa\", \"PL.PRT\": \"omenoita\",\n",
        "                   \"GEN\": \"omenan\"\n",
        "              },{\n",
        "                  \"SG.NOM\": \"vesimeloni\", \"PL.NOM\": \"vesimelonit\",\n",
        "                  \"SG.PRT\": \"vesimelonia\", \"PL.PRT\": \"vesimeloneja\",\n",
        "                  \"GEN\": \"vesimelonin\"\n",
        "              },{\n",
        "                  \"SG.NOM\": \"banaani\", \"PL.NOM\": \"banaanit\",\n",
        "                  \"SG.PRT\": \"banaania\", \"PL.PRT\": \"banaaneja\",\n",
        "                  \"GEN\": \"banaanin\"\n",
        "              },{\n",
        "                  \"SG.NOM\": \"kirsikka\", \"PL.NOM\": \"kirsikat\",\n",
        "                  \"SG.PRT\": \"kirsikkaa\", \"PL.PRT\": \"kirsikoita\",\n",
        "                  \"GEN\": \"kirsikan\"\n",
        "              },{\n",
        "                  \"SG.NOM\": \"päärynä\", \"PL.NOM\": \"päärynät\",\n",
        "                  \"SG.PRT\": \"päärynää\", \"PL.PRT\": \"päärynöitä\",\n",
        "                  \"GEN\": \"päärynän\"\n",
        "              },{\n",
        "                  \"SG.NOM\": \"mansikka\", \"PL.NOM\": \"mansikat\",\n",
        "                  \"SG.PRT\": \"mansikkaa\", \"PL.PRT\": \"mansikoita\",\n",
        "                  \"GEN\": \"mansikan\"\n",
        "              },{\n",
        "                  \"SG.NOM\": \"mango\", \"PL.NOM\": \"mangot\",\n",
        "                  \"SG.PRT\": \"mangoa\", \"PL.PRT\": \"mangoja\",\n",
        "                  \"GEN\": \"mangon\"\n",
        "              }\n",
        "          ],\n",
        "    \"it\": [\n",
        "              {\"SG.FEM.VOW\": \"arancia\", \"PL.FEM.VOW\": \"arance\"},\n",
        "              {\"FEM.VOW\": \"ananas\"},\n",
        "              {\"SG.FEM.VOW\": \"anguria\", \"PL.FEM.VOW\": \"angurie\"},\n",
        "              {\"SG.FEM.CONS\": \"banana\", \"PL.FEM.CONS\": \"banane\"},\n",
        "              {\"SG.FEM.CONS\": \"ciliegia\", \"PL.FEM.CONS\": \"ciliegie\"},\n",
        "              {\"SG.FEM.CONS\": \"fragola\", \"PL.FEM.CONS\": \"fragole\"},\n",
        "              {\"SG.FEM.CONS\": \"mela\", \"PL.FEM.CONS\": \"mele\"},\n",
        "              {\"SG.FEM.CONS\": \"pera\", \"PL.FEM.CONS\": \"pere\"},\n",
        "              {\"MASC.CONS\": \"mango\"}\n",
        "          ]\n",
        "}"
      ]
    },
    {
      "cell_type": "code",
      "execution_count": null,
      "metadata": {
        "id": "wQ4f4OXeTH-g"
      },
      "outputs": [],
      "source": [
        "import collections\n",
        "uniques = collections.defaultdict(set)\n",
        "\n",
        "for k, vals in FRUITS.items():\n",
        "  for d in vals:\n",
        "    if isinstance(d, dict):\n",
        "      for v in d.values():\n",
        "        uniques[k].add(v)\n",
        "    else:\n",
        "      uniques[k].add(d)\n",
        "for k, v in uniques.items():\n",
        "  print(f\"'{k}': {list(v)}\")"
      ]
    },
    {
      "cell_type": "code",
      "execution_count": null,
      "metadata": {
        "id": "z04Uuq3XMqs5"
      },
      "outputs": [],
      "source": [
        "OBJS = {\n",
        "    \"en\": [\n",
        "              {\"SG\": s, \"PL\": s + \"s\"} for s in [\n",
        "                  \"book\", \"pen\", \"mug\", \"computer\", \"paper\", \"phone\"\n",
        "              ]\n",
        "          ],\n",
        "    \"fi\": [\n",
        "              {\"SG\": \"kirja\", \"PL\": \"kirjat\"},\n",
        "              {\"SG\": \"kynä\", \"PL\": \"kynät\"},\n",
        "              {\"SG\": \"muki\", \"PL\": \"mukit\"},\n",
        "              {\"SG\": \"tietokone\", \"PL\": \"tietokoneet\"},\n",
        "              {\"SG\": \"paperi\", \"PL\": \"paperit\"},\n",
        "              {\"SG\": \"puhelin\", \"PL\": \"puhelimet\"},\n",
        "          ],\n",
        "    \"fr\": [\n",
        "              {\"SG.MASC.CONS\": s, \"PL.MASC.CONS\": s + \"s\"} for s in [\n",
        "                  \"livre\", \"stylo\", \"papier\", \"téléphone\"\n",
        "              ]\n",
        "          ] + [\n",
        "              {\"SG.FEM.CONS\": s, \"PL.FEM.CONS\": s + \"s\"} for s in [\n",
        "                  \"tasse\"\n",
        "              ]\n",
        "          ] + [\n",
        "              {\"SG.MASC.VOW\": \"ordinateur\", \"PL.MASC.VOW\": \"ordinateurs\"}\n",
        "          ],\n",
        "    \"sk\": [\n",
        "              {\"SG.NEUT\": \"pero\", \"PL.NEUT\": \"perá\"},\n",
        "              {\"SG.FEM\": \"kniha\", \"PL.FEM\": \"knihy\"},\n",
        "              {\"SG.MASC\": \"počítač\", \"PL.MASC\": \"počítače\"},\n",
        "              {\"SG.MASC\": \"papier\", \"PL.MASC\": \"papiere\"},\n",
        "              {\"SG.MASC\": \"telefón\", \"PL.MASC\": \"telefóny\"},\n",
        "              {\"SG.MASC\": \"hrnček\", \"PL.MASC\": \"hrnčeky\"},\n",
        "          ],\n",
        "    \"de\": [\n",
        "              {\"SG.MASC\": \"Stift\", \"PL.MASC\": \"Stifte\"},\n",
        "              {\"SG.NEUT\": \"Buch\", \"PL.NEUT\": \"Bücher\"},\n",
        "              {\"SG.MASC\": \"Rechner\", \"PL.MASC\": \"Rechner\"},\n",
        "              {\"SG.NEUT\": \"Papier\", \"PL.NEUT\": \"Papiere\"},\n",
        "              {\"SG.NEUT\": \"Telefon\", \"PL.NEUT\": \"Telefone\"},\n",
        "              {\"SG.FEM\": \"Tasse\", \"PL.FEM\": \"Tassen\"},\n",
        "          ],\n",
        "    \"it\": [\n",
        "              {\"SG.MASC\": \"libro\", \"PL.MASC\": \"libri\"},\n",
        "              {\"SG.FEM\": \"penna\", \"PL.FEM\": \"penne\"},\n",
        "              {\"SG.FEM\": \"tazza\", \"PL.FEM\": \"tazze\"},\n",
        "              {\"SG.MASC\": \"computer\", \"PL.MASC\": \"computer\"},\n",
        "              {\"SG.MASC\": \"foglio\", \"PL.MASC\": \"fogli\"},\n",
        "              {\"SG.MASC\": \"telefono\", \"PL.MASC\": \"telefoni\"}\n",
        "          ],\n",
        "    \"es\": [\n",
        "              {\"SG.MASC\": s, \"PL.MASC\": s + \"s\"}\n",
        "              for s in [\"libro\", \"bolígrafo\", \"teléfono\"]\n",
        "          ] + [\n",
        "              {\"SG.MASC\": \"ordenador\", \"PL.MASC\": \"ordenadores\"},\n",
        "              {\"SG.MASC\": \"papel\", \"PL.MASC\": \"papeles\"}\n",
        "          ]+ [\n",
        "              {\"SG.FEM\": s, \"PL.FEM\": s + \"s\"}\n",
        "              for s in [\"taza\"]\n",
        "          ],\n",
        "    \"ru\": [\n",
        "                  {\"SG.FEM.NOM\": \"книга\", \"SG.FEM.ACC\": \"книгу\", \"PL.FEM\": \"книги\"},\n",
        "                  {\"SG.FEM.NOM\": \"ручка\", \"SG.FEM.ACC\": \"ручку\", \"PL.FEM\": \"ручки\"},\n",
        "                  {\"SG.FEM.NOM\": \"кружка\", \"SG.FEM.ACC\": \"кружку\", \"PL.FEM\": \"кружки\"},\n",
        "                  {\"SG.MASC\": \"компьютер\", \"PL.MASC\": \"компьютеры\"},\n",
        "                  {\"SG.FEM.NOM\": \"бумага\", \"SG.FEM.ACC\": \"бумагу\", \"PL.FEM\": \"бумаги\"},\n",
        "                  {\"SG.MASC\": \"телефон\", \"PL.MASC\": \"телефоны\"},\n",
        "          ],\n",
        "    \"zh\": [\n",
        "                  # book, pen, mug, computer, paper, phone\n",
        "                  # shū, bǐ, bēizi, diànnǎo, zhǐ, diànhuà\n",
        "              {\"SG\": \"这本书\", \"PL\": \"书\"},\n",
        "              {\"SG\": \"这支笔\", \"PL\": \"笔\"},\n",
        "              {\"SG\": \"这个杯子\", \"PL\": \"杯子\"},\n",
        "              {\"SG\": \"这台电脑\", \"PL\": \"电脑\"},\n",
        "              {\"SG\": \"这张纸\", \"PL\": \"纸\"},\n",
        "              {\"SG\": \"这款手机\", \"PL\": \"手机\"},\n",
        "          ],\n",
        "    \"sv\": [\n",
        "              {\n",
        "                  \"SG.NO_ART\": \"bok\" , \"PL.NO_ART\": \"böcker\",\n",
        "                  \"SG.WITH_ART\": \"boken\" , \"PL.WITH_ART\": \"böckerna\"\n",
        "              },\n",
        "              {\n",
        "                  \"SG.NO_ART\": \"penna\" , \"PL.NO_ART\": \"pennor\",\n",
        "                  \"SG.WITH_ART\": \"pennan\" , \"PL.WITH_ART\": \"pennorna\"\n",
        "              },\n",
        "              {\n",
        "                  \"SG.NO_ART\": \"mugg\" , \"PL.NO_ART\": \"muggar\",\n",
        "                  \"SG.WITH_ART\": \"muggen\" , \"PL.WITH_ART\": \"muggarna\"\n",
        "              },\n",
        "              {\n",
        "                  \"SG.NO_ART\": \"dator\" , \"PL.NO_ART\": \"datorer\",\n",
        "                  \"SG.WITH_ART\": \"datorn\" , \"PL.WITH_ART\": \"datorerna\"\n",
        "              },\n",
        "              {\n",
        "                  \"SG.NO_ART\": \"papper\", \"PL.NO_ART\": \"papper\",\n",
        "                  \"SG.WITH_ART\": \"pappret\", \"PL.WITH_ART\": \"papprena\"\n",
        "              },\n",
        "              {\n",
        "                  \"SG.NO_ART\": \"telefon\" , \"PL.NO_ART\": \"telefoner\",\n",
        "                  \"SG.WITH_ART\": \"telefonen\" , \"PL.WITH_ART\": \"telefonerna\"\n",
        "              },\n",
        "          ],\n",
        "    \"sw\": [\n",
        "              {\"SG.KIVI\": \"kitabu\", \"PL.KIVI\": \"vitabu\"},\n",
        "              {\"SG.IZI\": \"kalamu\", \"PL.IZI\": \"kalamu\"},\n",
        "              {\"SG.KIVI\": \"kikombe\", \"PL.KIVI\": \"vikombe\"},\n",
        "              {\"SG.IZI\": \"kompyuta\", \"PL.IZI\": \"kompyuta\"},\n",
        "              {\"SG.IYA\": \"karatasi\", \"PL.IYA\": \"karatasi\"},\n",
        "              {\"SG.IZI\": \"simu\", \"PL.IZI\": \"simu\"}\n",
        "          ],\n",
        "     \"ar\": [\n",
        "               {\"SG\": \"الكتاب\", \"PL\": \"الكتب\"}, # book\n",
        "               {\"SG\": \"الكوب\", \"PL\": \"الكؤوس\"}, # cup\n",
        "               {\"SG\": \"الحاسوب\", \"PL\": \"الحواسيب\"}, # computer\n",
        "               {\"SG\": \"القلم\", \"PL\": \"القلم\"}, # pen\n",
        "               {\"SG\": \"الأوراق\", \"PL\": \"الورقة\"},  # paper\n",
        "               {\"SG\": \"الهواتف\", \"PL\": \"هواتف\"}, # phone\n",
        "          ],\n",
        "}\n",
        "\n",
        "PREPS = {\n",
        "    \"en\": [\n",
        "              \"under\", \"on\", \"next to\", \"in front of\", \"behind\"\n",
        "          ],\n",
        "    \"fi\": [\n",
        "              \"alla\", \"päällä\", \"vieressä\", \"edessä\", \"takana\"\n",
        "          ],\n",
        "    \"fr\": [\n",
        "              {\"PASDE\": \"sur\"}, {\"PASDE\": \"sous\"}, {\"DE\": \"à côté\"},\n",
        "              {\"PASDE\": \"devant\"}, {\"PASDE\": \"derrière\"}\n",
        "          ],\n",
        "    \"sk\": [\n",
        "              {\"LOK\": \"na\"}, {\"INS\": \"pod\"},\n",
        "              {\"GEN\": \"vedľa\"}, {\"INS\": \"pred\"}, {\"INS\": \"za\"}\n",
        "          ],\n",
        "    \"es\": [\n",
        "            {\"MASC\": \"sobre el\", \"FEM\": \"sobre la\"},\n",
        "            {\"MASC\": \"debajo del\", \"FEM\": \"debajo de la\"},\n",
        "            {\"MASC\": \"al lado del\", \"FEM\": \"al lado de la\"},\n",
        "            {\"MASC\": \"en frente del\", \"FEM\": \"en frente de la\"},\n",
        "            {\"MASC\": \"detrás del\", \"FEM\": \"detrás de la\"},\n",
        "          ],\n",
        "    \"de\": [\n",
        "            \"auf\", \"unter\", \"neben\", \"vor\", \"hinter\"\n",
        "          ],\n",
        "    \"it\": [\n",
        "              {\n",
        "                \"VOW.MASC\": \"sotto l'\", \"VOW.FEM\": \"sotto l'\",\n",
        "                \"MASC.CONS\": \"sotto il\", \"FEM\": \"sotto la\",\n",
        "                \"MASC.CONS2\": \"sotto lo\",\n",
        "              },\n",
        "              {\n",
        "                \"MASC.VOW\": \"sull'\", \"FEM.VOW\": \"sull'\",\n",
        "                \"MASC.CONS\": \"sul\", \"FEM\": \"sulla\",\n",
        "                \"MASC.CONS2\": \"sullo\",\n",
        "              },\n",
        "              {\n",
        "                \"MASC.VOW\": \"accanto all'\", \"FEM.VOW\": \"accanto all'\",\n",
        "                \"MASC.CONS\": \"accanto al\", \"FEM\": \"accanto alla\",\n",
        "                \"MASC.CONS2\": \"accanto allo\",\n",
        "              },\n",
        "              {\n",
        "                \"MASC.VOW\": \"davanti all'\", \"FEM.VOW\": \"davanti all'\",\n",
        "                \"MASC.CONS\": \"davanti al\", \"FEM\": \"davanti alla\",\n",
        "                \"MASC.CONS2\": \"davanti allo\",\n",
        "              },\n",
        "              {\n",
        "                \"VOW.MASC\": \"dietro l'\", \"VOW.FEM\": \"dietro l'\",\n",
        "                \"MASC.CONS\": \"dietro il\", \"FEM\": \"dietro la\",\n",
        "                \"MASC.CONS2\": \"dietro lo\",\n",
        "              },\n",
        "          ],\n",
        "    \"ru\": [\n",
        "              {\"INS\":\"под\"}, {\"PREP\": \"на\"}, {\"INS.NO_CONS2\": \"рядом с\", \"INS.CONS2\": \"рядом со\"}, {\"INS\": \"перед\"}, {\"INS\": \"за\"}\n",
        "          ],\n",
        "    \"zh\": [\n",
        "              # under, on, next to, in front of, behind\n",
        "              # xiàmiàn, shàngmiàn, pángbiān, qiánmiàn, hòumiàn\n",
        "              \"下面\", \"上面\", \"旁边\", \"前面\", \"后面\"\n",
        "          ],\n",
        "    \"sv\": [\"under\", \"på\", \"bredvid\", \"framför\", \"bakom\"],\n",
        "    \"sw\": [\"chini ya\", \"juu ya\", \"karibu na\", \"mbele ya\", \"nyuma ya\"],\n",
        "    \"ar\": [\n",
        "              \"تحت\", \"على\", \"بجانب\", \"أمام\", \"خلف\"\n",
        "          ],\n",
        "}\n",
        "\n",
        "PLACES = {\n",
        "    \"en\": [\n",
        "            \"table\", \"sofa\", \"window\", \"chair\", \"shelf\"\n",
        "          ],\n",
        "    \"fi\": [\n",
        "            {\"NOM\": \"pöytä\", \"GEN\": \"pöydän\"},\n",
        "            {\"NOM\": \"sohva\", \"GEN\": \"sohvan\"},\n",
        "            {\"NOM\": \"ikkuna\", \"GEN\": \"ikkunan\"},\n",
        "            {\"NOM\": \"tuoli\", \"GEN\": \"tuolin\"},\n",
        "            {\"NOM\": \"hylly\", \"GEN\": \"hyllyn\"},\n",
        "          ],\n",
        "    \"fr\": [\n",
        "              {\"FEM.CONS\": s} for s in\n",
        "              [\"table\", \"fenêtre\", \"chaise\"]\n",
        "          ] + [\n",
        "              {\"MASC.CONS\": \"canapé\"}\n",
        "          ] + [\n",
        "              {\"FEM.VOW\": \"étagère\"}\n",
        "          ],\n",
        "    \"sk\": [\n",
        "              {\"MASC.NOM\": \"stôl\", \"MASC.LOK\": \"stole\", \"MASC.GEN\": \"stola\", \"MASC.INS\": \"stolom\"},\n",
        "              {\"FEM.NOM\": \"pohovka\", \"FEM.LOK\": \"pohovke\", \"FEM.GEN\": \"pohovky\", \"FEM.INS\": \"pohovkou\"},\n",
        "              {\"NEUT.NOM\": \"okno\", \"NEUT.LOK\": \"okne\", \"NEUT.GEN\": \"okna\", \"NEUT.INS\": \"oknom\"},\n",
        "              {\"FEM.NOM\": \"stolička\", \"FEM.LOK\": \"stoličke\", \"FEM.GEN\": \"stoličky\", \"FEM.INS\": \"stoličkou\"},\n",
        "              {\"FEM.NOM\": \"polička\", \"FEM.LOK\": \"poličke\", \"FEM.GEN\": \"poličky\", \"FEM.INS\": \"poličkou\"},\n",
        "          ],\n",
        "    \"es\": [\n",
        "              {\"FEM\": \"mesa\"},\n",
        "              {\"MASC\": \"sofá\"},\n",
        "              {\"FEM\": \"ventana\"},\n",
        "              {\"FEM\": \"silla\"},\n",
        "              {\"MASC\": \"estante\"}\n",
        "          ],\n",
        "    \"it\": [\n",
        "              {\"MASC.CONS\": \"tavolo\"},\n",
        "              {\"MASC.CONS\": \"divano\"},\n",
        "              {\"FEM.CONS\": \"finestra\"},\n",
        "              {\"FEM.CONS\": \"sedia\"},\n",
        "              {\"MASC.CONS2\": \"scaffale\"}\n",
        "          ],\n",
        "    \"de\": [\n",
        "            {\"MASC\": \"Tisch\"},\n",
        "            {\"NEUT\": \"Sofa\"},\n",
        "            {\"NEUT\": \"Fenster\"},\n",
        "            {\"MASC\": \"Stuhl\"},\n",
        "            {\"NEUT\": \"Regal\"}\n",
        "          ],\n",
        "    \"ru\": [\n",
        "              {\"MASC.NOM.CONS2\": \"стол\", \"MASC.INS.CONS2\": \"столом\", \"MASC.PREP.CONS2\": \"столе\"},\n",
        "              {\"MASC.NOM.NO_CONS2\": \"диван\", \"MASC.INS.NO_CONS2\": \"диваном\", \"MASC.PREP.NO_CONS2\": \"диване\"},\n",
        "              {\"NEUT.NOM.NO_CONS2\": \"окно\", \"NEUT.INS.NO_CONS2\": \"окном\", \"NEUT.PREP.NO_CONS2\": \"окне\",},\n",
        "              {\"MASC.NOM.CONS2\": \"стул\", \"MASC.INS.CONS2\": \"стулом\", \"MASC.PREP.CONS2\": \"стуле\"},\n",
        "              {\"FEM.NOM.NO_CONS2\": \"полка\", \"FEM.INS.NO_CONS2\": \"полкой\", \"FEM.PREP.NO_CONS2\": \"полке\"},\n",
        "          ],\n",
        "    \"zh\": [\n",
        "              # table, sofa, window, chair, shelf\n",
        "              # zhuōzi, shāfā, chuānghù, yǐzi, jiàzi\n",
        "              \"桌子\", \"沙发\", \"窗户\", \"椅子\", \"架子\"\n",
        "          ],\n",
        "    \"sv\": [\n",
        "              {\"NEUT\": \"bordet\"},\n",
        "              {\"COMMON\": \"soffan\"},\n",
        "              {\"NEUT\": \"fönstret\"},\n",
        "              {\"COMMON\": \"stolen\"},\n",
        "              {\"COMMON\": \"hyllan\"}\n",
        "          ],\n",
        "    \"sw\": [\"meza\", \"sofa\", \"dirisha\", \"kiti\", \"rafu\"],\n",
        "    \"ar\": [\n",
        "              {\"FEM.NOM\": \"الطاولة\"}, # table\n",
        "              {\"FEM.NOM\": \"الأريكة\"}, # sofa\n",
        "              {\"MASC.NOM\": \"الشباك\"}, # window\n",
        "              {\"MASC.NOM\": \"الكرسي\"}, # chair\n",
        "              {\"MASC.NOM\": \"الرفوف\"}, # shelf\n",
        "          ],\n",
        "}"
      ]
    },
    {
      "cell_type": "markdown",
      "metadata": {
        "id": "3qOVnCJRyh_B"
      },
      "source": [
        "##### Numbers encoded"
      ]
    },
    {
      "cell_type": "code",
      "execution_count": null,
      "metadata": {
        "id": "P2Yi0IC_yRyP"
      },
      "outputs": [],
      "source": [
        "# NUMBERS\n",
        "STR2NB, NB2STR = {}, {}\n",
        "\n",
        "# EN\n",
        "l = \"en\"\n",
        "STR2NB[l] = dict(zip(\n",
        "    [\"zero\", \"one\", \"two\", \"three\",\n",
        "    \"four\", \"five\",\"six\", \"seven\", \"eight\", \"nine\",\n",
        "    \"ten\", \"eleven\",  \"twelve\", \"thirteen\", \"fourteen\", \"fifteen\",\n",
        "    \"sixteen\", \"seventeen\", \"eighteen\", \"nineteen\", \"twenty\"],\n",
        "    map(str,range(21))\n",
        "    ))\n",
        "NB2STR[l] = {v:k for k,v in STR2NB[l].items()}\n",
        "\n",
        "# SK\n",
        "l = \"sk\"\n",
        "STR2NB[l] = dict(zip(\n",
        "    [\"nula\", \"jeden\", \"dva\", \"tri\", \"štyri\", \"päť\", \"šesť\", \"sedem\",\n",
        "     \"osem\", \"deväť\", \"desať\", \"jedenásť\", \"dvanásť\", \"trinásť\", \"štrnásť\",\n",
        "     \"pätnásť\", \"šestnásť\", \"sedemnásť\", \"osemnásť\", \"devätnásť\", \"dvadsať\"],\n",
        "    map(str,range(21))\n",
        "    ))\n",
        "NB2STR[l] = {v:k for k,v in STR2NB[l].items()}\n",
        "STR2NB[l]['jedno'] = '1'\n",
        "STR2NB[l]['jednu'] = '1'\n",
        "STR2NB[l]['dve'] = '2'\n",
        "\n",
        "# RU\n",
        "l = \"ru\"\n",
        "STR2NB[l] = dict(zip(\n",
        "    [\"ноль\", \"один\", \"два\", \"три\", \"четыре\", \"пять\",\n",
        "      \"шесть\", \"семь\", \"восемь\", \"девять\", \"десять\"\n",
        "      \"одиннадцать\", \"двенадцать\", \"тринадцать\", \"четырнадцать\", \"пятнадцать\", \"шестнадцать\",\n",
        "      \"семнадцать\", \"восемнадцать\", \"девятнадцать\", \"двадцать\"],\n",
        "    map(str,range(21))\n",
        "    ))\n",
        "NB2STR[l] = {v:k for k,v in STR2NB[l].items()}\n",
        "STR2NB[l]['одно'] = '1'\n",
        "STR2NB[l]['одну'] = '1'\n",
        "STR2NB[l]['две'] = '2'\n",
        "\n",
        "# DE\n",
        "l = \"de\"\n",
        "STR2NB[l] = dict(zip(\n",
        "    [\"kein\", \"ein\", \"zwei\", \"drei\", \"vier\", \"fünf\", \"sechs\", \"sieben\",\n",
        "     \"acht\", \"neun\", \"zehn\", \"elf\", \"zwölf\", \"dreizehn\", \"vierzehn\",\n",
        "     \"fünfzehn\", \"sechzehn\", \"siebzehn\", \"achtzehn\", \"neunzehn\", \"zwanzig\"],\n",
        "    map(str,range(21))\n",
        "    ))\n",
        "NB2STR[l] = {v:k for k,v in STR2NB[l].items()}\n",
        "STR2NB[l][\"eine\"] = \"1\"\n",
        "STR2NB[l][\"keine\"] = \"0\"\n",
        "STR2NB[l][\"null\"] = \"0\"\n",
        "\n",
        "# FR\n",
        "l = 'fr'\n",
        "STR2NB[l] = dict(zip(\n",
        "      [\"zéro\", \"un\", \"deux\", \"trois\", \"quatre\", \"cinq\", \"six\",\n",
        "      \"sept\", \"huit\",\"neuf\",\"dix\", \"onze\", \"douze\",\"treize\", \"quatorze\",\n",
        "      \"quinze\", \"seize\", \"dix-sept\", \"dix-huit\", \"dix-neuf\", \"vingt\"],\n",
        "      map(str,range(21))\n",
        "    ))\n",
        "NB2STR[l] = {v:k for k,v in STR2NB[l].items()}\n",
        "STR2NB[l]['une'] = '1'\n",
        "\n",
        "# ES\n",
        "l = 'es'\n",
        "STR2NB[l] = dict(zip(\n",
        "    [\"cero\", \"uno\", \"dos\", \"tres\",\n",
        "    \"cuatro\", \"cinco\", \"seis\",\n",
        "    \"siete\", \"ocho\", \"nueve\",\n",
        "    \"diez\", \"once\", \"doce\",\n",
        "    \"trece\", \"catorce\", \"quince\",\n",
        "    \"dieciséis\", \"diecisiete\", \"dieciocho\",\n",
        "    \"diecinueve\", \"veinte\"],\n",
        "      map(str,range(21))\n",
        "    ))\n",
        "NB2STR[l] = {v:k for k,v in STR2NB[l].items()}\n",
        "STR2NB[l]['una'] = '1'\n",
        "\n",
        "# ZH\n",
        "l = 'zh'\n",
        "STR2NB[l] = dict(zip(\n",
        "      [\"零\",\"一\",\"两\",\"三\",\n",
        "      \"四\",\"五\",\"六\",\n",
        "      \"七\",\"八\",\"九\",\n",
        "      \"十\",\"十一\",\"十二\",\n",
        "      \"十三\",\"十四\",\"十无\",\n",
        "      \"十六\",\"十七\",\"十八\",\n",
        "      \"十九\",\"二十\"],\n",
        "      map(str,range(21))\n",
        "    ))\n",
        "NB2STR[l] = {v:k for k,v in STR2NB[l].items()}\n",
        "\n",
        "# FI\n",
        "l = 'fi'\n",
        "STR2NB[l] = dict(zip(\n",
        "      [\"nolla\", \"yksi\", \"kaksi\", \"kolme\",\n",
        "      \"neljä\", \"viisi\", \"kuusi\",\n",
        "      \"seitsemän\", \"kahdeksan\", \"yhdeksän\",\n",
        "      \"kymmenen\", \"yksitoista\", \"kaksitoista\",\n",
        "      \"kolmetoista\", \"neljätoista\", \"viisitoista\",\n",
        "      \"kuusitoista\", \"seitsemäntoista\", \"kahdeksantoista\",\n",
        "      \"yhdeksäntoista\", \"kaksikymmentä\"],\n",
        "      map(str,range(21))\n",
        "    ))\n",
        "NB2STR[l] = {v:k for k,v in STR2NB[l].items()}\n",
        "\n",
        "# IT\n",
        "l = 'it'\n",
        "STR2NB[l] = dict(zip(\n",
        "      [\"zero\", \"uno\", \"due\", \"tre\",\n",
        "      \"quattro\", \"cinque\", \"sei\",\n",
        "      \"sette\", \"otto\", \"nove\",\n",
        "      \"dieci\", \"undici\", \"dodici\",\n",
        "      \"tredici\", \"quattordici\", \"quindici\",\n",
        "      \"sedici\", \"diciassette\", \"diciotto\",\n",
        "      \"diciannove\", \"venti\"],\n",
        "      map(str,range(21))\n",
        "    ))\n",
        "NB2STR[l] = {v:k for k,v in STR2NB[l].items()}\n",
        "STR2NB[l]['una'] = '1'\n",
        "STR2NB[l][\"una'\"] = '1'\n",
        "\n",
        "# SV\n",
        "l = 'sv'\n",
        "STR2NB[l] = dict(zip(\n",
        "      [\"noll\", \"ett\", \"två\", \"tre\",\n",
        "      \"fyra\", \"fem\", \"sex\",\n",
        "      \"sju\", \"åtta\", \"nio\",\n",
        "      \"tio\", \"elva\", \"tolv\",\n",
        "      \"tretton\", \"fjorton\", \"femton\",\n",
        "      \"sexton\", \"sjutton\", \"arton\",\n",
        "      \"nitton\", \"tjugo\"],\n",
        "      map(str,range(21))\n",
        "    ))\n",
        "NB2STR[l] = {v:k for k,v in STR2NB[l].items()}\n",
        "STR2NB[l]['en'] = '1'\n",
        "\n",
        "len(STR2NB), len(NB2STR)\n",
        "\n",
        "\n",
        "# AR\n",
        "# [\"واحد\", \"إثنان\", \"ثلاثة\", \"أربع\", \"خمسة\", \"ستة\",\n",
        "#  \"سبعة\", \"ثمانية\", \"تسعة\", \"عشرة\", \"أحد عشر\",\n",
        "#  \"اثنا عشر\", \"ثلاثة عشر\", \"اربعة عشر\", \"خمسة عشر\",\n",
        "#  \"ستة عشر\", \"سبعة عشر\", \"ثمانية عشر\", \"تسعة عشر\",\n",
        "#  \"عشرون\"]\n",
        "\n",
        "l = 'ar'\n",
        "numbers = [\n",
        "    {\"SG.MASC.AFT\": \"واحد \" , \"SG.FEM.AFT\": \"واحدة \", \"BEF\": \"\"},\n",
        "    {\"DU\": \"\"},\n",
        "    {\"PL.MASC.BEF\": \" ثلاث\", \"PL.FEM.BEF\": \" ثلاثة\", \"AFT\": \"\"},\n",
        "    {\"PL.MASC.BEF\": \" أربعة\", \"PL.FEM.BEF\": \" أربع\", \"AFT\": \"\"},\n",
        "    {\"PL.MASC.BEF\": \" خمسة\", \"PL.FEM.BEF\": \" خمس\", \"AFT\": \"\"},\n",
        "    {\"PL.MASC.BEF\": \" ستة\", \"PL.FEM.BEF\": \" ست\", \"AFT\": \"\"},\n",
        "    {\"PL.MASC.BEF\": \" سبعة\", \"PL.FEM.BEF\": \" سبع\", \"AFT\": \"\"},\n",
        "    {\"PL.MASC.BEF\": \" ثمانية\", \"PL.FEM.BEF\": \" ثماني\", \"AFT\": \"\"},\n",
        "    {\"PL.MASC.BEF\": \" تسعة\", \"PL.FEM.BEF\": \" تسع\", \"AFT\": \"\"},\n",
        "    {\"PL.MASC.BEF\": \" عشرة\", \"PL.FEM.BEF\": \" عشر\", \"AFT\": \"\"},\n",
        "]\n",
        "STR2NB[l], NB2STR[l] = {}, {}\n",
        "for nb, val in zip(map(str, range(1,11)), numbers):\n",
        "  # واحد -\u003e 1 , واحدة -\u003e 1 ...\n",
        "  for k, v in val.items():\n",
        "    STR2NB[l][v] = nb\n",
        "\n",
        "for nb, s in zip(\n",
        "    map(str, range(11,21)),\n",
        "    [\"أحد عشر\",\n",
        "     \"اثني عشر\",\n",
        "     \"ثلاثة عشر\",\n",
        "     \"أربعة عشر\",\n",
        "     \"خمسة عشر\",\n",
        "     \"ستة عشر\",\n",
        "     \"سبعة عشر\",\n",
        "     \"ثمانية عشر\",\n",
        "     \"تسعة عشر\",\n",
        "     \"عشرين\"]\n",
        "  ):\n",
        "  STR2NB[l][s] = nb"
      ]
    },
    {
      "cell_type": "markdown",
      "metadata": {
        "id": "NBC5pmlgysi5"
      },
      "source": [
        "##### Output numbers"
      ]
    },
    {
      "cell_type": "code",
      "execution_count": null,
      "metadata": {
        "id": "7cdoodQRy4al"
      },
      "outputs": [],
      "source": [
        "for k, vals in STR2NB.items():\n",
        "  print(f\"'{k}': {vals},\")\n"
      ]
    },
    {
      "cell_type": "markdown",
      "metadata": {
        "id": "oSp9wQkCU--z"
      },
      "source": [
        "### Negation\n",
        "\n"
      ]
    },
    {
      "cell_type": "markdown",
      "metadata": {
        "id": "-jUV1Ynk7MUo"
      },
      "source": [
        "#### Negation—Negation in Context"
      ]
    },
    {
      "cell_type": "markdown",
      "metadata": {
        "id": "uTQ-13P864UL"
      },
      "source": [
        "##### English"
      ]
    },
    {
      "cell_type": "code",
      "execution_count": null,
      "metadata": {
        "id": "Mz2HaddvTzqm"
      },
      "outputs": [],
      "source": [
        "# C: X is not a writer, but Y is. Q: Who is a writer? A: Y.\n",
        "\n",
        "t = EN.template(\n",
        "    \"C: {name1} {is:name1.SG|are:name1.PL} not \" +\n",
        "    \"{ART1.INDF.\u003cjob.STARTSWITH\u003e.\u003cname1.NUMBER\u003e} {job.\u003cname1.NUMBER.GENDER\u003e}, but \" +\n",
        "    \"{name2} {is:name2.SG|are:name2.PL}. Q: Who {is:name2.SG|are:name2.PL} \" +\n",
        "    \"{ART2.INDF.\u003cjob.STARTSWITH\u003e.\u003cname2.NUMBER\u003e} {job.\u003cname2.NUMBER\u003e.MASC}? A: {name2}.\",\n",
        "    name=NAMES['en'], job=JOBS['en'],\n",
        "    verbose=False, same_keys_cfg=SAME_KEYS_CFGS[TEMPS[0]], template_name=TEMPS[0]\n",
        ")\n",
        "\n",
        "t(3000)"
      ]
    },
    {
      "cell_type": "markdown",
      "metadata": {
        "id": "BOzQ71T6U-Dy"
      },
      "source": [
        "##### French"
      ]
    },
    {
      "cell_type": "code",
      "execution_count": null,
      "metadata": {
        "id": "-9c2OLymUYSo"
      },
      "outputs": [],
      "source": [
        "# C: X n'est pas un écrivain, mais Y l'est. Q: Qui est un écrivain? A: Y.\n",
        "\n",
        "t = FR.template(\n",
        "    \"C: {name1} {NEGATION.\u003cexp_0.STARTSWITH\u003e} {est:name1.SG|sont:name1.PL} pas \" +\n",
        "    \"{ART1.INDF.\u003cname1.GENDER\u003e.\u003cname1.NUMBER\u003e} {job.\u003cname1.NUMBER.GENDER\u003e}, mais \" +\n",
        "    \"{name2} {PRO_COMPL.DIRECT.\u003cexp_1.STARTSWITH\u003e} {est:name2.SG|sont:name2.PL}. \" +\n",
        "    \"Q: Qui {est:name2.SG|sont:name2.PL} {ART2.INDF.\u003cname2.NUMBER\u003e.MASC} {job.\u003cname2.NUMBER\u003e.MASC}? A: {name2}.\",\n",
        "    name=NAMES['fr'], job=JOBS['fr'],\n",
        "    verbose=False, same_keys_cfg=SAME_KEYS_CFGS[TEMPS[0]], template_name=TEMPS[0]\n",
        ")\n",
        "\n",
        "t(3000)"
      ]
    },
    {
      "cell_type": "markdown",
      "metadata": {
        "id": "1YSb0a0tbiBY"
      },
      "source": [
        "##### Slovak"
      ]
    },
    {
      "cell_type": "code",
      "execution_count": null,
      "metadata": {
        "id": "NyUORvn6bgfE"
      },
      "outputs": [],
      "source": [
        "# C: X nie je spisovateľ a Y je. Q: Kto je spisovateľ? A: Y.\n",
        "\n",
        "t = SK.template(\n",
        "    \"C: {name1} nie {je:name1.SG|sú:name1.PL} \" +\n",
        "    \"{job.\u003cname1.NUMBER.GENDER\u003e}, ale {name2} {je:name2.SG|sú:name2.PL}. \" +\n",
        "    \"Q: Kto {je:name2.SG|sú:name2.PL} {job.\u003cname2.NUMBER\u003e.MASC}? A: {name2}.\",\n",
        "    name=NAMES['sk'], job=JOBS['sk'], verbose=False,\n",
        "    same_keys_cfg=SAME_KEYS_CFGS[TEMPS[0]], template_name=TEMPS[0]\n",
        ")\n",
        "\n",
        "t(3000)"
      ]
    },
    {
      "cell_type": "markdown",
      "metadata": {
        "id": "o3HX41HNinfT"
      },
      "source": [
        "##### German"
      ]
    },
    {
      "cell_type": "code",
      "execution_count": null,
      "metadata": {
        "id": "hqFCfRISinSD"
      },
      "outputs": [],
      "source": [
        "# C: X ist kein Schriftsteller und Y ist. Q: Wer ist ein Schriftsteller? A: Y.\n",
        "\n",
        "t = DE.template(\n",
        "    \"C: {name1} {ist:name1.SG|sind:name1.PL} {kein:name1.SG.MASC|keine:name1.SG.FEM|keine:name1.PL} \" +\n",
        "    \"{job.\u003cname1.NUMBER.GENDER\u003e}, aber {name2} {ist:name2.SG|sind:name2.PL} es. \" +\n",
        "    \"Q: Wer {ist:name2.SG|sind:name2.PL} {job.\u003cname2.NUMBER\u003e.MASC}? A: {name2}.\",\n",
        "    name=NAMES['de'], job=JOBS['de'], verbose=False,\n",
        "    same_keys_cfg=SAME_KEYS_CFGS[TEMPS[0]], template_name=TEMPS[0]\n",
        ")\n",
        "\n",
        "t(3000)"
      ]
    },
    {
      "cell_type": "markdown",
      "metadata": {
        "id": "TJ2fi2FXoRV2"
      },
      "source": [
        "##### Russian\n"
      ]
    },
    {
      "cell_type": "code",
      "execution_count": null,
      "metadata": {
        "id": "4qagsuRwoRqZ"
      },
      "outputs": [],
      "source": [
        "# C: X не писатель, а Y да. Q: Кто писатель? A: Y.\n",
        "\n",
        "t = RU.template(\n",
        "    \"C: {name1} не {job.\u003cname1.NUMBER.GENDER\u003e}, а {name2} да. \" +\n",
        "    \"Q: Кто {job.\u003cname2.NUMBER\u003e.MASC}? A: {name2}.\",\n",
        "    name=NAMES['ru'], job=JOBS['ru'], verbose=False,\n",
        "    same_keys_cfg=SAME_KEYS_CFGS[TEMPS[0]], template_name=TEMPS[0]\n",
        ")\n",
        "\n",
        "t(3000)"
      ]
    },
    {
      "cell_type": "markdown",
      "metadata": {
        "id": "K1pDXvm2sRn9"
      },
      "source": [
        "##### Spanish"
      ]
    },
    {
      "cell_type": "code",
      "execution_count": null,
      "metadata": {
        "id": "agCuKO-vsR9X"
      },
      "outputs": [],
      "source": [
        "# C: X no es un escritor, pero Y lo es. Q: ¿Quién es un escritor A: Y.\n",
        "\n",
        "t = ES.template(\n",
        "    \"C: {name1} no {es:name1.SG|son:name1.PL} \" +\n",
        "    \"{ART1.INDF.\u003cname1.NUMBER.GENDER\u003e} {job.\u003cname1.NUMBER.GENDER\u003e}, pero \" +\n",
        "    \"{name2} sí. Q: ¿{Quién es:name2.SG|Quiénes son:name2.PL} \" +\n",
        "    \"{ART2.INDF.\u003cname2.NUMBER\u003e.MASC} {job.\u003cname2.NUMBER\u003e.MASC}? A: {name2}.\",\n",
        "    name=NAMES['es'], job=JOBS['es'], verbose=False,\n",
        "    same_keys_cfg=SAME_KEYS_CFGS[TEMPS[0]], template_name=TEMPS[0]\n",
        ")\n",
        "\n",
        "t(3000)"
      ]
    },
    {
      "cell_type": "markdown",
      "metadata": {
        "id": "8vJ2MTy45P3z"
      },
      "source": [
        "##### Mandarin"
      ]
    },
    {
      "cell_type": "code",
      "execution_count": null,
      "metadata": {
        "id": "Xim2AteX5QZg"
      },
      "outputs": [],
      "source": [
        "names = [list(e.values())[0] for e in NAMES['zh']]\n",
        "\n",
        "# C: X不是作家，但Y是. Q: 谁是作家？A: Y.\n",
        "\n",
        "t = ZH.template(\n",
        "    \"C: {name1}不是{job}，但{name2}是。 \" +\n",
        "    \"Q: 谁是{job}？ A: {name2}。\",\n",
        "    name=names, job=JOBS['zh'], verbose=False,\n",
        "    same_keys_cfg=SAME_KEYS_CFGS[TEMPS[0]], template_name=TEMPS[0]\n",
        ")\n",
        "\n",
        "t(3000)"
      ]
    },
    {
      "cell_type": "markdown",
      "metadata": {
        "id": "AE8xQMYNFckl"
      },
      "source": [
        "##### Swahili"
      ]
    },
    {
      "cell_type": "code",
      "execution_count": null,
      "metadata": {
        "id": "-iXE3OOZFc7y"
      },
      "outputs": [],
      "source": [
        "# C: X si mwandishi, lakini Y ni. Q: Mwandishi ni nani? A: Y.\n",
        "\n",
        "t = SW.template(\n",
        "    \"C: {name1} si {job.\u003cname1.NUMBER\u003e}, lakini {name2} ni {job.\u003cname2.NUMBER\u003e}. \" +\n",
        "    \"Q: {job.\u003cname2.NUMBER\u003e.TO_CAPITALIZE} ni nani? A: {name2}.\",\n",
        "    name=NAMES['sw'], job=JOBS['sw'], verbose=False,\n",
        "    same_keys_cfg=SAME_KEYS_CFGS[TEMPS[0]], template_name=TEMPS[0]\n",
        ")\n",
        "\n",
        "t(3000)"
      ]
    },
    {
      "cell_type": "markdown",
      "metadata": {
        "id": "5SZXQuqbQSUs"
      },
      "source": [
        "##### Arabic"
      ]
    },
    {
      "cell_type": "code",
      "execution_count": null,
      "metadata": {
        "id": "hHDz3u4cQPzo"
      },
      "outputs": [],
      "source": [
        "# Ahmed is not a teacher, but Layla is.\n",
        "# .أ ليس مدرسًا ، لكن ل كذلك :C من هو المعلم؟ :Q .ل :A\n",
        "\n",
        "t = AR.template(\n",
        "    \".\\u200e{name2} \\u200e:A \" +\n",
        "    \"\\u200e؟\\u200e{job.SG.NOM.MASC} \\u200eهو \\u200eمن  \\u200e:Q \" +\n",
        "    \".\\u200e{job.\u003cname2.NUMBER.GENDER\u003e} \\u200e{name2} \\u200eولكن ،\\u200e{job.ACC.\u003cname1.NUMBER.GENDER\u003e} \" +\n",
        "    \"\\u200e{ليس:name1.SG.MASC|ليست:name1.SG.FEM|ليسا:name1.DU.MASC|ليستا:name1.DU.FEM} \\u200e{name1} \\u200e:C \",\n",
        "    name=NAMES['ar'], job=JOBS['ar'], verbose=False,\n",
        "    same_keys_cfg=SAME_KEYS_CFGS[TEMPS[0]], template_name=TEMPS[0]\n",
        ")\n",
        "\n",
        "t(3000)"
      ]
    },
    {
      "cell_type": "markdown",
      "metadata": {
        "id": "I_ktkbYthi1S"
      },
      "source": [
        "##### Finnish"
      ]
    },
    {
      "cell_type": "code",
      "execution_count": null,
      "metadata": {
        "id": "p8RRRxJVhjHZ"
      },
      "outputs": [],
      "source": [
        "# C: X ei ole opettaja, mutta Y on. Q: Ketkä ovat opettajat? A: Y.\n",
        "\n",
        "names = [\n",
        "    {list(e.keys())[0].split(\".\")[0]: list(e.values())[0]}\n",
        "    for e in NAMES['fi']\n",
        "]\n",
        "\n",
        "t = FI.template(\n",
        "    \"C: {name1} {ei:name1.SG|eivät:name1.PL} ole \" +\n",
        "    \"{job.\u003cNOM:name1.SG|PRT:name1.PL\u003e.\u003cname1.NUMBER\u003e} mutta \" +\n",
        "    \"{name2} {on:name2.SG|ovat:name2.PL}. \" +\n",
        "    \"Q: {Kuka:name2.SG|Ketkä:name2.PL} {on:name2.SG|ovat:name2.PL} \" +\n",
        "    \"{job.NOM.\u003cname2.NUMBER\u003e}? A: {name2}.\",\n",
        "    name=names, job=JOBS['fi'], verbose=False,\n",
        "    same_keys_cfg=SAME_KEYS_CFGS[TEMPS[0]], template_name=TEMPS[0]\n",
        ")\n",
        "\n",
        "t(3000)"
      ]
    },
    {
      "cell_type": "markdown",
      "metadata": {
        "id": "VAYl3qVNeBoR"
      },
      "source": [
        "##### Italian"
      ]
    },
    {
      "cell_type": "code",
      "execution_count": null,
      "metadata": {
        "id": "GET2OxQteDn_"
      },
      "outputs": [],
      "source": [
        "# C: X non è uno scrittore, ma Y lo è.\n",
        "# Q: Chi è uno scrittore? A: Y.\n",
        "\n",
        "t = IT.template(\n",
        "    \"C: {name1} non {è:name1.SG|sono:name1.PL} \" +\n",
        "    \"{ART1.INDF.\u003cjob.STARTSWITH\u003e.\u003cname1.NUMBER.GENDER\u003e} {job.\u003cname1.NUMBER.GENDER\u003e}, \" +\n",
        "    \"ma {name2} lo {è:name2.SG|sono:name2.PL}. \" +\n",
        "    \"Q: Chi {è:name2.SG|sono:name2.PL} \" +\n",
        "    \"{ART2.INDF.\u003cjob.STARTSWITH\u003e.\u003cname2.NUMBER.GENDER\u003e} \" +\n",
        "    \"{job.\u003cname2.NUMBER\u003e.MASC}? A: {name2}.\",\n",
        "    name=NAMES['it'], job=JOBS['it'], verbose=False,\n",
        "    same_keys_cfg=SAME_KEYS_CFGS[TEMPS[0]], template_name=TEMPS[0]\n",
        ")\n",
        "\n",
        "t(3000)"
      ]
    },
    {
      "cell_type": "markdown",
      "metadata": {
        "id": "1m806-TGBhuL"
      },
      "source": [
        "##### Swedish"
      ]
    },
    {
      "cell_type": "code",
      "execution_count": null,
      "metadata": {
        "id": "OFpnzjYiBjqJ"
      },
      "outputs": [],
      "source": [
        "# C: Karl är ingen författare, men Oscar är.\n",
        "# Q: Vem är en författare? A: Oscar.\n",
        "\n",
        "t = SV.template(\n",
        "    \"C: {name1} är inte {job.\u003cname1.NUMBER.GENDERPRON\u003e}, men \" +\n",
        "    \"{name2} är det. Q: {Vem:name2.SG|Vilka:name2.PL} är {job.MASC.\u003cname2.NUMBER\u003e}? A: {name2}.\",\n",
        "    name=NAMES['sv'], job=JOBS['sv'], verbose=False,\n",
        "    same_keys_cfg=SAME_KEYS_CFGS[TEMPS[0]], template_name=TEMPS[0]\n",
        ")\n",
        "\n",
        "t(3000)"
      ]
    },
    {
      "cell_type": "markdown",
      "metadata": {
        "id": "6q4TCaFn7a6C"
      },
      "source": [
        "#### Negation—Negation in Question"
      ]
    },
    {
      "cell_type": "markdown",
      "metadata": {
        "id": "NHiYPKOE7a6C"
      },
      "source": [
        "##### English"
      ]
    },
    {
      "cell_type": "code",
      "execution_count": null,
      "metadata": {
        "id": "TSPosht77a6C"
      },
      "outputs": [],
      "source": [
        "# C: X is a writer, Y is a waiter. Q: Who is not a writer? A: Y.\n",
        "\n",
        "t = EN.template(\n",
        "    \"C: {name1} {is:name1.SG|are:name1.PL} \" +\n",
        "    \"{ART1.INDF.\u003cjob1.STARTSWITH\u003e.\u003cname1.NUMBER\u003e} {job1.\u003cname1.NUMBER.GENDER\u003e}, \" +\n",
        "    \"{name2} {is:name2.SG|are:name2.PL} {ART2.INDF.\u003cjob2.STARTSWITH\u003e.\u003cname2.NUMBER\u003e} {job2.\u003cname2.NUMBER.GENDER\u003e}. \" +\n",
        "    \"Q: Who {is:name2.SG|are:name2.PL} not {ART3.INDF.\u003cjob1.STARTSWITH\u003e.\u003cname2.NUMBER\u003e} {job1.\u003cname2.NUMBER\u003e.MASC}? A: {name2}.\",\n",
        "    name=NAMES['en'], job=JOBS['en'],\n",
        "    verbose=False, same_keys_cfg=SAME_KEYS_CFGS[TEMPS[1]], template_name=TEMPS[1]\n",
        ")\n",
        "\n",
        "t(20000, randomized=True, export=False)"
      ]
    },
    {
      "cell_type": "markdown",
      "metadata": {
        "id": "Oogd7LCW7a6C"
      },
      "source": [
        "##### French"
      ]
    },
    {
      "cell_type": "code",
      "execution_count": null,
      "metadata": {
        "id": "BSBcK9J97a6C"
      },
      "outputs": [],
      "source": [
        "# C: X est un écrivain, Y est un scientifique. Q: Qui n'est pas un écrivain? A: Y.\n",
        "\n",
        "t = FR.template(\n",
        "    \"C: {name1} {est:name1.SG|sont:name1.PL} \" +\n",
        "    \"{ART1.INDF.\u003cname1.GENDER\u003e.\u003cname1.NUMBER\u003e} {job1.\u003cname1.NUMBER.GENDER\u003e}, \" +\n",
        "    \"{name2} {est:name2.SG|sont:name2.PL} \" +\n",
        "    \"{ART2.INDF.\u003cname2.GENDER.NUMBER\u003e} {job2.\u003cname2.NUMBER.GENDER\u003e}. \" +\n",
        "    \"Q: Qui {NEGATION.\u003cexp_1.STARTSWITH\u003e} {est:name2.SG|sont:name2.PL} pas \" +\n",
        "    \"{ART3.INDF.\u003cname2.NUMBER\u003e.MASC} {job1.\u003cname2.NUMBER\u003e.MASC}? A: {name2}.\",\n",
        "    name=NAMES['fr'], job=JOBS['fr'],\n",
        "    verbose=False, same_keys_cfg=SAME_KEYS_CFGS[TEMPS[1]], template_name=TEMPS[1]\n",
        ")\n",
        "\n",
        "t(20000)"
      ]
    },
    {
      "cell_type": "markdown",
      "metadata": {
        "id": "pV6b0GtA7a6C"
      },
      "source": [
        "##### Slovak"
      ]
    },
    {
      "cell_type": "code",
      "execution_count": null,
      "metadata": {
        "id": "BTz5RsO77a6C"
      },
      "outputs": [],
      "source": [
        "# C: X je spisovateľ a Y je čašník. Q: Kto nie je čašník? A: Y.\n",
        "\n",
        "t = SK.template(\n",
        "    \"C: {name1} {je:name1.SG|sú:name1.PL} \" +\n",
        "    \"{job1.\u003cname1.NUMBER.GENDER\u003e} a {name2} {je:name2.SG|sú:name2.PL} {job2.\u003cname2.NUMBER.GENDER\u003e}. \" +\n",
        "    \"Q: Kto nie {je:name2.SG|sú:name2.PL} {job1.\u003cname2.NUMBER\u003e.MASC}? A: {name2}.\",\n",
        "    name=NAMES['sk'], job=JOBS['sk'],\n",
        "    verbose=False, same_keys_cfg=SAME_KEYS_CFGS[TEMPS[1]], template_name=TEMPS[1]\n",
        ")\n",
        "\n",
        "t(20000)"
      ]
    },
    {
      "cell_type": "markdown",
      "metadata": {
        "id": "64iHlnSH7a6D"
      },
      "source": [
        "##### German"
      ]
    },
    {
      "cell_type": "code",
      "execution_count": null,
      "metadata": {
        "id": "c2SmqwEv7a6D"
      },
      "outputs": [],
      "source": [
        "# C: X ist ein Schriftsteller und Y ist ein Kellner. Q: Wer ist kein Schriftsteller? A: Y.\n",
        "\n",
        "t = DE.template(\n",
        "    \"C: {name1} {ist:name1.SG|sind:name1.PL} {ein:name1.SG.MASC|eine:name1.SG.FEM|:name1.PL} \" +\n",
        "    \"{job1.\u003cname1.NUMBER.GENDER\u003e} und {name2} {ist:name2.SG|sind:name2.PL} \" +\n",
        "    \"{ein:name2.SG.MASC|eine:name2.SG.FEM|:name2.PL} {job2.\u003cname2.NUMBER.GENDER\u003e}. \" +\n",
        "    \"Q: Wer {ist:name2.SG|sind:name2.PL} \" +\n",
        "    \"{kein:name2.SG.MASC|keine:name2.SG.FEM|keine:name2.PL} {job1.\u003cname2.NUMBER\u003e.MASC}? A: {name2}.\",\n",
        "    name=NAMES['de'], job=JOBS['de'],\n",
        "    verbose=False, same_keys_cfg=SAME_KEYS_CFGS[TEMPS[1]], template_name=TEMPS[1]\n",
        ")\n",
        "\n",
        "t(20000)"
      ]
    },
    {
      "cell_type": "markdown",
      "metadata": {
        "id": "OMIr6uQ77a6D"
      },
      "source": [
        "##### Russian\n"
      ]
    },
    {
      "cell_type": "code",
      "execution_count": null,
      "metadata": {
        "id": "OgnD9WnF7a6D"
      },
      "outputs": [],
      "source": [
        "# C: X писатель и Y учёный. Q: Кто не писатель? A: Y.\n",
        "\n",
        "t = RU.template(\n",
        "    \"C: {name1} {job1.\u003cname1.NUMBER.GENDER\u003e} и {name2} {job2.\u003cname2.NUMBER.GENDER\u003e}. \" +\n",
        "    \"Q: Кто не {job1.\u003cname2.NUMBER\u003e.MASC}? A: {name2}.\",\n",
        "    name=NAMES['ru'], job=JOBS['ru'],\n",
        "    verbose=False, same_keys_cfg=SAME_KEYS_CFGS[TEMPS[1]], template_name=TEMPS[1]\n",
        ")\n",
        "\n",
        "t(20000)"
      ]
    },
    {
      "cell_type": "markdown",
      "metadata": {
        "id": "eRpQ63jp7a6D"
      },
      "source": [
        "##### Spanish"
      ]
    },
    {
      "cell_type": "code",
      "execution_count": null,
      "metadata": {
        "id": "ndKjlHOz7a6D"
      },
      "outputs": [],
      "source": [
        "# C: X es un escritor y Y es un camarero. Q: ¿Quién no es un escritor A: Y.\n",
        "\n",
        "t = ES.template(\n",
        "    \"C: {name1} {es:name1.SG|son:name1.PL} \" +\n",
        "    \"{ART1.INDF.\u003cname1.NUMBER.GENDER\u003e} {job1.\u003cname1.NUMBER.GENDER\u003e} y \" +\n",
        "    \"{name2} {es:name2.SG|son:name2.PL} \" +\n",
        "    \"{ART2.INDF.\u003cname2.NUMBER.GENDER\u003e} {job2.\u003cname2.NUMBER.GENDER\u003e}. \" +\n",
        "    \"Q: ¿{Quién no es:name2.SG|Quiénes no son:name2.PL} \" +\n",
        "    \"{ART3.INDF.\u003cname2.NUMBER\u003e.MASC} {job1.\u003cname2.NUMBER\u003e.MASC}? \" +\n",
        "    \"A: {name2}.\",\n",
        "    name=NAMES['es'], job=JOBS['es'],\n",
        "    verbose=False, same_keys_cfg=SAME_KEYS_CFGS[TEMPS[1]], template_name=TEMPS[1]\n",
        ")\n",
        "\n",
        "t(20000)"
      ]
    },
    {
      "cell_type": "markdown",
      "metadata": {
        "id": "fRhTrYhC7a6D"
      },
      "source": [
        "##### Mandarin"
      ]
    },
    {
      "cell_type": "code",
      "execution_count": null,
      "metadata": {
        "id": "pK_AG4yW7a6D"
      },
      "outputs": [],
      "source": [
        "# C: X是作家，但Y是. Q: 谁不是作家？A: Y.\n",
        "\n",
        "names = [list(e.values())[0] for e in NAMES['zh']]\n",
        "\n",
        "t = ZH.template(\n",
        "    \"C: {name1}是{job1}，{name2}是{job2}。 \" +\n",
        "    \"Q: 谁不是{job1}？ A: {name2}。\",\n",
        "    name=names, job=JOBS['zh'],\n",
        "    verbose=False, same_keys_cfg=SAME_KEYS_CFGS[TEMPS[1]], template_name=TEMPS[1]\n",
        ")\n",
        "\n",
        "t(20000)"
      ]
    },
    {
      "cell_type": "markdown",
      "metadata": {
        "id": "37fZdlDS7a6D"
      },
      "source": [
        "##### Swahili"
      ]
    },
    {
      "cell_type": "code",
      "execution_count": null,
      "metadata": {
        "id": "fj-8jjEP7a6D"
      },
      "outputs": [],
      "source": [
        "# C: X ni mwandishi na Y ni daktari. Q: Mwandishi si nani? A: Y.\n",
        "# Watu ambao si madaktari ni kina nani?\n",
        "\n",
        "t = SW.template(\n",
        "    \"C: {name1} ni {job1.\u003cname1.NUMBER\u003e}, {name2} ni {job2.\u003cname2.NUMBER\u003e}. \" +\n",
        "    \"Q: Nani sio {job1.\u003cname2.NUMBER\u003e}? A: {name2}.\",\n",
        "    name=NAMES['sw'], job=JOBS['sw'],\n",
        "    verbose=False, same_keys_cfg=SAME_KEYS_CFGS[TEMPS[1]], template_name=TEMPS[1]\n",
        ")\n",
        "\n",
        "t(20000)"
      ]
    },
    {
      "cell_type": "markdown",
      "metadata": {
        "id": "a3da2jph7a6D"
      },
      "source": [
        "##### Arabic"
      ]
    },
    {
      "cell_type": "code",
      "execution_count": null,
      "metadata": {
        "id": "QkpMWG8K7a6D"
      },
      "outputs": [],
      "source": [
        "# C: Omar is a writer, Ahmed is a waiter. Q: Who is not a writer? A: Ahmed.\n",
        "\n",
        "# .عمر كاتب وأحمد نادل :C\n",
        "# من ليس كاتب؟ :Q\n",
        "# .أحمد\n",
        "\n",
        "t = AR.template(\n",
        "    \".\\u200e{name2} \\u200e:A \" +\n",
        "    \"\\u200e؟\\u200e{job1.NOM.\u003cname2.NUMBER\u003e.MASC} \\u200e{ليس:name2.SG|ليسا:name2.DU} \\u200eمن  \\u200e:Q \" +\n",
        "    \"\\u200e.\\u200e{job2.NOM.\u003cname2.NUMBER.GENDER\u003e} \\u200e{name2}\" +\n",
        "    \"\\u200eو \\u200e{job1.NOM.\u003cname1.NUMBER.GENDER\u003e} \\u200e{name1} \\u200e:C\",\n",
        "    name=NAMES['ar'], job=JOBS['ar'],\n",
        "    verbose=False, same_keys_cfg=SAME_KEYS_CFGS[TEMPS[1]], template_name=TEMPS[1]\n",
        ")\n",
        "\n",
        "t(1000, export=False)"
      ]
    },
    {
      "cell_type": "markdown",
      "metadata": {
        "id": "DfUXiCT07a6E"
      },
      "source": [
        "##### Finnish"
      ]
    },
    {
      "cell_type": "code",
      "execution_count": null,
      "metadata": {
        "id": "aggjo-pS7a6E"
      },
      "outputs": [],
      "source": [
        "# C: X on opettaja, Y on insinööri. Q: Kuka ei ole opettaja? A: Y.\n",
        "\n",
        "names = [\n",
        "    {list(e.keys())[0].split(\".\")[0]: list(e.values())[0]}\n",
        "    for e in NAMES['fi']\n",
        "]\n",
        "\n",
        "t = FI.template(\n",
        "    \"C: {name1} {on:name1.SG|ovat:name1.PL} \" +\n",
        "    \"{job1.\u003cNOM:name1.SG|PRT:name1.PL\u003e.\u003cname1.NUMBER\u003e}, {name2} \" +\n",
        "    \"{on:name2.SG|ovat:name2.PL} {job2.\u003cNOM:name2.SG|PRT:name2.PL\u003e.\u003cname2.NUMBER\u003e}. \" +\n",
        "    \"Q: {Kuka:name2.SG|Ketkä:name2.PL} {ei:name2.SG|eivät:name2.PL} ole \" +\n",
        "    \"{job1.\u003cNOM:name2.SG|PRT:name2.PL\u003e.\u003cname2.NUMBER\u003e}? A: {name2}.\",\n",
        "    name=names, job=JOBS['fi'],\n",
        "    verbose=False, same_keys_cfg=SAME_KEYS_CFGS[TEMPS[1]], template_name=TEMPS[1]\n",
        ")\n",
        "\n",
        "t(20000)"
      ]
    },
    {
      "cell_type": "markdown",
      "metadata": {
        "id": "ebD_ULbTMQkn"
      },
      "source": [
        "##### Italian"
      ]
    },
    {
      "cell_type": "code",
      "execution_count": null,
      "metadata": {
        "id": "5IriI1RBMaw9"
      },
      "outputs": [],
      "source": [
        "# C: X è uno scrittore, Y è un cameriere.\n",
        "# Q: Chi non è uno scrittore? A: Y.\n",
        "\n",
        "t = IT.template(\n",
        "    \"C: {name1} {è:name1.SG|sono:name1.PL} \" +\n",
        "    \"{ART1.INDF.\u003cjob1.STARTSWITH\u003e.\u003cname1.NUMBER.GENDER\u003e} {job1.\u003cname1.NUMBER.GENDER\u003e}, \" +\n",
        "    \"{name2} {è:name2.SG|sono:name2.PL} \" +\n",
        "    \"{ART2.INDF.\u003cjob2.STARTSWITH\u003e.\u003cname2.NUMBER.GENDER\u003e} {job2.\u003cname2.NUMBER.GENDER\u003e}. \" +\n",
        "    \"Q: Chi non {è:name2.SG|sono:name2.PL} \" +\n",
        "    \"{ART3.INDF.\u003cjob1.STARTSWITH\u003e.\u003cname2.NUMBER.GENDER\u003e} \" +\n",
        "    \"{job1.\u003cname2.NUMBER\u003e.MASC}? A: {name2}.\",\n",
        "    name=NAMES['it'], job=JOBS['it'],\n",
        "    verbose=False, same_keys_cfg=SAME_KEYS_CFGS[TEMPS[1]], template_name=TEMPS[1]\n",
        ")\n",
        "\n",
        "t(20000)"
      ]
    },
    {
      "cell_type": "markdown",
      "metadata": {
        "id": "HKDop3M700Yr"
      },
      "source": [
        "##### Swedish"
      ]
    },
    {
      "cell_type": "code",
      "execution_count": null,
      "metadata": {
        "id": "zuY4fV3402VR"
      },
      "outputs": [],
      "source": [
        "# C: Oscar är författare, Nils är servitör.\n",
        "# Q: Vem är inte en författare? A: Nils.\n",
        "\n",
        "t = SV.template(\n",
        "    \"C: {name1} är {job1.\u003cname1.NUMBER.GENDERPRON\u003e}, \" +\n",
        "    \"{name2} är {job2.\u003cname2.NUMBER.GENDERPRON\u003e}. \" +\n",
        "    \"Q: {Vem:name2.SG|Vilka:name2.PL} är inte \" +\n",
        "    \"{job1.MASC.\u003cname2.NUMBER\u003e}? A: {name2}.\",\n",
        "    name=NAMES['sv'], job=JOBS['sv'], verbose=False,\n",
        "    same_keys_cfg=SAME_KEYS_CFGS[TEMPS[1]], template_name=TEMPS[1]\n",
        ")\n",
        "\n",
        "t(20000)"
      ]
    },
    {
      "cell_type": "markdown",
      "metadata": {
        "id": "MwcspJrdrc4L"
      },
      "source": [
        "### Mathematical"
      ]
    },
    {
      "cell_type": "markdown",
      "metadata": {
        "id": "ndFa4R1atAAc"
      },
      "source": [
        "#### Numerals - Numerals in context"
      ]
    },
    {
      "cell_type": "markdown",
      "metadata": {
        "id": "3Ctwdy2Zs6f1"
      },
      "source": [
        "##### English"
      ]
    },
    {
      "cell_type": "code",
      "execution_count": null,
      "metadata": {
        "id": "6-h5-Tv8rh3E"
      },
      "outputs": [],
      "source": [
        "numbers = [\n",
        "    {\"SG\": \"one\"},\n",
        "    {\"PL\": \"two\"},\n",
        "    {\"PL\": \"three\"},\n",
        "    {\"PL\": \"four\"},\n",
        "    {\"PL\": \"five\"},\n",
        "    {\"PL\": \"six\"},\n",
        "    {\"PL\": \"seven\"},\n",
        "    {\"PL\": \"eight\"},\n",
        "    {\"PL\": \"nine\"},\n",
        "    {\"PL\": \"ten\"}\n",
        "]\n",
        "\n",
        "nb_2_str = {\n",
        "    \"1\": \"one\", \"2\": \"two\", \"3\": \"three\",\n",
        "    \"4\": \"four\", \"5\": \"five\", \"6\": \"six\",\n",
        "    \"7\": \"seven\", \"8\": \"eight\", \"9\": \"nine\",\n",
        "    \"10\": \"ten\", \"11\": \"eleven\", \"12\": \"twelve\",\n",
        "    \"13\": \"thirteen\", \"14\": \"fourteen\", \"15\": \"fifteen\",\n",
        "    \"16\": \"sixteen\", \"17\": \"seventeen\", \"18\": \"eighteen\",\n",
        "    \"19\": \"nineteen\", \"20\": \"twenty\"\n",
        "}\n",
        "\n",
        "str_2_nb = {v:k for k,v in nb_2_str.items()}\n",
        "\n",
        "fn_sum = lambda a,b: nb_2_str[str(int(str_2_nb[a])+int(str_2_nb[b]))].capitalize()\n",
        "\n",
        "# C: There are A apples and P pears on the table. Q: How many fruits are on the table? A: [A+P].\n",
        "\n",
        "t = EN.template(\n",
        "    \"C: There {is:number1.SG|are:number1.PL} {number1} {fruit1.\u003cnumber1.NUMBER\u003e} and {number2} {fruit2.\u003cnumber2.NUMBER\u003e} \" +\n",
        "    \"on the table. Q: How many fruits in total are on the table? A: {$sum(number1,number2)}.\",\n",
        "    number=numbers, fruit=FRUITS['en'], sum = fn_sum, verbose=False,\n",
        "    same_keys_cfg=SAME_KEYS_CFGS[TEMPS[2]], template_name=TEMPS[2]\n",
        ")\n",
        "\n",
        "t(3000)"
      ]
    },
    {
      "cell_type": "markdown",
      "metadata": {
        "id": "AZmh_bVGtDLS"
      },
      "source": [
        "##### Slovak"
      ]
    },
    {
      "cell_type": "code",
      "execution_count": null,
      "metadata": {
        "id": "sSZucxLDtDnT"
      },
      "outputs": [],
      "source": [
        "numbers = [\n",
        "    {\"SG\": \"jeden\"},\n",
        "    {\"PL.MASC\": \"dva\", \"PL.NEUT\": \"dve\", \"PL.FEM\": \"dve\"},\n",
        "    {\"PL\": \"tri\"},\n",
        "    {\"PL\": \"štyri\"},\n",
        "    {\"GTPL\": \"päť\"},\n",
        "    {\"GTPL\": \"šesť\"},\n",
        "    {\"GTPL\": \"sedem\"},\n",
        "    {\"GTPL\": \"osem\"},\n",
        "    {\"GTPL\": \"deväť\"},\n",
        "    {\"GTPL\": \"desať\"}\n",
        "]\n",
        "\n",
        "str_2_nb, nb_2_str = {}, {}\n",
        "for nb, val in zip(map(str, range(1,11)), numbers):\n",
        "  # jeden -\u003e 1, jedno -\u003e 1 ...\n",
        "  for k, v in val.items():\n",
        "    str_2_nb[v] = nb\n",
        "  # 1 -\u003e jedno, 2 -\u003e dve, 3 -\u003e tri\n",
        "  if len(val) == 1:\n",
        "    nb_2_str[nb] = list(val.values())[0]\n",
        "  else:\n",
        "    # takes neut value by default\n",
        "    v = [v for k, v in val.items() if \"NEUT\" in k][0]\n",
        "    nb_2_str[nb] = v\n",
        "\n",
        "for nb, s in zip(\n",
        "    map(str, range(11,21)),\n",
        "    [\"jedenásť\", \"dvanásť\", \"trinásť\", \"štrnásť\", \"pätnásť\",\n",
        "     \"šestnásť\", \"sedemnásť\", \"osemnásť\", \"devätnásť\", \"dvadsať\"]\n",
        "  ):\n",
        "  nb_2_str[nb] = s\n",
        "\n",
        "fn_sum = lambda a,b: nb_2_str[str(int(str_2_nb[a])+int(str_2_nb[b]))].capitalize()\n",
        "\n",
        "# C: Na stole je J jabĺk a H hrušiek. Q: Koľko ovocí je na stole? A: [J+H].\n",
        "\n",
        "t = SK.template(\n",
        "    \"C: Na stole {je:number1.SG|sú:number1.PL|je:number1.GTPL} \" +\n",
        "    \"{number1.\u003cfruit1.GENDER\u003e} {fruit1.NOM.\u003cnumber1.NUMBER\u003e} a {number2.\u003cfruit2.GENDER\u003e} {fruit2.NOM.\u003cnumber2.NUMBER\u003e}. \" +\n",
        "    \"Q: Koľko ovocia je celkovo na stole? A: {$sum(number1.\u003cfruit1.GENDER\u003e,number2.\u003cfruit2.GENDER\u003e)}.\",\n",
        "    number=numbers, fruit=FRUITS['sk'], sum = fn_sum, verbose=False,\n",
        "    same_keys_cfg=SAME_KEYS_CFGS[TEMPS[2]], template_name=TEMPS[2]\n",
        ")\n",
        "\n",
        "t(3000)"
      ]
    },
    {
      "cell_type": "markdown",
      "metadata": {
        "id": "372c4R1aJcD-"
      },
      "source": [
        "##### Russian"
      ]
    },
    {
      "cell_type": "code",
      "execution_count": null,
      "metadata": {
        "id": "6u5ZGl7IJf7e"
      },
      "outputs": [],
      "source": [
        "numbers = [\n",
        "    {\"SG.MASC\": \"один\", \"SG.NEUT\": \"одно\", \"SG.FEM\": \"одна\"},\n",
        "    {\"PL.MASC\": \"два\", \"PL.NEUT\": \"два\", \"PL.FEM\": \"две\"},\n",
        "    {\"PL\": \"три\"},\n",
        "    {\"PL\": \"четыре\"},\n",
        "    {\"GTPL\": \"пять\"},\n",
        "    {\"GTPL\": \"шесть\"},\n",
        "    {\"GTPL\": \"семь\"},\n",
        "    {\"GTPL\": \"восемь\"},\n",
        "    {\"GTPL\": \"девять\"},\n",
        "    {\"GTPL\": \"десять\"}\n",
        "]\n",
        "\n",
        "str_2_nb, nb_2_str = {}, {}\n",
        "for nb, val in zip(map(str, range(1,11)), numbers):\n",
        "  # один -\u003e 1, одно -\u003e 1 ...\n",
        "  for k, v in val.items():\n",
        "    str_2_nb[v] = nb\n",
        "  # 1 -\u003e один, 2 -\u003e два, 3 -\u003e три\n",
        "  if len(val) == 1:\n",
        "    nb_2_str[nb] = list(val.values())[0]\n",
        "  else:\n",
        "    # takes neut value by default\n",
        "    v = [v for k, v in val.items() if \"MASC\" in k][0]\n",
        "    nb_2_str[nb] = v\n",
        "\n",
        "for nb, s in zip(\n",
        "    map(str, range(11,21)),\n",
        "    [\"одиннадцать\", \"двенадцать\", \"тринадцать\", \"четырнадцать\", \"пятнадцать\", \"шестнадцать\",\n",
        "     \"семнадцать\", \"восемнадцать\", \"девятнадцать\", \"двадцать\"]\n",
        "  ):\n",
        "  nb_2_str[nb] = s\n",
        "\n",
        "fn_sum = lambda a,b: nb_2_str[str(int(str_2_nb[a])+int(str_2_nb[b]))].capitalize()\n",
        "\n",
        "# C: На столе я яблок и г груш. Q: Сколько фруктов на столе? A: [я+г].\n",
        "\n",
        "t = RU.template(\n",
        "    \"C: На столе {number1.\u003cfruit1.GENDER\u003e} {fruit1.\u003cnumber1.NUMBER\u003e.NOM} и {number2.\u003cfruit2.GENDER\u003e} {fruit2.\u003cnumber2.NUMBER\u003e.NOM}. \" +\n",
        "    \"Q: Сколько фруктов в общем на столе? A: {$sum(number1.\u003cfruit1.GENDER\u003e,number2.\u003cfruit2.GENDER\u003e)}.\",\n",
        "    number=numbers, fruit=FRUITS['ru'], sum = fn_sum, verbose=False,\n",
        "    same_keys_cfg=SAME_KEYS_CFGS[TEMPS[2]], template_name=TEMPS[2]\n",
        ")\n",
        "\n",
        "t(3000)"
      ]
    },
    {
      "cell_type": "markdown",
      "metadata": {
        "id": "LoZ52XOjTC7U"
      },
      "source": [
        "##### German"
      ]
    },
    {
      "cell_type": "code",
      "execution_count": null,
      "metadata": {
        "id": "wZEowVudTDev"
      },
      "outputs": [],
      "source": [
        "numbers = [\n",
        "    {\"SG.MASC\": \"ein\", \"SG.FEM\": \"eine\"},\n",
        "    {\"PL\": \"zwei\"},\n",
        "    {\"PL\": \"drei\"},\n",
        "    {\"PL\": \"vier\"},\n",
        "    {\"PL\": \"fünf\"},\n",
        "    {\"PL\": \"sechs\"},\n",
        "    {\"PL\": \"sieben\"},\n",
        "    {\"PL\": \"acht\"},\n",
        "    {\"PL\": \"neun\"},\n",
        "    {\"PL\": \"zehn\"}\n",
        "]\n",
        "\n",
        "nb_2_str = {\n",
        "    \"1\": \"ein\",\n",
        "    \"2\": \"zwei\",\n",
        "    \"3\": \"drei\",\n",
        "    \"4\": \"vier\",\n",
        "    \"5\": \"fünf\",\n",
        "    \"6\": \"sechs\",\n",
        "    \"7\": \"sieben\",\n",
        "    \"8\": \"acht\",\n",
        "    \"9\": \"neun\",\n",
        "    \"10\": \"zehn\",\n",
        "    \"11\": \"elf\",\n",
        "    \"12\": \"zwölf\",\n",
        "    \"13\": \"dreizehn\",\n",
        "    \"14\": \"vierzehn\",\n",
        "    \"15\": \"fünfzehn\",\n",
        "    \"16\": \"sechzehn\",\n",
        "    \"17\": \"siebzehn\",\n",
        "    \"18\": \"achtzehn\",\n",
        "    \"19\": \"neunzehn\",\n",
        "    \"20\": \"zwanzig\"\n",
        "}\n",
        "\n",
        "str_2_nb = {v:k for k,v in nb_2_str.items()}\n",
        "str_2_nb[\"eine\"] = \"1\"\n",
        "\n",
        "fn_sum = lambda a,b: nb_2_str[str(int(str_2_nb[a])+int(str_2_nb[b]))]\n",
        "\n",
        "# C: Es gibt A Äpfel und B Birnen auf dem Tisch. Q: Wie viele Früchte gibt es auf dem Tisch? A: [A+B].\n",
        "\n",
        "t = DE.template(\n",
        "    \"C: Es gibt {number1.\u003cfruit1.GENDER\u003e} {fruit1.\u003cnumber1.NUMBER\u003e} und {number2.\u003cfruit2.GENDER\u003e} {fruit2.\u003cnumber2.NUMBER\u003e} \" +\n",
        "    \"auf dem Tisch. Q: Wie viele Früchte liegen insgesamt auf dem Tisch? A: {$sum(number1.\u003cfruit1.GENDER\u003e,number2.\u003cfruit2.GENDER\u003e).TO_CAPITALIZE}.\",\n",
        "    number=numbers, fruit=FRUITS['de'], sum = fn_sum, verbose=False,\n",
        "    same_keys_cfg=SAME_KEYS_CFGS[TEMPS[2]], template_name=TEMPS[2]\n",
        "\n",
        ")\n",
        "\n",
        "t(3000)"
      ]
    },
    {
      "cell_type": "markdown",
      "metadata": {
        "id": "8ZqnrxAMZyA7"
      },
      "source": [
        "##### Arabic"
      ]
    },
    {
      "cell_type": "code",
      "execution_count": null,
      "metadata": {
        "id": "fVzSYuWDZz2Q"
      },
      "outputs": [],
      "source": [
        "numbers = [\n",
        "    {\"SG.MASC.AFT\": \"واحد \" , \"SG.FEM.AFT\": \"واحدة \", \"BEF\": \"\"},\n",
        "    {\"DU\": \"\"},\n",
        "    {\"PL.MASC.BEF\": \" ثلاث\", \"PL.FEM.BEF\": \" ثلاثة\", \"AFT\": \"\"},\n",
        "    {\"PL.MASC.BEF\": \" أربعة\", \"PL.FEM.BEF\": \" أربع\", \"AFT\": \"\"},\n",
        "    {\"PL.MASC.BEF\": \" خمسة\", \"PL.FEM.BEF\": \" خمس\", \"AFT\": \"\"},\n",
        "    {\"PL.MASC.BEF\": \" ستة\", \"PL.FEM.BEF\": \" ست\", \"AFT\": \"\"},\n",
        "    {\"PL.MASC.BEF\": \" سبعة\", \"PL.FEM.BEF\": \" سبع\", \"AFT\": \"\"},\n",
        "    {\"PL.MASC.BEF\": \" ثمانية\", \"PL.FEM.BEF\": \" ثماني\", \"AFT\": \"\"},\n",
        "    {\"PL.MASC.BEF\": \" تسعة\", \"PL.FEM.BEF\": \" تسع\", \"AFT\": \"\"},\n",
        "    {\"PL.MASC.BEF\": \" عشرة\", \"PL.FEM.BEF\": \" عشر\", \"AFT\": \"\"},\n",
        "]\n",
        "\n",
        "str_2_nb, nb_2_str = {}, {}\n",
        "for nb, val in zip(map(str, range(1,11)), numbers):\n",
        "  # واحد -\u003e 1 , واحدة -\u003e 1 ...\n",
        "  for k, v in val.items():\n",
        "    str_2_nb[v] = nb\n",
        "  # 1 -\u003e واحدة\n",
        "  # 2 -\u003e واحدة\n",
        "  # 3 -\u003e ثلاثة\n",
        "  if len(val) == 1:\n",
        "    nb_2_str[nb] = list(val.values())[0]\n",
        "  else:\n",
        "    # takes neut value by default\n",
        "    v = [v for k, v in val.items() if \"FEM\" in k][0]\n",
        "    nb_2_str[nb] = v\n",
        "\n",
        "for nb, s in zip(\n",
        "    map(str, range(11,21)),\n",
        "    [\"أحد عشر\",\n",
        "     \"اثني عشر\",\n",
        "     \"ثلاثة عشر\",\n",
        "     \"أربعة عشر\",\n",
        "     \"خمسة عشر\",\n",
        "     \"ستة عشر\",\n",
        "     \"سبعة عشر\",\n",
        "     \"ثمانية عشر\",\n",
        "     \"تسعة عشر\",\n",
        "     \"عشرين\"]\n",
        "  ):\n",
        "  nb_2_str[nb] = s\n",
        "\n",
        "def fn_sum(nb1_bef, nb1_aft, nb2_bef, nb2_aft):\n",
        "  int1 = int(str_2_nb[nb1_bef+nb1_aft]) if nb1_bef or nb1_aft else 2\n",
        "  int2 = int(str_2_nb[nb2_bef+nb2_aft]) if nb2_bef or nb2_aft else 2\n",
        "  return nb_2_str[str(int1+int2)].capitalize().strip(\" \")\n",
        "\n",
        "# C: .تفاحات و _ كمثرى على الطاولة K هناك\n",
        "# Q: كم عدد الفاكهة الثمار إجمالي على الطاولة؟\n",
        "# A: .[_+K]\n",
        "\n",
        "t = AR.template(\n",
        "    \".\\u200e{$sum(number1.AFT.\u003cfruit1.GENDER\u003e,number1.BEF.\u003cfruit1.GENDER\u003e,number2.AFT.\u003cfruit2.GENDER\u003e,number2.BEF.\u003cfruit2.GENDER\u003e)} \\u200e:A \" +\n",
        "    \"\\u200eكم إجمالي عدد الفاكهة  على الطاولة؟ \\u200e:Q \" +\n",
        "    \"\\u200e.على الطاولة \\u200e{number2.AFT.\u003cfruit2.GENDER\u003e} \\u200e{fruit2.NOM.\u003cnumber2.NUMBER\u003e} \\u200e{number2.BEF.\u003cfruit2.GENDER\u003e}\" +\n",
        "    \"\\u200eو \\u200e{number1.AFT.\u003cfruit1.GENDER\u003e}\\u200e{fruit1.NOM.\u003cnumber1.NUMBER\u003e}\\u200e{number1.BEF.\u003cfruit1.GENDER\u003e} \\u200eهناك \\u200e:C\",\n",
        "    number=numbers, fruit=FRUITS['ar'], sum = fn_sum, verbose=False,\n",
        "    same_keys_cfg=SAME_KEYS_CFGS[TEMPS[2]], template_name=TEMPS[2]\n",
        ")\n",
        "\n",
        "t(5000)"
      ]
    },
    {
      "cell_type": "markdown",
      "metadata": {
        "id": "GMtpqdwnw-CX"
      },
      "source": [
        "##### French"
      ]
    },
    {
      "cell_type": "code",
      "execution_count": null,
      "metadata": {
        "id": "ctEQ2RYPxBjJ"
      },
      "outputs": [],
      "source": [
        "numbers = [\n",
        "    {\"SG.MASC\": \"un\", \"SG.FEM\": \"une\"},\n",
        "    {\"PL\": \"deux\"},\n",
        "    {\"PL\": \"trois\"},\n",
        "    {\"PL\": \"quatre\"},\n",
        "    {\"PL\": \"cinq\"},\n",
        "    {\"PL\": \"six\"},\n",
        "    {\"PL\": \"sept\"},\n",
        "    {\"PL\": \"huit\"},\n",
        "    {\"PL\": \"neuf\"},\n",
        "    {\"PL\": \"dix\"}\n",
        "]\n",
        "\n",
        "nb_2_str = {\n",
        "    \"1\": \"un\", \"2\": \"deux\", \"3\": \"trois\",\n",
        "    \"4\": \"quatre\", \"5\": \"cinq\", \"6\": \"six\",\n",
        "    \"7\": \"sept\", \"8\": \"huit\", \"9\": \"neuf\",\n",
        "    \"10\": \"dix\", \"11\": \"onze\", \"12\": \"douze\",\n",
        "    \"13\": \"treize\", \"14\": \"quatorze\", \"15\": \"quinze\",\n",
        "    \"16\": \"seize\", \"17\": \"dix-sept\", \"18\": \"dix-huit\",\n",
        "    \"19\": \"dix-neuf\", \"20\": \"vingt\"\n",
        "}\n",
        "\n",
        "str_2_nb = {v:k for k,v in nb_2_str.items()}\n",
        "str_2_nb['une'] = \"1\"\n",
        "\n",
        "fn_sum = lambda a,b: nb_2_str[str(int(str_2_nb[a])+int(str_2_nb[b]))].capitalize()\n",
        "\n",
        "# C: Il y a P pommes et M mangues sur la table. Q: Combien de fruits au total sont sur la table? A: [P+M].\n",
        "\n",
        "t = FR.template(\n",
        "    \"C: Il y a {number1.\u003cfruit1.GENDER\u003e} {fruit1.\u003cnumber1.NUMBER\u003e} et \" +\n",
        "    \"{number2.\u003cfruit2.GENDER\u003e} {fruit2.\u003cnumber2.NUMBER\u003e} sur la table.\" +\n",
        "    \" Q: Combien de fruits au total sont sur la table?\" +\n",
        "    \" A: {$sum(number1.\u003cfruit1.GENDER\u003e,number2.\u003cfruit2.GENDER\u003e)}.\",\n",
        "    number=numbers, fruit=FRUITS['fr'], sum = fn_sum, verbose=False,\n",
        "    same_keys_cfg=SAME_KEYS_CFGS[TEMPS[2]], template_name=TEMPS[2]\n",
        ")\n",
        "\n",
        "t(3000)"
      ]
    },
    {
      "cell_type": "markdown",
      "metadata": {
        "id": "0mMVRg_bZS1k"
      },
      "source": [
        "##### Spanish"
      ]
    },
    {
      "cell_type": "code",
      "execution_count": null,
      "metadata": {
        "id": "FLYH_PRbZP_1"
      },
      "outputs": [],
      "source": [
        "numbers = [\n",
        "    {\"SG.MASC\": \"uno\", \"SG.FEM\": \"una\"},\n",
        "    {\"PL\": \"dos\"},\n",
        "    {\"PL\": \"tres\"},\n",
        "    {\"PL\": \"cuatro\"},\n",
        "    {\"PL\": \"cinco\"},\n",
        "    {\"PL\": \"seis\"},\n",
        "    {\"PL\": \"siete\"},\n",
        "    {\"PL\": \"ocho\"},\n",
        "    {\"PL\": \"nueve\"},\n",
        "    {\"PL\": \"diez\"}\n",
        "]\n",
        "\n",
        "nb_2_str = {\n",
        "    \"1\": \"uno\", \"2\": \"dos\", \"3\": \"tres\",\n",
        "    \"4\": \"cuatro\", \"5\": \"cinco\", \"6\": \"seis\",\n",
        "    \"7\": \"siete\", \"8\": \"ocho\", \"9\": \"nueve\",\n",
        "    \"10\": \"diez\", \"11\": \"once\", \"12\": \"doce\",\n",
        "    \"13\": \"trece\", \"14\": \"catorce\", \"15\": \"quince\",\n",
        "    \"16\": \"dieciséis\", \"17\": \"diecisiete\", \"18\": \"dieciocho\",\n",
        "    \"19\": \"diecinueve\", \"20\": \"veinte\"\n",
        "}\n",
        "\n",
        "str_2_nb = {v:k for k,v in nb_2_str.items()}\n",
        "str_2_nb['una'] = \"1\"\n",
        "\n",
        "fn_sum = lambda a,b: nb_2_str[str(int(str_2_nb[a])+int(str_2_nb[b]))].capitalize()\n",
        "\n",
        "# C: Hay M manzanas y P peras sobre la mesa. Q: ¿Cuántas frutas en total hay sobre la mesa? A: [M+P].\n",
        "\n",
        "t = ES.template(\n",
        "    \"C: Hay {number1.\u003cfruit1.GENDER\u003e} {fruit1.\u003cnumber1.NUMBER\u003e} y \" +\n",
        "    \"{number2.\u003cfruit2.GENDER\u003e} {fruit2.\u003cnumber2.NUMBER\u003e} sobre la mesa.\" +\n",
        "    \" Q: ¿Cuántas frutas en total hay sobre la mesa?\" +\n",
        "    \" A: {$sum(number1.\u003cfruit1.GENDER\u003e,number2.\u003cfruit2.GENDER\u003e)}.\",\n",
        "    number=numbers, fruit=FRUITS['es'], sum = fn_sum, verbose=False,\n",
        "    same_keys_cfg=SAME_KEYS_CFGS[TEMPS[2]], template_name=TEMPS[2]\n",
        ")\n",
        "\n",
        "t(3000)"
      ]
    },
    {
      "cell_type": "markdown",
      "metadata": {
        "id": "kcYBbbmn-vCs"
      },
      "source": [
        "##### Mandarin"
      ]
    },
    {
      "cell_type": "code",
      "execution_count": null,
      "metadata": {
        "id": "ah-u5qfp-vzS"
      },
      "outputs": [],
      "source": [
        "numbers = [\n",
        "    \"一\", \"两\", \"三\", \"四\", \"五\",\n",
        "    \"六\", \"七\", \"八\", \"九\", \"十\"\n",
        "]\n",
        "\n",
        "nb_2_str = {\n",
        "    \"1\": \"一\", \"2\": \"两\", \"3\": \"三\",\n",
        "    \"4\": \"四\", \"5\": \"五\", \"6\": \"六\",\n",
        "    \"7\": \"七\", \"8\": \"八\", \"9\": \"九\",\n",
        "    \"10\": \"十\", \"11\": \"十一\", \"12\": \"十二\",\n",
        "    \"13\": \"十三\", \"14\": \"十四\", \"15\": \"十五\",\n",
        "    \"16\": \"十六\", \"17\": \"十七\", \"18\": \"十八\",\n",
        "    \"19\": \"十九\", \"20\": \"二十\"\n",
        "}\n",
        "\n",
        "str_2_nb = {v:k for k,v in nb_2_str.items()}\n",
        "\n",
        "fn_sum = lambda a,b: nb_2_str[str(int(str_2_nb[a])+int(str_2_nb[b]))].capitalize()\n",
        "\n",
        "# C: 桌子上有K个梨和P个苹果。 Q: 桌子上一共有多少水果？ A: [K+P]个.\n",
        "\n",
        "t = ZH.template(\n",
        "    \"C: 桌子上有{number1}个{fruit1}和{number2}个{fruit2}。 Q: 桌子上一共有多少水果？\" +\n",
        "    \"A: {$sum(number1,number2)}个.\",\n",
        "    number=numbers, fruit=FRUITS['zh'], sum = fn_sum, verbose=False,\n",
        "    same_keys_cfg=SAME_KEYS_CFGS[TEMPS[2]], template_name=TEMPS[2]\n",
        ")\n",
        "\n",
        "t(3000)"
      ]
    },
    {
      "cell_type": "markdown",
      "metadata": {
        "id": "iI5imF2oKaDx"
      },
      "source": [
        "##### Swahili"
      ]
    },
    {
      "cell_type": "code",
      "execution_count": null,
      "metadata": {
        "id": "AMz_teToKb6K"
      },
      "outputs": [],
      "source": [
        "numbers = [\n",
        "    {\"SG.MWA\": \"moja\", \"SG.NN\": \"moja\"},\n",
        "    {\"PL.MWA\": \"mawili\", \"PL.NN\": \"mbili\"},\n",
        "    {\"PL.MWA\": \"matatu\", \"PL.NN\": \"tatu\"},\n",
        "    {\"PL.MWA\": \"manne\", \"PL.NN\": \"nne\"},\n",
        "    {\"PL.MWA\": \"matano\", \"PL.NN\": \"tano\"},\n",
        "    {\"PL.MWA\": \"sita\", \"PL.NN\": \"sita\"},\n",
        "    {\"PL.MWA\": \"saba\", \"PL.NN\": \"saba\"},\n",
        "    {\"PL.MWA\": \"manane\", \"PL.NN\": \"nane\"},\n",
        "    {\"PL.MWA\": \"tisa\", \"PL.NN\": \"tisa\"},\n",
        "    {\"PL.MWA\": \"kumi\", \"PL.NN\": \"kumi\"}\n",
        "]\n",
        "\n",
        "numbers_high = [\n",
        "    {\"PL.MWA\": \"kumi na moja\", \"PL.NN\": \"kumi na moja\"},\n",
        "    {\"PL.MWA\": \"kumi na mbili\", \"PL.NN\": \"kumi na mbili\"},\n",
        "    {\"PL.MWA\": \"kumi na tatu\", \"PL.NN\": \"kumi na tatu\"},\n",
        "    {\"PL.MWA\": \"kumi na nne\", \"PL.NN\": \"kumi na nne\"},\n",
        "    {\"PL.MWA\": \"kumi na tano\", \"PL.NN\": \"kumi na tano\"},\n",
        "    {\"PL.MWA\": \"kumi na sita\", \"PL.NN\": \"kumi na sita\"},\n",
        "    {\"PL.MWA\": \"kumi na saba\", \"PL.NN\": \"kumi na saba\"},\n",
        "    {\"PL.MWA\": \"kumi na nane\", \"PL.NN\": \"kumi na nane\"},\n",
        "    {\"PL.MWA\": \"kumi na tisa\", \"PL.NN\": \"kumi na tisa\"},\n",
        "    {\"PL.MWA\": \"ishirini\", \"PL.NN\": \"ishirini\"}\n",
        "]\n",
        "\n",
        "str_2_nb = {}\n",
        "nb_2_str = {}\n",
        "for nb, d in zip(range(1, 21), numbers+numbers_high):\n",
        "  nb_2_str[str(nb)] = {\n",
        "      \"MWA\": d[\"SG.MWA\"] if \"SG.MWA\" in d else d[\"PL.MWA\"],\n",
        "      \"NN\": d[\"SG.NN\"]  if \"SG.NN\" in d else d[\"PL.NN\"],\n",
        "  }\n",
        "  str_2_nb[d[\"SG.MWA\"] if \"SG.MWA\" in d else d[\"PL.MWA\"]] = nb\n",
        "  str_2_nb[d[\"SG.NN\"] if \"SG.NN\" in d else d[\"PL.NN\"]] = nb\n",
        "\n",
        "fn_sum = lambda a,b,gender: nb_2_str[str(int(str_2_nb[a])+int(str_2_nb[b]))][gender].capitalize()\n",
        "\n",
        "# C: Kuna ndizi M na maembe P kwenye meza. Q: Kuna matunda mangapi kwenye meza? A: [M+P].\n",
        "\n",
        "t = SW.template(\n",
        "    \"C: Kuna {fruit1.\u003cnumber1.NUMBER\u003e} {number1.\u003cfruit1.NOUNSW\u003e} na {fruit2.\u003cnumber2.NUMBER\u003e} {number2.\u003cfruit2.NOUNSW\u003e} kwenye meza. \" +\n",
        "    \"Q: Kuna matunda mangapi kwa jumla kwenye meza? \" +\n",
        "    \"A: {$sum(number1.\u003cfruit1.NOUNSW\u003e,number2.\u003cfruit2.NOUNSW\u003e,fruit1.NOUNSW)}.\",\n",
        "    number=numbers, fruit=FRUITS['sw'], sum = fn_sum, verbose=False,\n",
        "    same_keys_cfg=SAME_KEYS_CFGS[TEMPS[2]], template_name=TEMPS[2]\n",
        ")\n",
        "\n",
        "t(3000)"
      ]
    },
    {
      "cell_type": "markdown",
      "metadata": {
        "id": "Nv_9LjlBxFAK"
      },
      "source": [
        "##### Finnish"
      ]
    },
    {
      "cell_type": "code",
      "execution_count": null,
      "metadata": {
        "id": "olh5QAyuxGyo"
      },
      "outputs": [],
      "source": [
        "numbers = [\n",
        "    {\"SG\": \"yksi\"},\n",
        "    {\"PL\": \"kaksi\"},\n",
        "    {\"PL\": \"kolme\"},\n",
        "    {\"PL\": \"neljä\"},\n",
        "    {\"PL\": \"viisi\"},\n",
        "    {\"PL\": \"kuusi\"},\n",
        "    {\"PL\": \"seitsemän\"},\n",
        "    {\"PL\": \"kahdeksan\"},\n",
        "    {\"PL\": \"yhdeksän\"},\n",
        "    {\"PL\": \"kymmenen\"}\n",
        "]\n",
        "\n",
        "nb_2_str = {\n",
        "    \"1\": \"yksi\", \"2\": \"kaksi\", \"3\": \"kolme\",\n",
        "    \"4\": \"neljä\", \"5\": \"viisi\", \"6\": \"kuusi\",\n",
        "    \"7\": \"seitsemän\", \"8\": \"kahdeksan\", \"9\": \"yhdeksän\",\n",
        "    \"10\": \"kymmenen\", \"11\": \"yksitoista\", \"12\": \"kaksitoista\",\n",
        "    \"13\": \"kolmetoista\", \"14\": \"neljätoista\", \"15\": \"viisitoista\",\n",
        "    \"16\": \"kuusitoista\", \"17\": \"seitsemäntoista\", \"18\": \"kahdeksantoista\",\n",
        "    \"19\": \"yhdeksäntoista\", \"20\": \"kaksikymmentä\"\n",
        "}\n",
        "\n",
        "str_2_nb = {v:k for k,v in nb_2_str.items()}\n",
        "\n",
        "fn_sum = lambda a,b: nb_2_str[str(int(str_2_nb[a])+int(str_2_nb[b]))].capitalize()\n",
        "\n",
        "# C: Pöydällä on O omenaa ja A appelsiinia.\n",
        "# Q: Kuinka monta hedelmää on pöydällä? A: [O+A].\n",
        "\n",
        "# yksi NOM, rest SG PRT\n",
        "\n",
        "t = FI.template( # SG.PRT always after a number\n",
        "    \"C: Pöydällä on {number1} {fruit1.\u003cNOM:number1.SG|PRT:number1.PL\u003e.SG} \" +\n",
        "    \"ja {number2} {fruit2.\u003cNOM:number2.SG|PRT:number2.PL\u003e.SG}. \" +\n",
        "    \"Q: Kuinka monta hedelmää on pöydällä yhteensä? A: {$sum(number1,number2)}.\",\n",
        "    number=numbers, fruit=FRUITS['fi'], sum = fn_sum, verbose=False,\n",
        "    same_keys_cfg=SAME_KEYS_CFGS[TEMPS[2]], template_name=TEMPS[2]\n",
        ")\n",
        "\n",
        "t(3000)"
      ]
    },
    {
      "cell_type": "markdown",
      "metadata": {
        "id": "3mJ9AUOyHcbe"
      },
      "source": [
        "##### Italian"
      ]
    },
    {
      "cell_type": "code",
      "execution_count": null,
      "metadata": {
        "id": "9e5rEc9FHdol"
      },
      "outputs": [],
      "source": [
        "numbers = [ # un'arancia, un'anguria\n",
        "    {\"SG.MASC\": \"un\", \"SG.FEM.VOW\": \"una'\", \"SG.FEM.CONS\": \"una\"},\n",
        "    {\"PL\": \"due\"},\n",
        "    {\"PL\": \"tre\"},\n",
        "    {\"PL\": \"quattro\"},\n",
        "    {\"PL\": \"cinque\"},\n",
        "    {\"PL\": \"sei\"},\n",
        "    {\"PL\": \"sette\"},\n",
        "    {\"PL\": \"otto\"},\n",
        "    {\"PL\": \"nove\"},\n",
        "    {\"PL\": \"dieci\"}\n",
        "]\n",
        "\n",
        "nb_2_str = { # mangia in presente\n",
        "    \"1\": \"uno\", \"2\": \"due\", \"3\": \"tre\",\n",
        "    \"4\": \"quattro\", \"5\": \"cinque\", \"6\": \"sei\",\n",
        "    \"7\": \"sette\", \"8\": \"otto\", \"9\": \"nove\",\n",
        "    \"10\": \"dieci\", \"11\": \"undici\", \"12\": \"dodici\",\n",
        "    \"13\": \"tredici\", \"14\": \"quattordici\", \"15\": \"quindici\",\n",
        "    \"16\": \"sedici\", \"17\": \"diciassette\", \"18\": \"diciotto\",\n",
        "    \"19\": \"diciannove\", \"20\": \"venti\"\n",
        "}\n",
        "\n",
        "str_2_nb = {v:k for k,v in nb_2_str.items()}\n",
        "str_2_nb['un'] = \"1\"\n",
        "str_2_nb['una'] = \"1\"\n",
        "str_2_nb[\"una'\"] = \"1\"\n",
        "\n",
        "def fn_sum(a,b,gender):\n",
        "  nb = str(int(str_2_nb[a])+int(str_2_nb[b]))\n",
        "  if nb == \"1\" and gender == \"FEM\":\n",
        "    return 'Una'\n",
        "\n",
        "  return nb_2_str[nb].capitalize()\n",
        "\n",
        "# C: Sul tavolo ci sono X mele e Y banane. Q: Quanti frutti ci sono sul tavolo? A: [X+Y].\n",
        "\n",
        "t = IT.template(\n",
        "    \"C: Sul tavolo {c'è:number1.SG|ci sono:number1.PL} {number1.\u003cfruit1.GENDER.STARTSWITH\u003e} \" +\n",
        "    \"{fruit1.\u003cnumber1.NUMBER\u003e} e {number2.\u003cfruit2.GENDER.STARTSWITH\u003e} {fruit2.\u003cnumber2.NUMBER\u003e}.\" +\n",
        "    \" Q: Quanti frutti ci sono in totale sul tavolo?\" +\n",
        "    \" A: {$sum(number1.\u003cfruit1.GENDER.STARTSWITH\u003e,number2.\u003cfruit2.GENDER.STARTSWITH\u003e,fruit2.GENDER)}.\",\n",
        "    number=numbers, fruit=FRUITS['it'], sum = fn_sum, verbose=True,\n",
        "    same_keys_cfg=SAME_KEYS_CFGS[TEMPS[2]], template_name=TEMPS[2]\n",
        ")\n",
        "\n",
        "t(3000, randomized=False)"
      ]
    },
    {
      "cell_type": "markdown",
      "metadata": {
        "id": "DRCwKdQYEqHn"
      },
      "source": [
        "##### Swedish"
      ]
    },
    {
      "cell_type": "code",
      "execution_count": null,
      "metadata": {
        "id": "C8owwuA4EuZ9"
      },
      "outputs": [],
      "source": [
        "numbers = [\n",
        "    {\"SG.NEUT\": \"ett\", \"SG.COMMON\": \"en\"},\n",
        "    {\"PL\": \"två\"},\n",
        "    {\"PL\": \"tre\"},\n",
        "    {\"PL\": \"fyra\"},\n",
        "    {\"PL\": \"fem\"},\n",
        "    {\"PL\": \"sex\"},\n",
        "    {\"PL\": \"sju\"},\n",
        "    {\"PL\": \"åtta\"},\n",
        "    {\"PL\": \"nio\"},\n",
        "    {\"PL\": \"tio\"}\n",
        "]\n",
        "\n",
        "nb_2_str = {\n",
        "    \"1\": \"ett\", \"2\": \"två\", \"3\": \"tre\",\n",
        "    \"4\": \"fyra\", \"5\": \"fem\", \"6\": \"sex\",\n",
        "    \"7\": \"sju\", \"8\": \"åtta\", \"9\": \"nio\",\n",
        "    \"10\": \"tio\", \"11\": \"elva\", \"12\": \"tolv\",\n",
        "    \"13\": \"tretton\", \"14\": \"fjorton\", \"15\": \"femton\",\n",
        "    \"16\": \"sexton\", \"17\": \"sjutton\", \"18\": \"arton\",\n",
        "    \"19\": \"nitton\", \"20\": \"tjugo\"\n",
        "}\n",
        "\n",
        "str_2_nb = {v:k for k,v in nb_2_str.items()}\n",
        "str_2_nb['en'] = \"1\"\n",
        "\n",
        "fn_sum = lambda a,b: nb_2_str[str(int(str_2_nb[a])+int(str_2_nb[b]))].capitalize()\n",
        "\n",
        "# C: På bordet står det A äpplen och P päron. Q: Hur många frukter finns det på bordet? A: [A+P].\n",
        "\n",
        "t = SV.template(\n",
        "    \"C: På bordet står det {number1.\u003cfruit1.GENDER\u003e} {fruit1.\u003cnumber1.NUMBER\u003e} och \" +\n",
        "    \"{number2.\u003cfruit2.GENDER\u003e} {fruit2.\u003cnumber2.NUMBER\u003e}. \" +\n",
        "    \"Q: Hur många frukter finns det på bordet totalt? A: {$sum(number1.\u003cfruit1.GENDER\u003e,number2.\u003cfruit2.GENDER\u003e)}.\",\n",
        "    number=numbers, fruit=FRUITS['sv'], sum = fn_sum, verbose=False,\n",
        "    same_keys_cfg=SAME_KEYS_CFGS[TEMPS[2]], template_name=TEMPS[2]\n",
        ")\n",
        "\n",
        "t(3000)"
      ]
    },
    {
      "cell_type": "markdown",
      "metadata": {
        "id": "v1VRxCiwWpsF"
      },
      "source": [
        "#### Numerals - Numerals in question"
      ]
    },
    {
      "cell_type": "markdown",
      "metadata": {
        "id": "FhdjcLFnWpsF"
      },
      "source": [
        "##### English"
      ]
    },
    {
      "cell_type": "code",
      "execution_count": null,
      "metadata": {
        "id": "nMn_t5-2WpsF"
      },
      "outputs": [],
      "source": [
        "names = list(set([list(e.values())[0] for e in NAMES['en'] if list(e.keys())[0].startswith(\"SG\")]))[:4]\n",
        "\n",
        "numbers_high = [\n",
        "    {\"PL\": \"two\"},\n",
        "    {\"PL\": \"three\"},\n",
        "    {\"PL\": \"four\"},\n",
        "    {\"PL\": \"five\"},\n",
        "    {\"PL\": \"six\"},\n",
        "    {\"PL\": \"seven\"},\n",
        "    {\"PL\": \"eight\"},\n",
        "    {\"PL\": \"nine\"},\n",
        "    {\"PL\": \"ten\"}\n",
        "]\n",
        "\n",
        "numbers_low = [\n",
        "    {\"PL\": \"zero\"},\n",
        "    {\"SG\": \"one\"},\n",
        "    {\"PL\": \"two\"}\n",
        "]\n",
        "\n",
        "nb_2_str = {\n",
        "    \"0\": \"zero\", \"1\": \"one\", \"2\": \"two\", \"3\": \"three\",\n",
        "    \"4\": \"four\", \"5\": \"five\", \"6\": \"six\",\n",
        "    \"7\": \"seven\", \"8\": \"eight\", \"9\": \"nine\",\n",
        "    \"10\": \"ten\", \"11\": \"eleven\", \"12\": \"twelve\",\n",
        "    \"13\": \"thirteen\", \"14\": \"fourteen\", \"15\": \"fifteen\",\n",
        "    \"16\": \"sixteen\", \"17\": \"seventeen\", \"18\": \"eighteen\",\n",
        "    \"19\": \"nineteen\", \"20\": \"twenty\"\n",
        "}\n",
        "\n",
        "str_2_nb = {v:k for k,v in nb_2_str.items()}\n",
        "\n",
        "fn_diff = lambda a,b: nb_2_str[str(\n",
        "    int(str_2_nb[a])-int(str_2_nb[b])\n",
        ")].capitalize()\n",
        "\n",
        "# C: There are A apples and P pears on the table. X ate M apples.\n",
        "# Q: How many apples are on the table? A: [A-M].\n",
        "\n",
        "t = EN.template(\n",
        "    \"C: There {is:number1.SG|are:number1.PL} {number1} {fruit1.\u003cnumber1.NUMBER\u003e} \" +\n",
        "    \"and {number2} {fruit2.\u003cnumber2.NUMBER\u003e} on the table. \" +\n",
        "    \"{name} ate {number_low} {fruit1.\u003cnumber_low.NUMBER\u003e}. \" +\n",
        "    \"Q: How many {fruit1.PL} are on the table? A: {$diff(number1,number_low)}.\",\n",
        "    number_low=numbers_low, number=numbers_high, name=names,\n",
        "    fruit=FRUITS['en'], diff = fn_diff, verbose=False,\n",
        "    same_keys_cfg=SAME_KEYS_CFGS[TEMPS[3]], template_name=TEMPS[3]\n",
        ")\n",
        "\n",
        "t(20000)"
      ]
    },
    {
      "cell_type": "markdown",
      "metadata": {
        "id": "0osM3XJQWpsF"
      },
      "source": [
        "##### Slovak"
      ]
    },
    {
      "cell_type": "code",
      "execution_count": null,
      "metadata": {
        "id": "LjTmFDQFWpsF"
      },
      "outputs": [],
      "source": [
        "names = random.sample([\n",
        "    {list(e.keys())[0].split(\".\")[1]: list(e.values())[0]}\n",
        "    for e in NAMES['sk'] if list(e.keys())[0].startswith(\"SG.\")\n",
        "], 4)\n",
        "\n",
        "numbers_high = [\n",
        "    {\"PL.MASC\": \"dva\", \"PL.NEUT\": \"dve\", \"PL.FEM\": \"dve\"},\n",
        "    {\"PL\": \"tri\"},\n",
        "    {\"PL\": \"štyri\"},\n",
        "    {\"GTPL\": \"päť\"},\n",
        "    {\"GTPL\": \"šesť\"},\n",
        "    {\"GTPL\": \"sedem\"},\n",
        "    {\"GTPL\": \"osem\"},\n",
        "    {\"GTPL\": \"deväť\"},\n",
        "    {\"GTPL\": \"desať\"}\n",
        "]\n",
        "\n",
        "numbers_low = [\n",
        "    {\"GTPL\": \"nula\"},\n",
        "    {\"SG.MASC\": \"jeden\", \"SG.NEUT\": \"jedno\", \"SG.FEM\": \"jednu\"},\n",
        "    {\"PL.MASC\": \"dva\", \"PL.NEUT\": \"dve\", \"PL.FEM\": \"dve\"},\n",
        "]\n",
        "\n",
        "str_2_nb, nb_2_str = {}, {}\n",
        "for nb, val in zip(map(str, range(0,11)), numbers_low+numbers_high[1:]):\n",
        "  # jeden -\u003e 1, jedno -\u003e 1 ...\n",
        "  for k, v in val.items():\n",
        "    str_2_nb[v] = nb\n",
        "  # 1 -\u003e jedno, 2 -\u003e dve, 3 -\u003e tri\n",
        "  if len(val) == 1:\n",
        "    nb_2_str[nb] = list(val.values())[0]\n",
        "  else:\n",
        "    # takes neut value by default\n",
        "    v = [v for k, v in val.items() if \"NEUT\" in k][0]\n",
        "    nb_2_str[nb] = v\n",
        "\n",
        "for nb, s in zip(\n",
        "    map(str, range(11,21)),\n",
        "    [\"jedenásť\", \"dvanásť\", \"trinásť\", \"štrnásť\", \"pätnásť\",\n",
        "     \"šestnásť\", \"sedemnásť\", \"osemnásť\", \"devätnásť\", \"dvadsať\"]\n",
        "  ):\n",
        "  nb_2_str[nb] = s\n",
        "str_2_nb['jednu'] = 1\n",
        "\n",
        "def fn_diff(a,b,gender):\n",
        "  nb = str(int(str_2_nb[a])-int(str_2_nb[b]))\n",
        "\n",
        "  if nb == '2' and gender == \"MASC\": return \"Dva\"\n",
        "  elif nb == '1' and gender != \"NEUT\":\n",
        "    if gender == \"MASC\": return \"Jeden\"\n",
        "    elif gender == \"FEM\": return \"Jedna\"\n",
        "  return nb_2_str[nb].capitalize()\n",
        "\n",
        "# C: Na stole je J jabĺk a H hrušiek. X zjedol K jabĺk.\n",
        "# Q: Koľko jabĺk je na stole? A: [J+H].\n",
        "\n",
        "t = SK.template(\n",
        "    \"C: Na stole {je:number1.SG|sú:number1.PL|je:number1.GTPL} \" +\n",
        "    \"{number1.\u003cfruit1.GENDER\u003e} {fruit1.NOM.\u003cnumber1.NUMBER\u003e} \" +\n",
        "    \"a {number2.\u003cfruit2.GENDER\u003e} {fruit2.NOM.\u003cnumber2.NUMBER\u003e}. \" +\n",
        "    \"{name} {zjedol:name.MASC|zjedla:name.FEM} \" +\n",
        "    \"{number_low.\u003cfruit1.GENDER\u003e} \" +\n",
        "    \"{fruit1.\u003cACC:number_low.SG|NOM\u003e.\u003cnumber_low.NUMBER\u003e}. \" +\n",
        "    \"Q: Koľko {fruit1.NOM.GTPL} je na stole? \" +\n",
        "    \"A: {$diff(number1.\u003cfruit1.GENDER\u003e,number_low.\u003cfruit1.GENDER\u003e,fruit1.GENDER)}.\",\n",
        "    number_low=numbers_low, number=numbers_high, name=names,\n",
        "    fruit=FRUITS['sk'], diff = fn_diff, verbose=False,\n",
        "    same_keys_cfg=SAME_KEYS_CFGS[TEMPS[3]], template_name=TEMPS[3]\n",
        ")\n",
        "\n",
        "t(20000)"
      ]
    },
    {
      "cell_type": "markdown",
      "metadata": {
        "id": "rZ2ey9YeWpsG"
      },
      "source": [
        "##### Russian"
      ]
    },
    {
      "cell_type": "code",
      "execution_count": null,
      "metadata": {
        "id": "vvUWAyfAWpsG"
      },
      "outputs": [],
      "source": [
        "names = random.sample([\n",
        "    {list(e.keys())[0].split(\".\")[1]: list(e.values())[0]}\n",
        "    for e in NAMES['ru'] if list(e.keys())[0].startswith(\"SG.\")\n",
        "], 4)\n",
        "\n",
        "numbers_high = [\n",
        "    {\"PL.MASC\": \"два\", \"PL.NEUT\": \"два\", \"PL.FEM\": \"две\"},\n",
        "    {\"PL\": \"три\"},\n",
        "    {\"PL\": \"четыре\"},\n",
        "    {\"GTPL\": \"пять\"},\n",
        "    {\"GTPL\": \"шесть\"},\n",
        "    {\"GTPL\": \"семь\"},\n",
        "    {\"GTPL\": \"восемь\"},\n",
        "    {\"GTPL\": \"девять\"},\n",
        "    {\"GTPL\": \"десять\"}\n",
        "]\n",
        "\n",
        "numbers_low = [\n",
        "    {\"GTPL\": \"ноль\"},\n",
        "    {\"SG.MASC\": \"один\", \"SG.NEUT\": \"одно\", \"SG.FEM\": \"одну\"},\n",
        "    {\"PL.MASC\": \"два\", \"PL.NEUT\": \"два\", \"PL.FEM\": \"две\"}\n",
        "]\n",
        "\n",
        "str_2_nb, nb_2_str = {}, {}\n",
        "for nb, val in zip(map(str, range(0,11)), numbers_low+numbers_high[1:]):\n",
        "  # один -\u003e 1, одно -\u003e 1 ...\n",
        "  for k, v in val.items():\n",
        "    str_2_nb[v] = nb\n",
        "  # 1 -\u003e один, 2 -\u003e два, 3 -\u003e три\n",
        "  if len(val) == 1:\n",
        "    nb_2_str[nb] = list(val.values())[0]\n",
        "  else:\n",
        "    # takes neut value by default\n",
        "    v = [v for k, v in val.items() if \"MASC\" in k][0]\n",
        "    nb_2_str[nb] = v\n",
        "\n",
        "for nb, s in zip(\n",
        "    map(str, range(11,21)),\n",
        "    [\"одиннадцать\", \"двенадцать\", \"тринадцать\", \"четырнадцать\", \"пятнадцать\", \"шестнадцать\",\n",
        "     \"семнадцать\", \"восемнадцать\", \"девятнадцать\", \"двадцать\"]\n",
        "  ):\n",
        "  nb_2_str[nb] = s\n",
        "\n",
        "def fn_diff(a, b, gender):\n",
        "  out = nb_2_str[str(abs(int(str_2_nb[a])-int(str_2_nb[b])))]\n",
        "  if out == \"один\" and gender != \"MASC\":\n",
        "    out = \"одно\" if gender == \"NEUT\" else \"одна\"\n",
        "  elif out == \"два\" and gender == \"FEM\":\n",
        "    out = \"две\"\n",
        "  return out.capitalize()\n",
        "\n",
        "# C: На столе я яблок и г груш. Павел съел 3 яблока.\n",
        "# Q: Сколько яблок на столе? A: [я-3].\n",
        "\n",
        "t = RU.template(\n",
        "    \"C: На столе {number1.\u003cfruit1.GENDER\u003e} {fruit1.NOM.\u003cnumber1.NUMBER\u003e} \" +\n",
        "    \"и {number2.\u003cfruit2.GENDER\u003e} {fruit2.NOM.\u003cnumber2.NUMBER\u003e}. \" +\n",
        "    \"{name} {съел:name.MASC|съела:name.FEM} \" +\n",
        "    \"{number_low.\u003cfruit1.GENDER\u003e} \" +\n",
        "    \"{fruit1.\u003cACC:number_low.SG|NOM\u003e.\u003cnumber_low.NUMBER\u003e}. \" +\n",
        "    \"Q: Сколько {fruit1.NOM.GTPL} на столе? A: {$diff(number1.\u003cfruit1.GENDER\u003e,number_low.\u003cfruit1.GENDER\u003e,fruit1.GENDER)}.\",\n",
        "    number_low=numbers_low, number=numbers_high, name=names,\n",
        "    fruit=FRUITS['ru'], diff = fn_diff, verbose=False,\n",
        "    same_keys_cfg=SAME_KEYS_CFGS[TEMPS[3]], template_name=TEMPS[3]\n",
        ")\n",
        "\n",
        "t(20000)"
      ]
    },
    {
      "cell_type": "markdown",
      "metadata": {
        "id": "FJEH-dO2WpsG"
      },
      "source": [
        "##### German"
      ]
    },
    {
      "cell_type": "code",
      "execution_count": null,
      "metadata": {
        "id": "veaFdqSwWpsH"
      },
      "outputs": [],
      "source": [
        "names = random.sample([\n",
        "    {list(e.keys())[0].split(\".\")[1]: list(e.values())[0]}\n",
        "    for e in NAMES['de'] if list(e.keys())[0].startswith(\"SG.\")\n",
        "], 4)\n",
        "\n",
        "numbers_high = [\n",
        "    {\"PL.MASC\": \"zwei\", \"PL.FEM\": \"zwei\"},\n",
        "    {\"PL\": \"drei\"},\n",
        "    {\"PL\": \"vier\"},\n",
        "    {\"PL\": \"fünf\"},\n",
        "    {\"PL\": \"sechs\"},\n",
        "    {\"PL\": \"sieben\"},\n",
        "    {\"PL\": \"acht\"},\n",
        "    {\"PL\": \"neun\"},\n",
        "    {\"PL\": \"zehn\"}\n",
        "]\n",
        "\n",
        "numbers_low = [\n",
        "    {\"SG.MASC\": \"kein\", \"SG.FEM\": \"keine\"},\n",
        "    {\"SG.MASC\": \"ein\", \"SG.FEM\": \"eine\"},\n",
        "    {\"PL\": \"zwei\"},\n",
        "]\n",
        "\n",
        "nb_2_str = {\n",
        "    \"0\": \"null\",\n",
        "    \"1\": \"ein\",\n",
        "    \"2\": \"zwei\",\n",
        "    \"3\": \"drei\",\n",
        "    \"4\": \"vier\",\n",
        "    \"5\": \"fünf\",\n",
        "    \"6\": \"sechs\",\n",
        "    \"7\": \"sieben\",\n",
        "    \"8\": \"acht\",\n",
        "    \"9\": \"neun\",\n",
        "    \"10\": \"zehn\",\n",
        "    \"11\": \"elf\",\n",
        "    \"12\": \"zwölf\",\n",
        "    \"13\": \"dreizehn\",\n",
        "    \"14\": \"vierzehn\",\n",
        "    \"15\": \"fünfzehn\",\n",
        "    \"16\": \"sechzehn\",\n",
        "    \"17\": \"siebzehn\",\n",
        "    \"18\": \"achtzehn\",\n",
        "    \"19\": \"neunzehn\",\n",
        "    \"20\": \"zwanzig\"\n",
        "}\n",
        "\n",
        "str_2_nb = {v:k for k,v in nb_2_str.items()}\n",
        "str_2_nb[\"eine\"] = \"1\"\n",
        "str_2_nb[\"keine\"] = \"0\"\n",
        "\n",
        "fn_diff = lambda a,b: nb_2_str[str(int(str_2_nb[a])-int(str_2_nb[b]))].capitalize()\n",
        "\n",
        "def fn_diff(a, b, gender):\n",
        "  out = nb_2_str[str(\n",
        "    int(str_2_nb[a])-int(str_2_nb[b]))\n",
        "  ]\n",
        "  if out == \"ein\" and gender == 'FEM':\n",
        "    out += \"e\"\n",
        "\n",
        "  return out.capitalize()\n",
        "\n",
        "# C: Es gibt A Äpfel und B Birnen auf dem Tisch. Johann aß C Äpfel.\n",
        "# Q: Wie viele Äpfel gibt es auf dem Tisch? A: [A-C].\n",
        "\n",
        "t = DE.template(\n",
        "    \"C: Es gibt {number1.\u003cfruit1.GENDER\u003e} {fruit1.\u003cnumber1.NUMBER\u003e} und \" +\n",
        "    \"{number2.\u003cfruit2.GENDER\u003e} {fruit2.\u003cnumber2.NUMBER\u003e} \" +\n",
        "    \"auf dem Tisch. {name} aß {number_low.\u003cfruit1.GENDER\u003e} {fruit1.\u003cnumber_low.NUMBER\u003e}. \" +\n",
        "    \"Q: Wie viele {fruit1.PL} gibt es auf dem Tisch? \" +\n",
        "    \"A: {$diff(number1.\u003cfruit1.GENDER\u003e,number_low.\u003cfruit1.GENDER\u003e,fruit1.GENDER)}.\",\n",
        "    number=numbers_high, number_low=numbers_low, fruit=FRUITS['de'], name=names,\n",
        "    diff = fn_diff, verbose=False,\n",
        "    same_keys_cfg=SAME_KEYS_CFGS[TEMPS[3]], template_name=TEMPS[3]\n",
        ")\n",
        "\n",
        "t(500)"
      ]
    },
    {
      "cell_type": "markdown",
      "metadata": {
        "id": "NtSMQbLnWpsH"
      },
      "source": [
        "##### Arabic"
      ]
    },
    {
      "cell_type": "code",
      "execution_count": null,
      "metadata": {
        "id": "2D5D2PZ1WpsH"
      },
      "outputs": [],
      "source": [
        "numbers_high = [\n",
        "    {\"DU\": \"\"},\n",
        "    {\"PL.FEM.BEF\": \" ثلاث\", \"PL.MASC.BEF\": \" ثلاثة\", \"AFT\": \"\"},\n",
        "    {\"PL.FEM.BEF\": \" أربعة\", \"PL.MASC.BEF\": \" أربع\", \"AFT\": \"\"},\n",
        "    {\"PL.FEM.BEF\": \" خمسة\", \"PL.MASC.BEF\": \" خمس\", \"AFT\": \"\"},\n",
        "    {\"PL.FEM.BEF\": \" ستة\", \"PL.MASC.BEF\": \" ست\", \"AFT\": \"\"},\n",
        "    {\"PL.FEM.BEF\": \" سبعة\", \"PL.MASC.BEF\": \" سبع\", \"AFT\": \"\"},\n",
        "    {\"PL.FEM.BEF\": \" ثمانية\", \"PL.MASC.BEF\": \" ثماني\", \"AFT\": \"\"},\n",
        "    {\"PL.FEM.BEF\": \" تسعة\", \"PL.MASC.BEF\": \" تسع\", \"AFT\": \"\"},\n",
        "    {\"PL.FEM.BEF\": \" عشرة\", \"PL.MASC.BEF\": \" عشر\", \"AFT\": \"\"},\n",
        "]\n",
        "\n",
        "numbers_low = [\n",
        "    {\"PL.MASC.BEF\": \"صفر\", \"PL.FEM.BEF\": \"صفر\", \"PL.AFT\": \"\"},\n",
        "    {\"SG.MASC.AFT\": \"واحد \" , \"SG.FEM.AFT\": \"واحدة \", \"BEF\": \"\"},\n",
        "    {\"DU\": \"\"},\n",
        "]\n",
        "str_2_nb, nb_2_str = {}, {}\n",
        "for nb, val in zip(map(str, range(11)), numbers_low+numbers_high[1:]):\n",
        "  # واحد -\u003e 1 , واحدة -\u003e 1 ...\n",
        "  for k, v in val.items():\n",
        "    str_2_nb[v] = nb.strip(\" \")\n",
        "  # 1 -\u003e واحدة\n",
        "  # 2 -\u003e واحدة\n",
        "  # 3 -\u003e ثلاثة\n",
        "  if len(val) == 1:\n",
        "    nb_2_str[nb] = list(val.values())[0]\n",
        "  else:\n",
        "    # takes FEM value by default\n",
        "    v = [v for k, v in val.items() if \"FEM\" in k][0]\n",
        "    nb_2_str[nb] = v\n",
        "\n",
        "for nb, s in zip(\n",
        "    map(str, range(11,21)),\n",
        "    [\"أحد عشر\",\n",
        "     \"اثني عشر\",\n",
        "     \"ثلاثة عشر\",\n",
        "     \"أربعة عشر\",\n",
        "     \"خمسة عشر\",\n",
        "     \"ستة عشر\",\n",
        "     \"سبعة عشر\",\n",
        "     \"ثمانية عشر\",\n",
        "     \"تسعة عشر\",\n",
        "     \"عشرين\"]\n",
        "  ):\n",
        "  nb_2_str[nb] = s\n",
        "nb_2_str['2'] = \"اثنين\"\n",
        "\n",
        "def fn_diff(nb1_bef, nb1_aft, nb2_bef, nb2_aft):\n",
        "  int1 = int(str_2_nb[nb1_bef+nb1_aft]) if nb1_bef or nb1_aft else 2\n",
        "  int2 = int(str_2_nb[nb2_bef+nb2_aft]) if nb2_bef or nb2_aft else 2\n",
        "  return nb_2_str[str(abs(int1-int2))].capitalize().strip(\" \")\n",
        "\n",
        "names = [\n",
        "    {list(e.keys())[0].split(\".\")[1]: list(e.values())[0]}\n",
        "    for e in NAMES['ar'] if list(e.keys())[0].startswith(\"SG.\")\n",
        "]\n",
        "\n",
        "# .هناك ثلاثة تفاحات وسبعة برتقالات على الطاولة. أكلت ليلى تفاحة واحدة :C\n",
        "# كم عدد التفاحات المتبقية على الطاولة؟ :Q\n",
        "# .تفاحتين :A\n",
        "\n",
        "t = AR.template(\n",
        "    \".\\u200e{$diff(number1.BEF.\u003cfruit1.GENDER\u003e,number1.AFT.\u003cfruit1.GENDER\u003e,number_low.BEF.\u003cfruit1.GENDER\u003e,number_low.AFT.\u003cfruit1.GENDER\u003e)} \\u200e:A \" +\n",
        "    \"\\u200eعلى الطاولة؟ \\u200eال{fruit1.ACC.PL} \\u200eكم عدد  \\u200e:Q \" +\n",
        "    \".\\u200e{number_low.AFT.\u003cfruit1.GENDER\u003e} \\u200e{fruit1.ACC.\u003cnumber_low.NUMBER\u003e} \\u200e{number_low.BEF.\u003cfruit1.GENDER\u003e} \" +\n",
        "    \"\\u200e{name} \\u200e{أكل:name.MASC|أكلت:name.FEM} \" +\n",
        "    \"\\u200e.على الطاولة \\u200e{number2.AFT.\u003cfruit2.GENDER\u003e} \\u200e{fruit2.NOM.\u003cnumber2.NUMBER\u003e} \\u200e{number2.BEF.\u003cfruit2.GENDER\u003e} \" +\n",
        "    \"\\u200eو \\u200e{number1.AFT.\u003cfruit1.GENDER\u003e} \\u200e{fruit1.NOM.\u003cnumber1.NUMBER\u003e} \\u200e{number1.BEF.\u003cfruit1.GENDER\u003e} \\u200eهناك  \\u200e:C\",\n",
        "    number=numbers_high, number_low=numbers_low, fruit=FRUITS['ar'], name=names,\n",
        "    diff = fn_diff, verbose=False,\n",
        "    same_keys_cfg=SAME_KEYS_CFGS[TEMPS[3]], template_name=TEMPS[3]\n",
        ")\n",
        "\n",
        "s = t(5000, export=False)"
      ]
    },
    {
      "cell_type": "markdown",
      "metadata": {
        "id": "Aqmrss_VWpsH"
      },
      "source": [
        "##### French"
      ]
    },
    {
      "cell_type": "code",
      "execution_count": null,
      "metadata": {
        "id": "1pZZlxx6WpsH"
      },
      "outputs": [],
      "source": [
        "names = random.sample([\n",
        "    {list(e.keys())[0].split(\".\")[1]: list(e.values())[0]}\n",
        "    for e in NAMES['fr'] if list(e.keys())[0].startswith(\"SG.\")\n",
        "], 4)\n",
        "\n",
        "numbers_high = [\n",
        "    {\"PL.MASC\": \"deux\", \"PL.FEM\": \"deux\"},\n",
        "    {\"PL\": \"trois\"},\n",
        "    {\"PL\": \"quatre\"},\n",
        "    {\"PL\": \"cinq\"},\n",
        "    {\"PL\": \"six\"},\n",
        "    {\"PL\": \"sept\"},\n",
        "    {\"PL\": \"huit\"},\n",
        "    {\"PL\": \"neuf\"},\n",
        "    {\"PL\": \"dix\"}\n",
        "]\n",
        "\n",
        "numbers_low = [\n",
        "    {\"SG\": \"zéro\"},\n",
        "    {\"SG.MASC\": \"un\", \"SG.FEM\": \"une\"},\n",
        "    {\"PL\": \"deux\"},\n",
        "]\n",
        "\n",
        "nb_2_str = {\n",
        "    \"0\": \"zéro\", \"1\": \"un\", \"2\": \"deux\", \"3\": \"trois\",\n",
        "    \"4\": \"quatre\", \"5\": \"cinq\", \"6\": \"six\",\n",
        "    \"7\": \"sept\", \"8\": \"huit\", \"9\": \"neuf\",\n",
        "    \"10\": \"dix\", \"11\": \"onze\", \"12\": \"douze\",\n",
        "    \"13\": \"treize\", \"14\": \"quatorze\", \"15\": \"quinze\",\n",
        "    \"16\": \"seize\", \"17\": \"dix-sept\", \"18\": \"dix-huit\",\n",
        "    \"19\": \"dix-neuf\", \"20\": \"vingt\"\n",
        "}\n",
        "\n",
        "str_2_nb = {v:k for k,v in nb_2_str.items()}\n",
        "str_2_nb['une'] = \"1\"\n",
        "\n",
        "def fn_diff(a, b, gender):\n",
        "  out = nb_2_str[str(\n",
        "    int(str_2_nb[a])-int(str_2_nb[b]))\n",
        "  ]\n",
        "  if out == \"un\" and gender == 'FEM':\n",
        "    out += \"e\"\n",
        "\n",
        "  return out.capitalize()\n",
        "\n",
        "# C: Il y a P pommes et M mangues sur la table. Paul a mangé K pommes.\n",
        "# Q: Combien de pommes sont sur la table? A: [P-K].\n",
        "\n",
        "t = FR.template(\n",
        "    \"C: Il y a {number1.\u003cfruit1.GENDER\u003e} {fruit1.\u003cnumber1.NUMBER\u003e} et \" +\n",
        "    \"{number2.\u003cfruit2.GENDER\u003e} {fruit2.\u003cnumber2.NUMBER\u003e} sur la table. \" +\n",
        "    \"{name} a mangé {number_low.\u003cfruit1.GENDER\u003e} {fruit1.\u003cnumber_low.NUMBER\u003e}. \" +\n",
        "    \"Q: Combien {d':fruit1.VOW|de:fruit1.CONS} {fruit1.PL} sont sur la table? \" +\n",
        "    \"A: {$diff(number1.\u003cfruit1.GENDER\u003e,number_low.\u003cfruit1.GENDER\u003e,fruit1.GENDER)}.\",\n",
        "    number=numbers_high, number_low=numbers_low, fruit=FRUITS['fr'], name=names,\n",
        "    diff = fn_diff, verbose=False,\n",
        "    same_keys_cfg=SAME_KEYS_CFGS[TEMPS[3]], template_name=TEMPS[3]\n",
        ")\n",
        "\n",
        "t(20000)"
      ]
    },
    {
      "cell_type": "markdown",
      "metadata": {
        "id": "g5HyrisxWpsH"
      },
      "source": [
        "##### Spanish"
      ]
    },
    {
      "cell_type": "code",
      "execution_count": null,
      "metadata": {
        "id": "Qvcht4RvWpsH"
      },
      "outputs": [],
      "source": [
        "names = random.sample([\n",
        "    {list(e.keys())[0].split(\".\")[1]: list(e.values())[0]}\n",
        "    for e in NAMES['es'] if list(e.keys())[0].startswith(\"SG.\")\n",
        "], 4)\n",
        "\n",
        "numbers_high = [\n",
        "    {\"PL.MASC\": \"dos\", \"PL.FEM\": \"dos\"},\n",
        "    {\"PL\": \"tres\"},\n",
        "    {\"PL\": \"cuatro\"},\n",
        "    {\"PL\": \"cinco\"},\n",
        "    {\"PL\": \"seis\"},\n",
        "    {\"PL\": \"siete\"},\n",
        "    {\"PL\": \"ocho\"},\n",
        "    {\"PL\": \"nueve\"},\n",
        "    {\"PL\": \"diez\"}\n",
        "]\n",
        "\n",
        "numbers_low = [\n",
        "    {\"PL\": \"cero\"},\n",
        "    {\"SG.MASC\": \"un\", \"SG.FEM\": \"una\"},\n",
        "    {\"PL\": \"dos\"},\n",
        "]\n",
        "\n",
        "nb_2_str = {\n",
        "    \"0\": \"cero\", \"1\": \"uno\", \"2\": \"dos\", \"3\": \"tres\",\n",
        "    \"4\": \"cuatro\", \"5\": \"cinco\", \"6\": \"seis\",\n",
        "    \"7\": \"siete\", \"8\": \"ocho\", \"9\": \"nueve\",\n",
        "    \"10\": \"diez\", \"11\": \"once\", \"12\": \"doce\",\n",
        "    \"13\": \"trece\", \"14\": \"catorce\", \"15\": \"quince\",\n",
        "    \"16\": \"dieciséis\", \"17\": \"diecisiete\", \"18\": \"dieciocho\",\n",
        "    \"19\": \"diecinueve\", \"20\": \"veinte\"\n",
        "}\n",
        "\n",
        "str_2_nb = {v:k for k,v in nb_2_str.items()}\n",
        "str_2_nb['una'] = \"1\"\n",
        "str_2_nb['un'] = \"1\"\n",
        "\n",
        "def fn_diff(a, b, gender):\n",
        "  nb = str(int(str_2_nb[a])-int(str_2_nb[b]))\n",
        "  if nb == \"1\" and gender == \"FEM\": return \"Una\"\n",
        "  else: return nb_2_str[nb].capitalize()\n",
        "\n",
        "# C: Hay M manzanas y P peras en la mesa. X comió K manzanas.\n",
        "# Q: ¿Cuántas manzanas hay en la mesa? A: [M-K].\n",
        "\n",
        "t = ES.template(\n",
        "    \"C: Hay {number1.\u003cfruit1.GENDER\u003e} {fruit1.\u003cnumber1.NUMBER\u003e} y \" +\n",
        "    \"{number2.\u003cfruit2.GENDER\u003e} {fruit2.\u003cnumber2.NUMBER\u003e} sobre la mesa. \" +\n",
        "    \"{name} comió {number_low.\u003cfruit1.GENDER\u003e} {fruit1.\u003cnumber_low.NUMBER\u003e}. \" +\n",
        "    \"Q: ¿{Cuántos:fruit1.MASC|Cuántas:fruit1.FEM} {fruit1.PL} hay sobre la mesa? \" +\n",
        "    \"A: {$diff(number1.\u003cfruit1.GENDER\u003e,number_low.\u003cfruit1.GENDER\u003e,fruit1.GENDER)}.\",\n",
        "    number=numbers_high, number_low=numbers_low, fruit=FRUITS['es'], name=names,\n",
        "    diff = fn_diff, verbose=False,\n",
        "    same_keys_cfg=SAME_KEYS_CFGS[TEMPS[3]], template_name=TEMPS[3]\n",
        ")\n",
        "\n",
        "t(20000)"
      ]
    },
    {
      "cell_type": "markdown",
      "metadata": {
        "id": "0s5puFn5WpsH"
      },
      "source": [
        "##### Mandarin"
      ]
    },
    {
      "cell_type": "code",
      "execution_count": null,
      "metadata": {
        "id": "aKJnpmUEWpsH"
      },
      "outputs": [],
      "source": [
        "names = random.sample([\n",
        "    {list(e.keys())[0].split(\".\")[1]: list(e.values())[0]}\n",
        "    for e in NAMES['zh'] if list(e.keys())[0].startswith(\"SG.\")\n",
        "], 4)\n",
        "\n",
        "numbers_high = [\n",
        "    \"二\", \"三\", \"四\", \"五\",\n",
        "    \"六\", \"七\", \"八\", \"九\", \"十\"\n",
        "]\n",
        "\n",
        "numbers_low = [\n",
        "    \"零\", \"一\", \"两\",\n",
        "]\n",
        "\n",
        "nb_2_str = {\n",
        "    \"0\": \"零\", \"1\": \"一\", \"2\": \"两\", \"3\": \"三\",\n",
        "    \"4\": \"四\", \"5\": \"五\", \"6\": \"六\",\n",
        "    \"7\": \"七\", \"8\": \"八\", \"9\": \"九\",\n",
        "    \"10\": \"十\", \"11\": \"十一\", \"12\": \"十二\",\n",
        "    \"13\": \"十三\", \"14\": \"十四\", \"15\": \"十无\",\n",
        "    \"16\": \"十六\", \"17\": \"十七\", \"18\": \"十八\",\n",
        "    \"19\": \"十九\", \"20\": \"二十\"\n",
        "}\n",
        "\n",
        "str_2_nb = {v:k for k,v in nb_2_str.items()}\n",
        "str_2_nb[\"二\"] = \"2\"\n",
        "\n",
        "fn_diff = lambda a,b: nb_2_str[str(abs(int(str_2_nb[a])-int(str_2_nb[b])))].capitalize()\n",
        "\n",
        "# C: 桌子上有K个梨和P个苹果。小涛吃了M个苹果。\n",
        "# Q: 桌子上还有多少水果？A: [K-M]个.\n",
        "\n",
        "t = ZH.template(\n",
        "    \"C: 桌子上有{number1}个{fruit1}和{number2}个{fruit2}。 \" +\n",
        "    \"{name}吃了{number_low}个{fruit1}。 Q: 桌子上还有多少{fruit1}？ \" +\n",
        "    \"A: {$diff(number1,number_low)}个。\",\n",
        "    number=numbers_high, number_low=numbers_low, fruit=FRUITS['zh'], name=names,\n",
        "    diff = fn_diff, verbose=False,\n",
        "    same_keys_cfg=SAME_KEYS_CFGS[TEMPS[3]], template_name=TEMPS[3]\n",
        ")\n",
        "\n",
        "t(20000)"
      ]
    },
    {
      "cell_type": "markdown",
      "metadata": {
        "id": "zTCbU5Z-WpsI"
      },
      "source": [
        "##### Swahili"
      ]
    },
    {
      "cell_type": "code",
      "execution_count": null,
      "metadata": {
        "id": "LLti_42DafXK"
      },
      "outputs": [],
      "source": [
        "names = random.sample([\n",
        "    list(e.values())[0]\n",
        "    for e in NAMES['sw'] if list(e.keys())[0].startswith(\"SG\")\n",
        "], 4)\n",
        "\n",
        "numbers_low = [\n",
        "    {\"SG.MWA\": \"sifuri\", \"SG.NN\": \"sifuri\"},\n",
        "    {\"SG.MWA\": \"moja\", \"SG.NN\": \"moja\"},\n",
        "    {\"PL.MWA\": \"mawili\", \"PL.NN\": \"mbili\"},\n",
        "]\n",
        "\n",
        "numbers_high = [\n",
        "    {\"PL.MWA\": \"mawili\", \"PL.NN\": \"mbili\"},\n",
        "    {\"PL.MWA\": \"matatu\", \"PL.NN\": \"tatu\"},\n",
        "    {\"PL.MWA\": \"manne\", \"PL.NN\": \"nne\"},\n",
        "    {\"PL.MWA\": \"matano\", \"PL.NN\": \"tano\"},\n",
        "    {\"PL.MWA\": \"sita\", \"PL.NN\": \"sita\"},\n",
        "    {\"PL.MWA\": \"saba\", \"PL.NN\": \"saba\"},\n",
        "    {\"PL.MWA\": \"manane\", \"PL.NN\": \"nane\"},\n",
        "    {\"PL.MWA\": \"tisa\", \"PL.NN\": \"tisa\"},\n",
        "    {\"PL.MWA\": \"kumi\", \"PL.NN\": \"kumi\"}\n",
        "]\n",
        "\n",
        "numbers_after_10 = [\n",
        "    {\"PL.MWA\": \"kumi na moja\", \"PL.NN\": \"kumi na moja\"},\n",
        "    {\"PL.MWA\": \"kumi na mbili\", \"PL.NN\": \"kumi na mbili\"},\n",
        "    {\"PL.MWA\": \"kumi na tatu\", \"PL.NN\": \"kumi na tatu\"},\n",
        "    {\"PL.MWA\": \"kumi na nne\", \"PL.NN\": \"kumi na nne\"},\n",
        "    {\"PL.MWA\": \"kumi na tano\", \"PL.NN\": \"kumi na tano\"},\n",
        "    {\"PL.MWA\": \"kumi na sita\", \"PL.NN\": \"kumi na sita\"},\n",
        "    {\"PL.MWA\": \"kumi na saba\", \"PL.NN\": \"kumi na saba\"},\n",
        "    {\"PL.MWA\": \"kumi na nane\", \"PL.NN\": \"kumi na nane\"},\n",
        "    {\"PL.MWA\": \"kumi na tisa\", \"PL.NN\": \"kumi na tisa\"},\n",
        "    {\"PL.MWA\": \"ishirini\", \"PL.NN\": \"ishirini\"}\n",
        "]\n",
        "\n",
        "nb_2_str, str_2_nb = {}, {}\n",
        "for nb, d in zip(range(0, 21), numbers_low+numbers_high+numbers_after_10):\n",
        "  nb_2_str[str(nb)] = {\n",
        "      \"MWA\": d[\"SG.MWA\"] if \"SG.MWA\" in d else d[\"PL.MWA\"],\n",
        "      \"NN\": d[\"SG.NN\"]  if \"SG.NN\" in d else d[\"PL.NN\"],\n",
        "  }\n",
        "  str_2_nb[d[\"SG.MWA\"] if \"SG.MWA\" in d else d[\"PL.MWA\"]] = nb\n",
        "  str_2_nb[d[\"SG.NN\"] if \"SG.NN\" in d else d[\"PL.NN\"]] = nb\n",
        "\n",
        "fn_diff = lambda a,b,gender: nb_2_str[str(abs(int(str_2_nb[a])-int(str_2_nb[b])))][gender].capitalize()\n",
        "\n",
        "\n",
        "# C: Kuna ndizi M na maembe P kwenye meza. Barika alikula ndizi moja. Q: Kuna ndizi mangapi kwenye meza? A: [M+P].\n",
        "\n",
        "t = SW.template(\n",
        "    \"C: Kuna {fruit1.\u003cnumber1.NUMBER\u003e} {number1.\u003cfruit1.NOUNSW\u003e} na {fruit2.\u003cnumber2.NUMBER\u003e} {number2.\u003cfruit2.NOUNSW\u003e} kwenye meza. \" +\n",
        "    \"{name} alikula {fruit1.\u003cnumber_low.NUMBER\u003e} {number_low.\u003cfruit1.NOUNSW\u003e}. \" +\n",
        "    \" Q: Kuna {fruit1.PL} mangapi kwenye meza? \" +\n",
        "    \" A: {$diff(number1.\u003cfruit1.NOUNSW\u003e,number_low.\u003cfruit1.NOUNSW\u003e,fruit1.NOUNSW)}.\",\n",
        "    number=numbers_high, number_low=numbers_low, fruit=FRUITS['sw'], name=names,\n",
        "    diff = fn_diff, verbose=False,\n",
        "    same_keys_cfg=SAME_KEYS_CFGS[TEMPS[3]], template_name=TEMPS[3]\n",
        ")\n",
        "\n",
        "t(20000)"
      ]
    },
    {
      "cell_type": "markdown",
      "metadata": {
        "id": "YjJLk5NcWpsI"
      },
      "source": [
        "##### Finnish"
      ]
    },
    {
      "cell_type": "code",
      "execution_count": null,
      "metadata": {
        "id": "csltKpZbWpsI"
      },
      "outputs": [],
      "source": [
        "names = random.sample([\n",
        "    list(e.values())[0]\n",
        "    for e in NAMES['fi'] if list(e.keys())[0].startswith(\"SG\")\n",
        "], 4)\n",
        "\n",
        "numbers_high = [\n",
        "    {\"PL\": \"kaksi\"},\n",
        "    {\"PL\": \"kolme\"},\n",
        "    {\"PL\": \"neljä\"},\n",
        "    {\"PL\": \"viisi\"},\n",
        "    {\"PL\": \"kuusi\"},\n",
        "    {\"PL\": \"seitsemän\"},\n",
        "    {\"PL\": \"kahdeksan\"},\n",
        "    {\"PL\": \"yhdeksän\"},\n",
        "    {\"PL\": \"kymmenen\"}\n",
        "]\n",
        "\n",
        "numbers_low = [\n",
        "    {\"SG.PRT\": \"nolla\"}, # PRT.SG\n",
        "    {\"SG.GEN\": \"yhden\"}, # GEN.SG\n",
        "    {\"PL.PRT\": \"kaksi\"} # PRT.SG\n",
        "]\n",
        "\n",
        "nb_2_str = {\n",
        "    \"0\": \"nolla\", \"1\": \"yksi\", \"2\": \"kaksi\", \"3\": \"kolme\",\n",
        "    \"4\": \"neljä\", \"5\": \"viisi\", \"6\": \"kuusi\",\n",
        "    \"7\": \"seitsemän\", \"8\": \"kahdeksan\", \"9\": \"yhdeksän\",\n",
        "    \"10\": \"kymmenen\", \"11\": \"yksitoista\", \"12\": \"kaksitoista\",\n",
        "    \"13\": \"kolmetoista\", \"14\": \"neljätoista\", \"15\": \"viisitoista\",\n",
        "    \"16\": \"kuusitoista\", \"17\": \"seitsemäntoista\", \"18\": \"kahdeksantoista\",\n",
        "    \"19\": \"yhdeksäntoista\", \"20\": \"kaksikymmentä\"\n",
        "}\n",
        "\n",
        "str_2_nb = {v:k for k,v in nb_2_str.items()}\n",
        "str_2_nb[\"yhden\"] = \"1\"\n",
        "\n",
        "fn_diff = lambda a,b: nb_2_str[str(int(str_2_nb[a])-int(str_2_nb[b]))].capitalize()\n",
        "\n",
        "# C: Pöydällä on O omenaa ja A appelsiinia. Eero söi P omenaa.\n",
        "# Q: Kuinka monta hedelmää on pöydällä? A: [O-P].\n",
        "# {number_low.\u003cGEN:number_low.SG|PRT:number_low.PL\u003e.SG}\n",
        "\n",
        "t = FI.template(\n",
        "    \"C: Pöydällä on {number1} {fruit1.\u003cNOM:number1.SG|PRT:number1.PL\u003e.SG} ja \" +\n",
        "    \"{number2} {fruit2.\u003cNOM:number2.SG|PRT:number2.PL\u003e.SG}. \" +\n",
        "    \"{name} söi {number_low} {fruit1.\u003cnumber_low.CASE\u003e.SG}. \"\n",
        "    \"Q: Kuinka monta {fruit1.PRT.SG} on pöydällä? A: {$diff(number1,number_low)}.\",\n",
        "    number=numbers_high, number_low=numbers_low, fruit=FRUITS['fi'], name=names,\n",
        "    diff = fn_diff, verbose=False,\n",
        "    same_keys_cfg=SAME_KEYS_CFGS[TEMPS[3]], template_name=TEMPS[3]\n",
        ")\n",
        "\n",
        "t(20000)"
      ]
    },
    {
      "cell_type": "markdown",
      "metadata": {
        "id": "tIc3pcuoWpsI"
      },
      "source": [
        "##### Italian"
      ]
    },
    {
      "cell_type": "code",
      "execution_count": null,
      "metadata": {
        "id": "6vOOQWrrWpsI"
      },
      "outputs": [],
      "source": [
        "names = random.sample([\n",
        "    list(e.values())[0]\n",
        "    for e in NAMES['it'] if list(e.keys())[0].startswith(\"SG\")\n",
        "], 4)\n",
        "\n",
        "numbers_high = [\n",
        "    {\"PL.MASC.VOW\": \"due\", \"PL.FEM.VOW\": \"due\", \"PL.MASC.CONS\": \"due\", \"PL.FEM.CONS\": \"due\"},\n",
        "    {\"PL\": \"tre\"},\n",
        "    {\"PL\": \"quattro\"},\n",
        "    {\"PL\": \"cinque\"},\n",
        "    {\"PL\": \"sei\"},\n",
        "    {\"PL\": \"sette\"},\n",
        "    {\"PL\": \"otto\"},\n",
        "    {\"PL\": \"nove\"},\n",
        "    {\"PL\": \"dieci\"}\n",
        "]\n",
        "\n",
        "numbers_low = [\n",
        "    {\"PL\": \"zero\"}, # nessun, # nessuna\n",
        "    {\"SG.MASC\": \"un\", \"SG.FEM.VOW\": \"una'\", \"SG.FEM.CONS\": \"una\"},\n",
        "    {\"PL\": \"due\"},\n",
        "]\n",
        "\n",
        "nb_2_str = {\n",
        "    \"0\": \"zero\", \"1\": \"uno\", \"2\": \"due\", \"3\": \"tre\",\n",
        "    \"4\": \"quattro\", \"5\": \"cinque\", \"6\": \"sei\",\n",
        "    \"7\": \"sette\", \"8\": \"otto\", \"9\": \"nove\",\n",
        "    \"10\": \"dieci\", \"11\": \"undici\", \"12\": \"dodici\",\n",
        "    \"13\": \"tredici\", \"14\": \"quattordici\", \"15\": \"quindici\",\n",
        "    \"16\": \"sedici\", \"17\": \"diciassette\", \"18\": \"diciotto\",\n",
        "    \"19\": \"diciannove\", \"20\": \"venti\"\n",
        "}\n",
        "\n",
        "str_2_nb = {v:k for k,v in nb_2_str.items()}\n",
        "str_2_nb['un'] = \"1\"\n",
        "str_2_nb[\"una'\"] = \"1\"\n",
        "str_2_nb['una'] = \"1\"\n",
        "\n",
        "def fn_diff(a, b, gender):\n",
        "  nb = int(str_2_nb[a])-int(str_2_nb[b])\n",
        "  if nb == 1 and gender == \"FEM\":\n",
        "    return 'Una'\n",
        "  else:\n",
        "    return nb_2_str[str(nb)].capitalize()\n",
        "\n",
        "# C: C: Sul tavolo ci sono X mele e Y banane. Paul ha mangiato Z banane.\n",
        "# Q: Quanti banane ci sono sul tavolo? A: [X-Z].\n",
        "\n",
        "t = IT.template(\n",
        "    \"C: Sul tavolo ci sono {number1.\u003cfruit1.GENDER.STARTSWITH\u003e} {fruit1.\u003cnumber1.NUMBER\u003e} \" +\n",
        "    \"e {number2.\u003cfruit2.GENDER.STARTSWITH\u003e} {fruit2.\u003cnumber2.NUMBER\u003e}. \" +\n",
        "    \"{name} ha mangiato {number_low.\u003cfruit2.GENDER.STARTSWITH\u003e} {fruit2.\u003cnumber_low.NUMBER\u003e}. \" +\n",
        "    \"Q: {Quanti:fruit2.MASC|Quante:fruit2.FEM} {fruit2.PL} ci sono sul tavolo? \" +\n",
        "    \"A: {$diff(number2.\u003cfruit2.GENDER.STARTSWITH\u003e,number_low.\u003cfruit2.GENDER.STARTSWITH\u003e,fruit2.GENDER)}.\",\n",
        "    number=numbers_high, number_low=numbers_low, fruit=FRUITS['it'], name=names,\n",
        "    diff = fn_diff, verbose=False,\n",
        "    same_keys_cfg=SAME_KEYS_CFGS[TEMPS[3]], template_name=TEMPS[3]\n",
        ")\n",
        "\n",
        "t(20000)"
      ]
    },
    {
      "cell_type": "markdown",
      "metadata": {
        "id": "GtswPRd47o2o"
      },
      "source": [
        "##### Swedish"
      ]
    },
    {
      "cell_type": "code",
      "execution_count": null,
      "metadata": {
        "id": "vg6apmtX7q2W"
      },
      "outputs": [],
      "source": [
        "names = [list(e.values())[0] for e in NAMES['sv'][:4]]\n",
        "\n",
        "\n",
        "numbers_high = [\n",
        "    {\"PL.NEUT\": \"två\", \"PL.COMMON\": \"två\"},\n",
        "    {\"PL\": \"tre\"},\n",
        "    {\"PL\": \"fyra\"},\n",
        "    {\"PL\": \"fem\"},\n",
        "    {\"PL\": \"sex\"},\n",
        "    {\"PL\": \"sju\"},\n",
        "    {\"PL\": \"åtta\"},\n",
        "    {\"PL\": \"nio\"},\n",
        "    {\"PL\": \"tio\"}\n",
        "]\n",
        "\n",
        "numbers_low = [\n",
        "    {\"PL\": \"noll\"},\n",
        "    {\"SG.NEUT\": \"ett\", \"SG.COMMON\": \"en\"},\n",
        "    {\"PL\": \"två\"},\n",
        "]\n",
        "\n",
        "nb_2_str = {\n",
        "    \"0\": \"noll\", \"1\": \"ett\", \"2\": \"två\", \"3\": \"tre\",\n",
        "    \"4\": \"fyra\", \"5\": \"fem\", \"6\": \"sex\",\n",
        "    \"7\": \"sju\", \"8\": \"åtta\", \"9\": \"nio\",\n",
        "    \"10\": \"tio\", \"11\": \"elva\", \"12\": \"tolv\",\n",
        "    \"13\": \"tretton\", \"14\": \"fjorton\", \"15\": \"femton\",\n",
        "    \"16\": \"sexton\", \"17\": \"sjutton\", \"18\": \"arton\",\n",
        "    \"19\": \"nitton\", \"20\": \"tjugo\"\n",
        "}\n",
        "\n",
        "str_2_nb = {v:k for k,v in nb_2_str.items()}\n",
        "str_2_nb['en'] = \"1\"\n",
        "str_2_nb['noll'] = \"0\"\n",
        "\n",
        "# add gender en/ett\n",
        "def fn_diff(a, b, gender):\n",
        "  nb = str(\n",
        "    int(str_2_nb[a])-int(str_2_nb[b])\n",
        "  )\n",
        "  if nb == \"1\" and gender == \"COMMON\":\n",
        "    return \"En\"\n",
        "  return nb_2_str[nb].capitalize()\n",
        "\n",
        "# C: På bordet står A äpplen och P päron. Andreas åt B äpplen.\n",
        "# Q: Hur många frukter finns på bordet? A: [A-B].\n",
        "\n",
        "t = SV.template(\n",
        "    \"C: På bordet står {number1.\u003cfruit1.GENDER\u003e} {fruit1.\u003cnumber1.NUMBER\u003e} och \" +\n",
        "    \"{number2.\u003cfruit2.GENDER\u003e} {fruit2.\u003cnumber2.NUMBER\u003e}. {name} åt \" +\n",
        "    \"{number_low.\u003cfruit1.GENDER\u003e} {fruit1.\u003cnumber_low.NUMBER\u003e}. \" +\n",
        "    \"Q: Hur många {fruit1.PL} finns på bordet? \" +\n",
        "    \"A: {$diff(number1.\u003cfruit1.GENDER\u003e,number_low.\u003cfruit1.GENDER\u003e,fruit1.GENDER)}.\",\n",
        "    number_low=numbers_low, number=numbers_high, name=names, fruit=FRUITS['sv'],\n",
        "    diff = fn_diff, verbose=False,\n",
        "    same_keys_cfg=SAME_KEYS_CFGS[TEMPS[3]], template_name=TEMPS[3]\n",
        ")\n",
        "\n",
        "t(20000)"
      ]
    },
    {
      "cell_type": "markdown",
      "metadata": {
        "id": "-BVaCpsjfKdy"
      },
      "source": [
        "### Spatial Reasoning"
      ]
    },
    {
      "cell_type": "markdown",
      "metadata": {
        "id": "KLJwUy7caDdH"
      },
      "source": [
        "#### Spatial reasoning - Prepositions"
      ]
    },
    {
      "cell_type": "markdown",
      "metadata": {
        "id": "74Z0B96-fYXR"
      },
      "source": [
        "##### English"
      ]
    },
    {
      "cell_type": "code",
      "execution_count": null,
      "metadata": {
        "id": "FB_rRKlgfQ2V"
      },
      "outputs": [],
      "source": [
        "# C: The pencil is on the table and the books are next to the sofa.\n",
        "# Q: Where is the pencil? A: On the table.\n",
        "\n",
        "t = EN.template(\n",
        "    \"C: The {obj1} {is:obj1.SG|are:obj1.PL} {prep1} the {place1} and \" +\n",
        "    \"the {obj2} {is:obj2.SG|are:obj2.PL} {prep2} the {place2}. \" +\n",
        "    \"Q: Where {is:obj2.SG|are:obj2.PL} the {obj2}? A: {prep2.TO_CAPITALIZE} the {place2}.\",\n",
        "    obj=OBJS['en'], prep=PREPS['en'], place=PLACES['en'],\n",
        "    verbose=False, same_keys_cfg=SAME_KEYS_CFGS[TEMPS[4]], template_name=TEMPS[4]\n",
        ")\n",
        "\n",
        "t(15000, randomized=True)"
      ]
    },
    {
      "cell_type": "markdown",
      "metadata": {
        "id": "WGE0zLeo4Ekp"
      },
      "source": [
        "##### French"
      ]
    },
    {
      "cell_type": "code",
      "execution_count": null,
      "metadata": {
        "id": "RBtZTR5R4F8C"
      },
      "outputs": [],
      "source": [
        "# C: Le stylo est à côté de la table et les livres sont à côté du canapé.\n",
        "# Q: Où est le stylo? A: À côté de la table.\n",
        "\n",
        "t = FR.template(\n",
        "    \"C: {ART1.DEF.\u003cobj1.NUMBER.GENDER.STARTSWITH\u003e.TO_CAPITALIZE} {obj1} {est:obj1.SG|sont:obj1.PL} \" +\n",
        "    \"{prep1} {PREP_OPT_ART1.DEF.\u003cplace1.GENDER.STARTSWITH\u003e.\u003cprep1.ARTICLEDE\u003e} {place1} et \" +\n",
        "    \"{ART2.DEF.\u003cobj2.NUMBER.GENDER.STARTSWITH\u003e} {obj2} {est:obj2.SG|sont:obj2.PL} {prep2} \" +\n",
        "    \"{PREP_OPT_ART2.DEF.\u003cplace2.GENDER.STARTSWITH\u003e.\u003cprep2.ARTICLEDE\u003e} {place2}. \" +\n",
        "    \"Q: Où {est:obj2.SG|sont:obj2.PL} {ART2.DEF.\u003cobj2.NUMBER.GENDER.STARTSWITH\u003e} \" +\n",
        "    \"{obj2}? A: {prep2.TO_CAPITALIZE} {PREP_OPT_ART2.DEF.\u003cplace2.GENDER.STARTSWITH\u003e.\u003cprep2.ARTICLEDE\u003e} {place2}.\",\n",
        "    obj=OBJS['fr'], prep=PREPS['fr'], place=PLACES['fr'],\n",
        "    verbose=False, same_keys_cfg=SAME_KEYS_CFGS[TEMPS[4]], template_name=TEMPS[4]\n",
        ")\n",
        "\n",
        "t(15000)"
      ]
    },
    {
      "cell_type": "markdown",
      "metadata": {
        "id": "-EwxZXtyCfyf"
      },
      "source": [
        "##### Slovak"
      ]
    },
    {
      "cell_type": "code",
      "execution_count": null,
      "metadata": {
        "id": "3Sk6faLoChfU"
      },
      "outputs": [],
      "source": [
        "# C: Pero je vedľa stola a knihy sú vedľa gauča.\n",
        "# Q: Kde je pero? A: Vedľa stola.\n",
        "\n",
        "t = SK.template(\n",
        "    \"C: {obj1.TO_CAPITALIZE} {je:obj1.SG|sú:obj1.PL} \" +\n",
        "    \"{prep1} {place1.\u003cprep1.CASE\u003e} a \" +\n",
        "    \"{obj2} {je:obj2.SG|sú:obj2.PL} {prep2} \" +\n",
        "    \"{place2.\u003cprep2.CASE\u003e}. \" +\n",
        "    \"Q: Kde {je:obj2.SG|sú:obj2.PL} {obj2}? A: {prep2.TO_CAPITALIZE} {place2.\u003cprep2.CASE\u003e}.\",\n",
        "    obj=OBJS['sk'], prep=PREPS['sk'], place=PLACES['sk'],\n",
        "    verbose=False, same_keys_cfg=SAME_KEYS_CFGS[TEMPS[4]], template_name=TEMPS[4]\n",
        ")\n",
        "\n",
        "t(15000)"
      ]
    },
    {
      "cell_type": "markdown",
      "metadata": {
        "id": "Y1qI81u0OmcR"
      },
      "source": [
        "##### German"
      ]
    },
    {
      "cell_type": "code",
      "execution_count": null,
      "metadata": {
        "id": "xwI7s-xLOiir"
      },
      "outputs": [],
      "source": [
        "# C: Der Bleistift liegt auf dem Tisch und die Bücher liegen neben dem Sofa.\n",
        "# Q: Wo ist der Bleistift? A: Auf dem Tisch.\n",
        "\n",
        "t = DE.template(\n",
        "    \"C: {ART1.NOM.DEF.\u003cobj1.NUMBER.GENDER\u003e.TO_CAPITALIZE} {obj1} {liegt:obj1.SG|liegen:obj1.PL} \" +\n",
        "    \"{prep1} {ART2.DAT.SG.DEF.\u003cplace1.GENDER\u003e} {place1} und \" +\n",
        "    \"{ART3.NOM.DEF.\u003cobj2.NUMBER.GENDER\u003e} {obj2} {liegt:obj2.SG|liegen:obj2.PL} {prep2} \" +\n",
        "    \"{ART4.DAT.SG.DEF.\u003cplace2.GENDER\u003e} {place2}. \" +\n",
        "    \"Q: Wo {ist:obj2.SG|sind:obj2.PL} {ART5.NOM.DEF.\u003cobj2.NUMBER.GENDER\u003e} {obj2}? \" +\n",
        "    \"A: {prep2.TO_CAPITALIZE} {ART4.DAT.SG.DEF.\u003cplace2.GENDER\u003e} {place2}.\",\n",
        "    obj=OBJS['de'], prep=PREPS['de'], place=PLACES['de'], verbose=False,\n",
        "    same_keys_cfg=SAME_KEYS_CFGS[TEMPS[4]], template_name=TEMPS[4]\n",
        ")\n",
        "\n",
        "t(15000)"
      ]
    },
    {
      "cell_type": "markdown",
      "metadata": {
        "id": "wW7UeEA8WAGz"
      },
      "source": [
        "##### Spanish"
      ]
    },
    {
      "cell_type": "code",
      "execution_count": null,
      "metadata": {
        "id": "lMlGgDdAWBiN"
      },
      "outputs": [],
      "source": [
        "# C: El bolígrafo está debajo de la mesa y el ordenador está en el sofá.\n",
        "# Q: ¿Dónde está el ordenador? A: En el sofá.\n",
        "\n",
        "t = ES.template(\n",
        "    \"C: {ART1.DEF.\u003cobj1.NUMBER.GENDER\u003e.TO_CAPITALIZE} {obj1} {está:obj1.SG|están:obj1.PL} \" +\n",
        "    \"{prep1.\u003cplace1.GENDER\u003e} {place1} y {ART2.DEF.\u003cobj2.NUMBER.GENDER\u003e} {obj2} \" +\n",
        "    \"{está:obj2.SG|están:obj2.PL} {prep2.\u003cplace2.GENDER\u003e} {place2}. \" +\n",
        "    \"Q: ¿Dónde {está:obj2.SG|están:obj2.PL} {ART2.DEF.\u003cobj2.NUMBER.GENDER\u003e} {obj2}? \" +\n",
        "    \"A: {prep2.\u003cplace2.GENDER\u003e.TO_CAPITALIZE} {place2}.\",\n",
        "    obj=OBJS['es'], prep=PREPS['es'], place=PLACES['es'], verbose=False,\n",
        "    same_keys_cfg=SAME_KEYS_CFGS[TEMPS[4]], template_name=TEMPS[4]\n",
        ")\n",
        "\n",
        "t(15000)"
      ]
    },
    {
      "cell_type": "markdown",
      "metadata": {
        "id": "6Oc-EHSvPESt"
      },
      "source": [
        "##### Italian"
      ]
    },
    {
      "cell_type": "code",
      "execution_count": null,
      "metadata": {
        "id": "Vpa2_zZbPGUj"
      },
      "outputs": [],
      "source": [
        "# C: La matita è sul tavolo e i libri sono accanto al divano.\n",
        "# Q: Dov'è la matita? A: Sul tavolo.\n",
        "\n",
        "t = IT.template(\n",
        "    \"C: {ART1.DEF.\u003cobj1.NUMBER.STARTSWITH.GENDER\u003e.TO_CAPITALIZE} {obj1} {è:obj1.SG|sono:obj1.PL} \" +\n",
        "    \"{prep1.\u003cplace1.STARTSWITH.GENDER\u003e} {place1} e \" +\n",
        "    \"{ART2.DEF.\u003cobj2.NUMBER.STARTSWITH.GENDER\u003e} {obj2} {è:obj2.SG|sono:obj2.PL} \" +\n",
        "    \"{prep2.\u003cplace2.STARTSWITH.GENDER\u003e} {place2}. \" +\n",
        "    \"Q: {Dov'è:obj2.SG|Dove sono:obj2.PL} {ART2.DEF.\u003cobj2.NUMBER.STARTSWITH.GENDER\u003e} \" +\n",
        "    \"{obj2}? A: {prep2.\u003cplace2.STARTSWITH.GENDER\u003e.TO_CAPITALIZE} {place2}.\",\n",
        "    obj=OBJS['it'], prep=PREPS['it'], place=PLACES['it'], verbose=False,\n",
        "    same_keys_cfg=SAME_KEYS_CFGS[TEMPS[4]], template_name=TEMPS[4]\n",
        ")\n",
        "\n",
        "t(15000)"
      ]
    },
    {
      "cell_type": "markdown",
      "metadata": {
        "id": "g11GPcTaNrgM"
      },
      "source": [
        "##### Mandarin"
      ]
    },
    {
      "cell_type": "code",
      "execution_count": null,
      "metadata": {
        "id": "J_H6LWMDNtL_"
      },
      "outputs": [],
      "source": [
        "# C: 铅笔在桌子上，书在沙发旁边。\n",
        "# Q: 铅笔在哪里？ A: 在桌子上。\n",
        "\n",
        "# Qiānbǐ zài zhuōzi shàng, shū zài shāfā pángbiān.\n",
        "# Qiānbǐ zài nǎlǐ?\n",
        "# Zài zhuōzi shàng.\n",
        "\n",
        "t = ZH.template(\n",
        "    \"C: {obj1}在{place1}{prep1}, {obj2}在{place2}{prep2}。 \" +\n",
        "    \"Q: {obj1}在哪里? A: 在{place1}{prep1}。\",\n",
        "    obj=OBJS['zh'], prep=PREPS['zh'], place=PLACES['zh'], verbose=False,\n",
        "    same_keys_cfg=SAME_KEYS_CFGS[TEMPS[4]], template_name=TEMPS[4]\n",
        ")\n",
        "\n",
        "t(15000)"
      ]
    },
    {
      "cell_type": "markdown",
      "metadata": {
        "id": "acUHly-4JMfJ"
      },
      "source": [
        "##### Russian"
      ]
    },
    {
      "cell_type": "code",
      "execution_count": null,
      "metadata": {
        "id": "3MB2MYzhJE6X"
      },
      "outputs": [],
      "source": [
        "# C: Карандаш на столе, а книги рядом с диваном.\n",
        "# Q: Где карандаш? A: На столе.\n",
        "\n",
        "# restrict obj to on GENDER and NUMBER since all obj are in NOM\n",
        "objs = [\n",
        "  {\n",
        "    \".\".join(k.split(\".\")[:2]): v\n",
        "    for k,v in d.items()\n",
        "    if \"ACC\" not in k\n",
        "  } for d in OBJS['ru']\n",
        "]\n",
        "\n",
        "preps = [{'INS.CONS2': 'под', 'INS.NO_CONS2': 'под'},\n",
        "  {'PREP.CONS2': 'на', 'PREP.NO_CONS2': 'на'},\n",
        "  {'INS.CONS2': 'рядом со', 'INS.NO_CONS2': 'рядом с'},\n",
        "  {'INS.CONS2': 'перед', 'INS.NO_CONS2': 'перед'},\n",
        "  {'INS.CONS2': 'за', 'INS.NO_CONS2': 'за'}]\n",
        "\n",
        "t = RU.template(\n",
        "    \"C: {obj1.TO_CAPITALIZE} {prep1.\u003cplace1.STARTSWITH2C\u003e} {place1.\u003cprep1.CASE\u003e}, \" +\n",
        "    \"а {obj2} {prep2.\u003cplace2.STARTSWITH2C\u003e} {place2.\u003cprep2.CASE\u003e}. \" +\n",
        "    \"Q: Где {obj2}? A: {prep2.\u003cplace2.STARTSWITH2C\u003e.TO_CAPITALIZE} {place2.\u003cprep2.CASE\u003e}.\",\n",
        "    obj=objs, prep=PREPS['ru'], place=PLACES['ru'], verbose=False,\n",
        "    same_keys_cfg=SAME_KEYS_CFGS[TEMPS[4]], template_name=TEMPS[4]\n",
        ")\n",
        "\n",
        "t(15000)"
      ]
    },
    {
      "cell_type": "markdown",
      "metadata": {
        "id": "b9BZpSR_5lrn"
      },
      "source": [
        "##### Swedish"
      ]
    },
    {
      "cell_type": "code",
      "execution_count": null,
      "metadata": {
        "id": "z1QgCVUv5nWo"
      },
      "outputs": [],
      "source": [
        "# C: Pennan står på stolen och böckerna står bredvid hyllan.\n",
        "# Q: Var är pennan? A: På bordet.\n",
        "\n",
        "t = SV.template(\n",
        "    \"C: {obj1.WITH_ART.TO_CAPITALIZE} är {prep1} {place1} och \" +\n",
        "    \"{obj2.WITH_ART} är {prep2} {place2}. \" +\n",
        "    \"Q: Var är {obj2.WITH_ART}? A: {prep2.TO_CAPITALIZE} {place2}.\",\n",
        "    obj=OBJS['sv'], prep=PREPS['sv'], place=PLACES['sv'], verbose=False,\n",
        "    same_keys_cfg=SAME_KEYS_CFGS[TEMPS[4]], template_name=TEMPS[4]\n",
        ")\n",
        "\n",
        "t(15000)"
      ]
    },
    {
      "cell_type": "markdown",
      "metadata": {
        "id": "XaJty16Fm51y"
      },
      "source": [
        "##### Finnish"
      ]
    },
    {
      "cell_type": "code",
      "execution_count": null,
      "metadata": {
        "id": "oZDdMZNQnFd6"
      },
      "outputs": [],
      "source": [
        "# C: Kynä on pöydällä ja kirjat sohvan vieressä.\n",
        "# Q: Missä on kynä? A: Sohvan vieressä.\n",
        "\n",
        "t = FI.template(\n",
        "    \"C: {obj1.TO_CAPITALIZE} {on:obj1.SG|ovat:obj1.PL} {place1} {prep1} ja \" +\n",
        "    \"{obj2} {place2} {prep2}. \" +\n",
        "    \"Q: Missä {on:obj2.SG|ovat:obj2.PL} {obj2}? A: {place2.TO_CAPITALIZE} {prep2}.\",\n",
        "    obj=OBJS['fi'], prep=PREPS['fi'], place=[e['GEN'] for e in PLACES['fi']],\n",
        "    verbose=False, same_keys_cfg=SAME_KEYS_CFGS[TEMPS[4]], template_name=TEMPS[4]\n",
        ")\n",
        "\n",
        "t(15000)"
      ]
    },
    {
      "cell_type": "markdown",
      "metadata": {
        "id": "waQb99s2pt2l"
      },
      "source": [
        "##### Swahili"
      ]
    },
    {
      "cell_type": "code",
      "execution_count": null,
      "metadata": {
        "id": "XMAA-pFypwgw"
      },
      "outputs": [],
      "source": [
        "# C: Penseli iko juu ya meza na vitabu viko karibu na sofa.\n",
        "# Q: Penseli iko wapi? A: Juu ya meza.\n",
        "\n",
        "t = SW.template(\n",
        "    \"C: {obj1.TO_CAPITALIZE} \" +\n",
        "    \"{SWHERE1.\u003cobj1.NOUNCLASS.NUMBER\u003e} {prep1} {place1} na \" +\n",
        "    \"{obj2} {SWHERE2.\u003cobj2.NOUNCLASS.NUMBER\u003e} {prep2} {place2}. \" +\n",
        "    \"Q: {obj2.TO_CAPITALIZE} {SWHERE2.\u003cobj2.NOUNCLASS.NUMBER\u003e} wapi? A: {prep2.TO_CAPITALIZE} {place2}.\",\n",
        "    obj=OBJS['sw'], prep=PREPS['sw'], place=PLACES['sw'],\n",
        "    verbose=False, same_keys_cfg=SAME_KEYS_CFGS[TEMPS[4]], template_name=TEMPS[4]\n",
        ")\n",
        "\n",
        "t(15000, export=False)"
      ]
    },
    {
      "cell_type": "markdown",
      "metadata": {
        "id": "G2J5kxBL3UKx"
      },
      "source": [
        "##### Arabic"
      ]
    },
    {
      "cell_type": "code",
      "execution_count": null,
      "metadata": {
        "id": "Jv31fIWa3XDT"
      },
      "outputs": [],
      "source": [
        "# C: The pen and the books are next to the sofa. Omar puts the books on the ground.\n",
        "# Q: Where is the pen? A: On the sofa.\n",
        "\n",
        "# .القلم والكتب بجوار الأريكة. عمر يضع الكتب على الأرض :C\n",
        "# أين القلم؟ :Q\n",
        "# .على الأريكة :A\n",
        "\n",
        "names = random.sample([\n",
        "    list(e.values())[0]\n",
        "    for e in NAMES['ar'] if list(e.keys())[0].startswith(\"SG.\")\n",
        "], 10)\n",
        "\n",
        "places = [list(e.values())[0] for e in PLACES['ar']]\n",
        "\n",
        "t = AR.template(\n",
        "    \".\\u200e{place1} \\u200e{prep1} \\u200e:A \" +\n",
        "    \"\\u200e؟\\u200e{obj1} \\u200eأين \\u200e:Q \" +\n",
        "    \".\\u200e{place2} \\u200e{prep2} \\u200e{obj2}\" +\n",
        "    \"\\u200eو \\u200e{place1} \\u200e{prep1} \\u200e{obj1} \\u200e:C\",\n",
        "    obj=OBJS['ar'], prep=PREPS['ar'], place=places, name=names,\n",
        "    verbose=False, same_keys_cfg=SAME_KEYS_CFGS[TEMPS[4]], template_name=TEMPS[4]\n",
        ")\n",
        "\n",
        "t(15000)"
      ]
    },
    {
      "cell_type": "markdown",
      "metadata": {
        "id": "mF1nHCrrZ5ag"
      },
      "source": [
        "#### Spatial reasoning - Change in position"
      ]
    },
    {
      "cell_type": "markdown",
      "metadata": {
        "id": "_40JpWlu55zf"
      },
      "source": [
        "##### English"
      ]
    },
    {
      "cell_type": "code",
      "execution_count": null,
      "metadata": {
        "id": "CYMNg5uV55zf"
      },
      "outputs": [],
      "source": [
        "# C: The pencil and the books are next to the sofa. John puts the books on the ground.\n",
        "# Q: Where is the pencil? A: On the sofa.\n",
        "\n",
        "names = random.sample([\n",
        "    list(e.values())[0]\n",
        "    for e in NAMES['en'] if list(e.keys())[0].startswith(\"SG.\")\n",
        "], 10)\n",
        "\n",
        "t = EN.template(\n",
        "    \"C: The {obj1} and the {obj2} are {prep} the {place}. \" +\n",
        "    \"{name} puts the {obj2} on the ground. \" +\n",
        "    \"Q: Where {is:obj1.SG|are:obj1.PL} the {obj1}? A: {prep.TO_CAPITALIZE} the {place}.\",\n",
        "    obj=OBJS['en'], prep=PREPS['en'], place=PLACES['en'], name=names,\n",
        "    verbose=False, same_keys_cfg=SAME_KEYS_CFGS[TEMPS[5]], template_name=TEMPS[5]\n",
        ")\n",
        "\n",
        "t(15000)"
      ]
    },
    {
      "cell_type": "markdown",
      "metadata": {
        "id": "Cvl7-Eye55zg"
      },
      "source": [
        "##### French"
      ]
    },
    {
      "cell_type": "code",
      "execution_count": null,
      "metadata": {
        "id": "1MAl2nY355zg"
      },
      "outputs": [],
      "source": [
        "# C: Le stylo et les livres sont à côté du canapé. Marc pose les livres au sol.\n",
        "# Q: Où est le stylo? A: À côté du canapé.\n",
        "\n",
        "names = random.sample([\n",
        "    list(e.values())[0]\n",
        "    for e in NAMES['fr'] if list(e.keys())[0].startswith(\"SG.\")\n",
        "], 10)\n",
        "\n",
        "t = FR.template(\n",
        "    \"C: {ART1.DEF.\u003cobj1.NUMBER.GENDER.STARTSWITH\u003e.TO_CAPITALIZE} {obj1} et \" +\n",
        "    \"{ART2.DEF.\u003cobj2.NUMBER.GENDER.STARTSWITH\u003e} {obj2} sont {prep} \" +\n",
        "    \"{PREP_OPT_ART.DEF.\u003cplace.GENDER.STARTSWITH\u003e.\u003cprep.ARTICLEDE\u003e} {place}. \" +\n",
        "    \"{name} pose {ART2.DEF.\u003cobj2.NUMBER.GENDER.STARTSWITH\u003e} {obj2} au sol. \" +\n",
        "    \"Q: Où {est:obj1.SG|sont:obj1.PL} {ART1.DEF.\u003cobj1.NUMBER.GENDER.STARTSWITH\u003e} \" +\n",
        "    \"{obj1}? A: {prep.TO_CAPITALIZE} {PREP_OPT_ART.DEF.\u003cplace.GENDER.STARTSWITH\u003e.\u003cprep.ARTICLEDE\u003e} {place}.\",\n",
        "    obj=OBJS['fr'], prep=PREPS['fr'], place=PLACES['fr'], name=names,\n",
        "    verbose=False, same_keys_cfg=SAME_KEYS_CFGS[TEMPS[5]], template_name=TEMPS[5]\n",
        ")\n",
        "\n",
        "t(15000)"
      ]
    },
    {
      "cell_type": "markdown",
      "metadata": {
        "id": "Ep4LWC3k55zg"
      },
      "source": [
        "##### Slovak"
      ]
    },
    {
      "cell_type": "code",
      "execution_count": null,
      "metadata": {
        "id": "VAAI8ZcO55zg"
      },
      "outputs": [],
      "source": [
        "# C: Pero a knihy sú vedľa gauča. Peter položí knihy na zem.\n",
        "# Q: Kde je pero? A: Vedľa gauča.\n",
        "\n",
        "names = random.sample([\n",
        "    list(e.values())[0]\n",
        "    for e in NAMES['sk'] if list(e.keys())[0].startswith(\"SG.\")\n",
        "], 10)\n",
        "\n",
        "t = SK.template(\n",
        "    \"C: {obj1.TO_CAPITALIZE} a {obj2} sú {prep} {place.\u003cprep.CASE\u003e}. {name} položí {obj2} na zem. \"\n",
        "    \"Q: Kde {je:obj1.SG|sú:obj1.PL} {obj1}? A: {prep.TO_CAPITALIZE} {place.\u003cprep.CASE\u003e}.\",\n",
        "    obj=OBJS['sk'], prep=PREPS['sk'], place=PLACES['sk'], name=names,\n",
        "    verbose=False, same_keys_cfg=SAME_KEYS_CFGS[TEMPS[5]], template_name=TEMPS[5]\n",
        ")\n",
        "\n",
        "t(15000)"
      ]
    },
    {
      "cell_type": "markdown",
      "metadata": {
        "id": "l_arD02J55zg"
      },
      "source": [
        "##### German"
      ]
    },
    {
      "cell_type": "code",
      "execution_count": null,
      "metadata": {
        "id": "vXlmwzIX55zg"
      },
      "outputs": [],
      "source": [
        "# C: Der Bleistift und die Bücher liegen neben dem Sofa. John legt die Bücher auf den Boden.\n",
        "# Q: Wo ist der Bleistift? A: Auf dem Sofa.\n",
        "\n",
        "names = random.sample([\n",
        "    list(e.values())[0]\n",
        "    for e in NAMES['de'] if list(e.keys())[0].startswith(\"SG.\")\n",
        "], 10)\n",
        "\n",
        "t = DE.template(\n",
        "    \"C: {ART1.NOM.DEF.\u003cobj1.NUMBER.GENDER\u003e.TO_CAPITALIZE} {obj1} und \" +\n",
        "    \"{ART2.NOM.DEF.\u003cobj2.NUMBER.GENDER\u003e} {obj2} liegen {prep} \" +\n",
        "    \"{ART3.SG.DAT.DEF.\u003cplace.GENDER\u003e} {place}. \" +\n",
        "    \"{name} legt {ART4.ACC.DEF.\u003cobj2.NUMBER.GENDER\u003e} {obj2} auf den Boden. \"\n",
        "    \"Q: Wo {ist:obj1.SG|sind:obj1.PL} {ART5.NOM.DEF.\u003cobj1.NUMBER.GENDER\u003e} {obj1}? \" +\n",
        "    \"A: {prep.TO_CAPITALIZE} {ART3.SG.DAT.DEF.\u003cplace.GENDER\u003e} {place}.\",\n",
        "    obj=OBJS['de'], prep=PREPS['de'], place=PLACES['de'], name=names,\n",
        "    verbose=False, same_keys_cfg=SAME_KEYS_CFGS[TEMPS[5]], template_name=TEMPS[5]\n",
        ")\n",
        "\n",
        "t(15000)"
      ]
    },
    {
      "cell_type": "markdown",
      "metadata": {
        "id": "Gaf6iSTd55zg"
      },
      "source": [
        "##### Spanish"
      ]
    },
    {
      "cell_type": "code",
      "execution_count": null,
      "metadata": {
        "id": "Ib4qoItB55zg"
      },
      "outputs": [],
      "source": [
        "# C: El bolígrafo y el ordenador están en el sofá. Paulo pone el ordenator en el suelo.\n",
        "# Q: ¿Dónde está el ordenador? A: En el sofá.\n",
        "\n",
        "names = random.sample([\n",
        "    list(e.values())[0]\n",
        "    for e in NAMES['en'] if list(e.keys())[0].startswith(\"SG.\")\n",
        "], 10)\n",
        "\n",
        "t = ES.template(\n",
        "    \"C: {ART1.DEF.\u003cobj1.NUMBER.GENDER\u003e.TO_CAPITALIZE} {obj1} y {ART2.DEF.\u003cobj2.NUMBER.GENDER\u003e} {obj2} \" +\n",
        "    \"están {prep.\u003cplace.GENDER\u003e} {place}. {name} pone {ART1.DEF.\u003cobj1.NUMBER.GENDER\u003e} {obj1} en el suelo. \" +\n",
        "    \"Q: ¿Dónde {está:obj2.SG|están:obj2.PL} {ART2.DEF.\u003cobj2.NUMBER.GENDER\u003e} {obj2}? \" +\n",
        "    \"A: {prep.\u003cplace.GENDER\u003e.TO_CAPITALIZE} {place}.\",\n",
        "    obj=OBJS['es'], prep=PREPS['es'], place=PLACES['es'], name=names,\n",
        "    verbose=False, same_keys_cfg=SAME_KEYS_CFGS[TEMPS[5]], template_name=TEMPS[5]\n",
        ")\n",
        "\n",
        "t(15000)"
      ]
    },
    {
      "cell_type": "markdown",
      "metadata": {
        "id": "7NSf_d8r-DqX"
      },
      "source": [
        "##### Italian"
      ]
    },
    {
      "cell_type": "code",
      "execution_count": null,
      "metadata": {
        "id": "UBGe_Rdu-FMC"
      },
      "outputs": [],
      "source": [
        "# C: La matita e i libri sono accanto al divano. Paulo mette i libri sul pavimento.\n",
        "# Q: Dove sono i libri? A: Accanto al divano.\n",
        "\n",
        "names = random.sample([\n",
        "    list(e.values())[0]\n",
        "    for e in NAMES['it'] if list(e.keys())[0].startswith(\"SG.\")\n",
        "], 10)\n",
        "\n",
        "t = IT.template(\n",
        "    \"C: {ART1.DEF.\u003cobj1.NUMBER.STARTSWITH.GENDER\u003e.TO_CAPITALIZE} {obj1} e \" +\n",
        "    \"{ART2.DEF.\u003cobj2.NUMBER.STARTSWITH.GENDER\u003e} {obj2} sono \" +\n",
        "    \"{prep.\u003cplace.STARTSWITH.GENDER\u003e} {place}. {name} mette \" +\n",
        "    \"{ART2.DEF.\u003cobj2.NUMBER.STARTSWITH.GENDER\u003e} {obj2} sul pavimento. \" +\n",
        "    \"Q: {Dov'è:obj1.SG|Dove sono:obj1.PL} {ART1.DEF.\u003cobj1.NUMBER.STARTSWITH.GENDER\u003e} \" +\n",
        "    \"{obj1}? A: {prep.\u003cplace.STARTSWITH.GENDER\u003e.TO_CAPITALIZE} {place}.\",\n",
        "    obj=OBJS['it'], prep=PREPS['it'], place=PLACES['it'], name=names,\n",
        "    verbose=False, same_keys_cfg=SAME_KEYS_CFGS[TEMPS[5]], template_name=TEMPS[5]\n",
        ")\n",
        "\n",
        "t(15000)"
      ]
    },
    {
      "cell_type": "markdown",
      "metadata": {
        "id": "Gpia_Q79RrwF"
      },
      "source": [
        "##### Mandarin"
      ]
    },
    {
      "cell_type": "code",
      "execution_count": null,
      "metadata": {
        "id": "Gc8TgGRiRrwF"
      },
      "outputs": [],
      "source": [
        "# C: The pencil and the books are next to the sofa. John puts the books on the ground.\n",
        "# Q: Where is the pencil? A: On the sofa.\n",
        "\n",
        "# C: 铅笔和书在沙发旁边。 奕辰把书放在地上。\n",
        "# Q: 铅笔在哪里？ 在沙发上。\n",
        "\n",
        "# Qiānbǐ hé shū zài shāfā pángbiān. Yìchén bǎ shū fàng zài dìshàng.\n",
        "# Qiānbǐ zài nǎlǐ? Dá: Zài shāfā shàng.\n",
        "\n",
        "names = random.sample([\n",
        "    list(e.values())[0]\n",
        "    for e in NAMES['zh'] if list(e.keys())[0].startswith(\"SG.\")\n",
        "], 10)\n",
        "\n",
        "t = ZH.template(\n",
        "    \"C: {obj1}和{obj2}在{place}{prep}。{name}把{obj2}放在地上。 \" +\n",
        "    \"Q: {obj1}在哪里？ A: 在{place}{prep}。\",\n",
        "    obj=OBJS['zh'], prep=PREPS['zh'], place=PLACES['zh'], name=names,\n",
        "    verbose=False, same_keys_cfg=SAME_KEYS_CFGS[TEMPS[5]], template_name=TEMPS[5]\n",
        ")\n",
        "\n",
        "t(15000)"
      ]
    },
    {
      "cell_type": "markdown",
      "metadata": {
        "id": "NT17UL5WR5-c"
      },
      "source": [
        "##### Russian"
      ]
    },
    {
      "cell_type": "code",
      "execution_count": null,
      "metadata": {
        "id": "dznO73e7R4o4"
      },
      "outputs": [],
      "source": [
        "# C: Карандаш и книги рядом с диваном. Сергей кладёт книги на пол.\n",
        "# Q: Где карандаш? A: На диване.\n",
        "\n",
        "names = random.sample([\n",
        "    list(e.values())[0]\n",
        "    for e in NAMES['ru'] if list(e.keys())[0].startswith(\"SG.\")\n",
        "], 10)\n",
        "\n",
        "t = RU.template(\n",
        "    \"C: {obj1.NOM.TO_CAPITALIZE} и {obj2.NOM} {prep.\u003cplace.STARTSWITH2C\u003e} {place.\u003cprep.CASE\u003e}. \" +\n",
        "    \"{name} кладёт {obj2.ACC} на пол. \" +\n",
        "    \"Q: Где {obj1.NOM}? A: {prep.\u003cplace.STARTSWITH2C\u003e.TO_CAPITALIZE} {place.\u003cprep.CASE\u003e}.\",\n",
        "    obj=OBJS['ru'], prep=PREPS['ru'], place=PLACES['ru'], name=names,\n",
        "    verbose=False, same_keys_cfg=SAME_KEYS_CFGS[TEMPS[5]], template_name=TEMPS[5]\n",
        ")\n",
        "\n",
        "t(15000)"
      ]
    },
    {
      "cell_type": "markdown",
      "metadata": {
        "id": "uaiy_pY76a21"
      },
      "source": [
        "##### Swedish"
      ]
    },
    {
      "cell_type": "code",
      "execution_count": null,
      "metadata": {
        "id": "Kezeg5OW6crU"
      },
      "outputs": [],
      "source": [
        "# C: Pennan och böckerna ligger bredvid soffan. Nils lägger böckerna på marken.\n",
        "# Q: Var är pennan? A: On the sofa.\n",
        "\n",
        "names = random.sample([\n",
        "    list(e.values())[0]\n",
        "    for e in NAMES['sv'] if list(e.keys())[0].startswith(\"SG.\")\n",
        "], 10)\n",
        "\n",
        "t = SV.template(\n",
        "    \"C: {obj1.TO_CAPITALIZE.WITH_ART} och {obj2.WITH_ART} är {prep} {place}. \" +\n",
        "    \"{name} lägger {obj2.WITH_ART} på marken. \" +\n",
        "    \"Q: Var är {obj1.WITH_ART}? A: {prep.TO_CAPITALIZE} {place}.\",\n",
        "    obj=OBJS['sv'], prep=PREPS['sv'], place=PLACES['sv'], name=names,\n",
        "    verbose=False, same_keys_cfg=SAME_KEYS_CFGS[TEMPS[5]], template_name=TEMPS[5]\n",
        ")\n",
        "\n",
        "t(15000)"
      ]
    },
    {
      "cell_type": "markdown",
      "metadata": {
        "id": "EFqGq-EgvPiY"
      },
      "source": [
        "##### Swahili"
      ]
    },
    {
      "cell_type": "code",
      "execution_count": null,
      "metadata": {
        "id": "Bmmg3072vRZE"
      },
      "outputs": [],
      "source": [
        "# C: Penseli na vitabu viko karibu na sofa. Yohana anaweka vitabu kwenye sakafu.\n",
        "# Q: Penseli iko wapi? A: Karibu na sofa.\n",
        "\n",
        "names = random.sample([\n",
        "    list(e.values())[0]\n",
        "    for e in NAMES['sw'] if list(e.keys())[0].startswith(\"SG\")\n",
        "], 10)\n",
        "\n",
        "t = SW.template(\n",
        "    \"C: {obj1.TO_CAPITALIZE} na {obj2} viko {prep} {place}. \" +\n",
        "    \"{name} anaweka {obj2} kwenye sakafu. \" +\n",
        "    \"Q: {obj2.TO_CAPITALIZE} {iko:obj2.SG|viko:obj2.PL} wapi? A: {prep.TO_CAPITALIZE} {place}.\",\n",
        "    obj=OBJS['sw'], prep=PREPS['sw'], place=PLACES['sw'], name=names,\n",
        "    verbose=False, same_keys_cfg=SAME_KEYS_CFGS[TEMPS[5]], template_name=TEMPS[5]\n",
        ")\n",
        "\n",
        "t(15000)"
      ]
    },
    {
      "cell_type": "markdown",
      "metadata": {
        "id": "fRyfmfqJ6RS1"
      },
      "source": [
        "##### Finnish"
      ]
    },
    {
      "cell_type": "code",
      "execution_count": null,
      "metadata": {
        "id": "G82InfdQ6Qqa"
      },
      "outputs": [],
      "source": [
        "# C: Kynä ja kirjat ovat sohvan vieressä. John laittaa kirjat maahan.\n",
        "# Q: Missä on kynä? A: On the sofa.\n",
        "\n",
        "names = random.sample([\n",
        "    list(e.values())[0]\n",
        "    for e in NAMES['fi'] if list(e.keys())[0].startswith(\"SG\")\n",
        "], 10)\n",
        "\n",
        "t = FI.template(\n",
        "    \"C: {obj1.TO_CAPITALIZE} ja {obj2} ovat {place.GEN} {prep}. \" +\n",
        "    \"{name} laittaa {obj2} maahan. \" +\n",
        "    \"Q: Missä {on:obj1.SG|ovat:obj1.PL} {obj1}? A: {place.GEN.TO_CAPITALIZE} {prep}.\",\n",
        "    obj=OBJS['fi'], prep=PREPS['fi'], place=PLACES['fi'], name=names,\n",
        "    verbose=False, same_keys_cfg=SAME_KEYS_CFGS[TEMPS[5]], template_name=TEMPS[5]\n",
        ")\n",
        "\n",
        "t(15000)"
      ]
    },
    {
      "cell_type": "markdown",
      "metadata": {
        "id": "NGMG-vqOgZSi"
      },
      "source": [
        "##### Arabic"
      ]
    },
    {
      "cell_type": "code",
      "execution_count": null,
      "metadata": {
        "id": "Nbz6XXAMgbW1"
      },
      "outputs": [],
      "source": [
        "# C: The pen and the books are next to the sofa. Omar puts the books on the ground.\n",
        "# Q: Where is the pen? A: On the sofa.\n",
        "\n",
        "# .القلم والكتب بجوار الأريكة. عمر يضع الكتب على الأرض :C\n",
        "# أين القلم؟ :Q\n",
        "# .على الأريكة :A\n",
        "\n",
        "names = [\n",
        "    {list(e.keys())[0].split(\".\")[1]: list(e.values())[0]}\n",
        "    for e in NAMES['ar'] if list(e.keys())[0].startswith(\"SG.\")\n",
        "]\n",
        "\n",
        "places = [list(e.values())[0] for e in PLACES['ar']]\n",
        "\n",
        "t = AR.template(\n",
        "    \".\\u200e{place1} \\u200e{prep} \\u200e:A \" +\n",
        "    \"\\u200e؟\\u200e{obj2} \\u200eأين \\u200e:Q \" +\n",
        "    \".\\u200eالأرض \\u200eعلى \\u200e{obj2} \\u200e{يضع:name.MASC|تضع:name.FEM} \\u200e{name} \" +\n",
        "    \".\\u200e{place1} \\u200e{prep} \\u200e{obj2}و \\u200e{obj1} \\u200e:C\",\n",
        "    obj=OBJS['ar'], prep=PREPS['ar'], place=places, name=names,\n",
        "    verbose=False, same_keys_cfg=SAME_KEYS_CFGS[TEMPS[5]], template_name=TEMPS[5]\n",
        ")\n",
        "\n",
        "t(15000)"
      ]
    },
    {
      "cell_type": "markdown",
      "metadata": {
        "id": "yVE3I2Jd3zqP"
      },
      "source": [
        "### Temporal"
      ]
    },
    {
      "cell_type": "markdown",
      "metadata": {
        "id": "Wsiqlo7B33WF"
      },
      "source": [
        "#### Temporal - Change in the past"
      ]
    },
    {
      "cell_type": "markdown",
      "metadata": {
        "id": "Bm9DYE7n6rkP"
      },
      "source": [
        "##### English"
      ]
    },
    {
      "cell_type": "code",
      "execution_count": null,
      "metadata": {
        "id": "xri4Wxs330CW"
      },
      "outputs": [],
      "source": [
        "# C: X and Y were writers but X changed careers and is now a model.\n",
        "# Q: Who is a model? A: X.\n",
        "\n",
        "names = [\n",
        "    {list(e.keys())[0].split(\".\")[1]: list(e.values())[0]}\n",
        "    for e in NAMES['en'] if list(e.keys())[0].startswith(\"SG.\")\n",
        "]\n",
        "\n",
        "t = EN.template(\n",
        "    \"C: {name1} and {name2} were {job1.PL.\u003cFEM:name1.FEM,name2.FEM|MASC\u003e}, but {name1} changed careers and \" +\n",
        "    \"is now {ART.SG.INDF.\u003cjob2.STARTSWITH\u003e} {job2.SG}. \" +\n",
        "    \"Q: Who is {ART.SG.INDF.\u003cjob2.STARTSWITH\u003e} {job2.SG}? A: {name1}.\",\n",
        "    name=names, job=JOBS['en'], verbose=False,\n",
        "    same_keys_cfg=SAME_KEYS_CFGS[TEMPS[6]], template_name=TEMPS[6]\n",
        ")\n",
        "\n",
        "t(10000)"
      ]
    },
    {
      "cell_type": "markdown",
      "metadata": {
        "id": "-5RuZ5kN3zjw"
      },
      "source": [
        "##### French"
      ]
    },
    {
      "cell_type": "code",
      "execution_count": null,
      "metadata": {
        "id": "Jurz3Ikh6u-W"
      },
      "outputs": [],
      "source": [
        "# C: X et Y étaient des écrivains mais X a changé de carrière et est maintenant un modèle.\n",
        "# Q: Qui est un modèle? A: X.\n",
        "\n",
        "names = [\n",
        "    {list(e.keys())[0].split(\".\")[1]: list(e.values())[0]}\n",
        "    for e in NAMES['fr'] if list(e.keys())[0].startswith(\"SG.\")\n",
        "]\n",
        "\n",
        "t = FR.template(\n",
        "    \"C: {name1} et {name2} étaient des {job1.PL.\u003cFEM:name1.FEM,name2.FEM|MASC\u003e} mais {name1} a changé de carrière et \" +\n",
        "    \"est maintenant {ART1.SG.INDF.\u003cname1.GENDER\u003e} {job2.SG.\u003cname1.GENDER\u003e}. \" +\n",
        "    \"Q: Qui est {ART2.SG.INDF.MASC} {job2.SG.MASC}? A: {name1}.\",\n",
        "    name=names, job=JOBS['fr'], verbose=False,\n",
        "    same_keys_cfg=SAME_KEYS_CFGS[TEMPS[6]], template_name=TEMPS[6]\n",
        ")\n",
        "\n",
        "t(15000)"
      ]
    },
    {
      "cell_type": "markdown",
      "metadata": {
        "id": "gVTlWJSQrxBK"
      },
      "source": [
        "##### Slovak"
      ]
    },
    {
      "cell_type": "code",
      "execution_count": null,
      "metadata": {
        "id": "RJMYGNGHr2jU"
      },
      "outputs": [],
      "source": [
        "# C: X a Y boli čašníci, ale Y zmenil zamestnanie a teraz je vedec. Q: Kto je vedec? A: Y.\n",
        "\n",
        "names = [\n",
        "    {list(e.keys())[0].split(\".\")[1]: list(e.values())[0]}\n",
        "    for e in NAMES['sk'] if list(e.keys())[0].startswith(\"SG.\")\n",
        "]\n",
        "\n",
        "t = SK.template(\n",
        "    \"C: {name1} a {name2} boli {job1.PL.\u003cFEM:name1.FEM,name2.FEM|MASC\u003e}, ale \" +\n",
        "    \"{name2} {zmenil:name2.MASC|zmenila:name2.FEM} zamestnanie \" +\n",
        "    \"a teraz je {job2.SG.\u003cname2.GENDER\u003e}. \"\n",
        "    \"Q: Kto je {job2.SG.MASC}? A: {name2}.\",\n",
        "    name=names, job=JOBS['sk'], verbose=False,\n",
        "    same_keys_cfg=SAME_KEYS_CFGS[TEMPS[6]], template_name=TEMPS[6]\n",
        ")\n",
        "\n",
        "t(5000)"
      ]
    },
    {
      "cell_type": "code",
      "execution_count": null,
      "metadata": {
        "id": "bZVzyIbjgDD-"
      },
      "outputs": [],
      "source": [
        "# C: Andrej a Marek boli čašníkmi, ale Marek zmenil zamestnanie a teraz je vedec. Q: Čím je Marek? A: Vedcom.\n",
        "\n",
        "names = [\n",
        "    {list(e.keys())[0].split(\".\")[1]: list(e.values())[0]}\n",
        "    for e in NAMES['sk'] if list(e.keys())[0].startswith(\"SG.\")\n",
        "]\n",
        "\n",
        "t = SK.template(\n",
        "    \"C: {name1} a {name2} boli {job1.PL.INS.\u003cFEM:name1.FEM,name2.FEM|MASC\u003e}, ale \" +\n",
        "    \"{name2} {zmenil:name2.MASC|zmenila:name2.FEM} zamestnanie \" +\n",
        "    \"a teraz je {job2.SG.NOM.\u003cname2.GENDER\u003e}. \"\n",
        "    \"Q: Čím je {name2}? A: {job2.SG.INS.\u003cname2.GENDER\u003e.TO_CAPITALIZE}.\",\n",
        "    name=names, job=JOBS['sk'], verbose=False,\n",
        "    same_keys_cfg=SAME_KEYS_CFGS[TEMPS[6]], template_name=\"temporal22\"\n",
        ")\n",
        "\n",
        "t(4000)"
      ]
    },
    {
      "cell_type": "markdown",
      "metadata": {
        "id": "g1rWhT1UzDNi"
      },
      "source": [
        "##### Spanish"
      ]
    },
    {
      "cell_type": "code",
      "execution_count": null,
      "metadata": {
        "id": "spBM-a3fzFFW"
      },
      "outputs": [],
      "source": [
        "# C: X y Y fueron camareros, pero Y cambió carrera y ahora es un científico.\n",
        "# Q: ¿Quién no es un científico A: Y.\n",
        "\n",
        "names = [\n",
        "    {list(e.keys())[0].split(\".\")[1]: list(e.values())[0]}\n",
        "    for e in NAMES['es'] if list(e.keys())[0].startswith(\"SG.\")\n",
        "]\n",
        "\n",
        "t = ES.template(\n",
        "    \"C: {name1} y {name2} fueron {job1.PL.MASC}, \" +\n",
        "    \"pero {name2} cambió carrera y ahora es {ART1.INDF.SG.\u003cname2.GENDER\u003e} {job2.SG.\u003cname2.GENDER\u003e}. \"\n",
        "    \"Q: ¿Quién es {ART2.INDF.SG.MASC} {job2.SG.MASC}? \" +\n",
        "    \"A: {name2}.\",\n",
        "    name=names, job=JOBS['es'], verbose=False,\n",
        "    same_keys_cfg=SAME_KEYS_CFGS[TEMPS[6]], template_name=TEMPS[6]\n",
        ")\n",
        "\n",
        "t(5000)"
      ]
    },
    {
      "cell_type": "markdown",
      "metadata": {
        "id": "y-c5_1FCFDAT"
      },
      "source": [
        "##### German"
      ]
    },
    {
      "cell_type": "code",
      "execution_count": null,
      "metadata": {
        "id": "waw1jpu1VHQo"
      },
      "outputs": [],
      "source": [
        "# C: X und Y waren Kellner, aber Y hat den Beruf gewechselt und ist jetzt Wissenschaftler.\n",
        "# Q: Wer ist kein Wissenschaftler sein? A: Y.\n",
        "\n",
        "names = [\n",
        "    {list(e.keys())[0].split(\".\")[1]: list(e.values())[0]}\n",
        "    for e in NAMES['de'] if list(e.keys())[0].startswith(\"SG.\")\n",
        "]\n",
        "\n",
        "t = DE.template(\n",
        "    \"C: {name1} und {name2} waren {job1.PL.\u003cFEM:name1.FEM,name2.FEM|MASC\u003e}, aber {name2} \" +\n",
        "    \"hat den Beruf gewechselt und wird {job2.SG.\u003cname2.GENDER\u003e}. \"\n",
        "    \"Q: Wer ist {job2.SG.MASC}? A: {name2}.\",\n",
        "    name=names, job=JOBS['de'], verbose=False,\n",
        "    same_keys_cfg=SAME_KEYS_CFGS[TEMPS[6]], template_name=TEMPS[6]\n",
        ")\n",
        "\n",
        "t(5000)"
      ]
    },
    {
      "cell_type": "markdown",
      "metadata": {
        "id": "YQvxA9RT_504"
      },
      "source": [
        "##### Italian"
      ]
    },
    {
      "cell_type": "code",
      "execution_count": null,
      "metadata": {
        "id": "Dg0PZ17H_7hX"
      },
      "outputs": [],
      "source": [
        "# C: X e Y erano scrittori ma X ha cambiato carriera ed ora è un modello.\n",
        "# Q: Chi è un modello? A: X.\n",
        "\n",
        "names = [\n",
        "    {list(e.keys())[0].split('.')[1]: list(e.values())[0]}\n",
        "    for e in NAMES['it'] if list(e.keys())[0].startswith(\"SG.\")\n",
        "]\n",
        "\n",
        "t = IT.template(\n",
        "    \"C: {name1} e {name2} erano {job1.PL.MASC} ma {name1} ha cambiato carriera ed \" +\n",
        "    \"ora è {ART1.SG.INDF.\u003cname1.GENDER\u003e.\u003cjob2.STARTSWITH\u003e} {job2.SG.\u003cname1.GENDER\u003e}. \" +\n",
        "    \"Q: Chi è {ART2.SG.INDF.MASC.\u003cjob2.STARTSWITH\u003e} {job2.SG.MASC}? A: {name1}.\",\n",
        "    name=names, job=JOBS['it'], verbose=False,\n",
        "    same_keys_cfg=SAME_KEYS_CFGS[TEMPS[6]], template_name=TEMPS[6]\n",
        ")\n",
        "\n",
        "t(5000)"
      ]
    },
    {
      "cell_type": "markdown",
      "metadata": {
        "id": "a_-oEZx2vdtb"
      },
      "source": [
        "##### Chinese"
      ]
    },
    {
      "cell_type": "code",
      "execution_count": null,
      "metadata": {
        "id": "uV0bEyFUUKtd"
      },
      "outputs": [],
      "source": [
        "# C: X and Y were writers but X changed careers and is now a model.\n",
        "# Q: Who is a model? A: X.\n",
        "\n",
        "# C: X和Y是作家，但X转行了，现在是一名模特。\n",
        "# Q: 谁是模特？A: X。\n",
        "\n",
        "names = [list(e.values())[0] for e in NAMES['zh'] if list(e.keys())[0].startswith(\"SG\")]\n",
        "\n",
        "t = ZH.template(\n",
        "    \"C: {name1}和{name2}是{job1}，但{name1}转行了，现在是一名{job2}。 \" +\n",
        "    \"Q: 谁现在是{job2}？ A: {name1}。\",\n",
        "    name=names, job=JOBS['zh'], verbose=False,\n",
        "    same_keys_cfg=SAME_KEYS_CFGS[TEMPS[6]], template_name=TEMPS[6]\n",
        ")\n",
        "\n",
        "t(5000)"
      ]
    },
    {
      "cell_type": "markdown",
      "metadata": {
        "id": "LCFl2e0OgNYT"
      },
      "source": [
        "##### Russian"
      ]
    },
    {
      "cell_type": "code",
      "execution_count": null,
      "metadata": {
        "id": "fNQzW8WNgVVU"
      },
      "outputs": [],
      "source": [
        "# C: Сергей и Адам были писателями, но Сергей сменил карьеру и стал моделью.\n",
        "# Q: Кто модель? A: Сергей.\n",
        "\n",
        "names = [\n",
        "    {list(e.keys())[0].split('.')[1]: list(e.values())[0]}\n",
        "    for e in NAMES['ru'] if list(e.keys())[0].startswith(\"SG.\")\n",
        "]\n",
        "\n",
        "# old template with DECLENSION\n",
        "# \"C: {name1} и {name2} были {job1.MASC.INS.PL}, но {name1} \" +\n",
        "# \"{сменил:name1.MASC|сменила:name1.FEM} карьеру и {стал:name1.MASC|стала:name1.FEM} {job2.SG.INS.\u003cname1.GENDER\u003e}. \" +\n",
        "# \"Q: Кто {job2.NOM.SG.MASC}? A: {name1}.\",\n",
        "\n",
        "t = RU.template(\n",
        "    \"C: {name1} и {name2} были {job1.MASC.PL}, но {name1} \" +\n",
        "    \"{сменил:name1.MASC|сменила:name1.FEM} карьеру и {стал:name1.MASC|стала:name1.FEM} {job2.SG.\u003cname1.GENDER\u003e}. \" +\n",
        "    \"Q: Кто {job2.SG.MASC}? A: {name1}.\",\n",
        "    name=names, job=JOBS['ru'], verbose=False,\n",
        "    same_keys_cfg=SAME_KEYS_CFGS[TEMPS[6]], template_name=TEMPS[6]\n",
        ")\n",
        "\n",
        "t(5000)"
      ]
    },
    {
      "cell_type": "markdown",
      "metadata": {
        "id": "eKPXj0raQ5Fs"
      },
      "source": [
        "##### Swedish"
      ]
    },
    {
      "cell_type": "code",
      "execution_count": null,
      "metadata": {
        "id": "o8KXw-URQ7J4"
      },
      "outputs": [],
      "source": [
        "# C: Nils och Karl var författare, men Nils bytte karriär och är nu modell.\n",
        "# Q: Vem är en modell? A: Nils.\n",
        "\n",
        "names = [\n",
        "    {list(e.keys())[0].split('.')[1]: list(e.values())[0]}\n",
        "    for e in NAMES['sv'] if list(e.keys())[0].startswith(\"SG.\")\n",
        "]\n",
        "\n",
        "t = SV.template(\n",
        "    \"C: {name1} och {name2} var {job1.PL.\u003cFEM:name1.FEM,name2.FEM|MASC\u003e}, men {name1} bytte karriär och \" +\n",
        "    \"är nu {job2.SG.\u003cname1.GENDERPRON\u003e}. \" +\n",
        "    \"Q: Vem är {job2.SG.MASC}? A: {name1}.\",\n",
        "    name=names, job=JOBS['sv'], verbose=False,\n",
        "    same_keys_cfg=SAME_KEYS_CFGS[TEMPS[6]], template_name=TEMPS[6]\n",
        ")\n",
        "\n",
        "t(5000)"
      ]
    },
    {
      "cell_type": "markdown",
      "metadata": {
        "id": "kntWAA0u6PAx"
      },
      "source": [
        "##### Swahili"
      ]
    },
    {
      "cell_type": "code",
      "execution_count": null,
      "metadata": {
        "id": "rMSjsF4m6QwX"
      },
      "outputs": [],
      "source": [
        "# C: X na Y walikuwa waandishi lakini X alibadilisha kazi na sasa ni mwanamitindo.\n",
        "# Q: Mwanamitindo ni nani? A: X.\n",
        "\n",
        "names = [\n",
        "    list(e.values())[0]\n",
        "    for e in NAMES['sw'] if list(e.keys())[0].startswith(\"SG\")\n",
        "]\n",
        "\n",
        "t = SW.template(\n",
        "    \"C: {name1} na {name2} walikuwa {job1.PL} lakini {name1} \" +\n",
        "    \"alibadilisha kazi na sasa hivi ni {job2.SG}. \" +\n",
        "    \"Q: {job2.SG.TO_CAPITALIZE} ni nani? A: {name1}.\",\n",
        "    name=names, job=JOBS['sw'], verbose=False,\n",
        "    same_keys_cfg=SAME_KEYS_CFGS[TEMPS[6]], template_name=TEMPS[6]\n",
        ")\n",
        "\n",
        "t(5000)"
      ]
    },
    {
      "cell_type": "markdown",
      "metadata": {
        "id": "H0syGnLF-TXG"
      },
      "source": [
        "##### Finnish\n"
      ]
    },
    {
      "cell_type": "code",
      "execution_count": null,
      "metadata": {
        "id": "1_feDbEZ-VIt"
      },
      "outputs": [],
      "source": [
        "# C: X ja Y olivat kirjoittajia mutta X vaihtoi uraa ja on nyt malli.\n",
        "# Q: Kuka on malli? A: X.\n",
        "\n",
        "names = [\n",
        "    {list(e.keys())[0]: list(e.values())[0]}\n",
        "    for e in NAMES['fi'] if list(e.keys())[0].startswith(\"SG\")\n",
        "]\n",
        "\n",
        "t = FI.template(\n",
        "    \"C: {name1} ja {name2} olivat {job1.PRT.PL} \" +\n",
        "    \"mutta {name1} vaihtoi uraa ja on nyt {job2.SG.NOM}. \" +\n",
        "    \"Q: Kuka on {job2.SG.NOM}? A: {name1}.\",\n",
        "    name=names, job=JOBS['fi'], verbose=False,\n",
        "    same_keys_cfg=SAME_KEYS_CFGS[TEMPS[6]], template_name=TEMPS[6]\n",
        ")\n",
        "\n",
        "t(5000)"
      ]
    },
    {
      "cell_type": "markdown",
      "metadata": {
        "id": "aGnXChJNSb0n"
      },
      "source": [
        "##### Arabic"
      ]
    },
    {
      "cell_type": "code",
      "execution_count": null,
      "metadata": {
        "id": "yLniQItwSaHf"
      },
      "outputs": [],
      "source": [
        "# C: Ahmed and Omar were writers, but Ahmed changed careers and is now a teacher.\n",
        "# Q: Who is a teacher? A: Ahmed.\n",
        "\n",
        "# .كانا أحمد وعمر كاتبين ، لكن أحمد غير مهنته وهو الآن مدرس :C\n",
        "# من هو المعلم؟ :Q\n",
        "# .أحمد :A\n",
        "\n",
        "\n",
        "names = [\n",
        "    {list(e.keys())[0].split(\".\")[1]: list(e.values())[0]}\n",
        "    for e in NAMES['ar'] if list(e.keys())[0].startswith(\"SG.\")\n",
        "]\n",
        "\n",
        "t = AR.template(\n",
        "    \".\\u200e{name2} \\u200e:A \" +\n",
        "    \"\\u200e؟\\u200e{job2.NOM.SG.\u003cFEM:name1.FEM,name2.FEM|MASC\u003e} \\u200e{من هو:name1.MASC|من هي:name1.FEM} \\u200e:Q \" +\n",
        "    \".\\u200e{job2.NOM.SG.\u003cname1.GENDER\u003e} \\u200eالآن \\u200e{غير مهنته وهو:name1.MASC|غيرت مهنتها وهي:name1.FEM} \" +\n",
        "    \"\\u200e{name1} \\u200eولكن ،\\u200e{job1.ACC.DU.\u003cFEM:name1.FEM,name2.FEM|MASC\u003e} \" +\n",
        "    \"\\u200e{name2} \\u200eو \\u200e{name1} \\u200e{كان:name1.MASC|كانت:name1.FEM} \\u200e:C \",\n",
        "    name=names, job=JOBS['ar'], verbose=False,\n",
        "    same_keys_cfg=SAME_KEYS_CFGS[TEMPS[6]], template_name=TEMPS[6]\n",
        ")\n",
        "\n",
        "t(5000)"
      ]
    },
    {
      "cell_type": "markdown",
      "metadata": {
        "id": "jYu9b1WovgP_"
      },
      "source": [
        "#### Temporal - Change in the future"
      ]
    },
    {
      "cell_type": "markdown",
      "metadata": {
        "id": "z3QfwdXUvgQA"
      },
      "source": [
        "##### English"
      ]
    },
    {
      "cell_type": "code",
      "execution_count": null,
      "metadata": {
        "id": "6qKPkxGIvgQA"
      },
      "outputs": [],
      "source": [
        "# C: X and Y are writers, but X will change careers and will be a model.\n",
        "# Q: Who will be a model? A: X.\n",
        "\n",
        "names = [\n",
        "    {list(e.keys())[0].split(\".\")[1]: list(e.values())[0]}\n",
        "    for e in NAMES['en'] if list(e.keys())[0].startswith(\"SG.\")\n",
        "]\n",
        "\n",
        "t = EN.template(\n",
        "    \"C: {name1} and {name2} are {job1.PL.\u003cFEM:name1.FEM,name2.FEM|MASC\u003e}, but {name1} will change careers and \" +\n",
        "    \"will be {ART.SG.INDF.\u003cjob2.STARTSWITH\u003e} {job2.SG}. \" +\n",
        "    \"Q: Who will be {ART.SG.INDF.\u003cjob2.STARTSWITH\u003e} {job2.SG}? A: {name1}.\",\n",
        "    name=names, job=JOBS['en'], verbose=False,\n",
        "    same_keys_cfg=SAME_KEYS_CFGS[TEMPS[7]], template_name=TEMPS[7]\n",
        ")\n",
        "\n",
        "t(10000)"
      ]
    },
    {
      "cell_type": "markdown",
      "metadata": {
        "id": "mWbRONkjvgQA"
      },
      "source": [
        "##### French"
      ]
    },
    {
      "cell_type": "code",
      "execution_count": null,
      "metadata": {
        "id": "kv7g_uPQvgQA"
      },
      "outputs": [],
      "source": [
        "# C: X et Y sont des écrivains mais X a changé de carrière et est maintenant un modèle.\n",
        "# Q: Qui est un modèle? A: X.\n",
        "\n",
        "names = [\n",
        "    {list(e.keys())[0].split(\".\")[1]: list(e.values())[0]}\n",
        "    for e in NAMES['fr'] if list(e.keys())[0].startswith(\"SG.\")\n",
        "]\n",
        "\n",
        "t = FR.template(\n",
        "    \"C: {name1} et {name2} sont des {job1.PL.\u003cFEM:name1.FEM,name2.FEM|MASC\u003e} mais {name1} changera de carrière et \" +\n",
        "    \"sera {ART1.SG.INDF.\u003cname1.GENDER\u003e.\u003cjob2.STARTSWITH\u003e} {job2.SG.\u003cname1.GENDER\u003e}. \" +\n",
        "    \"Q: Qui sera {ART2.SG.INDF.MASC.\u003cjob2.STARTSWITH\u003e} {job2.SG.MASC}? A: {name1}.\",\n",
        "    name=names, job=JOBS['fr'], verbose=False,\n",
        "    same_keys_cfg=SAME_KEYS_CFGS[TEMPS[7]], template_name=TEMPS[7]\n",
        ")\n",
        "\n",
        "t(5000)"
      ]
    },
    {
      "cell_type": "markdown",
      "metadata": {
        "id": "mpCfvI1DvgQB"
      },
      "source": [
        "##### Slovak"
      ]
    },
    {
      "cell_type": "code",
      "execution_count": null,
      "metadata": {
        "id": "5o6hJqnMdkNO"
      },
      "outputs": [],
      "source": [
        "# C: Marek a Andrej sú čašníci, ale Y zmení kariéru a bude vedec. Q: Kto bude vedec? A: Y.\n",
        "\n",
        "names = [\n",
        "    {list(e.keys())[0].split(\".\")[1]: list(e.values())[0]}\n",
        "    for e in NAMES['sk'] if list(e.keys())[0].startswith(\"SG.\")\n",
        "]\n",
        "\n",
        "t = SK.template(\n",
        "    \"C: {name1} a {name2} sú {job1.PL.\u003cFEM:name1.FEM,name2.FEM|MASC\u003e}, ale \" +\n",
        "    \"{name2} zmení prácu a bude {job2.SG.\u003cname2.GENDER\u003e}. \"\n",
        "    \"Q: Kto bude {job2.SG.MASC}? A: {name2}.\",\n",
        "    name=names, job=JOBS['sk'], verbose=False,\n",
        "    same_keys_cfg=SAME_KEYS_CFGS[TEMPS[7]], template_name=TEMPS[7]\n",
        ")\n",
        "\n",
        "t(5000)"
      ]
    },
    {
      "cell_type": "markdown",
      "metadata": {
        "id": "5QPX85w0AAu-"
      },
      "source": [
        "##### German"
      ]
    },
    {
      "cell_type": "code",
      "execution_count": null,
      "metadata": {
        "id": "bbQFL-UGABEH"
      },
      "outputs": [],
      "source": [
        "# C: X und Y sind Kellner, aber Y wechselt Beruf und wird Wissenschaftler.\n",
        "# Q: Wer wird Wissenschaftler sein? A: Y.\n",
        "\n",
        "names = [\n",
        "    {list(e.keys())[0].split(\".\")[1]: list(e.values())[0]}\n",
        "    for e in NAMES['de'] if list(e.keys())[0].startswith(\"SG.\")\n",
        "]\n",
        "\n",
        "t = DE.template(\n",
        "    \"C: {name1} und {name2} sind {job1.PL.\u003cFEM:name1.FEM,name2.FEM|MASC\u003e}, aber {name2} \" +\n",
        "    \"wechselt den Beruf und wird {job2.SG.\u003cname2.GENDER\u003e}. \"\n",
        "    \"Q: Wer wird {job2.SG.MASC}? A: {name2}.\",\n",
        "    name=names, job=JOBS['de'], verbose=False,\n",
        "    same_keys_cfg=SAME_KEYS_CFGS[TEMPS[7]], template_name=TEMPS[7]\n",
        ")\n",
        "\n",
        "t(5000)"
      ]
    },
    {
      "cell_type": "markdown",
      "metadata": {
        "id": "QlmHykPR1Oia"
      },
      "source": [
        "##### Spanish"
      ]
    },
    {
      "cell_type": "code",
      "execution_count": null,
      "metadata": {
        "id": "HeP84iRA1QI4"
      },
      "outputs": [],
      "source": [
        "# C: X y Y son camareros, pero Y cambiará de carrera y será un científico.\n",
        "# Q: ¿Quién será un científico A: Y.\n",
        "\n",
        "names = [\n",
        "    {list(e.keys())[0].split(\".\")[1]: list(e.values())[0]}\n",
        "    for e in NAMES['es'] if list(e.keys())[0].startswith(\"SG.\")\n",
        "]\n",
        "\n",
        "t = ES.template(\n",
        "    \"C: {name1} y {name2} son {job1.PL.\u003cFEM:name1.FEM,name2.FEM|MASC\u003e}, \" +\n",
        "    \"pero {name2} cambiará de carrera y será {ART1.INDF.SG.\u003cname2.GENDER\u003e} {job2.SG.\u003cname2.GENDER\u003e}. \"\n",
        "    \"Q: ¿Quién será {ART2.INDF.SG.MASC} {job2.SG.MASC}? \" +\n",
        "    \"A: {name2}.\",\n",
        "    name=names, job=JOBS['es'], verbose=False,\n",
        "    same_keys_cfg=SAME_KEYS_CFGS[TEMPS[7]], template_name=TEMPS[7]\n",
        ")\n",
        "\n",
        "t(5000)"
      ]
    },
    {
      "cell_type": "markdown",
      "metadata": {
        "id": "p2ANCy6IEkUH"
      },
      "source": [
        "##### Italian"
      ]
    },
    {
      "cell_type": "code",
      "execution_count": null,
      "metadata": {
        "id": "15l1eRGCEmAu"
      },
      "outputs": [],
      "source": [
        "# C: X y Y son camareros, pero Y cambiará de carrera y será un científico.\n",
        "# Q: ¿Quién será un científico A: Y.\n",
        "# C: X e Y sono scrittori, ma Y cambierà carriera e diventerà un modello.\n",
        "# Q: Chi sarà un modello? A: Y.\n",
        "\n",
        "names = [\n",
        "    {list(e.keys())[0].split(\".\")[1]: list(e.values())[0]}\n",
        "    for e in NAMES['it'] if list(e.keys())[0].startswith(\"SG.\")\n",
        "]\n",
        "\n",
        "t = IT.template(\n",
        "    \"C: {name1} e {name2} sono {job1.PL.MASC}, ma {name2} cambierà carriera e \" +\n",
        "    \"diventerà {ART1.SG.INDF.\u003cname2.GENDER\u003e.\u003cjob2.STARTSWITH\u003e} {job2.SG.\u003cname2.GENDER\u003e}. \" +\n",
        "    \"Q: Chi sarà {ART2.SG.INDF.MASC.\u003cjob2.STARTSWITH\u003e} {job2.SG.MASC}? A: {name2}.\",\n",
        "    name=names, job=JOBS['it'], verbose=False,\n",
        "    same_keys_cfg=SAME_KEYS_CFGS[TEMPS[7]], template_name=TEMPS[7]\n",
        ")\n",
        "\n",
        "t(5000)"
      ]
    },
    {
      "cell_type": "markdown",
      "metadata": {
        "id": "oF1xbHXp_Z9p"
      },
      "source": [
        "##### Mandarin"
      ]
    },
    {
      "cell_type": "code",
      "execution_count": null,
      "metadata": {
        "id": "Mu8jlhLM_b2i"
      },
      "outputs": [],
      "source": [
        "# C: X and Y are writers, but X will change careers and will be a model.\n",
        "# Q: Who will be a model? A: X.\n",
        "\n",
        "# C: X和Y是作家，但X将转行成为一名模特。\n",
        "# Q: 谁将成为模特？A: X。\n",
        "\n",
        "names = [list(e.values())[0] for e in NAMES['zh'] if list(e.keys())[0].startswith(\"SG.\")]\n",
        "\n",
        "t = ZH.template(\n",
        "    \"C: {name1}和{name2}是{job1}，但{name1}将转行成为一名{job2}。 \" +\n",
        "    \"Q: 谁将成为{job2}？ A: {name1}。\",\n",
        "    name=names, job=JOBS['zh'], verbose=False,\n",
        "    same_keys_cfg=SAME_KEYS_CFGS[TEMPS[7]], template_name=TEMPS[7]\n",
        ")\n",
        "\n",
        "t(5000)"
      ]
    },
    {
      "cell_type": "markdown",
      "metadata": {
        "id": "4XVwIGbHnUvR"
      },
      "source": [
        "##### Russian"
      ]
    },
    {
      "cell_type": "code",
      "execution_count": null,
      "metadata": {
        "id": "K_uuNNtbnWOl"
      },
      "outputs": [],
      "source": [
        "names = [\n",
        "    {list(e.keys())[0].split(\".\")[1]: list(e.values())[0]}\n",
        "    for e in NAMES['ru'] if list(e.keys())[0].startswith(\"SG.\")\n",
        "]\n",
        "\n",
        "jobs = [\n",
        "  {\n",
        "      \"SG.MASC.NOM\": \"писатель\", \"PL.MASC.NOM\": \"писатели\",\n",
        "      \"SG.MASC.INS\": \"писателем\", \"PL.MASC.INS\": \"писателями\",\n",
        "      \"SG.FEM.NOM\": \"писательница\", \"PL.FEM.NOM\": \"писательницы\",\n",
        "      \"SG.FEM.INS\": \"писательницей\", \"PL.FEM.INS\": \"писательницами\"\n",
        "  },\n",
        "  {\n",
        "      \"SG.MASC.NOM\": \"инженер\", \"PL.MASC.NOM\": \"инженеры\",\n",
        "      \"SG.MASC.INS\": \"инженером\", \"PL.MASC.INS\": \"инженерами\",\n",
        "      \"SG.FEM.NOM\": \"инженер\", \"PL.FEM.NOM\": \"инженеры\",\n",
        "      \"SG.FEM.INS\": \"инженером\", \"PL.FEM.INS\": \"инженерами\"\n",
        "  },\n",
        "  {\n",
        "      \"SG.MASC.NOM\": \"врач\", \"PL.MASC.NOM\": \"врачи\",\n",
        "      \"SG.MASC.INS\": \"врачом\", \"PL.MASC.INS\": \"врачами\",\n",
        "      \"SG.FEM.NOM\": \"врач\", \"PL.FEM.NOM\": \"врачи\",\n",
        "      \"SG.FEM.INS\": \"врачом\", \"PL.FEM.INS\": \"врачами\"\n",
        "  },\n",
        "  {\n",
        "      \"SG.MASC.NOM\": \"учитель\", \"PL.MASC.NOM\": \"учителя\",\n",
        "      \"SG.MASC.INS\": \"учителем\", \"PL.MASC.INS\": \"учителями\",\n",
        "      \"SG.FEM.NOM\": \"учительница\", \"PL.FEM.NOM\": \"учительницы\",\n",
        "      \"SG.FEM.INS\": \"учительницей\", \"PL.FEM.INS\": \"учительницами\"\n",
        "  },\n",
        "  {\n",
        "      \"SG.MASC.NOM\": \"официант\", \"PL.MASC.NOM\": \"официанты\",\n",
        "      \"SG.MASC.INS\": \"официантом\", \"PL.MASC.INS\": \"официантами\",\n",
        "      \"SG.FEM.NOM\": \"официантка\", \"PL.FEM.NOM\": \"официантки\",\n",
        "      \"SG.FEM.INS\": \"официанткой\", \"PL.FEM.INS\": \"официантками\"\n",
        "  },\n",
        "  {\n",
        "      \"SG.MASC.NOM\": \"учёный\", \"PL.MASC.NOM\": \"учёные\",\n",
        "      \"SG.MASC.INS\": \"учёным\", \"PL.MASC.INS\": \"учёными\",\n",
        "      \"SG.FEM.NOM\": \"учёный\", \"PL.FEM.NOM\": \"учёные\",\n",
        "      \"SG.FEM.INS\": \"учёным\", \"PL.FEM.INS\": \"учёными\"\n",
        "  },\n",
        "  {\n",
        "      'SG.MASC.NOM': 'актёр', 'PL.MASC.NOM': 'актёры',\n",
        "      'SG.MASC.INS': 'актёром', 'PL.MASC.INS': 'актёрами',\n",
        "      'SG.FEM.NOM': 'актриса', 'PL.FEM.NOM': 'актрисы',\n",
        "      'SG.FEM.INS': 'актрисой', 'PL.FEM.INS': 'актрисами'\n",
        "  },\n",
        "  {\n",
        "      'SG.MASC.NOM': 'полицейский', 'PL.MASC.NOM': 'полицейские',\n",
        "      'SG.MASC.INS': 'полицейским', 'PL.MASC.INS': 'полицейскими',\n",
        "      'SG.FEM.NOM': 'полицейский', 'PL.FEM.NOM': 'полицейские',\n",
        "      'SG.FEM.INS': 'полицейским', 'PL.FEM.INS': 'полицейскими'\n",
        "  },\n",
        "  {\n",
        "      'SG.MASC.NOM': 'менеджер', 'PL.MASC.NOM': 'менеджеры',\n",
        "      'SG.MASC.INS': 'менеджером', 'PL.MASC.INS': 'менеджерами',\n",
        "      'SG.FEM.NOM': 'менеджер', 'PL.FEM.NOM': 'менеджеры',\n",
        "      'SG.FEM.INS': 'менеджером', 'PL.FEM.INS': 'менеджерами'\n",
        "  },\n",
        "  {\n",
        "      'SG.MASC.NOM': 'повар', 'PL.MASC.NOM': 'повара',\n",
        "      'SG.MASC.INS': 'поваром', 'PL.MASC.INS': 'поварами',\n",
        "      'SG.FEM.NOM': 'повар', 'PL.FEM.NOM': 'повара',\n",
        "      'SG.FEM.INS': 'поваром', 'PL.FEM.INS': 'поварами'\n",
        "  },\n",
        "  {\n",
        "      'SG.MASC.NOM': 'адвокат', 'PL.MASC.NOM': 'адвокаты',\n",
        "      'SG.MASC.INS': 'адвокатом', 'PL.MASC.INS': 'адвокатами',\n",
        "      'SG.FEM.NOM': 'адвокат', 'PL.FEM.NOM': 'адвокаты',\n",
        "      'SG.FEM.INS': 'адвокатом', 'PL.FEM.INS': 'адвокатами'\n",
        "  },\n",
        "  {\n",
        "      'SG.MASC.NOM': 'бухгалтер', 'PL.MASC.NOM': 'бухгалтеры',\n",
        "      'SG.MASC.INS': 'бухгалтером', 'PL.MASC.INS': 'бухгалтерами',\n",
        "      'SG.FEM.NOM': 'бухгалтер', 'PL.FEM.NOM': 'бухгалтеры',\n",
        "      'SG.FEM.INS': 'бухгалтером', 'PL.FEM.INS': 'бухгалтерами'\n",
        "  },\n",
        "  {\n",
        "      'SG.MASC.NOM': 'архитектор', 'PL.MASC.NOM': 'архитекторы',\n",
        "      'SG.MASC.INS': 'архитектором', 'PL.MASC.INS': 'архитекторами',\n",
        "      'SG.FEM.NOM': 'архитектор', 'PL.FEM.NOM': 'архитекторы',\n",
        "      'SG.FEM.INS': 'архитектором', 'PL.FEM.INS': 'архитекторами'\n",
        "  },\n",
        "  {\n",
        "      'SG.MASC.NOM': 'фермер', 'PL.MASC.NOM': 'фермеры',\n",
        "      'SG.MASC.INS': 'фермером', 'PL.MASC.INS': 'фермерами',\n",
        "      'SG.FEM.NOM': 'фермер', 'PL.FEM.NOM': 'фермеры',\n",
        "      'SG.FEM.INS': 'фермером', 'PL.FEM.INS': 'фермерами'\n",
        "  }\n",
        "]\n",
        "\n",
        "# C: Андрей и Антон писатели, но Андрей изменит карьеру и станет моделью.\n",
        "# Q: Кто будет модель? A: Андрей.\n",
        "\n",
        "\n",
        "t = RU.template(\n",
        "    \"C: {name1} и {name2} {job1.NOM.PL.MASC}, но {name1} \" +\n",
        "    \"изменит карьеру и станет {job2.SG.INS.\u003cname1.GENDER\u003e}. \" +\n",
        "    \"Q: Кто {job2.NOM.SG.MASC}? A: {name1}.\",\n",
        "    name=names, job=jobs, verbose=False,\n",
        "    same_keys_cfg=SAME_KEYS_CFGS[TEMPS[7]], template_name=TEMPS[7]\n",
        ")\n",
        "\n",
        "t(5000)"
      ]
    },
    {
      "cell_type": "markdown",
      "metadata": {
        "id": "1ra5J-LZBc65"
      },
      "source": [
        "##### Swedish"
      ]
    },
    {
      "cell_type": "code",
      "execution_count": null,
      "metadata": {
        "id": "1GX0NlaNBf7Z"
      },
      "outputs": [],
      "source": [
        "# C: Nils och Alexander är författare, men Nils ska byta karriär och vara modell.\n",
        "# Q: Vem ska bli en modell? A: Nils.\n",
        "\n",
        "names = [\n",
        "    {list(e.keys())[0].split('.')[1]: list(e.values())[0]}\n",
        "    for e in NAMES['sv'] if list(e.keys())[0].startswith(\"SG.\")\n",
        "]\n",
        "\n",
        "t = SV.template(\n",
        "    \"C: {name1} och {name2} är {job1.PL.\u003cFEM:name1.FEM,name2.FEM|MASC\u003e}, men {name1} ska byta karriär och bli \" +\n",
        "    \"{job2.SG.\u003cname1.GENDERPRON\u003e}. \" +\n",
        "    \"Q: Vem ska bli {job2.SG.MASC}? A: {name1}.\",\n",
        "    name=names, job=JOBS['sv'], verbose=False,\n",
        "    same_keys_cfg=SAME_KEYS_CFGS[TEMPS[7]], template_name=TEMPS[7]\n",
        "\n",
        ")\n",
        "\n",
        "t(5000)"
      ]
    },
    {
      "cell_type": "markdown",
      "metadata": {
        "id": "-oNtBrtc9rJT"
      },
      "source": [
        "##### Swahili"
      ]
    },
    {
      "cell_type": "code",
      "execution_count": null,
      "metadata": {
        "id": "1F5mw3fr9s1Z"
      },
      "outputs": [],
      "source": [
        "# C: X na Y ni waandishi lakini X atabadilisha kazi na atakuwa mwanamitindo.\n",
        "# Q: Mwanamitindo atakuwa nani? A: X.\n",
        "\n",
        "names = [\n",
        "    list(e.values())[0]\n",
        "    for e in NAMES['sw'] if list(e.keys())[0].startswith(\"SG\")\n",
        "]\n",
        "\n",
        "t = SW.template(\n",
        "    \"C: {name1} na {name2} ni {job1.PL} lakini {name1} \" +\n",
        "    \"atabadilisha kazi na atakuwa {job2.SG}. \" +\n",
        "    \"Q: {job2.SG.TO_CAPITALIZE} atakuwa nani? A: {name1}.\",\n",
        "    name=names, job=JOBS['sw'], verbose=False,\n",
        "    same_keys_cfg=SAME_KEYS_CFGS[TEMPS[7]], template_name=TEMPS[7]\n",
        ")\n",
        "\n",
        "t(5000)"
      ]
    },
    {
      "cell_type": "markdown",
      "metadata": {
        "id": "W2jvnomrD-9L"
      },
      "source": [
        "##### Finnish"
      ]
    },
    {
      "cell_type": "code",
      "execution_count": null,
      "metadata": {
        "id": "NntpXG7OEBE-"
      },
      "outputs": [],
      "source": [
        "# C: X ja Y ovat kirjoittajia mutta X vaihtaa uraa ja tulee olemaan malli.\n",
        "# Q: Kuka tulee olemaan malli? A: X.\n",
        "\n",
        "names = [\n",
        "    {list(e.keys())[0]: list(e.values())[0]}\n",
        "    for e in NAMES['fi'] if list(e.keys())[0].startswith(\"SG\")\n",
        "]\n",
        "\n",
        "t = FI.template(\n",
        "    \"C: {name1} ja {name2} ovat {job1.PRT.PL} \" +\n",
        "    \"mutta {name1} vaihtaa uraa ja tulee olemaan {job2.SG.NOM}. \" +\n",
        "    \"Q: Kuka tulee olemaan {job2.SG.NOM}? A: {name1}.\",\n",
        "    name=names, job=JOBS['fi'], verbose=False,\n",
        "    same_keys_cfg=SAME_KEYS_CFGS[TEMPS[7]], template_name=TEMPS[7]\n",
        ")\n",
        "\n",
        "t(5000)"
      ]
    },
    {
      "cell_type": "markdown",
      "metadata": {
        "id": "kIYSkxeuWE4N"
      },
      "source": [
        "##### Arabic"
      ]
    },
    {
      "cell_type": "code",
      "execution_count": null,
      "metadata": {
        "id": "bEY__0DUWC5l"
      },
      "outputs": [],
      "source": [
        "# C: Ahmed and Omar are writers, but Ahmed will change careers and will be a teacher.\n",
        "# Q: Who will be a teacher? A: Ahmed.\n",
        "\n",
        "# .أحمد وعمر كاتبان ، لكن أحمد سيغير مهنته وسيصبح مدرسًا :C\n",
        "# من هو المعلم؟ :Q\n",
        "# .أحمد :A\n",
        "\n",
        "# He is a writer -\u003e Nom.\n",
        "# He will become a writer. -\u003e Acc.\n",
        "# He was a writer. -\u003e Acc.\n",
        "\n",
        "names = [\n",
        "    {list(e.keys())[0].split(\".\")[1]: list(e.values())[0]}\n",
        "    for e in NAMES['ar'] if list(e.keys())[0].startswith(\"SG.\")\n",
        "]\n",
        "\n",
        "t = AR.template(\n",
        "    \"\\u200e.\\u200e{name1} \\u200e:A \" +\n",
        "    \"\\u200e؟\\u200e{job1.SG.NOM.MASC} \\u200eهو \\u200eمن \\u200e:Q \" +\n",
        "    \"\\u200e.\\u200e{job2.SG.NOM.\u003cname1.GENDER\u003e} \\u200e{ستكون:name1.FEM|سيكون:name1.MASC} \\u200eو \" +\n",
        "    \" \\u200e{سوف تغير مهنتها:name1.FEM|سوف يغير مهنته:name1.MASC} \\u200e{name1} \\u200eولكن ، \" +\n",
        "    \"\\u200e{job1.DU.NOM.\u003cFEM:name1.FEM,name2.FEM|MASC\u003e} \\u200e{name2} \\u200eو \\u200e{name1} \\u200e:C\",\n",
        "    name=names, job=JOBS['ar'], verbose=False,\n",
        "    same_keys_cfg=SAME_KEYS_CFGS[TEMPS[7]], template_name=TEMPS[7]\n",
        ")\n",
        "\n",
        "t(5000)"
      ]
    },
    {
      "cell_type": "markdown",
      "metadata": {
        "id": "6SZacG7aGMdR"
      },
      "source": [
        "### Comparatives"
      ]
    },
    {
      "cell_type": "markdown",
      "metadata": {
        "id": "fYPug5iLGMdS"
      },
      "source": [
        "#### Comparative I"
      ]
    },
    {
      "cell_type": "markdown",
      "metadata": {
        "id": "UjO7_tp2GMdS"
      },
      "source": [
        "##### English"
      ]
    },
    {
      "cell_type": "code",
      "execution_count": null,
      "metadata": {
        "id": "CpyG4X0TGMdS"
      },
      "outputs": [],
      "source": [
        "comps = [\n",
        "    {\"GT\": \"taller\", \"LT\": \"shorter\"},\n",
        "    {\"GT\": \"bigger\", \"LT\": \"smaller\"},\n",
        "    {\"GT\": \"older\", \"LT\": \"younger\"},\n",
        "    {\"GT\": \"happier\", \"LT\": \"sadder\"},\n",
        "    {\"GT\": \"faster\", \"LT\": \"slower\"},\n",
        "    {\"GT\": \"noisier\", \"LT\": \"quieter\"},\n",
        "    {\"GT\": \"richer\", \"LT\": \"poorer\"},\n",
        "]\n",
        "\n",
        "names = [list(e.values())[0] for e in NAMES['en'] if list(e.keys())[0].startswith(\"SG\")]\n",
        "\n",
        "# C: X is taller than Y.\n",
        "# Q: Who is shorter? A: Y.\n",
        "\n",
        "t = EN.template(\n",
        "    \"C: {name1} is {comp.GT} than {name2}. \" +\n",
        "    \"Q: Who is {comp.LT}? A: {name2}.\",\n",
        "    name=names, comp=comps, verbose=False,\n",
        "    same_keys_cfg=SAME_KEYS_CFGS[TEMPS[8]], template_name=TEMPS[8]\n",
        ")\n",
        "\n",
        "t(5000)"
      ]
    },
    {
      "cell_type": "markdown",
      "metadata": {
        "id": "ycf6HzFuGMdS"
      },
      "source": [
        "##### French"
      ]
    },
    {
      "cell_type": "code",
      "execution_count": null,
      "metadata": {
        "id": "WnWcWaO9GMdS"
      },
      "outputs": [],
      "source": [
        "comps = [\n",
        "    {\n",
        "      \"GT.MASC\": \"grand\", \"GT.FEM\": \"grande\",\n",
        "      \"LT.MASC\": \"petit\", \"LT.FEM\": \"petite\"\n",
        "    },\n",
        "    {\n",
        "      \"GT.MASC\": \"gros\", \"GT.FEM\": \"grosse\",\n",
        "      \"LT\": \"maigre\"\n",
        "    },\n",
        "    {\n",
        "      \"GT.MASC\": \"agé\", \"GT.FEM\": \"agée\",\n",
        "      \"LT\": \"jeune\"\n",
        "    },\n",
        "    {\n",
        "      \"GT.MASC\": \"joyeux\", \"GT.FEM\": \"joyeuse\",\n",
        "      \"LT\": \"triste\"\n",
        "    },\n",
        "    {\n",
        "      \"GT\": \"rapide\", \"LT.MASC\": \"lent\", \"LT.FEM\": \"lente\"\n",
        "    },\n",
        "    {\n",
        "      \"GT.MASC\": \"bruyant\", \"GT.FEM\": \"bruyante\",\n",
        "      \"LT.MASC\": \"silencieux\", \"LT.FEM\": \"silencieuse\"\n",
        "    },\n",
        "    {\n",
        "      \"GT\": \"riche\", \"LT\": \"pauvre\"\n",
        "    }\n",
        "]\n",
        "\n",
        "# C: X est plus grand que Y.\n",
        "# Q: Qui est plus petite? A: Y.\n",
        "\n",
        "names = [\n",
        "    {list(e.keys())[0].split('.')[1]: list(e.values())[0]}\n",
        "    for e in NAMES['fr'] if list(e.keys())[0].startswith(\"SG\")\n",
        "]\n",
        "\n",
        "t = FR.template(\n",
        "    \"C: {name1} est plus {comp.GT.\u003cname1.GENDER\u003e} que {name2}. \" +\n",
        "    \"Q: Qui est plus {comp.LT.MASC}? A: {name2}.\",\n",
        "    name=names, comp=comps, verbose=False,\n",
        "    same_keys_cfg=SAME_KEYS_CFGS[TEMPS[8]], template_name=TEMPS[8]\n",
        ")\n",
        "\n",
        "t(3000)"
      ]
    },
    {
      "cell_type": "markdown",
      "metadata": {
        "id": "nOjbqUY1GMdS"
      },
      "source": [
        "##### Slovak"
      ]
    },
    {
      "cell_type": "code",
      "execution_count": null,
      "metadata": {
        "id": "BDhU4I2NGMdS"
      },
      "outputs": [],
      "source": [
        "comps = [\n",
        "    {\n",
        "      \"GT.MASC\": \"vyšší\", \"GT.FEM\": \"vyššia\",\n",
        "      \"LT.MASC\": \"menší\", \"LT.FEM\": \"menšia\"\n",
        "    },\n",
        "    {\n",
        "      \"GT.MASC\": \"väčší\", \"GT.FEM\": \"väčšia\",\n",
        "      \"LT.MASC\": \"menší\", \"LT.FEM\": \"menšia\"\n",
        "    },\n",
        "    {\n",
        "      \"GT.MASC\": \"starši\", \"GT.FEM\": \"staršia\",\n",
        "      \"LT.MASC\": \"mladši\", \"LT.FEM\": \"mladšia\"\n",
        "    },\n",
        "    {\n",
        "      \"GT.MASC\": \"šťastnejší\", \"GT.FEM\": \"šťastnejšia\",\n",
        "      \"LT.MASC\": \"smutnejší\", \"LT.FEM\": \"smutnejšia\"\n",
        "    },\n",
        "    {\n",
        "      \"GT.MASC\": \"rýchlejší\", \"GT.FEM\": \"rýchlejšia\",\n",
        "      \"LT.MASC\": \"pomalší\", \"LT.FEM\": \"pomalšia\"\n",
        "    },\n",
        "    {\n",
        "      \"GT.MASC\": \"hlučnejší\", \"GT.FEM\": \"hlučnejšia\",\n",
        "      \"LT.MASC\": \"tichší\", \"LT.FEM\": \"tichšia\"\n",
        "    },\n",
        "    {\n",
        "      \"GT.MASC\": \"bohatší\", \"GT.FEM\": \"bohatšia\",\n",
        "      \"LT.MASC\": \"chudobnejší\", \"LT.FEM\": \"chudobnejšia\"\n",
        "    }\n",
        "]\n",
        "\n",
        "# C: X je vyšší ako Y.\n",
        "# Q: Kto je menší? A: Y.\n",
        "\n",
        "names = [\n",
        "    {list(e.keys())[0].split('.')[1]: list(e.values())[0]}\n",
        "    for e in NAMES['sk'] if list(e.keys())[0].startswith(\"SG\")\n",
        "]\n",
        "\n",
        "t = SK.template(\n",
        "    \"C: {name1} je {comp.GT.\u003cname1.GENDER\u003e} ako {name2}. \" +\n",
        "    \"Q: Kto je {comp.LT.MASC}? A: {name2}.\",\n",
        "    name=names, comp=comps, verbose=False,\n",
        "    same_keys_cfg=SAME_KEYS_CFGS[TEMPS[8]], template_name=TEMPS[8]\n",
        ")\n",
        "\n",
        "t(3000)"
      ]
    },
    {
      "cell_type": "markdown",
      "metadata": {
        "id": "T6fIj28hGMdS"
      },
      "source": [
        "##### German"
      ]
    },
    {
      "cell_type": "code",
      "execution_count": null,
      "metadata": {
        "id": "PDdpVZxXGMdS"
      },
      "outputs": [],
      "source": [
        "names = [list(e.values())[0] for e in NAMES['de'] if list(e.keys())[0].startswith(\"SG\")]\n",
        "\n",
        "comps = [\n",
        "    {\"GT\": \"höher\", \"LT\": \"niedriger\"},\n",
        "    {\"GT\": \"größer\", \"LT\": \"kleiner\"},\n",
        "    {\"GT\": \"älter\", \"LT\": \"jünger\"},\n",
        "    {\"GT\": \"glücklicher\", \"LT\": \"trauriger\"},\n",
        "    {\"GT\": \"schneller\", \"LT\": \"langsamer\"},\n",
        "    {\"GT\": \"lauter\", \"LT\": \"leiser\"},\n",
        "    {\"GT\": \"reicher\", \"LT\": \"ärmer\"},\n",
        "]\n",
        "\n",
        "# C: X ist höher als Y.\n",
        "# Q: Wer ist niedriger? A: Y.\n",
        "\n",
        "t = DE.template(\n",
        "    \"C: {name1} ist {comp.GT} als {name2}. \" +\n",
        "    \"Q: Wer ist {comp.LT}? A: {name2}.\",\n",
        "    name=names, comp=comps, verbose=False,\n",
        "    same_keys_cfg=SAME_KEYS_CFGS[TEMPS[8]], template_name=TEMPS[8]\n",
        ")\n",
        "\n",
        "t(3000)"
      ]
    },
    {
      "cell_type": "markdown",
      "metadata": {
        "id": "cSBD1b5VGMdS"
      },
      "source": [
        "##### Spanish"
      ]
    },
    {
      "cell_type": "code",
      "execution_count": null,
      "metadata": {
        "id": "kscM0hUOGMdS"
      },
      "outputs": [],
      "source": [
        "comps = [\n",
        "    {\n",
        "      \"GT.MASC\": \"más alto\", \"GT.FEM\": \"más alta\",\n",
        "      \"LT.MASC\": \"más pequeño\", \"LT.FEM\": \"más pequeña\"\n",
        "    },\n",
        "    {\n",
        "      \"GT\": \"más grande\",\n",
        "      \"LT.MASC\": \"más delgado\", \"LT.FEM\": \"más delgada\"\n",
        "    },\n",
        "    {\n",
        "      \"GT\": \"más feliz\",\n",
        "      \"LT\": \"más triste\"\n",
        "    }, {\n",
        "        \"GT\": \"mayor\", \"LT\": \"joven\"\n",
        "    },\n",
        "    {\n",
        "      \"GT.MASC\": \"más rápido\", \"GT.FEM\": \"más rápida\",\n",
        "      \"LT.MASC\": \"más lento\", \"LT.FEM\": \"más lenta\"\n",
        "    },\n",
        "    {\n",
        "      \"GT.MASC\": \"más ruidoso\", \"GT.FEM\": \"más ruidosa\",\n",
        "      \"LT.MASC\": \"más tranquilo\", \"LT.FEM\": \"más tranquila\"\n",
        "    },\n",
        "    {\n",
        "      \"GT.MASC\": \"más rico\", \"GT.FEM\": \"más rica\", \"LT\": \"más pobre\"\n",
        "    }\n",
        "]\n",
        "\n",
        "names = [\n",
        "    {list(e.keys())[0].split('.')[1]: list(e.values())[0]}\n",
        "    for e in NAMES['es'] if list(e.keys())[0].startswith(\"SG\")\n",
        "]\n",
        "\n",
        "# C: X es más grande que Y.\n",
        "# Q: ¿Quién es más pequeño? A: Y.\n",
        "\n",
        "t = ES.template(\n",
        "    \"C: {name1} es {comp.GT.\u003cname1.GENDER\u003e} que {name2}. \" +\n",
        "    \"Q: ¿Quién es {comp.LT.MASC}? A: {name2}.\",\n",
        "    name=names, comp=comps, verbose=False,\n",
        "    same_keys_cfg=SAME_KEYS_CFGS[TEMPS[8]], template_name=TEMPS[8]\n",
        ")\n",
        "\n",
        "t(3000)"
      ]
    },
    {
      "cell_type": "markdown",
      "metadata": {
        "id": "LWZhK_IDGTIz"
      },
      "source": [
        "##### Italian"
      ]
    },
    {
      "cell_type": "code",
      "execution_count": null,
      "metadata": {
        "id": "AfJ3J-ltGUU7"
      },
      "outputs": [],
      "source": [
        "names = [\n",
        "    {list(e.keys())[0].split(\".\")[1]: list(e.values())[0]}\n",
        "    for e in NAMES['it'] if list(e.keys())[0].startswith(\"SG.\")\n",
        "]\n",
        "\n",
        "comps = [\n",
        "    {\"GT.MASC\": \"alto\", \"GT.FEM\": \"alta\", \"LT.MASC\": \"basso\", \"LT.FEM\": \"bassa\"},\n",
        "    {\"GT\": \"grande\", \"LT.MASC\": \"piccolo\", \"LT.FEM\": \"piccola\"},\n",
        "    {\"GT.MASC\": \"anziano\", \"GT.FEM\": \"anziana\", \"LT\": \"giovane\"},\n",
        "    {\"GT\": \"felice\", \"LT\": \"triste\"},\n",
        "    {\"GT\": \"veloce\", \"LT.MASC\": \"lento\", \"LT.FEM\": \"lenta\"},\n",
        "    {\"GT.MASC\": \"rumoroso\", \"GT.FEM\": \"rumorosa\",\n",
        "     \"LT.MASC\": \"silenzioso\", \"LT.FEM\": \"silenziosa\"},\n",
        "    {\"GT.MASC\": \"ricco\", \"GT.FEM\": \"ricca\", \"LT.MASC\": \"povero\", \"LT.FEM\": \"povera\"},\n",
        "]\n",
        "\n",
        "same_keys_cfg = {\n",
        "    \"name\": {\"order\": True, \"repeat\": False},\n",
        "}\n",
        "\n",
        "# C: X è più alto di Y.\n",
        "# Q: Chi è più piccolo? A: Y.\n",
        "\n",
        "t = IT.template(\n",
        "    \"C: {name1} è più {comp.GT.\u003cname1.GENDER\u003e} di {name2}. \" +\n",
        "    \"Q: Chi è più {comp.LT.MASC}? A: {name2}.\",\n",
        "    name=names, comp=comps, verbose=False,\n",
        "    same_keys_cfg=SAME_KEYS_CFGS[TEMPS[8]], template_name=TEMPS[8]\n",
        ")\n",
        "\n",
        "t(3000)"
      ]
    },
    {
      "cell_type": "markdown",
      "metadata": {
        "id": "VmLp9RLgymdD"
      },
      "source": [
        "##### Mandarin"
      ]
    },
    {
      "cell_type": "code",
      "execution_count": null,
      "metadata": {
        "id": "FrY2UL_eyoqN"
      },
      "outputs": [],
      "source": [
        "names = [list(e.values())[0] for e in NAMES['zh'] if list(e.keys())[0].startswith(\"SG\")]\n",
        "\n",
        "comps = [\n",
        "    {\"GT\": \"高\", \"LT\": \"矮\"},\n",
        "    {\"GT\": \"大\", \"LT\": \"小\"},\n",
        "    {\"GT\": \"年长\", \"LT\": \"年轻\"},\n",
        "    {\"GT\": \"快乐\", \"LT\": \"难过\"},\n",
        "    {\"GT\": \"快\", \"LT\": \"慢\"},\n",
        "    {\"GT\": \"吵\", \"LT\": \"安静\"},\n",
        "    {\"GT\": \"有钱\", \"LT\": \"穷\"},\n",
        "]\n",
        "\n",
        "# C: X比Y高。\n",
        "# Q: X和Y谁矮？A: Y。\n",
        "\n",
        "t = ZH.template(\n",
        "    \"C: {name1}比{name2}{comp.GT}。 \" +\n",
        "    \"Q: {name1}和{name2}谁{comp.LT}？ A: {name2}。\",\n",
        "    name=names, comp=comps, verbose=False,\n",
        "    same_keys_cfg=SAME_KEYS_CFGS[TEMPS[8]], template_name=TEMPS[8]\n",
        ")\n",
        "\n",
        "t(3000)"
      ]
    },
    {
      "cell_type": "markdown",
      "metadata": {
        "id": "Ky0TQWSapoMM"
      },
      "source": [
        "##### Russian"
      ]
    },
    {
      "cell_type": "code",
      "execution_count": null,
      "metadata": {
        "id": "QMMjRcXlpqcj"
      },
      "outputs": [],
      "source": [
        "names = [\n",
        "  {\"MASC.NOM\": \"Андрей\", \"MASC.GEN\": \"Андрея\"},\n",
        "  {\"FEM.NOM\": \"Анна\", \"FEM.GEN\": \"Анны\"},\n",
        "  {\"FEM.NOM\": \"Елена\", \"FEM.GEN\": \"Елены\"},\n",
        "  {\"MASC.NOM\": \"Влад\", \"MASC.GEN\": \"Влада\"},\n",
        "  {\"MASC.NOM\": \"Pостислав\", \"MASC.GEN\": \"Pостислава\"},\n",
        "  {\"FEM.NOM\": \"Екатерина\", \"FEM.GEN\": \"Екатерины\"},\n",
        "  {\"MASC.NOM\": \"Антон\", \"MASC.GEN\": \"Антона\"},\n",
        "  {\"MASC.NOM\": \"Артур\", \"MASC.GEN\": \"Артура\"},\n",
        "  {\"FEM.NOM\": \"Злата\", \"FEM.GEN\": \"Златы\"},\n",
        "  {\"FEM.NOM\": \"Марина\", \"FEM.GEN\": \"Марины\"},\n",
        "]ниже\n",
        "\n",
        "comps = [\n",
        "    {\"GT\": \"выше\", \"LT\": \"ниже\"},\n",
        "    {\"GT\": \"больше\", \"LT\": \"меньше\"},\n",
        "    {\"GT\": \"старше\", \"LT\": \"младше\"},\n",
        "    {\"GT\": \"счастливее\", \"LT\": \"несчастнее\"},\n",
        "    {\"GT\": \"быстрее\", \"LT\": \"медленнее\"},\n",
        "    {\"GT\": \"шумнее\", \"LT\": \"тише\"},\n",
        "    {\"GT\": \"богаче\", \"LT\": \"беднее\"},\n",
        "]\n",
        "\n",
        "same_keys_cfg = {\n",
        "    \"name\": {\"order\": True, \"repeat\": False}\n",
        "}\n",
        "\n",
        "# C: Анна выше Pостислава.\n",
        "# Q: Кто ниже? A: Pостислав.\n",
        "\n",
        "t = RU.template(\n",
        "    \"C: {name1.NOM} {comp.GT} {name2.GEN}. \" +\n",
        "    \"Q: Кто {comp.LT}? A: {name2.NOM}.\",\n",
        "    name=names, comp=comps, verbose=False,\n",
        "    same_keys_cfg=SAME_KEYS_CFGS[TEMPS[8]], template_name=TEMPS[8]\n",
        ")\n",
        "\n",
        "t(3000)"
      ]
    },
    {
      "cell_type": "markdown",
      "metadata": {
        "id": "zWwydWfSQw_J"
      },
      "source": [
        "##### Swedish"
      ]
    },
    {
      "cell_type": "code",
      "execution_count": null,
      "metadata": {
        "id": "c3IFrNUqQzk6"
      },
      "outputs": [],
      "source": [
        "comps = [\n",
        "    {\"GT\": \"längre\", \"LT\": \"kortast\"},\n",
        "    {\"GT\": \"större\", \"LT\": \"minst\"},\n",
        "    {\"GT\": \"äldre\", \"LT\": \"yngst\"},\n",
        "    {\"GT\": \"gladare\", \"LT\": \"ledsnast\"},\n",
        "    {\"GT\": \"snabbare\", \"LT\": \"långsammast\"},\n",
        "    {\"GT\": \"bullrigare\", \"LT\": \"tystast\"},\n",
        "    {\"GT\": \"rikare\", \"LT\": \"fattigast\"},\n",
        "]\n",
        "\n",
        "names = [list(e.values())[0] for e in NAMES['sv'] if list(e.keys())[0].startswith(\"SG\")]\n",
        "\n",
        "# C: X är högre än Y.\n",
        "# Q: Vem är kortast? A: Y.\n",
        "\n",
        "t = SV.template(\n",
        "    \"C: {name1} är {comp.GT} än {name2}. \" +\n",
        "    \"Q: Vem är {comp.LT}? A: {name2}.\",\n",
        "    name=names, comp=comps, verbose=False,\n",
        "    same_keys_cfg=SAME_KEYS_CFGS[TEMPS[8]], template_name=TEMPS[8]\n",
        ")\n",
        "\n",
        "t(3000)"
      ]
    },
    {
      "cell_type": "markdown",
      "metadata": {
        "id": "5zrQ6llY_DbU"
      },
      "source": [
        "##### Swahili"
      ]
    },
    {
      "cell_type": "code",
      "execution_count": null,
      "metadata": {
        "id": "KT-AB4Cr_BtM"
      },
      "outputs": [],
      "source": [
        "comps = [\n",
        "    {\"GT.NI\": \"mrefu\", \"LT.NI\": \"mfupi\"},\n",
        "    {\"GT.NI\": \"mkubwa\", \"LT.NI\": \"mdogo\"},\n",
        "    {\"GT.NI\": \"mzee\", \"LT.NI\": \"kijana\"},\n",
        "    {\"GT.ANA\": \"furaha\", \"LT.ANA\": \"huzuni\"},\n",
        "    {\"GT.ANA\": \"haraka\", \"LT.ANA\": \"utaratibu\"},\n",
        "    {\"GT.ANA\": \"kelele\", \"LT.ANA\": \"utulivu\"},\n",
        "    {\"GT.NI\": \"tajiri\", \"LT.NI\": \"maskini\"},\n",
        "]\n",
        "\n",
        "names = [list(e.values())[0] for e in NAMES['sw'] if list(e.keys())[0].startswith(\"SG\")] #+ ['Epua', 'Kemaria', 'Abedi', 'Kesi', 'Omari', 'Safia']\n",
        "\n",
        "# C: Barika ni mrefu kuliko Zara.\n",
        "# Q: Nani ni mfupi zaidi? A: Zara.\n",
        "\n",
        "t = SW.template(\n",
        "    \"C: {name1} {ni:comp.NI|ana:comp.ANA} {comp.GT} kuliko {name2}. \" +\n",
        "    \"Q: Nani {ni:comp.NI|ana:comp.ANA} {comp.LT} zaidi? A: {name2}.\",\n",
        "    name=names, comp=comps, verbose=False,\n",
        "    same_keys_cfg=SAME_KEYS_CFGS[TEMPS[8]], template_name=TEMPS[8]\n",
        ")\n",
        "\n",
        "t(3000)"
      ]
    },
    {
      "cell_type": "markdown",
      "metadata": {
        "id": "PLHDPMk8u5fr"
      },
      "source": [
        "##### Finnish"
      ]
    },
    {
      "cell_type": "code",
      "execution_count": null,
      "metadata": {
        "id": "kCu6zcyVu66y"
      },
      "outputs": [],
      "source": [
        "comps = [\n",
        "    {\"GT\": \"pidempi\", \"LT\": \"lyhyempi\"},\n",
        "    {\"GT\": \"isompi\", \"LT\": \"pienempi\"},\n",
        "    {\"GT\": \"vanhempi\", \"LT\": \"nuorempi\"},\n",
        "    {\"GT\": \"iloisempi\", \"LT\": \"surullisempi\"},\n",
        "    {\"GT\": \"nopeampi\", \"LT\": \"hitaampi\"},\n",
        "    {\"GT\": \"äänekkäämpi\", \"LT\": \"hiljaisempi\"},\n",
        "    {\"GT\": \"rikkaampi\", \"LT\": \"köyhempi\"},\n",
        "]\n",
        "\n",
        "names = [list(e.values())[0] for e in NAMES['fi'] if list(e.keys())[0].startswith(\"SG\")]\n",
        "\n",
        "# C: X on pidempi kuin Y.\n",
        "# Q: Kumpi on lyhyempi? A: Y.\n",
        "\n",
        "t = FI.template(\n",
        "    \"C: {name1} on {comp.GT} kuin {name2}. \" +\n",
        "    \"Q: Kumpi on {comp.LT}? A: {name2}.\",\n",
        "    name=names, comp=comps, verbose=False,\n",
        "    same_keys_cfg=SAME_KEYS_CFGS[TEMPS[8]], template_name=TEMPS[8]\n",
        ")\n",
        "\n",
        "t(3000, export=False)"
      ]
    },
    {
      "cell_type": "markdown",
      "metadata": {
        "id": "dlGX0JcSj4Zb"
      },
      "source": [
        "##### Arabic"
      ]
    },
    {
      "cell_type": "code",
      "execution_count": null,
      "metadata": {
        "id": "EcihcU3lj3Bd"
      },
      "outputs": [],
      "source": [
        "comps = [\n",
        "    {\"GT\": \"أطول\", \"LT\": \"أقصر\"}, # {\"GT\": \"taller\", \"LT\": \"shorter\"}\n",
        "    {\"GT\": \"أكبر\", \"LT\": \"اصغر\"}, # {\"GT\": \"older\", \"LT\": \"younger\"}\n",
        "    {\"GT\": \"اسعد\", \"LT\": \"أحزن\"}, # {\"GT\": \"happier\", \"LT\": \"sadder\"}\n",
        "    {\"GT\": \"اسرع\", \"LT\": \"أبطأ\"}, # {\"GT\": \"faster\", \"LT\": \"slower\"}\n",
        "    {\"GT\": \"اعلى\", \"LT\": \"أهدأ\"}, # {\"GT\": \"louder\", \"LT\": \"quieter\"}\n",
        "    {\"GT\": \"أغنى\", \"LT\": \"أفقر\"}, # {\"GT\": \"richer\", \"LT\": \"poorer\"}\n",
        "    {\"GT\": \"أسمن\", \"LT\": \"أنحف\"}, # {\"GT\": \"fatter\", \"LT\": \"thinner\"}\n",
        "    {\"GT\": \"أجمل\", \"LT\": \"أقبح\"}, # {\"GT\": \"prettier\", \"LT\": \"uglier\"}\n",
        "]\n",
        "\n",
        "names = [list(e.values())[0] for e in NAMES['ar'] if list(e.keys())[0].startswith(\"SG\")]\n",
        "\n",
        "# C: Omar is taller than Ahmed.\n",
        "# Q: Who is shorter? A: Omar.\n",
        "\n",
        "# .عمر أطول من أحمد :C\n",
        "# من هو أقصر؟ :Q\n",
        "# .عمر\n",
        "\n",
        "t = AR.template(\n",
        "    \".{name2} \\u200e:A \" +\n",
        "    \"\\u200e؟\\u200e{comp.LT}\\u200eمن هو \\u200e:Q \" +\n",
        "    \".\\u200e{name2} \\u200eمن \\u200e{comp.GT} \\u200e{name1} \\u200e:C \",\n",
        "    name=names, comp=comps, verbose=False,\n",
        "    same_keys_cfg=SAME_KEYS_CFGS[TEMPS[8]], template_name=TEMPS[8]\n",
        ")\n",
        "\n",
        "t(5000)"
      ]
    },
    {
      "cell_type": "markdown",
      "metadata": {
        "id": "3ZBZGSWGwTM6"
      },
      "source": [
        "#### Comparative II: Conditional"
      ]
    },
    {
      "cell_type": "markdown",
      "metadata": {
        "id": "OAXrkCvfwb2F"
      },
      "source": [
        "##### English"
      ]
    },
    {
      "cell_type": "code",
      "execution_count": null,
      "metadata": {
        "id": "ENvIt-ifRxPY"
      },
      "outputs": [],
      "source": [
        "names = [\n",
        "  {\n",
        "    list(e.keys())[0].split(\".\")[1]: list(e.values())[0]\n",
        "  } for e in NAMES['en'] if list(e.keys())[0].startswith(\"SG\")\n",
        "]\n",
        "\n",
        "comps = [\n",
        "    {\"GT\": a, \"LT\": b}\n",
        "    for a, b in zip(\n",
        "        [\"newer\", \"older\", \"prettier\", \"smaller\", \"bigger\", \"more expensive\", \"cheaper\"],\n",
        "        [\"old\", \"new\", \"ugly\", \"big\", \"small\", \"cheap\", \"expensive\"]\n",
        "    )\n",
        "]\n",
        "\n",
        "objs = [\"house\", \"car\", \"book\", \"boat\", \"bike\", \"apartment\", \"computer\"]\n",
        "\n",
        "acts = [\"buy\", \"sell\", \"rent\", \"use\", \"exchange\"]\n",
        "\n",
        "# C: If the house was smaller, Mario would buy it.\n",
        "#    If the book was newer, Mario would buy it.\n",
        "# Q: What would Mario buy if it was less big?\n",
        "# A: The house.\n",
        "\n",
        "t = EN.template(\n",
        "    \"C: If the {obj1} was {comp1.GT}, {name} would {act} it. \" +\n",
        "    \"If the {obj2} was {comp2.GT}, {name} would {act} it. \" +\n",
        "    \"Q: What would {name} {act} if it was less {comp1.LT}? \" +\n",
        "    \"A: The {obj1}.\",\n",
        "    obj=objs,name=names, comp=comps, act=acts, verbose=False,\n",
        "    same_keys_cfg=SAME_KEYS_CFGS[TEMPS[9]], template_name=TEMPS[9]\n",
        ")\n",
        "\n",
        "t(25000)"
      ]
    },
    {
      "cell_type": "markdown",
      "metadata": {
        "id": "8TzV-d6qw27g"
      },
      "source": [
        "##### French"
      ]
    },
    {
      "cell_type": "code",
      "execution_count": null,
      "metadata": {
        "id": "2YtSWEFTHo2S"
      },
      "outputs": [],
      "source": [
        "names = [\n",
        "  {\n",
        "    list(e.keys())[0].split(\".\")[1]: list(e.values())[0]\n",
        "  } for e in NAMES['en'] if list(e.keys())[0].startswith(\"SG\")\n",
        "]\n",
        "\n",
        "comps = [\n",
        "    {\"GT.MASC\": a[0], \"GT.FEM\": a[1], \"LT.MASC\": b[0], \"LT.FEM\": b[1]}\n",
        "    for a, b in zip(\n",
        "        [(\"récent\", \"récente\"), (\"vieux\", \"vieux\"), (\"joli\", \"jolie\"), (\"petit\", \"petite\"), (\"grand\", \"grande\"), (\"cher\", \"chère\"), (\"économique\", \"économique\")],\n",
        "        [(\"vieux\", \"vieux\"), (\"récent\", \"récente\"), (\"moche\", \"moche\"), (\"grand\", \"grande\"), (\"petit\", \"petite\"), (\"économique\", \"économique\"),  (\"cher\", \"chère\")]\n",
        "    )\n",
        "]\n",
        "\n",
        "objs = [\n",
        "    {\"FEM\": \"maison\"},\n",
        "    {\"FEM\": \"voiture\"},\n",
        "    {\"MASC\": \"livre\"},\n",
        "    {\"MASC\": \"bateau\"},\n",
        "    {\"MASC\": \"vélo\"},\n",
        "    {\"MASC\": \"appartement\"},\n",
        "    {\"MASC\": \"ordinateur\"}\n",
        "]\n",
        "\n",
        "acts = [\n",
        "    {\"VOW\": \"acheterait\"},\n",
        "    {\"CONS\": \"vendrait\"},\n",
        "    {\"CONS\": \"louerait\"},\n",
        "    {\"VOW\": \"utiliserait\"},\n",
        "    {\"VOW\": \"échangerait\"}\n",
        "]\n",
        "\n",
        "# C: If the house was smaller, Mario would buy it.\n",
        "# Q: What would Mario buy if it was less big?\n",
        "# A: The house.\n",
        "\n",
        "# C: Si la maison était plus petite, Mario l'acheterait.\n",
        "# Si le livre était plus grand, Mario l'acheterait.\n",
        "# Q: Qu'est-ce que Mario acheterait si c'était moins grand.\n",
        "# A: La maison.\n",
        "\n",
        "t = FR.template(\n",
        "    \"C: Si {ART1.DEF.SG.\u003cobj1.GENDER.STARTSWITH\u003e} {obj1} était plus {comp1.GT.\u003cobj1.GENDER\u003e}, {name} {l':act.VOW|le:act.CONS} {act}. \" +\n",
        "    \"Si {ART2.DEF.SG.\u003cobj2.GENDER.STARTSWITH\u003e} {obj2} était plus {comp2.GT.\u003cobj2.GENDER\u003e}, {name} {l':act.VOW|le:act.CONS} {act}. \" +\n",
        "    \"Q: Qu'est-ce que {name} {act} si c'était moins {comp1.LT.MASC}? \" +\n",
        "    \"A: {ART3.DEF.SG.\u003cobj1.GENDER.STARTSWITH\u003e.TO_CAPITALIZE} {obj1}.\",\n",
        "    obj=objs,name=names, comp=comps, act=acts, verbose=False,\n",
        "    same_keys_cfg=SAME_KEYS_CFGS[TEMPS[9]], template_name=TEMPS[9]\n",
        ")\n",
        "\n",
        "t(25000)"
      ]
    },
    {
      "cell_type": "markdown",
      "metadata": {
        "id": "Hio_wvSF2c8G"
      },
      "source": [
        "##### Slovak"
      ]
    },
    {
      "cell_type": "code",
      "execution_count": null,
      "metadata": {
        "id": "yl5jxDxQ2eQM"
      },
      "outputs": [],
      "source": [
        "names = [\n",
        "  {\n",
        "    list(e.keys())[0].split(\".\")[1]: list(e.values())[0]\n",
        "  } for e in NAMES['sk'] if list(e.keys())[0].startswith(\"SG\")\n",
        "]\n",
        "\n",
        "comps = [\n",
        "    {\n",
        "        \"GT.MASC\": a[0], \"GT.FEM\": a[1], \"GT.NEUT\": a[2],\n",
        "        \"LT.MASC\": b[0], \"LT.FEM\": b[1], \"LT.NEUT\": b[2],\n",
        "    }\n",
        "    for a, b in zip(\n",
        "        [\n",
        "            (\"novší\", \"novšia\", \"novšie\"), (\"starší\", \"staršia\", \"staršie\"),\n",
        "            (\"krajší\", \"krajšia\", \"krajšie\"),\n",
        "            (\"menší\", \"menšia\", \"menšie\"), (\"väčší\", \"väčšia\", \"väčšie\"),\n",
        "            (\"drahší\", \"drahšia\", \"drahšie\"),\n",
        "            (\"lacnejší\", \"lacnejšia\", \"lacnejšie\")\n",
        "         ],\n",
        "        [\n",
        "            (\"starý\", \"stará\", \"staré\"), (\"nový\", \"nová\", \"nové\"),\n",
        "            (\"škaredý\", \"škaredá\", \"škaredé\"), (\"veľký\", \"veľká\", \"veľké\"),\n",
        "            (\"malý\", \"malá\", \"malé\"), (\"lacný\", \"lacná\", \"lacné\"), (\"drahý\", \"drahá\", \"drahé\")\n",
        "        ]\n",
        "    )\n",
        "]\n",
        "\n",
        "objs = [\n",
        "      {\"NOM.MASC\": \"dom\", \"ACC.MASC\": \"dom\"},\n",
        "      {\"NOM.NEUT\": \"auto\", \"ACC.NEUT\": \"auto\"},\n",
        "      {\"NOM.FEM\": \"kniha\", \"ACC.FEM\": \"knihu\"},\n",
        "      {\"NOM.MASC\": \"bicykel\", \"ACC.MASC\": \"bicykel\"},\n",
        "      {\"NOM.MASC\": \"byt\", \"ACC.MASC\": \"byt\"},\n",
        "      {\"NOM.MASC\": \"počítač\", \"ACC.MASC\": \"počítač\"},\n",
        "      {\"NOM.FEM\": \"loď\", \"ACC.FEM\": \"loď\"},\n",
        "]\n",
        "\n",
        "acts = [\n",
        "    {\"MASC\": e, \"FEM\": e + \"a\"}\n",
        "    for e in [\"kúpil\", \"predal\", \"prenajímal\", \"používal\", \"vymenil\"]\n",
        "]\n",
        "\n",
        "# C: Keby bol dom menší, Mário by ho kúpil.\n",
        "# Q: Čo by Mário kúpil, keby to bolo menej veľké?\n",
        "# A: Dom.\n",
        "\n",
        "t = SK.template(\n",
        "    \"C: Keby {bol:obj1.MASC|bola:obj1.FEM|bolo:obj1.NEUT} {obj1.NOM} {comp1.GT.\u003cobj1.GENDER\u003e}, \" +\n",
        "    \"{name} by {ju:obj1.FEM|ho:obj1.MASC|ho:obj1.NEUT} {act.\u003cname.GENDER\u003e}. \" +\n",
        "    \"Keby {bol:obj2.MASC|bola:obj2.FEM|bolo:obj2.NEUT} {obj2.NOM} {comp2.GT.\u003cobj2.GENDER\u003e}, \" +\n",
        "    \"{name} by {ju:obj2.FEM|ho:obj2.MASC|ho:obj2.NEUT} {act.\u003cname.GENDER\u003e}. \" +\n",
        "    \"Q: Čo by {name} {act.\u003cname.GENDER\u003e}, keby to bolo menej \" +\n",
        "    \"{comp1.LT.NEUT}? A: {obj1.ACC.TO_CAPITALIZE}.\",\n",
        "    obj=objs, name=names, comp=comps, act=acts, verbose=False,\n",
        "    same_keys_cfg=SAME_KEYS_CFGS[TEMPS[9]], template_name=TEMPS[9]\n",
        ")\n",
        "\n",
        "t(25000)"
      ]
    },
    {
      "cell_type": "markdown",
      "metadata": {
        "id": "GzhoY5P-7WrE"
      },
      "source": [
        "##### German"
      ]
    },
    {
      "cell_type": "code",
      "execution_count": null,
      "metadata": {
        "id": "F8WY9aMcWjPj"
      },
      "outputs": [],
      "source": [
        "names = [\n",
        "  {\n",
        "    list(e.keys())[0].split(\".\")[1]: list(e.values())[0]\n",
        "  } for e in NAMES['de'] if list(e.keys())[0].startswith(\"SG\")\n",
        "]\n",
        "\n",
        "comps = [\n",
        "    {\"GT\": a, \"LT\": b}\n",
        "    for a, b in zip(\n",
        "        [\"neuer\", \"älter\", \"schöner\", \"kleiner\", \"größer\", \"teurer\", \"billiger\"],\n",
        "        [\"alt\", \"neu\", \"hässlich\", \"groß\", \"klein\", \"billig\", \"teuer\"]\n",
        "    )\n",
        "]\n",
        "\n",
        "objs = [\n",
        "    {\"NEUT\": \"Haus\"},\n",
        "    {\"NEUT\": \"Auto\"},\n",
        "    {\"NEUT\": \"Buch\"},\n",
        "    {\"NEUT\": \"Boot\"},\n",
        "    {\"NEUT\": \"Fahrrad\"},\n",
        "    {\"FEM\": \"Wohnung\"},\n",
        "    {\"MASC\": \"Computer\"}\n",
        "]\n",
        "\n",
        "acts = [\"kaufen\", \"verkaufen\", \"mieten\", \"benutzen\", \"tauschen\"]\n",
        "\n",
        "# C: Wäre das Haus kleiner, würde Mario es kaufen.\n",
        "# Q: Was würde Mario kaufen, wäre es weniger groß?\n",
        "# A: Das Haus.\n",
        "\n",
        "t = DE.template(\n",
        "    \"C: Wäre {ART1.SG.DEF.NOM.\u003cobj1.GENDER\u003e} {obj1} {comp1.GT}, würde \" +\n",
        "    \"{ihn:obj1.MASC|sie:obj1.FEM|es:obj1.NEUT} {name} {act}. \" +\n",
        "    \"Wäre {ART2.SG.DEF.NOM.\u003cobj2.GENDER\u003e} {obj2} {comp2.GT}, würde \" +\n",
        "    \"{ihn:obj2.MASC|sie:obj2.FEM|es:obj2.NEUT} {name} {act}. \" +\n",
        "    \"Q: Was würde {name} {act}, wäre es weniger {comp1.LT}? \" +\n",
        "    \"A: {ART3.SG.DEF.ACC.\u003cobj1.GENDER\u003e.TO_CAPITALIZE} {obj1}.\",\n",
        "    obj=objs, name=names, comp=comps, act=acts, verbose=False,\n",
        "    same_keys_cfg=SAME_KEYS_CFGS[TEMPS[9]], template_name=TEMPS[9]\n",
        ")\n",
        "\n",
        "t(25000)"
      ]
    },
    {
      "cell_type": "markdown",
      "metadata": {
        "id": "11E-tU9dM-KH"
      },
      "source": [
        "##### Spanish"
      ]
    },
    {
      "cell_type": "code",
      "execution_count": null,
      "metadata": {
        "id": "FLw0VZB5M9K8"
      },
      "outputs": [],
      "source": [
        "names = [\n",
        "  {\n",
        "    list(e.keys())[0].split(\".\")[1]: list(e.values())[0]\n",
        "  } for e in NAMES['es'] if list(e.keys())[0].startswith(\"SG\")\n",
        "]\n",
        "\n",
        "comps = [\n",
        "    {\"GT.MASC\": a[0], \"GT.FEM\": a[1], \"LT.MASC\": b[0], \"LT.FEM\": b[1]}\n",
        "    for a, b in zip(\n",
        "        [\n",
        "            (\"reciente\", \"reciente\"), (\"viejo\", \"vieja\"), (\"bonito\", \"bonita\"),\n",
        "            (\"pequeño\", \"pequeña\"), (\"grande\", \"grande\") , (\"caro\", \"cara\"),\n",
        "            (\"barato\", \"barata\")\n",
        "        ],\n",
        "        [\n",
        "            (\"viejo\", \"vieja\"), (\"reciente\", \"reciente\"), (\"feo\", \"fea\"),\n",
        "            (\"grande\", \"grande\"), (\"pequeño\", \"pequeña\") , (\"barato\", \"barata\"),\n",
        "            (\"caro\", \"cara\")\n",
        "        ]\n",
        "    )\n",
        "]\n",
        "\n",
        "objs = [\n",
        "    {\"FEM\": \"casa\"}, {\"MASC\": \"coche\"}, {\"MASC\": \"libro\"},\n",
        "    {\"MASC\": \"barco\"}, {\"FEM\": \"bicicleta\"}, {\"MASC\": \"apartamento\"},\n",
        "    {\"MASC\": \"ordenador\"}\n",
        "]\n",
        "\n",
        "acts = [\"compraría\", \"vendería\", \"alquilaría\", \"utilizaría\", \"cambiaría\"]\n",
        "\n",
        "# C: Si la casa fuera más pequeña, Mario la compraría.\n",
        "# Si el libro fuera más nuevo, Mario lo compraría.\n",
        "# Q: ¿Qué compraría Mario si es fuera menos grande?\n",
        "# A: La casa.\n",
        "\n",
        "t = ES.template(\n",
        "    \"C: Si {ART1.DEF.SG.\u003cobj1.GENDER\u003e} {obj1} fuera más {comp1.GT.\u003cobj1.GENDER\u003e}, {name} \" +\n",
        "    \"{la:name.MASC|lo:name.FEM} {act}. \" +\n",
        "    \"Si {ART2.DEF.SG.\u003cobj2.GENDER\u003e} {obj2} fuera más {comp2.GT.\u003cobj2.GENDER\u003e}, {name} \" +\n",
        "    \"{la:name.MASC|lo:name.FEM} {act}. \" +\n",
        "    \"Q: ¿Qué {act} {name} si es fuera menos {comp1.LT.\u003cobj1.GENDER\u003e}? \" +\n",
        "    \"A: {ART1.DEF.SG.\u003cobj1.GENDER\u003e.TO_CAPITALIZE} {obj1}.\",\n",
        "    obj=objs,name=names, comp=comps, act=acts, verbose=False,\n",
        "    same_keys_cfg=SAME_KEYS_CFGS[TEMPS[9]], template_name=TEMPS[9]\n",
        ")\n",
        "\n",
        "t(25000)\n"
      ]
    },
    {
      "cell_type": "markdown",
      "metadata": {
        "id": "VAAqJBQgKqm5"
      },
      "source": [
        "##### Italian"
      ]
    },
    {
      "cell_type": "code",
      "execution_count": null,
      "metadata": {
        "id": "-8GmJ8YVanKQ"
      },
      "outputs": [],
      "source": [
        "names = [\n",
        "  {\n",
        "    list(e.keys())[0].split(\".\")[1]: list(e.values())[0]\n",
        "  } for e in NAMES['it'] if list(e.keys())[0].startswith(\"SG\")\n",
        "]\n",
        "\n",
        "comps = [\n",
        "    {\"GT.MASC\": a[0], \"GT.FEM\": a[1], \"LT.MASC\": b[0], \"LT.FEM\": b[1]}\n",
        "    for a, b in zip(\n",
        "        [\n",
        "            (\"recente\", \"recente\"), (\"vecchio\", \"vecchia\"), (\"bello\", \"bella\"),\n",
        "            (\"piccolo\", \"piccola\"), (\"grande\", \"grande\") , (\"caro\", \"cara\"),\n",
        "            (\"economico\", \"economica\")\n",
        "        ],\n",
        "        [\n",
        "            (\"vecchio\", \"vecchia\"), (\"recente\", \"recente\"), (\"brutto\", \"brutta\"),\n",
        "            (\"grande\", \"grande\"), (\"piccolo\", \"piccola\") , (\"economico\", \"economica\"),\n",
        "            (\"caro\", \"cara\")\n",
        "        ]\n",
        "    )\n",
        "]\n",
        "\n",
        "objs = [\n",
        "    {\"FEM\": \"casa\"}, {\"FEM\": \"macchina\"}, {\"MASC\": \"libro\"},\n",
        "    {\"FEM\": \"barca\"}, {\"FEM\": \"bicicletta\"}, {\"FEM\": \"apartamento\"},\n",
        "    {\"MASC\": \"computer\"}\n",
        "]\n",
        "\n",
        "acts = [\n",
        "    {\"CONS\": \"comprerebbe\"},\n",
        "    {\"CONS\": \"venderebbe\"},\n",
        "    {\"VOW\": \"affitterebbe\"},\n",
        "    {\"CONS2\": \"userebbe\"},\n",
        "    {\"CONS2\": \"scambierebbe\"}\n",
        "]\n",
        "\n",
        "# C: Se la casa fosse più piccola, Mario la comprerebbe.\n",
        "# Se il libro fosse più recente, Mario lo comprerebbe.\n",
        "# D: Cosa comprerebbe Mario se questa fosse meno grande?\n",
        "# A: La casa.\n",
        "\n",
        "t = IT.template(\n",
        "    \"C: Se {ART1.DEF.SG.\u003cobj1.GENDER.STARTSWITH\u003e} {obj1} fosse più {comp1.GT.\u003cobj1.GENDER\u003e}, {name} \" +\n",
        "    \"{ART3.DEF.SG.\u003cobj1.GENDER\u003e.\u003cact.STARTSWITH\u003e} {act}. \" +\n",
        "    \"Se {ART2.DEF.SG.\u003cobj2.GENDER.STARTSWITH\u003e} {obj2} fosse più {comp2.GT.\u003cobj2.GENDER\u003e}, {name} \" +\n",
        "    \"{ART4.DEF.SG.\u003cobj2.GENDER\u003e.\u003cact.STARTSWITH\u003e} {act}. \" +\n",
        "    \"Q: Cosa {act} {name} se {questa:name.FEM|questo:name.MASC} fosse meno {comp1.LT.\u003cobj1.GENDER\u003e}? \" +\n",
        "    \"A: {ART1.DEF.SG.\u003cobj1.GENDER.STARTSWITH\u003e.TO_CAPITALIZE} {obj1}.\",\n",
        "    obj=objs,name=names, comp=comps, act=acts, verbose=False,\n",
        "    same_keys_cfg=SAME_KEYS_CFGS[TEMPS[9]], template_name=TEMPS[9]\n",
        ")\n",
        "\n",
        "t(25000)\n"
      ]
    },
    {
      "cell_type": "markdown",
      "metadata": {
        "id": "1B1znG342rcu"
      },
      "source": [
        "##### Mandarin"
      ]
    },
    {
      "cell_type": "code",
      "execution_count": null,
      "metadata": {
        "id": "X0Ua4QkhbO0i"
      },
      "outputs": [],
      "source": [
        "names = [\n",
        "  {\n",
        "    list(e.keys())[0].split(\".\")[1]: list(e.values())[0]\n",
        "  } for e in NAMES['zh'] if list(e.keys())[0].startswith(\"SG\")\n",
        "]\n",
        "\n",
        "comps = [\n",
        "    \"高\", \"矮\", \"年长\", \"年轻\", \"快乐\", \"伤心\", \"快\", \"慢\"\n",
        "]\n",
        "\n",
        "acts = [\"跳舞\", \"工作\", \"唱歌\", \"跑步\", \"做饭\", \"游泳\"]\n",
        "\n",
        "# C: 如果X再年轻一点，她就会跳舞。\n",
        "# Q: 如果X年轻一点，她会做什么？\n",
        "# A: 跳舞。\n",
        "\n",
        "# C: If Maria was younger, she would dance.\n",
        "# Q: What would Maria do if she was younger?\n",
        "# A: Dance.\n",
        "\n",
        "t = ZH.template(\n",
        "    \"C: 如果{name}再{comp}一点，{他:name.MASC|她:name.FEM}就会{act}。\" +\n",
        "    \"Q: 如果{name}{comp}一点，{他:name.MASC|她:name.FEM}会做什么？\" +\n",
        "    \"A: {act}。\",\n",
        "    name=names, comp=comps, act=acts, verbose=False,\n",
        "    same_keys_cfg=SAME_KEYS_CFGS[TEMPS[9]], template_name=TEMPS[9]\n",
        ")\n",
        "\n",
        "t(5000)"
      ]
    },
    {
      "cell_type": "markdown",
      "metadata": {
        "id": "IyaGVajds_Ls"
      },
      "source": [
        "##### Russian"
      ]
    },
    {
      "cell_type": "code",
      "execution_count": null,
      "metadata": {
        "id": "CBmUCbIMtCbI"
      },
      "outputs": [],
      "source": [
        "names = [\n",
        "  {\n",
        "    list(e.keys())[0].split(\".\")[1]: list(e.values())[0]\n",
        "  } for e in NAMES['ru'] if list(e.keys())[0].startswith(\"SG\")\n",
        "]\n",
        "\n",
        "comps = [\n",
        "    {\"GT\": a, \"LT\": b}\n",
        "    for a, b in zip(\n",
        "        [\"новее\", \"старше\",  \"красивее\", \"меньше\", \"больше\", \"дороже\", \"дешевле\"],\n",
        "        [\"старым\", \"новым\", \"некрасивым\", \"большим\", \"маленьким\", \"дешёвым\", \"дорогим\"]\n",
        "    )\n",
        "]\n",
        "\n",
        "objs = [\n",
        "      {\"NOM.MASC\": \"дом\", \"ACC.MASC\": \"дом\"},\n",
        "      {\"NOM.FEM\": \"книга\", \"ACC.FEM\": \"книгу\"},\n",
        "      {\"NOM.FEM\": \"машина\", \"ACC.FEM\": \"машину\"},\n",
        "      {\"NOM.MASC\": \"велосипед\", \"ACC.MASC\": \"велосипед\"},\n",
        "      {\"NOM.FEM\": \"квартира\", \"ACC.FEM\": \"квартиру\"},\n",
        "      {\"NOM.MASC\": \"компьютер\", \"ACC.MASC\": \"компьютер\"},\n",
        "      {\"NOM.FEM\": \"лодка\", \"ACC.FEM\": \"лодку\"},\n",
        "]\n",
        "\n",
        "acts = [\n",
        "    {\"MASC\": \"купил\", \"FEM\": \"купила\"},\n",
        "    {\"MASC\": \"продал\", \"FEM\": \"продала\"},\n",
        "    {\"MASC\": \"арендовал\", \"FEM\": \"арендовала\"},\n",
        "    {\"MASC\": \"использовал\", \"FEM\": \"использовала\"},\n",
        "    {\"MASC\": \"обменял\", \"FEM\": \"обменяла\"},\n",
        "]\n",
        "\n",
        "# C: Если бы дом был меньше, Марио купил бы его.\n",
        "# Q: Что бы купил Марио, если бы оно было не таким большим?\n",
        "# A: Дом.\n",
        "\n",
        "t = RU.template(\n",
        "    \"C: Если бы {obj1.NOM} {был:obj1.MASC|была:obj1.FEM|было:obj1.NEUT} {comp1.GT}, \" +\n",
        "    \"{name} бы {act.\u003cname.GENDER\u003e} {её:obj1.FEM|его:obj1.MASC|его:obj1.NEUT}. \" +\n",
        "    \"Если бы {obj2.NOM} {был:obj2.MASC|была:obj2.FEM|было:obj2.NEUT} {comp2.GT}, \" +\n",
        "    \"{name} бы {act.\u003cname.GENDER\u003e} {её:obj2.FEM|его:obj2.MASC|его:obj2.MASC}. \" +\n",
        "    \"Q: Что бы {act.\u003cname.GENDER\u003e} {name}, если бы это было не менее {comp1.LT}? \" +\n",
        "    \"A: {obj1.ACC.TO_CAPITALIZE}.\",\n",
        "    obj=objs,name=names, comp=comps, act=acts, verbose=False,\n",
        "    same_keys_cfg=SAME_KEYS_CFGS[TEMPS[9]], template_name=TEMPS[9]\n",
        ")\n",
        "\n",
        "t(5000)"
      ]
    },
    {
      "cell_type": "markdown",
      "metadata": {
        "id": "GigLf36FSFHN"
      },
      "source": [
        "##### Swedish"
      ]
    },
    {
      "cell_type": "code",
      "execution_count": null,
      "metadata": {
        "id": "N5a7J0gpSH5_"
      },
      "outputs": [],
      "source": [
        "names = [\n",
        "  list(e.values())[0]\n",
        "  for e in NAMES['sv'] if list(e.keys())[0].startswith(\"SG\")\n",
        "]\n",
        "\n",
        "comps = [\n",
        "    {\"GT\": a, \"LT\": b}\n",
        "    for a, b in zip(\n",
        "        [\"nyare\", \"äldre\", \"sötare\", \"mindre\", \"större\", \"dyrare\", \"billigare\"],\n",
        "        [\"gammal\", \"ny\", \"ful\", \"stor\", \"liten\", \"billig\", \"dyr\"]\n",
        "    )\n",
        "]\n",
        "\n",
        "objs = [{\"NEUT\": \"huset\"}, {\"COMMON\": \"bilen\"}, {\"COMMON\": \"boken\"},\n",
        "        {\"COMMON\": \"båten\"}, {\"COMMON\": \"cykeln\"}, {\"COMMON\": \"lägenheten\"},\n",
        "        {\"COMMON\": \"datorn\"}]\n",
        "\n",
        "acts = [\"köpa\", \"sälja\", \"hyra\", \"använda\", \"byta ut\"]\n",
        "\n",
        "# C: Om huset vore mindre skulle Mario köpa det. Om boken vore nyare skulle Mario köpa.\n",
        "# Q: Vad skulle Mario köpa om den vore mindre stor?\n",
        "# A: Huset.\n",
        "\n",
        "t = SV.template(\n",
        "    \"C: Om {obj1} vore {comp1.GT} skulle {name} {act} {den:obj1.COMMON|det:obj1.NEUT}. \" +\n",
        "    \"Om {obj2} vore {comp2.GT} skulle {name} {act} {den:obj2.COMMON|det:obj2.NEUT}. \" +\n",
        "    \"Q: Vad skulle {name} {act} om {den:obj1.COMMON|det:obj1.NEUT} vore mindre {comp1.LT}? \" +\n",
        "    \"A: {obj1.TO_CAPITALIZE}.\",\n",
        "    obj=objs, name=names, comp=comps, act=acts, verbose=False,\n",
        "    same_keys_cfg=SAME_KEYS_CFGS[TEMPS[9]], template_name=TEMPS[9]\n",
        ")\n",
        "\n",
        "t(25000)"
      ]
    },
    {
      "cell_type": "markdown",
      "metadata": {
        "id": "IzzUUdfew8H_"
      },
      "source": [
        "##### Finnish"
      ]
    },
    {
      "cell_type": "code",
      "execution_count": null,
      "metadata": {
        "id": "3_qqsJvJw9gs"
      },
      "outputs": [],
      "source": [
        "names = [\n",
        "  list(e.values())[0]\n",
        "  for e in NAMES['fi'] if list(e.keys())[0].startswith(\"SG\")\n",
        "]\n",
        "\n",
        "comps = [\n",
        "    {\"GT\": a, \"LT\": b}\n",
        "    for a, b in zip(\n",
        "        [\"uudempi\", \"vanhempi\", \"nätimpi\", \"pienempi\", \"isompi\", \"kalliimpi\", \"halvempi\"],\n",
        "        [\"vanha\", \"uusi\", \"ruma\", \"iso\", \"pieni\", \"halpa\", \"kallis\"]\n",
        "    )\n",
        "]\n",
        "\n",
        "objs = [\n",
        "    {\"NOM\": \"talo\", \"GEN\": \"talon\", \"PRT\": \"taloa\"},\n",
        "    {\"NOM\": \"auto\", \"GEN\": \"auton\", \"PRT\": \"autoa\"},\n",
        "    {\"NOM\": \"kirja\", \"GEN\": \"kirjan\", \"PRT\": \"kirjaa\"},\n",
        "    {\"NOM\": \"vene\", \"GEN\": \"veneen\", \"PRT\": \"venettä\"},\n",
        "    {\"NOM\": \"pyörä\", \"GEN\": \"pyörän\", \"PRT\": \"pyörää\"},\n",
        "    {\"NOM\": \"asunto\", \"GEN\": \"asunnon\", \"PRT\": \"asuntoa\"},\n",
        "    {\"NOM\": \"tietokone\", \"GEN\": \"tietokoneen\", \"PRT\": \"tietokonetta\"}\n",
        "]\n",
        "\n",
        "acts = [\n",
        "    {\"GEN\": \"ostaisi\"}, {\"GEN\": \"myisi\"},\n",
        "    {\"GEN\": \"vuokraisi\"}, {\"PRT\": \"käyttäisi\"},\n",
        "    {\"GEN\": \"vaihtaisi\"}\n",
        "]\n",
        "\n",
        "# C: Jos talo olisi pienempi, Mario ostaisi sen. Jos kirja olisi vanhempi, Mario ostaisi sen.\n",
        "# Q: Mitä Mario ostaisi jos se olisi vähemmän iso?\n",
        "# A: Talon.\n",
        "\n",
        "t = FI.template(\n",
        "    \"C: Jos {obj1.NOM} olisi {comp1.GT}, {name} {act} {sen:act.GEN|sitä:act.PRT}. \" +\n",
        "    \"Jos {obj2.NOM} olisi {comp2.GT}, {name} {act} {sen:act.GEN|sitä:act.PRT}. \"+\n",
        "    \"Q: Mitä {name} {act} jos se olisi vähemmän {comp1.LT}? \" +\n",
        "    \"A: {obj1.\u003cact.CASE\u003e.TO_CAPITALIZE}.\",\n",
        "    obj=objs,name=names, comp=comps, act=acts, verbose=False,\n",
        "    same_keys_cfg=SAME_KEYS_CFGS[TEMPS[9]], template_name=TEMPS[9]\n",
        ")\n",
        "\n",
        "t(5000)"
      ]
    },
    {
      "cell_type": "markdown",
      "metadata": {
        "id": "ELD8niobeRx7"
      },
      "source": [
        "##### Swahili"
      ]
    },
    {
      "cell_type": "code",
      "execution_count": null,
      "metadata": {
        "id": "vERlbS6feS9b"
      },
      "outputs": [],
      "source": [
        "names = [\n",
        "  list(e.values())[0]\n",
        "  for e in NAMES['sw'] if list(e.keys())[0].startswith(\"SG\")\n",
        "]\n",
        "\n",
        "comps = [\n",
        "    {\n",
        "        \"GT.IZI\": a[0], \"GT.LIYA\": a[1], \"GT.KIVI\": a[2],\n",
        "        \"LT.IZI\": b[0], \"LT.LIYA\": b[1], \"LT.KIVI\": b[2],\n",
        "    }\n",
        "    for a, b in zip(\n",
        "        [\n",
        "            (\"mpya\", \"lipya\", \"kipya\"),\n",
        "            (\"imezeeka\", \"limezeeka\", \"kimezeeka\"),\n",
        "            (\"nzuri\", \"zuri\", \"kizuri\"),\n",
        "            (\"ndogo\", \"dogo\", \"kidogo\"),\n",
        "            (\"kubwa\", \"kubwa\", \"kikubwa\"),\n",
        "            (\"ghali\", \"ghali\", \"ghali\"),\n",
        "            (\"nafuu\", \"nafuu\", \"nafuu\")\n",
        "        ],\n",
        "        [\n",
        "          (\"imezeeka\", \"limezeeka\", \"kimezeeka\"),\n",
        "          (\"mpya\", \"lipya\", \"kipya\"),\n",
        "          (\"mbaya\", \"mbovu\", \"kibaya\"),\n",
        "          (\"kubwa\", \"kubwa\", \"kikubwa\"),\n",
        "          (\"ndogo\", \"dogo\", \"kidogo\"),\n",
        "          (\"nafuu\", \"nafuu\", \"nafuu\"),\n",
        "          (\"ghali\", \"ghali\", \"ghali\")\n",
        "        ]\n",
        "    )\n",
        "]\n",
        "\n",
        "objs = [\n",
        "    {\"IZI\": \"nyumba\"},\n",
        "    {\"LIYA\": \"gari\"},\n",
        "    {\"KIVI\": \"kitabu\"},\n",
        "    {\"IZI\": \"meli\"},\n",
        "    {\"IZI\": \"baiskeli\"},\n",
        "    {\"LIYA\": \"jengo\"},\n",
        "    {\"IZI\": \"kompyuta\"}\n",
        "]\n",
        "\n",
        "acts = [\n",
        "    {\"IZI\": \"angeinunua\", \"LIYA\": \"angelinunua\", \"KIVI\": \"angekinunua\"},\n",
        "    {\"IZI\": \"angeiuza\", \"LIYA\": \"angeliuza\", \"KIVI\": \"angekiuza\"},\n",
        "    {\"IZI\": \"angeikodesha\", \"LIYA\": \"angelikodesha\", \"KIVI\": \"angekikodesha\"},\n",
        "    {\"IZI\": \"angeitumia\", \"LIYA\": \"angelitumia\", \"KIVI\": \"angekitumia\"},\n",
        "    {\"IZI\": \"angeibadilisha\", \"LIYA\": \"angelibadilisha\", \"KIVI\": \"angekibadilisha\"}\n",
        "]\n",
        "# C: Kama nyumba ingekuwa ndogo zaidi, Mario angeinunua.\n",
        "#    Kama kitabu kingekuwa kipya zaidi, Mario angeinunua.\n",
        "# Q: Mario angenunua nini kama ingekuwa kubwa kidogo?\n",
        "# A: Nyumba.\n",
        "\n",
        "t = SW.template(\n",
        "    \"C: Kama {obj1} {ingekuwa:obj1.IZI|lingekuwa:obj1.LIYA|kingekuwa:obj1.KIVI} \" +\n",
        "    \"{comp1.GT}, {name} {act.\u003cobj1.NOUNCLASS\u003e}. \" +\n",
        "    \"Kama {obj2} {ingekuwa:obj2.IZI|lingekuwa:obj2.LIYA|kingekuwa:obj2.KIVI} \" +\n",
        "    \"{comp2.GT}, {name} {act.\u003cobj2.NOUNCLASS\u003e}. \" +\n",
        "    \"Q: {name} {act.\u003cobj1.NOUNCLASS\u003e} nini kama ingekuwa kubwa {comp1.LT}? \" +\n",
        "    \"A: {obj1.TO_CAPITALIZE}.\",\n",
        "    obj=objs,name=names, comp=comps, act=acts, verbose=False,\n",
        "    same_keys_cfg=SAME_KEYS_CFGS[TEMPS[9]], template_name=TEMPS[9]\n",
        ")\n",
        "\n",
        "t(25000)"
      ]
    },
    {
      "cell_type": "markdown",
      "metadata": {
        "id": "RPbWttVgP0_P"
      },
      "source": [
        "##### Arabic"
      ]
    },
    {
      "cell_type": "code",
      "execution_count": null,
      "metadata": {
        "id": "zkYgeT-0P3IA"
      },
      "outputs": [],
      "source": [
        "names = [\n",
        "  {\n",
        "    list(e.keys())[0].split(\".\")[1]: list(e.values())[0]\n",
        "  } for e in NAMES['ar'] if list(e.keys())[0].startswith(\"SG\")\n",
        "]\n",
        "\n",
        "comps = [\n",
        "    {\"GT\": a, \"LT\": b}\n",
        "    for a, b in zip(\n",
        "        [\"أجد\", \"أقدم\", \"أجمل\", \"الأصغر\", \"أكبر\", \"أغلى\", \"أرخص\", \"أحسن\"],\n",
        "        [\"أقل قدما\", \"أقل أقل جدة\", \"أقل قبحا\", \"أقل كبرا\",\n",
        "         \"أقل صغرا\", \"أقل رخصا\", \"أقل سعرا\"]\n",
        "        # [\"newer\", \"older\", \"prettier\", \"smaller\", \"bigger\", \"more expensive\", \"cheaper\"], # added better\n",
        "        # [\"old\", \"new\", \"ugly\", \"big\", \"small\", \"cheap\", \"expensive\"] # added less good\n",
        "    )\n",
        "]\n",
        "\n",
        "objs = [\n",
        "    {\"NOM.DMASC\": \"المنزل\", \"ACC.DMASC\": \"المنزل\"}, # house\n",
        "    {\"NOM.DFEM\": \"السيارة\", \"ACC.DFEM\": \"السيارة\"}, # car\n",
        "    {\"NOM.DMASC\": \"الكتاب\", \"ACC.DMASC\": \"الكتاب\"}, # book\n",
        "    {\"NOM.DMASC\": \"القارب\", \"ACC.DMASC\": \"القارب\"}, # boat\n",
        "    {\"NOM.DFEM\": \"الدراجة\", \"ACC.DFEM\": \"الدراجة\"}, # bicycle\n",
        "    {\"NOM.DFEM\": \"الشقة\", \"ACC.DFEM\": \"الشقة\"}, # apartment\n",
        "    {\"NOM.DMASC\": \"الحاسوب\", \"ACC.DMASC\": \"الحاسوب\"}, # computer\n",
        " ]\n",
        "\n",
        "acts = [\n",
        "    {    # buy\n",
        "        \"MASC.DMASC\": \"يشتريه\", \"MASC.DFEM\": \"يشتريها\",\n",
        "        \"FEM.DMASC\": \"تشتريه\", \"FEM.DFEM\": \"تشتريها\"\n",
        "    }, { # sell\n",
        "        \"MASC.DMASC\": \"يبيعه\", \"MASC.DFEM\": \"يبيعها\",\n",
        "        \"FEM.DMASC\": \"تبيعه\", \"FEM.DFEM\": \"تبيعها\"\n",
        "    }, { # rent\n",
        "        \"MASC.DMASC\": \"يقترضه\", \"MASC.DFEM\": \"يقترضها\",\n",
        "        \"FEM.DMASC\": \"تقترضه\", \"FEM.DFEM\": \"تقترضها\",\n",
        "    }, { # use\n",
        "        \"MASC.DMASC\": \"يستخدمه\", \"MASC.DFEM\": \"يستخدمها\",\n",
        "        \"FEM.DMASC\": \"تستخدمه\", \"FEM.DFEM\": \"تستخدمها\"\n",
        "    }, { # exchange\n",
        "        \"MASC.DMASC\": \"يتبادله\", \"MASC.DFEM\": \"يتبادلها\",\n",
        "        \"FEM.DMASC\": \"تتبادله\", \"FEM.DFEM\": \"تتبادلها\"\n",
        "    },\n",
        "]\n",
        "\n",
        "# C: If the house was smaller, Omar would buy it.\n",
        "#    If the book was newer, Omar would buy it.\n",
        "# Q: What would Omar buy if it was less big?\n",
        "# A: The house.\n",
        "\n",
        "# .إذا كان المنزل أصغر ، يشتريه عمر :C\n",
        "# .إذا كان الكتاب أحدث ، يشتريه عمر\n",
        "# ما الذي كان سيشتريه عمر إذا كان أقل حجمًا؟ :Q\n",
        "# .المنزل :A\n",
        "\n",
        "t = AR.template(\n",
        "    \"\\u200e.\\u200e{obj1.ACC} \\u200e:A \" +\n",
        "    \"\\u200e؟\\u200e{comp1.LT} \\u200eإذا \\u200e{name} \" +\n",
        "    \"\\u200eس{act.\u003cname.GENDER\u003e.DMASC} \\u200e ما الذي كان \\u200e:Q \" +\n",
        "    \"\\u200e.\\u200e{name} \\u200e{act.\u003cname.GENDER\u003e.\u003cobj2.DERIVED_GENDER\u003e} \" +\n",
        "    \"\\u200e،\\u200e{comp2.GT} \\u200e{obj2.NOM} \\u200e{كان:obj1.DMASC|كانت:obj1.DFEM} \\u200eإذا \" +\n",
        "    \"\\u200e.\\u200e{name} \\u200e{act.\u003cname.GENDER\u003e.\u003cobj1.DERIVED_GENDER\u003e} \" +\n",
        "    \"\\u200e،\\u200e{comp1.GT} \\u200e{obj1.NOM} \\u200e{كان:obj1.DMASC|كانت:obj1.DFEM} \\u200eإذا \\u200e:C\",\n",
        "    obj=objs, name=names, comp=comps, act=acts, verbose=False,\n",
        "    same_keys_cfg=SAME_KEYS_CFGS[TEMPS[9]], template_name=TEMPS[9]\n",
        ")\n",
        "\n",
        "t(4000)"
      ]
    },
    {
      "cell_type": "markdown",
      "metadata": {
        "id": "28SQ5EyFUe3D"
      },
      "source": [
        "### Language specific features"
      ]
    },
    {
      "cell_type": "markdown",
      "metadata": {
        "id": "cfctyW6zUk3R"
      },
      "source": [
        "##### Chinese: particles"
      ]
    },
    {
      "cell_type": "code",
      "execution_count": null,
      "metadata": {
        "id": "NHifecnswVVd"
      },
      "outputs": [],
      "source": [
        "# C: 桌子上放着三样东西，都是衬衫. Q: 多少衬衫在桌子上? A: 三件.\n",
        "# C: There are three things on the table and all of them are shirts. Q: How many shirts are on the table? A: Three.\n",
        "\n",
        "obj = [\n",
        "  {\"SHEET\": \"书\"}, # book 本\n",
        "  {\"SHEET\": \"字典\"}, # dictionary 本\n",
        "  {\"PAIR\": \"鞋\"}, # shoes 双\n",
        "  {\"CLOTHING\": \"衬衫\"}, # shirt 件\n",
        "  {\"CLOTHING\": \"大衣\"}, # coat 件\n",
        "  {\"FLAT\": \"照片\"}, # picture 张\n",
        "  {\"FLAT\": \"报纸\"}, # newspaper 张\n",
        "  {\"FLAT\": \"票\"}, # ticket 张\n",
        "  {\"ANIMAL\": \"狗\"}, # dog 只\n",
        "  {\"ANIMAL\": \"鸟\"}, # bird 只\n",
        "  {\"ANIMAL\": \"猫\"}, # cat 只\n",
        "  { \"LONG_NARROW\": \"裙子\"}, # skirt 条\n",
        "  { \"LONG_NARROW\": \"裤子\"}, # pants 条\n",
        "]\n",
        "\n",
        "numbers = [\n",
        "    \"两\", \"三\", \"四\", \"五\",\n",
        "    \"六\", \"七\", \"八\", \"九\",\n",
        "    \"十\", \"十一\", \"十二\"\n",
        "]\n",
        "\n",
        "t = ZH.template(\n",
        "    \"C: {place}{prep}放着{number}样东西，都是{obj}。 \" +\n",
        "    \"Q: 多少{obj}在{place}{prep}? \" +\n",
        "    \"A: {number}{CLASSIFIER.\u003cobj.CLASSIFIER_TYPE\u003e}。\",\n",
        "    number=numbers, obj=obj, prep=PREPS['zh'], place=PLACES['zh'],\n",
        "    template_name=\"zh_lang_specific\"\n",
        ")\n",
        "t(4000)"
      ]
    },
    {
      "cell_type": "markdown",
      "metadata": {
        "id": "jmHLNES4Urhu"
      },
      "source": [
        "##### Russian: motion verbs"
      ]
    },
    {
      "cell_type": "code",
      "execution_count": null,
      "metadata": {
        "id": "1eU-QnI2UvhT"
      },
      "outputs": [],
      "source": [
        "# C: Сейчас он едет в кино. Всегда он Бегает в университет. Q: Что он делает сейчас? A: Едет в кино.'\n",
        "# C: Now he is going to the cinema. He always runs to the university. Q: What is he doing now? A: He is going to the cinema.\n",
        "\n",
        "\n",
        "advs = [\n",
        "  {'MD': 'часто'}, {'MD': 'иногда'},\n",
        "  {'MD': 'редко'}, {'MD': 'каждый день'},\n",
        "  {'MD': 'всегда'}, {'MD': 'Обычно'},\n",
        "  {'D': 'сейчас'}, {'D': 'сегодня'},\n",
        "  {'D': 'в настоящее время'}\n",
        "]\n",
        "\n",
        "verbs = [\n",
        "  {\"D\": \"идёт\", \"MD\": \"ходит\"},\n",
        "  {\"D\": \"едет\", \"MD\": \"ездит\"},\n",
        "  {\"D\": \"Бежит\", \"MD\": \"Бегает\"}\n",
        "]\n",
        "\n",
        "destinations = [\n",
        "  'в школу',\n",
        "  'в кино',\n",
        "  'в университет',\n",
        "  'в ресторан',\n",
        "  'в театр',\n",
        "  'в пекарню'\n",
        "]\n",
        "\n",
        "t = RU.template(\n",
        "    \"C: {adv1.TO_CAPITALIZE} он {verb1.\u003cadv1.DIRECTION\u003e} {dest1}. \" +\n",
        "    \"{adv2.TO_CAPITALIZE} он {verb2.\u003cadv2.DIRECTION\u003e} {dest2}. \" +\n",
        "    \"Q: Что он делает {adv1}? A: {verb1.\u003cadv1.DIRECTION\u003e.TO_CAPITALIZE} {dest1}.\",\n",
        "    adv=advs, verb=verbs, dest=destinations,\n",
        "    same_keys_cfg={\n",
        "        \"adv\": {\"order\": True, \"repeat\": False},\n",
        "        \"verb\": {\"order\": False, \"repeat\": True},\n",
        "        \"dest\": {\"order\": True, \"repeat\": False},\n",
        "    },\n",
        "    template_name=\"ru_lang_specific\"\n",
        ")\n",
        "\n",
        "t(5000)"
      ]
    },
    {
      "cell_type": "markdown",
      "metadata": {
        "id": "z_4uhBV0UwJs"
      },
      "source": [
        "##### Finnish: possessive"
      ]
    },
    {
      "cell_type": "code",
      "execution_count": null,
      "metadata": {
        "id": "Y6m_WVaFUzMD"
      },
      "outputs": [],
      "source": [
        "# C: Isäni antoi siskolleni tietokoneen. Siskoni antoi setälleni kellon. Q: Kenellä on uusi tietokone? A: Siskollani.\n",
        "# C: My father gave my sister a computer. My sister gave my uncle a watch. Q: Who has a new computer? A: My sister.\n",
        "\n",
        "names = [\n",
        "  {\"NOM\": \"isäni\", \"POS\": \"isälläni\", \"ALL\": \"isälleni\"},\n",
        "  {\"NOM\": \"äitini\", \"POS\": \"äidilläni\", \"ALL\": \"äidilleni\"},\n",
        "  {\"NOM\": \"siskoni\", \"POS\": \"siskollani\", \"ALL\": \"siskolleni\"},\n",
        "  {\"NOM\": \"veljeni\", \"POS\": \"veljelläni\", \"ALL\": \"veljelleni\"},\n",
        "  {\"NOM\": \"isoäitini\", \"POS\": \"isoäidilläni\", \"ALL\": \"isoäidilleni\"},\n",
        "  {\"NOM\": \"setäni\", \"POS\": \"sedälläni\", \"ALL\": \"sedälleni\"},\n",
        "  {\"NOM\": \"serkkuni\", \"POS\": \"serkkullani\", \"ALL\": \"serkulleni\"}\n",
        "]\n",
        "\n",
        "objs_ = {\n",
        "  \"NOM\": [\"kirja\", \"muki\", \"auto\", \"tietokone\", \"kamera\", \"kello\", \"polkupyörä\"],\n",
        "  \"GEN\": [\"kirjan\", \"mukin\", \"auton\", \"tietokoneen\", \"kameran\", \"kellon\", \"polkupyörän\"]\n",
        "}\n",
        "objs = [{\"NOM\": a, \"GEN\": b} for a, b in zip(objs_[\"NOM\"], objs_[\"GEN\"])]\n",
        "\n",
        "t = FI.template(\n",
        "    \"C: {first_subj1.NOM.TO_CAPITALIZE} antoi {first_subj2.ALL} {obj1.GEN}. \" +\n",
        "    \"{second_subj1.NOM.TO_CAPITALIZE} antoi {second_subj2.ALL} {obj2.GEN}. \" +\n",
        "    \"Q: Kenellä on uusi {obj1.NOM}? \" +\n",
        "    \"A: {first_subj2.POS.TO_CAPITALIZE}.\",\n",
        "    first_subj=names, second_subj=names, obj=objs, verbose=False,\n",
        "    same_keys_cfg={\n",
        "        \"first_subj\": {\"order\": True, \"repeat\": False},\n",
        "        \"second_subj\": {\"order\": True, \"repeat\": False},\n",
        "        \"obj\": {\"order\": True, \"repeat\": False},\n",
        "    },\n",
        "    template_name=\"fi_lang_specific\"\n",
        ")\n",
        "\n",
        "t(3000)"
      ]
    },
    {
      "cell_type": "markdown",
      "metadata": {
        "id": "GCZ-dquKUzus"
      },
      "source": [
        "##### Swahili: Time"
      ]
    },
    {
      "cell_type": "code",
      "execution_count": null,
      "metadata": {
        "id": "waMQ7b9zU1PI"
      },
      "outputs": [],
      "source": [
        "#  C: Kadija anakula saa saba asubuhi na anaendesha masaa tisa baadaye. Q: Anaendesha saa ngapi? A: Saa nne jioni.\n",
        "#\n",
        "\n",
        "names = random.sample([\n",
        "    list(e.values())[0]\n",
        "    for e in NAMES['sw'] if list(e.keys())[0].startswith(\"SG\")\n",
        "], 4)\n",
        "\n",
        "numbers = [\n",
        "    \"moja\", \"mawili\", \"matatu\", \"manne\",  \"matano\", \"sita\", \"saba\",\n",
        "    \"manane\",  \"tisa\", \"kumi\", \"kumi na moja\", \"kumi na mbili\"\n",
        "    # \"moja\", \"nane\", \"tatu\", \"nne\", \"tano\", \"sita\",\n",
        "    # \"saba\", \"nane\", \"tisa\", \"kumi\", \"kumi na moja\", \"kumi na mbili\"\n",
        "]\n",
        "\n",
        "nb_2_str, str_2_nb = {}, {}\n",
        "for nb, d in zip(range(1, 13), numbers):\n",
        "  nb_2_str[str(nb)] = d\n",
        "  str_2_nb[d] = nb\n",
        "\n",
        "numbers_shifted = [\n",
        "    \"saba\", \"nane\", \"tisa\", \"kumi\", \"kumi na moja\", \"kumi na mbili\",\n",
        "    \"moja\", \"mbili\", \"tatu\", \"nne\", \"tano\", \"sita\",\n",
        "    # \"nane\", \"tisa\", \"kumi\", \"kumi na moja\", \"kumi na mbili\",\n",
        "    # \"moja\", \"mbili\", \"tatu\", \"nne\", \"tano\", \"sita\", \"saba\",\n",
        "]\n",
        "\n",
        "nbsh_2_str, str_2_nbsh = {}, {}\n",
        "for nb, d in zip(range(1, 13), numbers_shifted):\n",
        "  nbsh_2_str[str(nb)] = d\n",
        "  str_2_nbsh[d] = nb\n",
        "\n",
        "daytimes = [\"am\", \"pm\"]\n",
        "actions = [\n",
        "  'anakula',\n",
        "  'anaendesha',\n",
        "  'anasafisha',\n",
        "  'anapika',\n",
        "  'anakimbia',\n",
        "  'anatembea',\n",
        "  'anafanya kazi',\n",
        "  'anasafiri'\n",
        "]\n",
        "\n",
        "day_categories = {\n",
        "  (7, \"am\"): \"asubuhi\", (8, \"am\"): \"asubuhi\", (9, \"am\"): \"asubuhi\",\n",
        "  (10, \"am\"): \"asubuhi\", (11, \"am\"): \"asubuhi\", (12, \"pm\"): \"mchana\",\n",
        "  (1, \"pm\"): \"mchana\", (2, \"pm\"): \"mchana\", (3, \"pm\"): \"mchana\",\n",
        "  (4, \"pm\"): \"jioni\", (5, \"pm\"): \"jioni\", (6, \"pm\"): \"jioni\",\n",
        "  (7, \"pm\"): \"usiku\", (8, \"pm\"): \"usiku\", (9, \"pm\"): \"usiku\",\n",
        "  (10, \"pm\"): \"usiku\", (11, \"pm\"): \"usiku\", (12, \"am\"): \"usiku\",\n",
        "  (1, \"am\"): \"usiku\", (2, \"am\"): \"usiku\", (3, \"am\"): \"usiku\",\n",
        "  (4, \"am\"): \"alfajiri\", (5, \"am\"): \"alfajiri\", (6, \"am\"): \"alfajiri\",\n",
        "}\n",
        "\n",
        "def time_format_fn(number, daytime):\n",
        "  # nb_en = (str_2_nbsh[number] + 6) % 12 or 12\n",
        "  nb_en = str_2_nbsh[number]\n",
        "  cat = day_categories[(nb_en, daytime)]\n",
        "  return cat\n",
        "\n",
        "def time_sum_format_fn(number1, daytime, number2):\n",
        "  # number1: number in SW format\n",
        "  # daytime: 'am' or 'pm' in EN format\n",
        "  # number2: time delta in EN format\n",
        "\n",
        "  # Transform: SW ( EN(t_SW) + Δt )\n",
        "  # saa moja -\u003e 1 (SW) -\u003e 7 (EN) | other: 6 (SW) -\u003e 12 (EN)\n",
        "  nb1 = str_2_nbsh[number1]\n",
        "  # nanu -\u003e 4\n",
        "  nb2 = str_2_nb[number2]\n",
        "  # 5 -\u003e 5 % 12 = 5 (EN)\n",
        "  tot = (nb1 + nb2) % 12 or 12\n",
        "  if nb1 + nb2 \u003e= 12:\n",
        "    # switch daylight time\n",
        "    daytime = \"pm\" if daytime == \"am\" else \"am\"\n",
        "\n",
        "  category = day_categories[(tot, daytime)]\n",
        "  return f\"Saa {nbsh_2_str[str(tot)]} {category}\"\n",
        "\n",
        "# C: Kuna ndizi M na maembe P kwenye meza. Barika alikula ndizi moja. Q: Kuna ndizi mangapi kwenye meza? A: [M+P].\n",
        "\n",
        "t = SW.template(\n",
        "    \"C: {name} {action1} saa {number_sh} {$time_format(number_sh,daytime)} na \" +\n",
        "    \"{action2} masaa {number} baadaye. Q: {action2.TO_CAPITALIZE} saa ngapi? \" +\n",
        "    \"A: {$time_sum_format(number_sh,daytime,number)}.\",\n",
        "    number_sh=numbers_shifted, number=numbers, action=actions, daytime=daytimes, name=names,\n",
        "    time_format=time_format_fn, time_sum_format=time_sum_format_fn,\n",
        "    verbose=True, same_keys_cfg={\n",
        "        \"action\": {\"order\": True, \"repeat\": False},\n",
        "    },\n",
        "    template_name=\"sw_lang_specific\"\n",
        ")\n",
        "\n",
        "t(4000)"
      ]
    }
  ],
  "metadata": {
    "colab": {
      "collapsed_sections": [
        "oppEEs5J_u5u",
        "oSp9wQkCU--z",
        "-jUV1Ynk7MUo",
        "6q4TCaFn7a6C",
        "Oogd7LCW7a6C",
        "pV6b0GtA7a6C",
        "64iHlnSH7a6D",
        "eRpQ63jp7a6D",
        "fRhTrYhC7a6D",
        "37fZdlDS7a6D",
        "DfUXiCT07a6E",
        "ebD_ULbTMQkn",
        "HKDop3M700Yr",
        "MwcspJrdrc4L",
        "AZmh_bVGtDLS",
        "372c4R1aJcD-",
        "LoZ52XOjTC7U",
        "GMtpqdwnw-CX",
        "0mMVRg_bZS1k",
        "kcYBbbmn-vCs",
        "Nv_9LjlBxFAK",
        "3mJ9AUOyHcbe",
        "DRCwKdQYEqHn",
        "FhdjcLFnWpsF",
        "0osM3XJQWpsF",
        "rZ2ey9YeWpsG",
        "NtSMQbLnWpsH",
        "Aqmrss_VWpsH",
        "g5HyrisxWpsH",
        "0s5puFn5WpsH",
        "YjJLk5NcWpsI",
        "GtswPRd47o2o",
        "-BVaCpsjfKdy",
        "-EwxZXtyCfyf",
        "Y1qI81u0OmcR",
        "wW7UeEA8WAGz",
        "6Oc-EHSvPESt",
        "g11GPcTaNrgM",
        "acUHly-4JMfJ",
        "b9BZpSR_5lrn",
        "XaJty16Fm51y",
        "_40JpWlu55zf",
        "Cvl7-Eye55zg",
        "Ep4LWC3k55zg",
        "l_arD02J55zg",
        "Gaf6iSTd55zg",
        "7NSf_d8r-DqX",
        "Gpia_Q79RrwF",
        "NT17UL5WR5-c",
        "uaiy_pY76a21",
        "EFqGq-EgvPiY",
        "yVE3I2Jd3zqP",
        "Bm9DYE7n6rkP",
        "gVTlWJSQrxBK",
        "g1rWhT1UzDNi",
        "y-c5_1FCFDAT",
        "YQvxA9RT_504",
        "a_-oEZx2vdtb",
        "LCFl2e0OgNYT",
        "eKPXj0raQ5Fs",
        "kntWAA0u6PAx",
        "z3QfwdXUvgQA",
        "mpCfvI1DvgQB",
        "5QPX85w0AAu-",
        "QlmHykPR1Oia",
        "p2ANCy6IEkUH",
        "oF1xbHXp_Z9p",
        "4XVwIGbHnUvR",
        "1ra5J-LZBc65",
        "-oNtBrtc9rJT",
        "W2jvnomrD-9L",
        "6SZacG7aGMdR",
        "ycf6HzFuGMdS",
        "nOjbqUY1GMdS",
        "T6fIj28hGMdS",
        "cSBD1b5VGMdS",
        "LWZhK_IDGTIz",
        "VmLp9RLgymdD",
        "Ky0TQWSapoMM",
        "zWwydWfSQw_J",
        "5zrQ6llY_DbU",
        "PLHDPMk8u5fr",
        "OAXrkCvfwb2F",
        "8TzV-d6qw27g",
        "Hio_wvSF2c8G",
        "GzhoY5P-7WrE",
        "VAAqJBQgKqm5",
        "1B1znG342rcu",
        "GigLf36FSFHN",
        "IzzUUdfew8H_",
        "ELD8niobeRx7",
        "28SQ5EyFUe3D"
      ],
      "last_runtime": {
        "build_target": "//research/colab/notebook:notebook_backend_py3",
        "kind": "private"
      },
      "name": "MultiMorphChecklist demo",
      "private_outputs": true,
      "provenance": [],
      "toc_visible": true
    },
    "kernelspec": {
      "display_name": "Python 3",
      "name": "python3"
    },
    "language_info": {
      "name": "python"
    }
  },
  "nbformat": 4,
  "nbformat_minor": 0
}
